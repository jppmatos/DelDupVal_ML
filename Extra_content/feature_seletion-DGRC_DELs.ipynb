{
 "cells": [
  {
   "cell_type": "code",
   "execution_count": 1,
   "metadata": {},
   "outputs": [],
   "source": [
    "import pandas as pd\n",
    "import matplotlib.pyplot as plt\n",
    "import seaborn as sns\n",
    "import numpy as np\n",
    "from scipy.stats import norm\n",
    "from sklearn.preprocessing import StandardScaler\n",
    "from scipy import stats\n",
    "import warnings\n",
    "warnings.filterwarnings('ignore')\n",
    "#from sys import argv"
   ]
  },
  {
   "cell_type": "code",
   "execution_count": 2,
   "metadata": {},
   "outputs": [],
   "source": [
    "pd.set_option('display.max_columns', None)"
   ]
  },
  {
   "cell_type": "markdown",
   "metadata": {},
   "source": [
    "# Load data:"
   ]
  },
  {
   "cell_type": "code",
   "execution_count": 3,
   "metadata": {},
   "outputs": [],
   "source": [
    "df_dels_raw = pd.read_csv('../dataset3/data_main/data_DELS.csv', sep= \"\\;\" ,header=0)# Removed NaNs of Recombination Rate\n",
    "#! dataset with missing GC and cov Regionrep of Dongs data missing (12/04)"
   ]
  },
  {
   "cell_type": "code",
   "execution_count": 4,
   "metadata": {},
   "outputs": [
    {
     "data": {
      "text/html": [
       "<div>\n",
       "<style scoped>\n",
       "    .dataframe tbody tr th:only-of-type {\n",
       "        vertical-align: middle;\n",
       "    }\n",
       "\n",
       "    .dataframe tbody tr th {\n",
       "        vertical-align: top;\n",
       "    }\n",
       "\n",
       "    .dataframe thead th {\n",
       "        text-align: right;\n",
       "    }\n",
       "</style>\n",
       "<table border=\"1\" class=\"dataframe\">\n",
       "  <thead>\n",
       "    <tr style=\"text-align: right;\">\n",
       "      <th></th>\n",
       "      <th>CNV_ID</th>\n",
       "      <th>regionA_stat</th>\n",
       "      <th>regionA_end</th>\n",
       "      <th>chr_A</th>\n",
       "      <th>regionB_stat</th>\n",
       "      <th>regionB_end</th>\n",
       "      <th>chr_B</th>\n",
       "      <th>A_size_bp</th>\n",
       "      <th>B_size_bp</th>\n",
       "      <th>A_size</th>\n",
       "      <th>B_size</th>\n",
       "      <th>libraries</th>\n",
       "      <th>A_region_name</th>\n",
       "      <th>A_region_family</th>\n",
       "      <th>A_region_class</th>\n",
       "      <th>B_region_name</th>\n",
       "      <th>B_region_family</th>\n",
       "      <th>B_region_class</th>\n",
       "      <th>A_repitiveRegion_dist</th>\n",
       "      <th>B_repitiveRegion_dist</th>\n",
       "      <th>A_cov_repRegion</th>\n",
       "      <th>B_cov_repRegion</th>\n",
       "      <th>A_SegDup_dist</th>\n",
       "      <th>B_SegDup_dist</th>\n",
       "      <th>A_cov_segDup</th>\n",
       "      <th>B_cov_segDup</th>\n",
       "      <th>sD_pair</th>\n",
       "      <th>dist_Centromere</th>\n",
       "      <th>dist_Telomere</th>\n",
       "      <th>GC_perc_A</th>\n",
       "      <th>GC_perc_B</th>\n",
       "      <th>Dust_A</th>\n",
       "      <th>Dust_B</th>\n",
       "      <th>A_decodeAvg</th>\n",
       "      <th>B_decodeAvg</th>\n",
       "      <th>A_cov_Exons</th>\n",
       "      <th>A_cov_Introns</th>\n",
       "      <th>B_cov_Exons</th>\n",
       "      <th>B_cov_Introns</th>\n",
       "      <th>A_Lamina_score</th>\n",
       "      <th>B_Lamina_score</th>\n",
       "      <th>A_CpGi_dist</th>\n",
       "      <th>B_CpGi_dist</th>\n",
       "      <th>A_TAD_dist_Log</th>\n",
       "      <th>B_TAD_dist_Log</th>\n",
       "      <th>target</th>\n",
       "    </tr>\n",
       "  </thead>\n",
       "  <tbody>\n",
       "    <tr>\n",
       "      <th>0</th>\n",
       "      <td>DGRC_DEL_2162</td>\n",
       "      <td>161068155.0</td>\n",
       "      <td>161071143.0</td>\n",
       "      <td>3</td>\n",
       "      <td>185888761.0</td>\n",
       "      <td>185892124.0</td>\n",
       "      <td>3</td>\n",
       "      <td>2988.0</td>\n",
       "      <td>3363.0</td>\n",
       "      <td>0.001296</td>\n",
       "      <td>0.001458</td>\n",
       "      <td>siGS,mpGS</td>\n",
       "      <td>MIR</td>\n",
       "      <td>MIR</td>\n",
       "      <td>Rep_SINE</td>\n",
       "      <td>L1ME3</td>\n",
       "      <td>L1</td>\n",
       "      <td>Rep_LINE</td>\n",
       "      <td>0.0</td>\n",
       "      <td>0.0</td>\n",
       "      <td>0.057898</td>\n",
       "      <td>0.664585</td>\n",
       "      <td>0.578837</td>\n",
       "      <td>0.007347</td>\n",
       "      <td>0.0</td>\n",
       "      <td>0.0</td>\n",
       "      <td>False</td>\n",
       "      <td>1.832963</td>\n",
       "      <td>1.127001</td>\n",
       "      <td>0.458097</td>\n",
       "      <td>0.452006</td>\n",
       "      <td>0.000372</td>\n",
       "      <td>0.051534</td>\n",
       "      <td>0.344791</td>\n",
       "      <td>2.031710</td>\n",
       "      <td>0.780455</td>\n",
       "      <td>0.219545</td>\n",
       "      <td>0.0</td>\n",
       "      <td>0.0</td>\n",
       "      <td>0.939476</td>\n",
       "      <td>0.000000</td>\n",
       "      <td>0.117754</td>\n",
       "      <td>0.019176</td>\n",
       "      <td>0.178446</td>\n",
       "      <td>0.011941</td>\n",
       "      <td>True</td>\n",
       "    </tr>\n",
       "    <tr>\n",
       "      <th>2</th>\n",
       "      <td>DGRC_DEL_2875</td>\n",
       "      <td>11825837.0</td>\n",
       "      <td>11829427.0</td>\n",
       "      <td>9</td>\n",
       "      <td>12082445.0</td>\n",
       "      <td>12085561.0</td>\n",
       "      <td>9</td>\n",
       "      <td>3590.0</td>\n",
       "      <td>3116.0</td>\n",
       "      <td>0.001556</td>\n",
       "      <td>0.001351</td>\n",
       "      <td>mpGS,siGS</td>\n",
       "      <td>L1MA4</td>\n",
       "      <td>L1</td>\n",
       "      <td>Rep_LINE</td>\n",
       "      <td>MLT1H1</td>\n",
       "      <td>ERVL-MaLR</td>\n",
       "      <td>Rep_LTR</td>\n",
       "      <td>0.0</td>\n",
       "      <td>0.0</td>\n",
       "      <td>0.324513</td>\n",
       "      <td>0.334403</td>\n",
       "      <td>0.447672</td>\n",
       "      <td>1.003470</td>\n",
       "      <td>0.0</td>\n",
       "      <td>0.0</td>\n",
       "      <td>False</td>\n",
       "      <td>1.493005</td>\n",
       "      <td>1.107869</td>\n",
       "      <td>0.328512</td>\n",
       "      <td>0.338462</td>\n",
       "      <td>0.012140</td>\n",
       "      <td>0.013737</td>\n",
       "      <td>1.535430</td>\n",
       "      <td>1.228380</td>\n",
       "      <td>0.000000</td>\n",
       "      <td>1.000000</td>\n",
       "      <td>0.0</td>\n",
       "      <td>0.0</td>\n",
       "      <td>0.889046</td>\n",
       "      <td>0.896481</td>\n",
       "      <td>0.081797</td>\n",
       "      <td>0.227868</td>\n",
       "      <td>0.451147</td>\n",
       "      <td>0.144400</td>\n",
       "      <td>True</td>\n",
       "    </tr>\n",
       "    <tr>\n",
       "      <th>3</th>\n",
       "      <td>DGRC_DEL_1012</td>\n",
       "      <td>26129528.0</td>\n",
       "      <td>26133265.0</td>\n",
       "      <td>1</td>\n",
       "      <td>26138697.0</td>\n",
       "      <td>26140996.0</td>\n",
       "      <td>1</td>\n",
       "      <td>3737.0</td>\n",
       "      <td>2299.0</td>\n",
       "      <td>0.001620</td>\n",
       "      <td>0.000997</td>\n",
       "      <td>liGS</td>\n",
       "      <td>L1MCa</td>\n",
       "      <td>L1</td>\n",
       "      <td>Rep_LINE</td>\n",
       "      <td>AluJb</td>\n",
       "      <td>Alu</td>\n",
       "      <td>Rep_SINE</td>\n",
       "      <td>0.0</td>\n",
       "      <td>0.0</td>\n",
       "      <td>0.911694</td>\n",
       "      <td>0.563723</td>\n",
       "      <td>0.231521</td>\n",
       "      <td>0.175188</td>\n",
       "      <td>0.0</td>\n",
       "      <td>0.0</td>\n",
       "      <td>False</td>\n",
       "      <td>1.984803</td>\n",
       "      <td>1.433342</td>\n",
       "      <td>0.426738</td>\n",
       "      <td>0.448696</td>\n",
       "      <td>0.094375</td>\n",
       "      <td>0.037602</td>\n",
       "      <td>0.896887</td>\n",
       "      <td>0.896887</td>\n",
       "      <td>0.000000</td>\n",
       "      <td>0.000000</td>\n",
       "      <td>0.0</td>\n",
       "      <td>0.0</td>\n",
       "      <td>0.899469</td>\n",
       "      <td>0.892851</td>\n",
       "      <td>0.007365</td>\n",
       "      <td>0.008736</td>\n",
       "      <td>0.037238</td>\n",
       "      <td>0.126782</td>\n",
       "      <td>True</td>\n",
       "    </tr>\n",
       "    <tr>\n",
       "      <th>4</th>\n",
       "      <td>DGRC_DEL_135</td>\n",
       "      <td>80934931.0</td>\n",
       "      <td>80935787.0</td>\n",
       "      <td>1</td>\n",
       "      <td>80945300.0</td>\n",
       "      <td>80946029.0</td>\n",
       "      <td>1</td>\n",
       "      <td>856.0</td>\n",
       "      <td>729.0</td>\n",
       "      <td>0.000372</td>\n",
       "      <td>0.000316</td>\n",
       "      <td>liGS</td>\n",
       "      <td>L1MB7</td>\n",
       "      <td>L1</td>\n",
       "      <td>Rep_LINE</td>\n",
       "      <td>L1MB7</td>\n",
       "      <td>L1</td>\n",
       "      <td>Rep_LINE</td>\n",
       "      <td>0.0</td>\n",
       "      <td>0.0</td>\n",
       "      <td>0.574766</td>\n",
       "      <td>0.998628</td>\n",
       "      <td>0.171148</td>\n",
       "      <td>0.170375</td>\n",
       "      <td>0.0</td>\n",
       "      <td>0.0</td>\n",
       "      <td>False</td>\n",
       "      <td>1.620705</td>\n",
       "      <td>1.913421</td>\n",
       "      <td>0.367442</td>\n",
       "      <td>0.317007</td>\n",
       "      <td>0.036770</td>\n",
       "      <td>0.110807</td>\n",
       "      <td>1.815430</td>\n",
       "      <td>1.815430</td>\n",
       "      <td>0.000000</td>\n",
       "      <td>0.000000</td>\n",
       "      <td>0.0</td>\n",
       "      <td>0.0</td>\n",
       "      <td>0.925017</td>\n",
       "      <td>0.925017</td>\n",
       "      <td>0.205131</td>\n",
       "      <td>0.268176</td>\n",
       "      <td>0.239282</td>\n",
       "      <td>0.196997</td>\n",
       "      <td>True</td>\n",
       "    </tr>\n",
       "    <tr>\n",
       "      <th>5</th>\n",
       "      <td>DGRC_DEL_930</td>\n",
       "      <td>105469454.0</td>\n",
       "      <td>105473168.0</td>\n",
       "      <td>1</td>\n",
       "      <td>105480888.0</td>\n",
       "      <td>105484047.0</td>\n",
       "      <td>1</td>\n",
       "      <td>3714.0</td>\n",
       "      <td>3159.0</td>\n",
       "      <td>0.001610</td>\n",
       "      <td>0.001370</td>\n",
       "      <td>liGS</td>\n",
       "      <td>L1MA7</td>\n",
       "      <td>L1</td>\n",
       "      <td>Rep_LINE</td>\n",
       "      <td>LTR49-int</td>\n",
       "      <td>ERV1</td>\n",
       "      <td>Rep_LTR</td>\n",
       "      <td>0.0</td>\n",
       "      <td>0.0</td>\n",
       "      <td>0.828487</td>\n",
       "      <td>0.858183</td>\n",
       "      <td>0.430496</td>\n",
       "      <td>0.412131</td>\n",
       "      <td>0.0</td>\n",
       "      <td>0.0</td>\n",
       "      <td>False</td>\n",
       "      <td>1.236011</td>\n",
       "      <td>2.027199</td>\n",
       "      <td>0.383065</td>\n",
       "      <td>0.331122</td>\n",
       "      <td>0.077418</td>\n",
       "      <td>0.084517</td>\n",
       "      <td>0.518749</td>\n",
       "      <td>0.518749</td>\n",
       "      <td>0.000000</td>\n",
       "      <td>0.000000</td>\n",
       "      <td>0.0</td>\n",
       "      <td>0.0</td>\n",
       "      <td>0.913537</td>\n",
       "      <td>0.913537</td>\n",
       "      <td>0.468814</td>\n",
       "      <td>0.203230</td>\n",
       "      <td>0.432882</td>\n",
       "      <td>0.515338</td>\n",
       "      <td>True</td>\n",
       "    </tr>\n",
       "  </tbody>\n",
       "</table>\n",
       "</div>"
      ],
      "text/plain": [
       "          CNV_ID  regionA_stat  regionA_end chr_A  regionB_stat  regionB_end  \\\n",
       "0  DGRC_DEL_2162   161068155.0  161071143.0     3   185888761.0  185892124.0   \n",
       "2  DGRC_DEL_2875    11825837.0   11829427.0     9    12082445.0   12085561.0   \n",
       "3  DGRC_DEL_1012    26129528.0   26133265.0     1    26138697.0   26140996.0   \n",
       "4   DGRC_DEL_135    80934931.0   80935787.0     1    80945300.0   80946029.0   \n",
       "5   DGRC_DEL_930   105469454.0  105473168.0     1   105480888.0  105484047.0   \n",
       "\n",
       "  chr_B  A_size_bp  B_size_bp    A_size    B_size  libraries A_region_name  \\\n",
       "0     3     2988.0     3363.0  0.001296  0.001458  siGS,mpGS           MIR   \n",
       "2     9     3590.0     3116.0  0.001556  0.001351  mpGS,siGS         L1MA4   \n",
       "3     1     3737.0     2299.0  0.001620  0.000997       liGS         L1MCa   \n",
       "4     1      856.0      729.0  0.000372  0.000316       liGS         L1MB7   \n",
       "5     1     3714.0     3159.0  0.001610  0.001370       liGS         L1MA7   \n",
       "\n",
       "  A_region_family A_region_class B_region_name B_region_family B_region_class  \\\n",
       "0             MIR       Rep_SINE         L1ME3              L1       Rep_LINE   \n",
       "2              L1       Rep_LINE        MLT1H1       ERVL-MaLR        Rep_LTR   \n",
       "3              L1       Rep_LINE         AluJb             Alu       Rep_SINE   \n",
       "4              L1       Rep_LINE         L1MB7              L1       Rep_LINE   \n",
       "5              L1       Rep_LINE     LTR49-int            ERV1        Rep_LTR   \n",
       "\n",
       "   A_repitiveRegion_dist  B_repitiveRegion_dist  A_cov_repRegion  \\\n",
       "0                    0.0                    0.0         0.057898   \n",
       "2                    0.0                    0.0         0.324513   \n",
       "3                    0.0                    0.0         0.911694   \n",
       "4                    0.0                    0.0         0.574766   \n",
       "5                    0.0                    0.0         0.828487   \n",
       "\n",
       "   B_cov_repRegion  A_SegDup_dist  B_SegDup_dist  A_cov_segDup  B_cov_segDup  \\\n",
       "0         0.664585       0.578837       0.007347           0.0           0.0   \n",
       "2         0.334403       0.447672       1.003470           0.0           0.0   \n",
       "3         0.563723       0.231521       0.175188           0.0           0.0   \n",
       "4         0.998628       0.171148       0.170375           0.0           0.0   \n",
       "5         0.858183       0.430496       0.412131           0.0           0.0   \n",
       "\n",
       "   sD_pair  dist_Centromere  dist_Telomere  GC_perc_A  GC_perc_B    Dust_A  \\\n",
       "0    False         1.832963       1.127001   0.458097   0.452006  0.000372   \n",
       "2    False         1.493005       1.107869   0.328512   0.338462  0.012140   \n",
       "3    False         1.984803       1.433342   0.426738   0.448696  0.094375   \n",
       "4    False         1.620705       1.913421   0.367442   0.317007  0.036770   \n",
       "5    False         1.236011       2.027199   0.383065   0.331122  0.077418   \n",
       "\n",
       "     Dust_B  A_decodeAvg  B_decodeAvg  A_cov_Exons  A_cov_Introns  \\\n",
       "0  0.051534     0.344791     2.031710     0.780455       0.219545   \n",
       "2  0.013737     1.535430     1.228380     0.000000       1.000000   \n",
       "3  0.037602     0.896887     0.896887     0.000000       0.000000   \n",
       "4  0.110807     1.815430     1.815430     0.000000       0.000000   \n",
       "5  0.084517     0.518749     0.518749     0.000000       0.000000   \n",
       "\n",
       "   B_cov_Exons  B_cov_Introns  A_Lamina_score  B_Lamina_score  A_CpGi_dist  \\\n",
       "0          0.0            0.0        0.939476        0.000000     0.117754   \n",
       "2          0.0            0.0        0.889046        0.896481     0.081797   \n",
       "3          0.0            0.0        0.899469        0.892851     0.007365   \n",
       "4          0.0            0.0        0.925017        0.925017     0.205131   \n",
       "5          0.0            0.0        0.913537        0.913537     0.468814   \n",
       "\n",
       "   B_CpGi_dist  A_TAD_dist_Log  B_TAD_dist_Log  target  \n",
       "0     0.019176        0.178446        0.011941    True  \n",
       "2     0.227868        0.451147        0.144400    True  \n",
       "3     0.008736        0.037238        0.126782    True  \n",
       "4     0.268176        0.239282        0.196997    True  \n",
       "5     0.203230        0.432882        0.515338    True  "
      ]
     },
     "metadata": {},
     "output_type": "display_data"
    },
    {
     "name": "stdout",
     "output_type": "stream",
     "text": [
      "(17733, 46)\n"
     ]
    }
   ],
   "source": [
    "df_dels = df_dels_raw\n",
    "\n",
    "display(df_dels.head())\n",
    "print(df_dels.shape)"
   ]
  },
  {
   "cell_type": "markdown",
   "metadata": {},
   "source": [
    "---"
   ]
  },
  {
   "cell_type": "markdown",
   "metadata": {},
   "source": [
    "---"
   ]
  },
  {
   "cell_type": "markdown",
   "metadata": {},
   "source": [
    "### Check mean and std of region A and B size in bps:"
   ]
  },
  {
   "cell_type": "code",
   "execution_count": 5,
   "metadata": {},
   "outputs": [],
   "source": [
    "df_Dongs = df_dels.loc[(df_dels['CNV_ID'].str.contains('NYGC'))]#[['CNV_ID','A_size_bp','B_size_bp','libraries','target']]\n",
    "df_DGRC = df_dels.loc[~(df_dels['CNV_ID'].str.contains('NYGC'))&(df_dels['libraries']=='liGS')]#[['CNV_ID','A_size_bp','B_size_bp','libraries','target']]"
   ]
  },
  {
   "cell_type": "code",
   "execution_count": 6,
   "metadata": {},
   "outputs": [
    {
     "name": "stdout",
     "output_type": "stream",
     "text": [
      "True    12529\n",
      "Name: target, dtype: int64\n"
     ]
    }
   ],
   "source": [
    "#Save Dongs deletions for further test:\n",
    "\n",
    "df_Dongs.drop(['libraries','regionA_stat', 'regionA_end', 'chr_A',\n",
    "       'regionB_stat', 'regionB_end', 'chr_B','A_size_bp','B_size_bp'], axis=1, inplace=True)\n",
    "\n",
    "df_Dongs['sD_pair'] = df_Dongs['sD_pair'].astype(int)\n",
    "#\n",
    "print(df_Dongs[\"target\"].value_counts())\n",
    "#Save it:\n",
    "outPATH = \"../dataset3/data_main/DELS_12_04/\"\n",
    "df_Dongs.to_csv(outPATH + 'refined_data_DELS_Dongs-13-04.csv', sep = ';' ,index_label=False)"
   ]
  },
  {
   "cell_type": "markdown",
   "metadata": {},
   "source": [
    "---"
   ]
  },
  {
   "cell_type": "code",
   "execution_count": 7,
   "metadata": {},
   "outputs": [
    {
     "data": {
      "text/plain": [
       "False    1813\n",
       "True     1206\n",
       "Name: target, dtype: int64"
      ]
     },
     "execution_count": 7,
     "metadata": {},
     "output_type": "execute_result"
    }
   ],
   "source": [
    "df_DGRC[\"target\"].value_counts()"
   ]
  },
  {
   "cell_type": "markdown",
   "metadata": {},
   "source": [
    "---"
   ]
  },
  {
   "cell_type": "code",
   "execution_count": 8,
   "metadata": {},
   "outputs": [
    {
     "data": {
      "text/plain": [
       "count     2412.000000\n",
       "mean      3103.585821\n",
       "std       1492.739688\n",
       "min         25.000000\n",
       "25%       2483.000000\n",
       "50%       3145.500000\n",
       "75%       3694.000000\n",
       "max      22736.000000\n",
       "dtype: float64"
      ]
     },
     "execution_count": 8,
     "metadata": {},
     "output_type": "execute_result"
    }
   ],
   "source": [
    "pd.concat([df_DGRC['A_size_bp'].loc[df_DGRC['target']==True],df_DGRC['B_size_bp'].loc[df_DGRC['target']==True]]).describe()"
   ]
  },
  {
   "cell_type": "code",
   "execution_count": 9,
   "metadata": {},
   "outputs": [
    {
     "data": {
      "text/plain": [
       "count     3626.000000\n",
       "mean      5745.584666\n",
       "std       4073.891599\n",
       "min          2.000000\n",
       "25%       2453.500000\n",
       "50%       5206.000000\n",
       "75%       8536.250000\n",
       "max      27440.000000\n",
       "dtype: float64"
      ]
     },
     "execution_count": 9,
     "metadata": {},
     "output_type": "execute_result"
    }
   ],
   "source": [
    "pd.concat([df_DGRC['A_size_bp'].loc[df_DGRC['target']==False],df_DGRC['B_size_bp'].loc[df_DGRC['target']==False]]).describe()"
   ]
  },
  {
   "cell_type": "code",
   "execution_count": 10,
   "metadata": {},
   "outputs": [],
   "source": [
    "#A"
   ]
  },
  {
   "cell_type": "code",
   "execution_count": 11,
   "metadata": {},
   "outputs": [
    {
     "data": {
      "text/plain": [
       "count     1206.00000\n",
       "mean      3118.66335\n",
       "std       1504.23940\n",
       "min         25.00000\n",
       "25%       2503.25000\n",
       "50%       3161.00000\n",
       "75%       3718.00000\n",
       "max      22736.00000\n",
       "Name: A_size_bp, dtype: float64"
      ]
     },
     "execution_count": 11,
     "metadata": {},
     "output_type": "execute_result"
    }
   ],
   "source": [
    "pd.concat([df_DGRC['A_size_bp'].loc[df_DGRC['target']==True]]).describe()"
   ]
  },
  {
   "cell_type": "code",
   "execution_count": 12,
   "metadata": {},
   "outputs": [
    {
     "data": {
      "text/plain": [
       "count     1813.000000\n",
       "mean      5745.825703\n",
       "std       4083.288765\n",
       "min         11.000000\n",
       "25%       2472.000000\n",
       "50%       5220.000000\n",
       "75%       8527.000000\n",
       "max      27440.000000\n",
       "Name: A_size_bp, dtype: float64"
      ]
     },
     "execution_count": 12,
     "metadata": {},
     "output_type": "execute_result"
    }
   ],
   "source": [
    "pd.concat([df_DGRC['A_size_bp'].loc[df_DGRC['target']==False]]).describe()"
   ]
  },
  {
   "cell_type": "code",
   "execution_count": 13,
   "metadata": {},
   "outputs": [],
   "source": [
    "#B"
   ]
  },
  {
   "cell_type": "code",
   "execution_count": 14,
   "metadata": {},
   "outputs": [
    {
     "data": {
      "text/plain": [
       "count     1206.000000\n",
       "mean      3088.508292\n",
       "std       1481.621250\n",
       "min         56.000000\n",
       "25%       2475.250000\n",
       "50%       3134.000000\n",
       "75%       3681.750000\n",
       "max      19863.000000\n",
       "Name: B_size_bp, dtype: float64"
      ]
     },
     "execution_count": 14,
     "metadata": {},
     "output_type": "execute_result"
    }
   ],
   "source": [
    "pd.concat([df_DGRC['B_size_bp'].loc[df_DGRC['target']==True]]).describe()"
   ]
  },
  {
   "cell_type": "code",
   "execution_count": 15,
   "metadata": {},
   "outputs": [
    {
     "data": {
      "text/plain": [
       "count     1813.000000\n",
       "mean      5745.343629\n",
       "std       4065.599283\n",
       "min          2.000000\n",
       "25%       2436.000000\n",
       "50%       5196.000000\n",
       "75%       8545.000000\n",
       "max      27005.000000\n",
       "Name: B_size_bp, dtype: float64"
      ]
     },
     "execution_count": 15,
     "metadata": {},
     "output_type": "execute_result"
    }
   ],
   "source": [
    "pd.concat([df_DGRC['B_size_bp'].loc[df_DGRC['target']==False]]).describe()"
   ]
  },
  {
   "cell_type": "code",
   "execution_count": null,
   "metadata": {},
   "outputs": [],
   "source": []
  },
  {
   "cell_type": "markdown",
   "metadata": {},
   "source": [
    "---"
   ]
  },
  {
   "cell_type": "markdown",
   "metadata": {},
   "source": [
    "---"
   ]
  },
  {
   "cell_type": "code",
   "execution_count": 16,
   "metadata": {},
   "outputs": [
    {
     "data": {
      "text/plain": [
       "False"
      ]
     },
     "execution_count": 16,
     "metadata": {},
     "output_type": "execute_result"
    }
   ],
   "source": [
    "df_DGRC.isnull().values.any()\n",
    "#df_DGRC.isnull().sum()"
   ]
  },
  {
   "cell_type": "code",
   "execution_count": 17,
   "metadata": {},
   "outputs": [],
   "source": [
    "df_dels = df_DGRC"
   ]
  },
  {
   "cell_type": "markdown",
   "metadata": {},
   "source": [
    "---"
   ]
  },
  {
   "cell_type": "markdown",
   "metadata": {},
   "source": [
    "---"
   ]
  },
  {
   "cell_type": "markdown",
   "metadata": {},
   "source": [
    "#Checking liGS mead region A and B size for Dongs data , in analisis...\n",
    "l_A = df_dels['A_size_bp'].loc[df_dels['libraries']=='liGS'].tolist()\n",
    "l_B = df_dels['B_size_bp'].loc[df_dels['libraries']=='liGS'].tolist()\n",
    "l_A.extend(l_B)\n",
    "\n",
    "print(np.mean(l_A)) #2857"
   ]
  },
  {
   "cell_type": "markdown",
   "metadata": {},
   "source": [
    "---"
   ]
  },
  {
   "cell_type": "code",
   "execution_count": 18,
   "metadata": {},
   "outputs": [
    {
     "data": {
      "text/plain": [
       "(12529, 37)"
      ]
     },
     "execution_count": 18,
     "metadata": {},
     "output_type": "execute_result"
    }
   ],
   "source": [
    "df_Dongs.shape"
   ]
  },
  {
   "cell_type": "code",
   "execution_count": 24,
   "metadata": {},
   "outputs": [
    {
     "data": {
      "text/plain": [
       "(266, 37)"
      ]
     },
     "execution_count": 24,
     "metadata": {},
     "output_type": "execute_result"
    }
   ],
   "source": [
    "df_Dongs.loc[(df_Dongs['A_Lamina_score'] == 0) ].shape"
   ]
  },
  {
   "cell_type": "code",
   "execution_count": 27,
   "metadata": {},
   "outputs": [
    {
     "data": {
      "text/plain": [
       "2.1230744672360125"
      ]
     },
     "execution_count": 27,
     "metadata": {},
     "output_type": "execute_result"
    }
   ],
   "source": [
    "(266 *100)/(12529)"
   ]
  },
  {
   "cell_type": "code",
   "execution_count": 25,
   "metadata": {},
   "outputs": [
    {
     "data": {
      "text/plain": [
       "(269, 37)"
      ]
     },
     "execution_count": 25,
     "metadata": {},
     "output_type": "execute_result"
    }
   ],
   "source": [
    "df_Dongs.loc[ (df_Dongs['B_Lamina_score'] == 0)].shape"
   ]
  },
  {
   "cell_type": "code",
   "execution_count": 26,
   "metadata": {},
   "outputs": [
    {
     "data": {
      "text/plain": [
       "2.147018916114614"
      ]
     },
     "execution_count": 26,
     "metadata": {},
     "output_type": "execute_result"
    }
   ],
   "source": [
    "(269 *100)/(12529)"
   ]
  },
  {
   "cell_type": "code",
   "execution_count": 19,
   "metadata": {},
   "outputs": [
    {
     "data": {
      "text/html": [
       "<div>\n",
       "<style scoped>\n",
       "    .dataframe tbody tr th:only-of-type {\n",
       "        vertical-align: middle;\n",
       "    }\n",
       "\n",
       "    .dataframe tbody tr th {\n",
       "        vertical-align: top;\n",
       "    }\n",
       "\n",
       "    .dataframe thead th {\n",
       "        text-align: right;\n",
       "    }\n",
       "</style>\n",
       "<table border=\"1\" class=\"dataframe\">\n",
       "  <thead>\n",
       "    <tr style=\"text-align: right;\">\n",
       "      <th></th>\n",
       "      <th>CNV_ID</th>\n",
       "      <th>A_size</th>\n",
       "      <th>B_size</th>\n",
       "      <th>A_region_name</th>\n",
       "      <th>A_region_family</th>\n",
       "      <th>A_region_class</th>\n",
       "      <th>B_region_name</th>\n",
       "      <th>B_region_family</th>\n",
       "      <th>B_region_class</th>\n",
       "      <th>A_repitiveRegion_dist</th>\n",
       "      <th>B_repitiveRegion_dist</th>\n",
       "      <th>A_cov_repRegion</th>\n",
       "      <th>B_cov_repRegion</th>\n",
       "      <th>A_SegDup_dist</th>\n",
       "      <th>B_SegDup_dist</th>\n",
       "      <th>A_cov_segDup</th>\n",
       "      <th>B_cov_segDup</th>\n",
       "      <th>sD_pair</th>\n",
       "      <th>dist_Centromere</th>\n",
       "      <th>dist_Telomere</th>\n",
       "      <th>GC_perc_A</th>\n",
       "      <th>GC_perc_B</th>\n",
       "      <th>Dust_A</th>\n",
       "      <th>Dust_B</th>\n",
       "      <th>A_decodeAvg</th>\n",
       "      <th>B_decodeAvg</th>\n",
       "      <th>A_cov_Exons</th>\n",
       "      <th>A_cov_Introns</th>\n",
       "      <th>B_cov_Exons</th>\n",
       "      <th>B_cov_Introns</th>\n",
       "      <th>A_Lamina_score</th>\n",
       "      <th>B_Lamina_score</th>\n",
       "      <th>A_CpGi_dist</th>\n",
       "      <th>B_CpGi_dist</th>\n",
       "      <th>A_TAD_dist_Log</th>\n",
       "      <th>B_TAD_dist_Log</th>\n",
       "      <th>target</th>\n",
       "    </tr>\n",
       "  </thead>\n",
       "  <tbody>\n",
       "    <tr>\n",
       "      <th>6178</th>\n",
       "      <td>NYGC_DEL_6</td>\n",
       "      <td>0.001346</td>\n",
       "      <td>0.001346</td>\n",
       "      <td>L1PA16</td>\n",
       "      <td>L1</td>\n",
       "      <td>Rep_LINE</td>\n",
       "      <td>HAL1</td>\n",
       "      <td>L1</td>\n",
       "      <td>Rep_LINE</td>\n",
       "      <td>0.0</td>\n",
       "      <td>0.0</td>\n",
       "      <td>0.528995</td>\n",
       "      <td>0.963273</td>\n",
       "      <td>0.543944</td>\n",
       "      <td>0.218972</td>\n",
       "      <td>0.0</td>\n",
       "      <td>0.0</td>\n",
       "      <td>0</td>\n",
       "      <td>2.099349</td>\n",
       "      <td>1.351719</td>\n",
       "      <td>0.369453</td>\n",
       "      <td>0.378100</td>\n",
       "      <td>0.032219</td>\n",
       "      <td>0.105320</td>\n",
       "      <td>1.747300</td>\n",
       "      <td>1.747300</td>\n",
       "      <td>0.175580</td>\n",
       "      <td>0.824420</td>\n",
       "      <td>0.000000</td>\n",
       "      <td>1.00000</td>\n",
       "      <td>0.0</td>\n",
       "      <td>0.0</td>\n",
       "      <td>0.316553</td>\n",
       "      <td>0.269604</td>\n",
       "      <td>0.314045</td>\n",
       "      <td>0.359718</td>\n",
       "      <td>True</td>\n",
       "    </tr>\n",
       "    <tr>\n",
       "      <th>6253</th>\n",
       "      <td>NYGC_DEL_81</td>\n",
       "      <td>0.001346</td>\n",
       "      <td>0.001346</td>\n",
       "      <td>AluSq</td>\n",
       "      <td>Alu</td>\n",
       "      <td>Rep_SINE</td>\n",
       "      <td>MLT1H</td>\n",
       "      <td>ERVL-MaLR</td>\n",
       "      <td>Rep_LTR</td>\n",
       "      <td>0.0</td>\n",
       "      <td>0.0</td>\n",
       "      <td>0.301869</td>\n",
       "      <td>0.570232</td>\n",
       "      <td>0.642504</td>\n",
       "      <td>0.222928</td>\n",
       "      <td>0.0</td>\n",
       "      <td>0.0</td>\n",
       "      <td>0</td>\n",
       "      <td>1.883278</td>\n",
       "      <td>1.693822</td>\n",
       "      <td>0.462379</td>\n",
       "      <td>0.436393</td>\n",
       "      <td>0.010401</td>\n",
       "      <td>0.037798</td>\n",
       "      <td>1.109410</td>\n",
       "      <td>1.109410</td>\n",
       "      <td>0.000000</td>\n",
       "      <td>0.000000</td>\n",
       "      <td>0.000000</td>\n",
       "      <td>0.00000</td>\n",
       "      <td>0.0</td>\n",
       "      <td>0.0</td>\n",
       "      <td>0.048866</td>\n",
       "      <td>0.034133</td>\n",
       "      <td>0.285407</td>\n",
       "      <td>0.009170</td>\n",
       "      <td>True</td>\n",
       "    </tr>\n",
       "    <tr>\n",
       "      <th>6302</th>\n",
       "      <td>NYGC_DEL_130</td>\n",
       "      <td>0.001346</td>\n",
       "      <td>0.001346</td>\n",
       "      <td>L1ME3C</td>\n",
       "      <td>L1</td>\n",
       "      <td>Rep_LINE</td>\n",
       "      <td>L1MC5a</td>\n",
       "      <td>L1</td>\n",
       "      <td>Rep_LINE</td>\n",
       "      <td>0.0</td>\n",
       "      <td>0.0</td>\n",
       "      <td>0.689755</td>\n",
       "      <td>0.964562</td>\n",
       "      <td>0.038380</td>\n",
       "      <td>0.236524</td>\n",
       "      <td>0.0</td>\n",
       "      <td>0.0</td>\n",
       "      <td>0</td>\n",
       "      <td>2.164581</td>\n",
       "      <td>0.323316</td>\n",
       "      <td>0.455072</td>\n",
       "      <td>0.466238</td>\n",
       "      <td>0.058344</td>\n",
       "      <td>0.103378</td>\n",
       "      <td>0.000000</td>\n",
       "      <td>0.000000</td>\n",
       "      <td>0.633376</td>\n",
       "      <td>0.366624</td>\n",
       "      <td>0.000000</td>\n",
       "      <td>1.00000</td>\n",
       "      <td>0.0</td>\n",
       "      <td>0.0</td>\n",
       "      <td>0.003473</td>\n",
       "      <td>0.008943</td>\n",
       "      <td>0.091215</td>\n",
       "      <td>0.048705</td>\n",
       "      <td>True</td>\n",
       "    </tr>\n",
       "    <tr>\n",
       "      <th>6499</th>\n",
       "      <td>NYGC_DEL_327</td>\n",
       "      <td>0.001346</td>\n",
       "      <td>0.001346</td>\n",
       "      <td>AluSq2</td>\n",
       "      <td>Alu</td>\n",
       "      <td>Rep_SINE</td>\n",
       "      <td>MER57B1</td>\n",
       "      <td>ERV1</td>\n",
       "      <td>Rep_LTR</td>\n",
       "      <td>0.0</td>\n",
       "      <td>0.0</td>\n",
       "      <td>0.834729</td>\n",
       "      <td>0.605992</td>\n",
       "      <td>0.158036</td>\n",
       "      <td>0.178311</td>\n",
       "      <td>0.0</td>\n",
       "      <td>0.0</td>\n",
       "      <td>0</td>\n",
       "      <td>2.014730</td>\n",
       "      <td>0.448668</td>\n",
       "      <td>0.466559</td>\n",
       "      <td>0.426367</td>\n",
       "      <td>0.080445</td>\n",
       "      <td>0.041912</td>\n",
       "      <td>1.738140</td>\n",
       "      <td>1.738140</td>\n",
       "      <td>0.000000</td>\n",
       "      <td>0.000000</td>\n",
       "      <td>0.000000</td>\n",
       "      <td>1.00000</td>\n",
       "      <td>0.0</td>\n",
       "      <td>0.0</td>\n",
       "      <td>0.006017</td>\n",
       "      <td>0.010311</td>\n",
       "      <td>0.160373</td>\n",
       "      <td>0.170581</td>\n",
       "      <td>True</td>\n",
       "    </tr>\n",
       "    <tr>\n",
       "      <th>6502</th>\n",
       "      <td>NYGC_DEL_330</td>\n",
       "      <td>0.001346</td>\n",
       "      <td>0.001346</td>\n",
       "      <td>L2a</td>\n",
       "      <td>L2</td>\n",
       "      <td>Rep_LINE</td>\n",
       "      <td>LTR1D</td>\n",
       "      <td>ERV1</td>\n",
       "      <td>Rep_LTR</td>\n",
       "      <td>0.0</td>\n",
       "      <td>0.0</td>\n",
       "      <td>0.812178</td>\n",
       "      <td>1.000000</td>\n",
       "      <td>0.550410</td>\n",
       "      <td>0.412657</td>\n",
       "      <td>0.0</td>\n",
       "      <td>0.0</td>\n",
       "      <td>0</td>\n",
       "      <td>1.972692</td>\n",
       "      <td>1.504169</td>\n",
       "      <td>0.371014</td>\n",
       "      <td>0.372625</td>\n",
       "      <td>0.069744</td>\n",
       "      <td>0.111111</td>\n",
       "      <td>1.034630</td>\n",
       "      <td>1.034630</td>\n",
       "      <td>0.000000</td>\n",
       "      <td>0.000000</td>\n",
       "      <td>0.000000</td>\n",
       "      <td>0.00000</td>\n",
       "      <td>0.0</td>\n",
       "      <td>0.0</td>\n",
       "      <td>0.137185</td>\n",
       "      <td>0.057926</td>\n",
       "      <td>0.350752</td>\n",
       "      <td>0.085735</td>\n",
       "      <td>True</td>\n",
       "    </tr>\n",
       "    <tr>\n",
       "      <th>...</th>\n",
       "      <td>...</td>\n",
       "      <td>...</td>\n",
       "      <td>...</td>\n",
       "      <td>...</td>\n",
       "      <td>...</td>\n",
       "      <td>...</td>\n",
       "      <td>...</td>\n",
       "      <td>...</td>\n",
       "      <td>...</td>\n",
       "      <td>...</td>\n",
       "      <td>...</td>\n",
       "      <td>...</td>\n",
       "      <td>...</td>\n",
       "      <td>...</td>\n",
       "      <td>...</td>\n",
       "      <td>...</td>\n",
       "      <td>...</td>\n",
       "      <td>...</td>\n",
       "      <td>...</td>\n",
       "      <td>...</td>\n",
       "      <td>...</td>\n",
       "      <td>...</td>\n",
       "      <td>...</td>\n",
       "      <td>...</td>\n",
       "      <td>...</td>\n",
       "      <td>...</td>\n",
       "      <td>...</td>\n",
       "      <td>...</td>\n",
       "      <td>...</td>\n",
       "      <td>...</td>\n",
       "      <td>...</td>\n",
       "      <td>...</td>\n",
       "      <td>...</td>\n",
       "      <td>...</td>\n",
       "      <td>...</td>\n",
       "      <td>...</td>\n",
       "      <td>...</td>\n",
       "    </tr>\n",
       "    <tr>\n",
       "      <th>19779</th>\n",
       "      <td>NYGC_DEL_13607</td>\n",
       "      <td>0.001346</td>\n",
       "      <td>0.001346</td>\n",
       "      <td>LTR47A2</td>\n",
       "      <td>ERVL</td>\n",
       "      <td>Rep_LTR</td>\n",
       "      <td>L1MC</td>\n",
       "      <td>L1</td>\n",
       "      <td>Rep_LINE</td>\n",
       "      <td>0.0</td>\n",
       "      <td>0.0</td>\n",
       "      <td>0.318299</td>\n",
       "      <td>0.182990</td>\n",
       "      <td>0.963541</td>\n",
       "      <td>0.459481</td>\n",
       "      <td>0.0</td>\n",
       "      <td>0.0</td>\n",
       "      <td>0</td>\n",
       "      <td>1.813987</td>\n",
       "      <td>1.783077</td>\n",
       "      <td>0.331511</td>\n",
       "      <td>0.262480</td>\n",
       "      <td>0.014742</td>\n",
       "      <td>0.006175</td>\n",
       "      <td>0.370691</td>\n",
       "      <td>0.370691</td>\n",
       "      <td>0.000000</td>\n",
       "      <td>0.000000</td>\n",
       "      <td>0.000000</td>\n",
       "      <td>0.00000</td>\n",
       "      <td>0.0</td>\n",
       "      <td>0.0</td>\n",
       "      <td>0.553494</td>\n",
       "      <td>0.657379</td>\n",
       "      <td>0.175438</td>\n",
       "      <td>0.054950</td>\n",
       "      <td>True</td>\n",
       "    </tr>\n",
       "    <tr>\n",
       "      <th>19780</th>\n",
       "      <td>NYGC_DEL_13608</td>\n",
       "      <td>0.001346</td>\n",
       "      <td>0.001346</td>\n",
       "      <td>L1PA6</td>\n",
       "      <td>L1</td>\n",
       "      <td>Rep_LINE</td>\n",
       "      <td>MSTD</td>\n",
       "      <td>ERVL-MaLR</td>\n",
       "      <td>Rep_LTR</td>\n",
       "      <td>0.0</td>\n",
       "      <td>0.0</td>\n",
       "      <td>0.545425</td>\n",
       "      <td>0.507088</td>\n",
       "      <td>0.014021</td>\n",
       "      <td>0.051181</td>\n",
       "      <td>0.0</td>\n",
       "      <td>0.0</td>\n",
       "      <td>0</td>\n",
       "      <td>1.862651</td>\n",
       "      <td>1.723773</td>\n",
       "      <td>0.371383</td>\n",
       "      <td>0.360129</td>\n",
       "      <td>0.036025</td>\n",
       "      <td>0.028843</td>\n",
       "      <td>0.287619</td>\n",
       "      <td>0.287619</td>\n",
       "      <td>0.033183</td>\n",
       "      <td>0.966817</td>\n",
       "      <td>0.383698</td>\n",
       "      <td>0.22616</td>\n",
       "      <td>0.0</td>\n",
       "      <td>0.0</td>\n",
       "      <td>0.043655</td>\n",
       "      <td>0.055095</td>\n",
       "      <td>0.073364</td>\n",
       "      <td>0.142737</td>\n",
       "      <td>True</td>\n",
       "    </tr>\n",
       "    <tr>\n",
       "      <th>19782</th>\n",
       "      <td>NYGC_DEL_13610</td>\n",
       "      <td>0.001346</td>\n",
       "      <td>0.001346</td>\n",
       "      <td>L1ME3B</td>\n",
       "      <td>L1</td>\n",
       "      <td>Rep_LINE</td>\n",
       "      <td>L1ME2</td>\n",
       "      <td>L1</td>\n",
       "      <td>Rep_LINE</td>\n",
       "      <td>0.0</td>\n",
       "      <td>0.0</td>\n",
       "      <td>0.734536</td>\n",
       "      <td>0.979059</td>\n",
       "      <td>0.170016</td>\n",
       "      <td>0.154598</td>\n",
       "      <td>0.0</td>\n",
       "      <td>0.0</td>\n",
       "      <td>0</td>\n",
       "      <td>2.073554</td>\n",
       "      <td>0.868492</td>\n",
       "      <td>0.368489</td>\n",
       "      <td>0.404502</td>\n",
       "      <td>0.060807</td>\n",
       "      <td>0.106508</td>\n",
       "      <td>2.770150</td>\n",
       "      <td>2.770150</td>\n",
       "      <td>0.000000</td>\n",
       "      <td>0.000000</td>\n",
       "      <td>0.000000</td>\n",
       "      <td>0.00000</td>\n",
       "      <td>0.0</td>\n",
       "      <td>0.0</td>\n",
       "      <td>0.011408</td>\n",
       "      <td>0.123254</td>\n",
       "      <td>0.452092</td>\n",
       "      <td>0.169638</td>\n",
       "      <td>True</td>\n",
       "    </tr>\n",
       "    <tr>\n",
       "      <th>19809</th>\n",
       "      <td>NYGC_DEL_13637</td>\n",
       "      <td>0.001346</td>\n",
       "      <td>0.001346</td>\n",
       "      <td>L1M1</td>\n",
       "      <td>L1</td>\n",
       "      <td>Rep_LINE</td>\n",
       "      <td>L1PA2</td>\n",
       "      <td>L1</td>\n",
       "      <td>Rep_LINE</td>\n",
       "      <td>0.0</td>\n",
       "      <td>0.0</td>\n",
       "      <td>0.710052</td>\n",
       "      <td>1.000000</td>\n",
       "      <td>0.664573</td>\n",
       "      <td>0.509821</td>\n",
       "      <td>0.0</td>\n",
       "      <td>0.0</td>\n",
       "      <td>0</td>\n",
       "      <td>1.957056</td>\n",
       "      <td>1.760392</td>\n",
       "      <td>0.383280</td>\n",
       "      <td>0.388406</td>\n",
       "      <td>0.056492</td>\n",
       "      <td>0.111111</td>\n",
       "      <td>0.177857</td>\n",
       "      <td>0.177857</td>\n",
       "      <td>0.000000</td>\n",
       "      <td>0.000000</td>\n",
       "      <td>0.000000</td>\n",
       "      <td>0.00000</td>\n",
       "      <td>0.0</td>\n",
       "      <td>0.0</td>\n",
       "      <td>0.297307</td>\n",
       "      <td>0.059948</td>\n",
       "      <td>0.523979</td>\n",
       "      <td>0.276312</td>\n",
       "      <td>True</td>\n",
       "    </tr>\n",
       "    <tr>\n",
       "      <th>19826</th>\n",
       "      <td>NYGC_DEL_13654</td>\n",
       "      <td>0.001346</td>\n",
       "      <td>0.001346</td>\n",
       "      <td>LTR12C</td>\n",
       "      <td>ERV1</td>\n",
       "      <td>Rep_LTR</td>\n",
       "      <td>AluSz6</td>\n",
       "      <td>Alu</td>\n",
       "      <td>Rep_SINE</td>\n",
       "      <td>0.0</td>\n",
       "      <td>0.0</td>\n",
       "      <td>0.991302</td>\n",
       "      <td>0.976160</td>\n",
       "      <td>0.324529</td>\n",
       "      <td>0.483668</td>\n",
       "      <td>0.0</td>\n",
       "      <td>0.0</td>\n",
       "      <td>0</td>\n",
       "      <td>2.094528</td>\n",
       "      <td>1.377778</td>\n",
       "      <td>0.460129</td>\n",
       "      <td>0.426688</td>\n",
       "      <td>0.109827</td>\n",
       "      <td>0.106438</td>\n",
       "      <td>2.813550</td>\n",
       "      <td>2.813550</td>\n",
       "      <td>0.000000</td>\n",
       "      <td>0.000000</td>\n",
       "      <td>0.000000</td>\n",
       "      <td>0.00000</td>\n",
       "      <td>0.0</td>\n",
       "      <td>0.0</td>\n",
       "      <td>0.001510</td>\n",
       "      <td>0.004747</td>\n",
       "      <td>0.118279</td>\n",
       "      <td>0.033135</td>\n",
       "      <td>True</td>\n",
       "    </tr>\n",
       "  </tbody>\n",
       "</table>\n",
       "<p>275 rows × 37 columns</p>\n",
       "</div>"
      ],
      "text/plain": [
       "               CNV_ID    A_size    B_size A_region_name A_region_family  \\\n",
       "6178       NYGC_DEL_6  0.001346  0.001346        L1PA16              L1   \n",
       "6253      NYGC_DEL_81  0.001346  0.001346         AluSq             Alu   \n",
       "6302     NYGC_DEL_130  0.001346  0.001346        L1ME3C              L1   \n",
       "6499     NYGC_DEL_327  0.001346  0.001346        AluSq2             Alu   \n",
       "6502     NYGC_DEL_330  0.001346  0.001346           L2a              L2   \n",
       "...               ...       ...       ...           ...             ...   \n",
       "19779  NYGC_DEL_13607  0.001346  0.001346       LTR47A2            ERVL   \n",
       "19780  NYGC_DEL_13608  0.001346  0.001346         L1PA6              L1   \n",
       "19782  NYGC_DEL_13610  0.001346  0.001346        L1ME3B              L1   \n",
       "19809  NYGC_DEL_13637  0.001346  0.001346          L1M1              L1   \n",
       "19826  NYGC_DEL_13654  0.001346  0.001346        LTR12C            ERV1   \n",
       "\n",
       "      A_region_class B_region_name B_region_family B_region_class  \\\n",
       "6178        Rep_LINE          HAL1              L1       Rep_LINE   \n",
       "6253        Rep_SINE         MLT1H       ERVL-MaLR        Rep_LTR   \n",
       "6302        Rep_LINE        L1MC5a              L1       Rep_LINE   \n",
       "6499        Rep_SINE       MER57B1            ERV1        Rep_LTR   \n",
       "6502        Rep_LINE         LTR1D            ERV1        Rep_LTR   \n",
       "...              ...           ...             ...            ...   \n",
       "19779        Rep_LTR          L1MC              L1       Rep_LINE   \n",
       "19780       Rep_LINE          MSTD       ERVL-MaLR        Rep_LTR   \n",
       "19782       Rep_LINE         L1ME2              L1       Rep_LINE   \n",
       "19809       Rep_LINE         L1PA2              L1       Rep_LINE   \n",
       "19826        Rep_LTR        AluSz6             Alu       Rep_SINE   \n",
       "\n",
       "       A_repitiveRegion_dist  B_repitiveRegion_dist  A_cov_repRegion  \\\n",
       "6178                     0.0                    0.0         0.528995   \n",
       "6253                     0.0                    0.0         0.301869   \n",
       "6302                     0.0                    0.0         0.689755   \n",
       "6499                     0.0                    0.0         0.834729   \n",
       "6502                     0.0                    0.0         0.812178   \n",
       "...                      ...                    ...              ...   \n",
       "19779                    0.0                    0.0         0.318299   \n",
       "19780                    0.0                    0.0         0.545425   \n",
       "19782                    0.0                    0.0         0.734536   \n",
       "19809                    0.0                    0.0         0.710052   \n",
       "19826                    0.0                    0.0         0.991302   \n",
       "\n",
       "       B_cov_repRegion  A_SegDup_dist  B_SegDup_dist  A_cov_segDup  \\\n",
       "6178          0.963273       0.543944       0.218972           0.0   \n",
       "6253          0.570232       0.642504       0.222928           0.0   \n",
       "6302          0.964562       0.038380       0.236524           0.0   \n",
       "6499          0.605992       0.158036       0.178311           0.0   \n",
       "6502          1.000000       0.550410       0.412657           0.0   \n",
       "...                ...            ...            ...           ...   \n",
       "19779         0.182990       0.963541       0.459481           0.0   \n",
       "19780         0.507088       0.014021       0.051181           0.0   \n",
       "19782         0.979059       0.170016       0.154598           0.0   \n",
       "19809         1.000000       0.664573       0.509821           0.0   \n",
       "19826         0.976160       0.324529       0.483668           0.0   \n",
       "\n",
       "       B_cov_segDup  sD_pair  dist_Centromere  dist_Telomere  GC_perc_A  \\\n",
       "6178            0.0        0         2.099349       1.351719   0.369453   \n",
       "6253            0.0        0         1.883278       1.693822   0.462379   \n",
       "6302            0.0        0         2.164581       0.323316   0.455072   \n",
       "6499            0.0        0         2.014730       0.448668   0.466559   \n",
       "6502            0.0        0         1.972692       1.504169   0.371014   \n",
       "...             ...      ...              ...            ...        ...   \n",
       "19779           0.0        0         1.813987       1.783077   0.331511   \n",
       "19780           0.0        0         1.862651       1.723773   0.371383   \n",
       "19782           0.0        0         2.073554       0.868492   0.368489   \n",
       "19809           0.0        0         1.957056       1.760392   0.383280   \n",
       "19826           0.0        0         2.094528       1.377778   0.460129   \n",
       "\n",
       "       GC_perc_B    Dust_A    Dust_B  A_decodeAvg  B_decodeAvg  A_cov_Exons  \\\n",
       "6178    0.378100  0.032219  0.105320     1.747300     1.747300     0.175580   \n",
       "6253    0.436393  0.010401  0.037798     1.109410     1.109410     0.000000   \n",
       "6302    0.466238  0.058344  0.103378     0.000000     0.000000     0.633376   \n",
       "6499    0.426367  0.080445  0.041912     1.738140     1.738140     0.000000   \n",
       "6502    0.372625  0.069744  0.111111     1.034630     1.034630     0.000000   \n",
       "...          ...       ...       ...          ...          ...          ...   \n",
       "19779   0.262480  0.014742  0.006175     0.370691     0.370691     0.000000   \n",
       "19780   0.360129  0.036025  0.028843     0.287619     0.287619     0.033183   \n",
       "19782   0.404502  0.060807  0.106508     2.770150     2.770150     0.000000   \n",
       "19809   0.388406  0.056492  0.111111     0.177857     0.177857     0.000000   \n",
       "19826   0.426688  0.109827  0.106438     2.813550     2.813550     0.000000   \n",
       "\n",
       "       A_cov_Introns  B_cov_Exons  B_cov_Introns  A_Lamina_score  \\\n",
       "6178        0.824420     0.000000        1.00000             0.0   \n",
       "6253        0.000000     0.000000        0.00000             0.0   \n",
       "6302        0.366624     0.000000        1.00000             0.0   \n",
       "6499        0.000000     0.000000        1.00000             0.0   \n",
       "6502        0.000000     0.000000        0.00000             0.0   \n",
       "...              ...          ...            ...             ...   \n",
       "19779       0.000000     0.000000        0.00000             0.0   \n",
       "19780       0.966817     0.383698        0.22616             0.0   \n",
       "19782       0.000000     0.000000        0.00000             0.0   \n",
       "19809       0.000000     0.000000        0.00000             0.0   \n",
       "19826       0.000000     0.000000        0.00000             0.0   \n",
       "\n",
       "       B_Lamina_score  A_CpGi_dist  B_CpGi_dist  A_TAD_dist_Log  \\\n",
       "6178              0.0     0.316553     0.269604        0.314045   \n",
       "6253              0.0     0.048866     0.034133        0.285407   \n",
       "6302              0.0     0.003473     0.008943        0.091215   \n",
       "6499              0.0     0.006017     0.010311        0.160373   \n",
       "6502              0.0     0.137185     0.057926        0.350752   \n",
       "...               ...          ...          ...             ...   \n",
       "19779             0.0     0.553494     0.657379        0.175438   \n",
       "19780             0.0     0.043655     0.055095        0.073364   \n",
       "19782             0.0     0.011408     0.123254        0.452092   \n",
       "19809             0.0     0.297307     0.059948        0.523979   \n",
       "19826             0.0     0.001510     0.004747        0.118279   \n",
       "\n",
       "       B_TAD_dist_Log  target  \n",
       "6178         0.359718    True  \n",
       "6253         0.009170    True  \n",
       "6302         0.048705    True  \n",
       "6499         0.170581    True  \n",
       "6502         0.085735    True  \n",
       "...               ...     ...  \n",
       "19779        0.054950    True  \n",
       "19780        0.142737    True  \n",
       "19782        0.169638    True  \n",
       "19809        0.276312    True  \n",
       "19826        0.033135    True  \n",
       "\n",
       "[275 rows x 37 columns]"
      ]
     },
     "execution_count": 19,
     "metadata": {},
     "output_type": "execute_result"
    }
   ],
   "source": [
    "df_Dongs.loc[(df_Dongs['A_Lamina_score'] == 0) | (df_Dongs['B_Lamina_score'] == 0)]"
   ]
  },
  {
   "cell_type": "code",
   "execution_count": 20,
   "metadata": {},
   "outputs": [
    {
     "data": {
      "text/plain": [
       "12254"
      ]
     },
     "execution_count": 20,
     "metadata": {},
     "output_type": "execute_result"
    }
   ],
   "source": [
    "12529 - 275 "
   ]
  },
  {
   "cell_type": "code",
   "execution_count": 21,
   "metadata": {},
   "outputs": [
    {
     "data": {
      "text/plain": [
       "2.194907813871817"
      ]
     },
     "execution_count": 21,
     "metadata": {},
     "output_type": "execute_result"
    }
   ],
   "source": [
    "(275 *100)/(12529)"
   ]
  },
  {
   "cell_type": "markdown",
   "metadata": {},
   "source": [
    "---"
   ]
  },
  {
   "cell_type": "markdown",
   "metadata": {},
   "source": [
    "print(df_dels['libraries'].unique())"
   ]
  },
  {
   "cell_type": "markdown",
   "metadata": {},
   "source": [
    "df_dels['libraries'] = df_dels['libraries'].apply(lambda x: x.split(','))"
   ]
  },
  {
   "cell_type": "markdown",
   "metadata": {},
   "source": [
    "# Process libraries data to onehot encoder like format:\n",
    "df_libraries = pd.get_dummies(df_dels['libraries'].apply(pd.Series).stack(),prefix='librarie').sum(level=0)\n",
    "display(df_libraries.head(3))"
   ]
  },
  {
   "cell_type": "markdown",
   "metadata": {},
   "source": [
    "# add libraries in onehot encoder like format:\n",
    "#df_dels = pd.concat([df_dels,df_libraries],axis=1)\n",
    "df_dels = df_dels.join(df_libraries)\n"
   ]
  },
  {
   "cell_type": "code",
   "execution_count": 129,
   "metadata": {},
   "outputs": [],
   "source": [
    "#display(df_dels.head(1))\n",
    "#print(df_dels.shape)"
   ]
  },
  {
   "cell_type": "code",
   "execution_count": 130,
   "metadata": {},
   "outputs": [],
   "source": [
    "#df_dels.loc[df_dels['CNV_ID'].isin(['DGRC_DEL_2875','DGRC_DEL_2162','DGRC_DEL_2535'])] #all ok!"
   ]
  },
  {
   "cell_type": "markdown",
   "metadata": {},
   "source": [
    "#Place 'target' column in last, just in case:\n",
    "df_dels.insert(len(df_dels.columns)-1, 'target', df_dels.pop('target'))\n",
    "\n",
    "#display(df_dels.head(1))\n",
    "#print(df_dels.shape)"
   ]
  },
  {
   "cell_type": "code",
   "execution_count": 131,
   "metadata": {},
   "outputs": [],
   "source": [
    "df_dels.drop(['libraries','regionA_stat', 'regionA_end', 'chr_A',\n",
    "       'regionB_stat', 'regionB_end', 'chr_B','A_size_bp','B_size_bp'], axis=1, inplace=True)"
   ]
  },
  {
   "cell_type": "code",
   "execution_count": 132,
   "metadata": {},
   "outputs": [],
   "source": [
    "#display(df_dups.head())\n",
    "#print(df_dups.shape)"
   ]
  },
  {
   "cell_type": "markdown",
   "metadata": {},
   "source": [
    "# Start Feature Seletion:"
   ]
  },
  {
   "cell_type": "markdown",
   "metadata": {},
   "source": [
    "Some adjustments to target:"
   ]
  },
  {
   "cell_type": "markdown",
   "metadata": {},
   "source": [
    "<div class=\"alert alert-block alert-warning\">\n",
    "<b> Attention: </b> target where *{True:0,False:1}* is just in this notebook, the main dataset for the ML processe will be *{True:1,False:0}* , because it's the correct way!!!\n",
    "</div>"
   ]
  },
  {
   "cell_type": "code",
   "execution_count": 133,
   "metadata": {},
   "outputs": [],
   "source": [
    "df_dels[\"target\"] = df_dels[\"target\"].replace({True:0,False:1})\n",
    "#df_dups[\"target\"] = df_dups[\"target\"].replace({True:0,False:1})"
   ]
  },
  {
   "cell_type": "code",
   "execution_count": 134,
   "metadata": {},
   "outputs": [
    {
     "data": {
      "text/html": [
       "<div>\n",
       "<style scoped>\n",
       "    .dataframe tbody tr th:only-of-type {\n",
       "        vertical-align: middle;\n",
       "    }\n",
       "\n",
       "    .dataframe tbody tr th {\n",
       "        vertical-align: top;\n",
       "    }\n",
       "\n",
       "    .dataframe thead th {\n",
       "        text-align: right;\n",
       "    }\n",
       "</style>\n",
       "<table border=\"1\" class=\"dataframe\">\n",
       "  <thead>\n",
       "    <tr style=\"text-align: right;\">\n",
       "      <th></th>\n",
       "      <th>CNV_ID</th>\n",
       "      <th>A_size</th>\n",
       "      <th>B_size</th>\n",
       "      <th>A_region_name</th>\n",
       "      <th>A_region_family</th>\n",
       "      <th>A_region_class</th>\n",
       "      <th>B_region_name</th>\n",
       "      <th>B_region_family</th>\n",
       "      <th>B_region_class</th>\n",
       "      <th>A_repitiveRegion_dist</th>\n",
       "      <th>B_repitiveRegion_dist</th>\n",
       "      <th>A_cov_repRegion</th>\n",
       "      <th>B_cov_repRegion</th>\n",
       "      <th>A_SegDup_dist</th>\n",
       "      <th>B_SegDup_dist</th>\n",
       "      <th>A_cov_segDup</th>\n",
       "      <th>B_cov_segDup</th>\n",
       "      <th>sD_pair</th>\n",
       "      <th>dist_Centromere</th>\n",
       "      <th>dist_Telomere</th>\n",
       "      <th>GC_perc_A</th>\n",
       "      <th>GC_perc_B</th>\n",
       "      <th>Dust_A</th>\n",
       "      <th>Dust_B</th>\n",
       "      <th>A_decodeAvg</th>\n",
       "      <th>B_decodeAvg</th>\n",
       "      <th>A_cov_Exons</th>\n",
       "      <th>A_cov_Introns</th>\n",
       "      <th>B_cov_Exons</th>\n",
       "      <th>B_cov_Introns</th>\n",
       "      <th>A_Lamina_score</th>\n",
       "      <th>B_Lamina_score</th>\n",
       "      <th>A_CpGi_dist</th>\n",
       "      <th>B_CpGi_dist</th>\n",
       "      <th>A_TAD_dist_Log</th>\n",
       "      <th>B_TAD_dist_Log</th>\n",
       "      <th>target</th>\n",
       "    </tr>\n",
       "  </thead>\n",
       "  <tbody>\n",
       "    <tr>\n",
       "      <th>3</th>\n",
       "      <td>DGRC_DEL_1012</td>\n",
       "      <td>0.001620</td>\n",
       "      <td>0.000997</td>\n",
       "      <td>L1MCa</td>\n",
       "      <td>L1</td>\n",
       "      <td>Rep_LINE</td>\n",
       "      <td>AluJb</td>\n",
       "      <td>Alu</td>\n",
       "      <td>Rep_SINE</td>\n",
       "      <td>0.0000</td>\n",
       "      <td>0.0</td>\n",
       "      <td>0.911694</td>\n",
       "      <td>0.563723</td>\n",
       "      <td>0.231521</td>\n",
       "      <td>0.175188</td>\n",
       "      <td>0.000000</td>\n",
       "      <td>0.000000</td>\n",
       "      <td>False</td>\n",
       "      <td>1.984803</td>\n",
       "      <td>1.433342</td>\n",
       "      <td>0.426738</td>\n",
       "      <td>0.448696</td>\n",
       "      <td>0.094375</td>\n",
       "      <td>0.037602</td>\n",
       "      <td>0.896887</td>\n",
       "      <td>0.896887</td>\n",
       "      <td>0.000000</td>\n",
       "      <td>0.000000</td>\n",
       "      <td>0.000000</td>\n",
       "      <td>0.000000</td>\n",
       "      <td>0.899469</td>\n",
       "      <td>0.892851</td>\n",
       "      <td>0.007365</td>\n",
       "      <td>0.008736</td>\n",
       "      <td>0.037238</td>\n",
       "      <td>0.126782</td>\n",
       "      <td>0</td>\n",
       "    </tr>\n",
       "    <tr>\n",
       "      <th>4</th>\n",
       "      <td>DGRC_DEL_135</td>\n",
       "      <td>0.000372</td>\n",
       "      <td>0.000316</td>\n",
       "      <td>L1MB7</td>\n",
       "      <td>L1</td>\n",
       "      <td>Rep_LINE</td>\n",
       "      <td>L1MB7</td>\n",
       "      <td>L1</td>\n",
       "      <td>Rep_LINE</td>\n",
       "      <td>0.0000</td>\n",
       "      <td>0.0</td>\n",
       "      <td>0.574766</td>\n",
       "      <td>0.998628</td>\n",
       "      <td>0.171148</td>\n",
       "      <td>0.170375</td>\n",
       "      <td>0.000000</td>\n",
       "      <td>0.000000</td>\n",
       "      <td>False</td>\n",
       "      <td>1.620705</td>\n",
       "      <td>1.913421</td>\n",
       "      <td>0.367442</td>\n",
       "      <td>0.317007</td>\n",
       "      <td>0.036770</td>\n",
       "      <td>0.110807</td>\n",
       "      <td>1.815430</td>\n",
       "      <td>1.815430</td>\n",
       "      <td>0.000000</td>\n",
       "      <td>0.000000</td>\n",
       "      <td>0.000000</td>\n",
       "      <td>0.000000</td>\n",
       "      <td>0.925017</td>\n",
       "      <td>0.925017</td>\n",
       "      <td>0.205131</td>\n",
       "      <td>0.268176</td>\n",
       "      <td>0.239282</td>\n",
       "      <td>0.196997</td>\n",
       "      <td>0</td>\n",
       "    </tr>\n",
       "    <tr>\n",
       "      <th>5</th>\n",
       "      <td>DGRC_DEL_930</td>\n",
       "      <td>0.001610</td>\n",
       "      <td>0.001370</td>\n",
       "      <td>L1MA7</td>\n",
       "      <td>L1</td>\n",
       "      <td>Rep_LINE</td>\n",
       "      <td>LTR49-int</td>\n",
       "      <td>ERV1</td>\n",
       "      <td>Rep_LTR</td>\n",
       "      <td>0.0000</td>\n",
       "      <td>0.0</td>\n",
       "      <td>0.828487</td>\n",
       "      <td>0.858183</td>\n",
       "      <td>0.430496</td>\n",
       "      <td>0.412131</td>\n",
       "      <td>0.000000</td>\n",
       "      <td>0.000000</td>\n",
       "      <td>False</td>\n",
       "      <td>1.236011</td>\n",
       "      <td>2.027199</td>\n",
       "      <td>0.383065</td>\n",
       "      <td>0.331122</td>\n",
       "      <td>0.077418</td>\n",
       "      <td>0.084517</td>\n",
       "      <td>0.518749</td>\n",
       "      <td>0.518749</td>\n",
       "      <td>0.000000</td>\n",
       "      <td>0.000000</td>\n",
       "      <td>0.000000</td>\n",
       "      <td>0.000000</td>\n",
       "      <td>0.913537</td>\n",
       "      <td>0.913537</td>\n",
       "      <td>0.468814</td>\n",
       "      <td>0.203230</td>\n",
       "      <td>0.432882</td>\n",
       "      <td>0.515338</td>\n",
       "      <td>0</td>\n",
       "    </tr>\n",
       "    <tr>\n",
       "      <th>6</th>\n",
       "      <td>DGRC_DEL_697</td>\n",
       "      <td>0.001373</td>\n",
       "      <td>0.001369</td>\n",
       "      <td>THE1D</td>\n",
       "      <td>ERVL-MaLR</td>\n",
       "      <td>Rep_LTR</td>\n",
       "      <td>HAL1</td>\n",
       "      <td>L1</td>\n",
       "      <td>Rep_LINE</td>\n",
       "      <td>0.0000</td>\n",
       "      <td>0.0</td>\n",
       "      <td>0.374289</td>\n",
       "      <td>0.851172</td>\n",
       "      <td>0.535198</td>\n",
       "      <td>0.358772</td>\n",
       "      <td>0.000000</td>\n",
       "      <td>0.000000</td>\n",
       "      <td>False</td>\n",
       "      <td>1.022754</td>\n",
       "      <td>2.053611</td>\n",
       "      <td>0.449211</td>\n",
       "      <td>0.403165</td>\n",
       "      <td>0.026068</td>\n",
       "      <td>0.080508</td>\n",
       "      <td>1.660020</td>\n",
       "      <td>1.660020</td>\n",
       "      <td>0.000000</td>\n",
       "      <td>0.000000</td>\n",
       "      <td>0.000000</td>\n",
       "      <td>0.000000</td>\n",
       "      <td>0.901789</td>\n",
       "      <td>0.901789</td>\n",
       "      <td>0.062338</td>\n",
       "      <td>0.090121</td>\n",
       "      <td>0.231852</td>\n",
       "      <td>0.077273</td>\n",
       "      <td>0</td>\n",
       "    </tr>\n",
       "    <tr>\n",
       "      <th>7</th>\n",
       "      <td>DGRC_DEL_516</td>\n",
       "      <td>0.000598</td>\n",
       "      <td>0.000957</td>\n",
       "      <td>L1ME1</td>\n",
       "      <td>L1</td>\n",
       "      <td>Rep_LINE</td>\n",
       "      <td>LTR14B</td>\n",
       "      <td>ERVK</td>\n",
       "      <td>Rep_LTR</td>\n",
       "      <td>0.0000</td>\n",
       "      <td>0.0</td>\n",
       "      <td>0.578794</td>\n",
       "      <td>0.367014</td>\n",
       "      <td>0.000398</td>\n",
       "      <td>0.067159</td>\n",
       "      <td>0.000000</td>\n",
       "      <td>0.000000</td>\n",
       "      <td>False</td>\n",
       "      <td>1.454584</td>\n",
       "      <td>1.988241</td>\n",
       "      <td>0.329710</td>\n",
       "      <td>0.421670</td>\n",
       "      <td>0.061117</td>\n",
       "      <td>0.018873</td>\n",
       "      <td>0.765710</td>\n",
       "      <td>0.765710</td>\n",
       "      <td>0.000000</td>\n",
       "      <td>0.000000</td>\n",
       "      <td>0.000000</td>\n",
       "      <td>0.000000</td>\n",
       "      <td>0.946181</td>\n",
       "      <td>0.946181</td>\n",
       "      <td>0.027652</td>\n",
       "      <td>0.215115</td>\n",
       "      <td>0.187954</td>\n",
       "      <td>0.230456</td>\n",
       "      <td>0</td>\n",
       "    </tr>\n",
       "    <tr>\n",
       "      <th>...</th>\n",
       "      <td>...</td>\n",
       "      <td>...</td>\n",
       "      <td>...</td>\n",
       "      <td>...</td>\n",
       "      <td>...</td>\n",
       "      <td>...</td>\n",
       "      <td>...</td>\n",
       "      <td>...</td>\n",
       "      <td>...</td>\n",
       "      <td>...</td>\n",
       "      <td>...</td>\n",
       "      <td>...</td>\n",
       "      <td>...</td>\n",
       "      <td>...</td>\n",
       "      <td>...</td>\n",
       "      <td>...</td>\n",
       "      <td>...</td>\n",
       "      <td>...</td>\n",
       "      <td>...</td>\n",
       "      <td>...</td>\n",
       "      <td>...</td>\n",
       "      <td>...</td>\n",
       "      <td>...</td>\n",
       "      <td>...</td>\n",
       "      <td>...</td>\n",
       "      <td>...</td>\n",
       "      <td>...</td>\n",
       "      <td>...</td>\n",
       "      <td>...</td>\n",
       "      <td>...</td>\n",
       "      <td>...</td>\n",
       "      <td>...</td>\n",
       "      <td>...</td>\n",
       "      <td>...</td>\n",
       "      <td>...</td>\n",
       "      <td>...</td>\n",
       "      <td>...</td>\n",
       "    </tr>\n",
       "    <tr>\n",
       "      <th>19989</th>\n",
       "      <td>DGRC_DEL_1190</td>\n",
       "      <td>0.001779</td>\n",
       "      <td>0.001195</td>\n",
       "      <td>Rep_Simple_repeat</td>\n",
       "      <td>(TGTGA)n</td>\n",
       "      <td>Simple_repeat</td>\n",
       "      <td>(GCCTCT)n</td>\n",
       "      <td>Simple_repeat</td>\n",
       "      <td>Rep_Simple_repeat</td>\n",
       "      <td>0.0029</td>\n",
       "      <td>0.0</td>\n",
       "      <td>0.000000</td>\n",
       "      <td>0.011248</td>\n",
       "      <td>0.000000</td>\n",
       "      <td>0.000000</td>\n",
       "      <td>0.999513</td>\n",
       "      <td>0.429608</td>\n",
       "      <td>True</td>\n",
       "      <td>1.943241</td>\n",
       "      <td>0.488757</td>\n",
       "      <td>0.618248</td>\n",
       "      <td>0.589855</td>\n",
       "      <td>0.111111</td>\n",
       "      <td>0.020492</td>\n",
       "      <td>0.000000</td>\n",
       "      <td>0.000000</td>\n",
       "      <td>1.000000</td>\n",
       "      <td>0.000000</td>\n",
       "      <td>1.000000</td>\n",
       "      <td>0.000000</td>\n",
       "      <td>0.913996</td>\n",
       "      <td>0.913996</td>\n",
       "      <td>0.004547</td>\n",
       "      <td>0.009755</td>\n",
       "      <td>0.088022</td>\n",
       "      <td>0.205471</td>\n",
       "      <td>0</td>\n",
       "    </tr>\n",
       "    <tr>\n",
       "      <th>19991</th>\n",
       "      <td>DGRC_DEL_1092</td>\n",
       "      <td>0.003078</td>\n",
       "      <td>0.000167</td>\n",
       "      <td>MER4A1</td>\n",
       "      <td>ERV1</td>\n",
       "      <td>Rep_LTR</td>\n",
       "      <td>MIRb</td>\n",
       "      <td>MIR</td>\n",
       "      <td>Rep_SINE</td>\n",
       "      <td>0.0000</td>\n",
       "      <td>0.0</td>\n",
       "      <td>0.321102</td>\n",
       "      <td>0.264935</td>\n",
       "      <td>0.047828</td>\n",
       "      <td>290.956983</td>\n",
       "      <td>0.000000</td>\n",
       "      <td>0.000000</td>\n",
       "      <td>False</td>\n",
       "      <td>1.772647</td>\n",
       "      <td>0.208145</td>\n",
       "      <td>0.523963</td>\n",
       "      <td>0.589744</td>\n",
       "      <td>0.025186</td>\n",
       "      <td>0.007759</td>\n",
       "      <td>0.780240</td>\n",
       "      <td>0.780240</td>\n",
       "      <td>0.000000</td>\n",
       "      <td>1.000000</td>\n",
       "      <td>0.000000</td>\n",
       "      <td>1.000000</td>\n",
       "      <td>0.913646</td>\n",
       "      <td>0.913646</td>\n",
       "      <td>0.000000</td>\n",
       "      <td>0.003060</td>\n",
       "      <td>0.024148</td>\n",
       "      <td>0.210723</td>\n",
       "      <td>0</td>\n",
       "    </tr>\n",
       "    <tr>\n",
       "      <th>19992</th>\n",
       "      <td>DGRC_DEL_1434</td>\n",
       "      <td>0.001695</td>\n",
       "      <td>0.002702</td>\n",
       "      <td>AluSg</td>\n",
       "      <td>Alu</td>\n",
       "      <td>Rep_SINE</td>\n",
       "      <td>MER1A</td>\n",
       "      <td>hAT-Charlie</td>\n",
       "      <td>Rep_DNA</td>\n",
       "      <td>0.0000</td>\n",
       "      <td>0.0</td>\n",
       "      <td>0.110742</td>\n",
       "      <td>0.260695</td>\n",
       "      <td>0.160313</td>\n",
       "      <td>290.956983</td>\n",
       "      <td>0.000000</td>\n",
       "      <td>0.000000</td>\n",
       "      <td>False</td>\n",
       "      <td>1.775036</td>\n",
       "      <td>0.110595</td>\n",
       "      <td>0.442656</td>\n",
       "      <td>0.535629</td>\n",
       "      <td>0.003310</td>\n",
       "      <td>0.023212</td>\n",
       "      <td>0.780240</td>\n",
       "      <td>0.780240</td>\n",
       "      <td>0.178261</td>\n",
       "      <td>0.821739</td>\n",
       "      <td>0.088447</td>\n",
       "      <td>0.911553</td>\n",
       "      <td>0.941108</td>\n",
       "      <td>0.941108</td>\n",
       "      <td>0.013881</td>\n",
       "      <td>0.000000</td>\n",
       "      <td>0.142151</td>\n",
       "      <td>0.111859</td>\n",
       "      <td>0</td>\n",
       "    </tr>\n",
       "    <tr>\n",
       "      <th>19993</th>\n",
       "      <td>DGRC_DEL_1291</td>\n",
       "      <td>0.003563</td>\n",
       "      <td>0.001648</td>\n",
       "      <td>MER5A1</td>\n",
       "      <td>hAT-Charlie</td>\n",
       "      <td>Rep_DNA</td>\n",
       "      <td>MER5A1</td>\n",
       "      <td>hAT-Charlie</td>\n",
       "      <td>Rep_DNA</td>\n",
       "      <td>0.0000</td>\n",
       "      <td>0.0</td>\n",
       "      <td>0.056082</td>\n",
       "      <td>0.058127</td>\n",
       "      <td>0.000000</td>\n",
       "      <td>0.000000</td>\n",
       "      <td>1.000000</td>\n",
       "      <td>1.000000</td>\n",
       "      <td>False</td>\n",
       "      <td>0.340129</td>\n",
       "      <td>2.164332</td>\n",
       "      <td>0.350637</td>\n",
       "      <td>0.363732</td>\n",
       "      <td>0.000362</td>\n",
       "      <td>0.000277</td>\n",
       "      <td>0.092489</td>\n",
       "      <td>0.092489</td>\n",
       "      <td>0.048555</td>\n",
       "      <td>0.951445</td>\n",
       "      <td>0.052604</td>\n",
       "      <td>0.947396</td>\n",
       "      <td>0.919415</td>\n",
       "      <td>0.919415</td>\n",
       "      <td>0.027908</td>\n",
       "      <td>0.144720</td>\n",
       "      <td>0.008674</td>\n",
       "      <td>0.122482</td>\n",
       "      <td>0</td>\n",
       "    </tr>\n",
       "    <tr>\n",
       "      <th>19994</th>\n",
       "      <td>DGRC_DEL_239</td>\n",
       "      <td>0.002168</td>\n",
       "      <td>0.001203</td>\n",
       "      <td>L1MDa</td>\n",
       "      <td>L1</td>\n",
       "      <td>Rep_LINE</td>\n",
       "      <td>L1ME1</td>\n",
       "      <td>L1</td>\n",
       "      <td>Rep_LINE</td>\n",
       "      <td>0.0000</td>\n",
       "      <td>0.0</td>\n",
       "      <td>0.994406</td>\n",
       "      <td>0.737658</td>\n",
       "      <td>0.004606</td>\n",
       "      <td>0.003754</td>\n",
       "      <td>0.000000</td>\n",
       "      <td>0.000000</td>\n",
       "      <td>False</td>\n",
       "      <td>1.430581</td>\n",
       "      <td>1.525522</td>\n",
       "      <td>0.381019</td>\n",
       "      <td>0.380935</td>\n",
       "      <td>0.110889</td>\n",
       "      <td>0.055220</td>\n",
       "      <td>0.856848</td>\n",
       "      <td>0.856848</td>\n",
       "      <td>0.000000</td>\n",
       "      <td>0.000000</td>\n",
       "      <td>0.054054</td>\n",
       "      <td>0.000000</td>\n",
       "      <td>0.906433</td>\n",
       "      <td>0.906433</td>\n",
       "      <td>0.008366</td>\n",
       "      <td>0.013961</td>\n",
       "      <td>0.127688</td>\n",
       "      <td>0.237693</td>\n",
       "      <td>0</td>\n",
       "    </tr>\n",
       "  </tbody>\n",
       "</table>\n",
       "<p>3019 rows × 37 columns</p>\n",
       "</div>"
      ],
      "text/plain": [
       "              CNV_ID    A_size    B_size      A_region_name A_region_family  \\\n",
       "3      DGRC_DEL_1012  0.001620  0.000997              L1MCa              L1   \n",
       "4       DGRC_DEL_135  0.000372  0.000316              L1MB7              L1   \n",
       "5       DGRC_DEL_930  0.001610  0.001370              L1MA7              L1   \n",
       "6       DGRC_DEL_697  0.001373  0.001369              THE1D       ERVL-MaLR   \n",
       "7       DGRC_DEL_516  0.000598  0.000957              L1ME1              L1   \n",
       "...              ...       ...       ...                ...             ...   \n",
       "19989  DGRC_DEL_1190  0.001779  0.001195  Rep_Simple_repeat        (TGTGA)n   \n",
       "19991  DGRC_DEL_1092  0.003078  0.000167             MER4A1            ERV1   \n",
       "19992  DGRC_DEL_1434  0.001695  0.002702              AluSg             Alu   \n",
       "19993  DGRC_DEL_1291  0.003563  0.001648             MER5A1     hAT-Charlie   \n",
       "19994   DGRC_DEL_239  0.002168  0.001203              L1MDa              L1   \n",
       "\n",
       "      A_region_class B_region_name B_region_family     B_region_class  \\\n",
       "3           Rep_LINE         AluJb             Alu           Rep_SINE   \n",
       "4           Rep_LINE         L1MB7              L1           Rep_LINE   \n",
       "5           Rep_LINE     LTR49-int            ERV1            Rep_LTR   \n",
       "6            Rep_LTR          HAL1              L1           Rep_LINE   \n",
       "7           Rep_LINE        LTR14B            ERVK            Rep_LTR   \n",
       "...              ...           ...             ...                ...   \n",
       "19989  Simple_repeat     (GCCTCT)n   Simple_repeat  Rep_Simple_repeat   \n",
       "19991        Rep_LTR          MIRb             MIR           Rep_SINE   \n",
       "19992       Rep_SINE         MER1A     hAT-Charlie            Rep_DNA   \n",
       "19993        Rep_DNA        MER5A1     hAT-Charlie            Rep_DNA   \n",
       "19994       Rep_LINE         L1ME1              L1           Rep_LINE   \n",
       "\n",
       "       A_repitiveRegion_dist  B_repitiveRegion_dist  A_cov_repRegion  \\\n",
       "3                     0.0000                    0.0         0.911694   \n",
       "4                     0.0000                    0.0         0.574766   \n",
       "5                     0.0000                    0.0         0.828487   \n",
       "6                     0.0000                    0.0         0.374289   \n",
       "7                     0.0000                    0.0         0.578794   \n",
       "...                      ...                    ...              ...   \n",
       "19989                 0.0029                    0.0         0.000000   \n",
       "19991                 0.0000                    0.0         0.321102   \n",
       "19992                 0.0000                    0.0         0.110742   \n",
       "19993                 0.0000                    0.0         0.056082   \n",
       "19994                 0.0000                    0.0         0.994406   \n",
       "\n",
       "       B_cov_repRegion  A_SegDup_dist  B_SegDup_dist  A_cov_segDup  \\\n",
       "3             0.563723       0.231521       0.175188      0.000000   \n",
       "4             0.998628       0.171148       0.170375      0.000000   \n",
       "5             0.858183       0.430496       0.412131      0.000000   \n",
       "6             0.851172       0.535198       0.358772      0.000000   \n",
       "7             0.367014       0.000398       0.067159      0.000000   \n",
       "...                ...            ...            ...           ...   \n",
       "19989         0.011248       0.000000       0.000000      0.999513   \n",
       "19991         0.264935       0.047828     290.956983      0.000000   \n",
       "19992         0.260695       0.160313     290.956983      0.000000   \n",
       "19993         0.058127       0.000000       0.000000      1.000000   \n",
       "19994         0.737658       0.004606       0.003754      0.000000   \n",
       "\n",
       "       B_cov_segDup  sD_pair  dist_Centromere  dist_Telomere  GC_perc_A  \\\n",
       "3          0.000000    False         1.984803       1.433342   0.426738   \n",
       "4          0.000000    False         1.620705       1.913421   0.367442   \n",
       "5          0.000000    False         1.236011       2.027199   0.383065   \n",
       "6          0.000000    False         1.022754       2.053611   0.449211   \n",
       "7          0.000000    False         1.454584       1.988241   0.329710   \n",
       "...             ...      ...              ...            ...        ...   \n",
       "19989      0.429608     True         1.943241       0.488757   0.618248   \n",
       "19991      0.000000    False         1.772647       0.208145   0.523963   \n",
       "19992      0.000000    False         1.775036       0.110595   0.442656   \n",
       "19993      1.000000    False         0.340129       2.164332   0.350637   \n",
       "19994      0.000000    False         1.430581       1.525522   0.381019   \n",
       "\n",
       "       GC_perc_B    Dust_A    Dust_B  A_decodeAvg  B_decodeAvg  A_cov_Exons  \\\n",
       "3       0.448696  0.094375  0.037602     0.896887     0.896887     0.000000   \n",
       "4       0.317007  0.036770  0.110807     1.815430     1.815430     0.000000   \n",
       "5       0.331122  0.077418  0.084517     0.518749     0.518749     0.000000   \n",
       "6       0.403165  0.026068  0.080508     1.660020     1.660020     0.000000   \n",
       "7       0.421670  0.061117  0.018873     0.765710     0.765710     0.000000   \n",
       "...          ...       ...       ...          ...          ...          ...   \n",
       "19989   0.589855  0.111111  0.020492     0.000000     0.000000     1.000000   \n",
       "19991   0.589744  0.025186  0.007759     0.780240     0.780240     0.000000   \n",
       "19992   0.535629  0.003310  0.023212     0.780240     0.780240     0.178261   \n",
       "19993   0.363732  0.000362  0.000277     0.092489     0.092489     0.048555   \n",
       "19994   0.380935  0.110889  0.055220     0.856848     0.856848     0.000000   \n",
       "\n",
       "       A_cov_Introns  B_cov_Exons  B_cov_Introns  A_Lamina_score  \\\n",
       "3           0.000000     0.000000       0.000000        0.899469   \n",
       "4           0.000000     0.000000       0.000000        0.925017   \n",
       "5           0.000000     0.000000       0.000000        0.913537   \n",
       "6           0.000000     0.000000       0.000000        0.901789   \n",
       "7           0.000000     0.000000       0.000000        0.946181   \n",
       "...              ...          ...            ...             ...   \n",
       "19989       0.000000     1.000000       0.000000        0.913996   \n",
       "19991       1.000000     0.000000       1.000000        0.913646   \n",
       "19992       0.821739     0.088447       0.911553        0.941108   \n",
       "19993       0.951445     0.052604       0.947396        0.919415   \n",
       "19994       0.000000     0.054054       0.000000        0.906433   \n",
       "\n",
       "       B_Lamina_score  A_CpGi_dist  B_CpGi_dist  A_TAD_dist_Log  \\\n",
       "3            0.892851     0.007365     0.008736        0.037238   \n",
       "4            0.925017     0.205131     0.268176        0.239282   \n",
       "5            0.913537     0.468814     0.203230        0.432882   \n",
       "6            0.901789     0.062338     0.090121        0.231852   \n",
       "7            0.946181     0.027652     0.215115        0.187954   \n",
       "...               ...          ...          ...             ...   \n",
       "19989        0.913996     0.004547     0.009755        0.088022   \n",
       "19991        0.913646     0.000000     0.003060        0.024148   \n",
       "19992        0.941108     0.013881     0.000000        0.142151   \n",
       "19993        0.919415     0.027908     0.144720        0.008674   \n",
       "19994        0.906433     0.008366     0.013961        0.127688   \n",
       "\n",
       "       B_TAD_dist_Log  target  \n",
       "3            0.126782       0  \n",
       "4            0.196997       0  \n",
       "5            0.515338       0  \n",
       "6            0.077273       0  \n",
       "7            0.230456       0  \n",
       "...               ...     ...  \n",
       "19989        0.205471       0  \n",
       "19991        0.210723       0  \n",
       "19992        0.111859       0  \n",
       "19993        0.122482       0  \n",
       "19994        0.237693       0  \n",
       "\n",
       "[3019 rows x 37 columns]"
      ]
     },
     "execution_count": 134,
     "metadata": {},
     "output_type": "execute_result"
    }
   ],
   "source": [
    "df_dels"
   ]
  },
  {
   "cell_type": "markdown",
   "metadata": {},
   "source": [
    "## Check for outliers:"
   ]
  },
  {
   "cell_type": "code",
   "execution_count": null,
   "metadata": {},
   "outputs": [],
   "source": []
  },
  {
   "cell_type": "markdown",
   "metadata": {},
   "source": [
    "def look_for_outliers(dataframe):\n",
    "    \"\"\"\n",
    "    \"\"\"\n",
    "    target = dataframe.columns[-1]\n",
    "    #display(dataframe[target])\n",
    "    cols = dataframe.drop([\"CNV_ID\"], axis=1).columns\n",
    "    for var in cols:\n",
    "        data = pd.concat([dataframe[target], dataframe[var]], axis=1)\n",
    "        data.plot.scatter(x=var, y=target, ylim=(-1,3), xlim=(dataframe[var].min(),dataframe[var].max()),figsize=(26, 4))\n",
    "\n",
    "    "
   ]
  },
  {
   "cell_type": "markdown",
   "metadata": {},
   "source": [
    "look_for_outliers(df_dels)"
   ]
  },
  {
   "cell_type": "code",
   "execution_count": 135,
   "metadata": {},
   "outputs": [],
   "source": [
    "#look_for_outliers(df_dups)"
   ]
  },
  {
   "cell_type": "markdown",
   "metadata": {},
   "source": [
    "## PCA:"
   ]
  },
  {
   "cell_type": "code",
   "execution_count": 166,
   "metadata": {},
   "outputs": [
    {
     "data": {
      "text/html": [
       "<div>\n",
       "<style scoped>\n",
       "    .dataframe tbody tr th:only-of-type {\n",
       "        vertical-align: middle;\n",
       "    }\n",
       "\n",
       "    .dataframe tbody tr th {\n",
       "        vertical-align: top;\n",
       "    }\n",
       "\n",
       "    .dataframe thead th {\n",
       "        text-align: right;\n",
       "    }\n",
       "</style>\n",
       "<table border=\"1\" class=\"dataframe\">\n",
       "  <thead>\n",
       "    <tr style=\"text-align: right;\">\n",
       "      <th></th>\n",
       "      <th>CNV_ID</th>\n",
       "      <th>A_size</th>\n",
       "      <th>B_size</th>\n",
       "      <th>A_region_name</th>\n",
       "      <th>A_region_family</th>\n",
       "      <th>A_region_class</th>\n",
       "      <th>B_region_name</th>\n",
       "      <th>B_region_family</th>\n",
       "      <th>B_region_class</th>\n",
       "      <th>A_repitiveRegion_dist</th>\n",
       "      <th>B_repitiveRegion_dist</th>\n",
       "      <th>A_cov_repRegion</th>\n",
       "      <th>B_cov_repRegion</th>\n",
       "      <th>A_SegDup_dist</th>\n",
       "      <th>B_SegDup_dist</th>\n",
       "      <th>A_cov_segDup</th>\n",
       "      <th>B_cov_segDup</th>\n",
       "      <th>sD_pair</th>\n",
       "      <th>dist_Centromere</th>\n",
       "      <th>dist_Telomere</th>\n",
       "      <th>GC_perc_A</th>\n",
       "      <th>GC_perc_B</th>\n",
       "      <th>Dust_A</th>\n",
       "      <th>Dust_B</th>\n",
       "      <th>A_decodeAvg</th>\n",
       "      <th>B_decodeAvg</th>\n",
       "      <th>A_cov_Exons</th>\n",
       "      <th>A_cov_Introns</th>\n",
       "      <th>B_cov_Exons</th>\n",
       "      <th>B_cov_Introns</th>\n",
       "      <th>A_Lamina_score</th>\n",
       "      <th>B_Lamina_score</th>\n",
       "      <th>A_CpGi_dist</th>\n",
       "      <th>B_CpGi_dist</th>\n",
       "      <th>A_TAD_dist_Log</th>\n",
       "      <th>B_TAD_dist_Log</th>\n",
       "      <th>target</th>\n",
       "    </tr>\n",
       "  </thead>\n",
       "  <tbody>\n",
       "    <tr>\n",
       "      <th>3</th>\n",
       "      <td>DGRC_DEL_1012</td>\n",
       "      <td>0.001620</td>\n",
       "      <td>0.000997</td>\n",
       "      <td>269.0</td>\n",
       "      <td>220.0</td>\n",
       "      <td>714.0</td>\n",
       "      <td>101.0</td>\n",
       "      <td>100.0</td>\n",
       "      <td>721.0</td>\n",
       "      <td>0.0000</td>\n",
       "      <td>0.0</td>\n",
       "      <td>0.911694</td>\n",
       "      <td>0.563723</td>\n",
       "      <td>0.231521</td>\n",
       "      <td>0.175188</td>\n",
       "      <td>0.000000</td>\n",
       "      <td>0.000000</td>\n",
       "      <td>0</td>\n",
       "      <td>1.984803</td>\n",
       "      <td>1.433342</td>\n",
       "      <td>0.426738</td>\n",
       "      <td>0.448696</td>\n",
       "      <td>0.094375</td>\n",
       "      <td>0.037602</td>\n",
       "      <td>0.896887</td>\n",
       "      <td>0.896887</td>\n",
       "      <td>0.000000</td>\n",
       "      <td>0.000000</td>\n",
       "      <td>0.000000</td>\n",
       "      <td>0.000000</td>\n",
       "      <td>0.899469</td>\n",
       "      <td>0.892851</td>\n",
       "      <td>0.007365</td>\n",
       "      <td>0.008736</td>\n",
       "      <td>0.037238</td>\n",
       "      <td>0.126782</td>\n",
       "      <td>0</td>\n",
       "    </tr>\n",
       "    <tr>\n",
       "      <th>4</th>\n",
       "      <td>DGRC_DEL_135</td>\n",
       "      <td>0.000372</td>\n",
       "      <td>0.000316</td>\n",
       "      <td>259.0</td>\n",
       "      <td>220.0</td>\n",
       "      <td>714.0</td>\n",
       "      <td>259.0</td>\n",
       "      <td>220.0</td>\n",
       "      <td>714.0</td>\n",
       "      <td>0.0000</td>\n",
       "      <td>0.0</td>\n",
       "      <td>0.574766</td>\n",
       "      <td>0.998628</td>\n",
       "      <td>0.171148</td>\n",
       "      <td>0.170375</td>\n",
       "      <td>0.000000</td>\n",
       "      <td>0.000000</td>\n",
       "      <td>0</td>\n",
       "      <td>1.620705</td>\n",
       "      <td>1.913421</td>\n",
       "      <td>0.367442</td>\n",
       "      <td>0.317007</td>\n",
       "      <td>0.036770</td>\n",
       "      <td>0.110807</td>\n",
       "      <td>1.815430</td>\n",
       "      <td>1.815430</td>\n",
       "      <td>0.000000</td>\n",
       "      <td>0.000000</td>\n",
       "      <td>0.000000</td>\n",
       "      <td>0.000000</td>\n",
       "      <td>0.925017</td>\n",
       "      <td>0.925017</td>\n",
       "      <td>0.205131</td>\n",
       "      <td>0.268176</td>\n",
       "      <td>0.239282</td>\n",
       "      <td>0.196997</td>\n",
       "      <td>0</td>\n",
       "    </tr>\n",
       "    <tr>\n",
       "      <th>5</th>\n",
       "      <td>DGRC_DEL_930</td>\n",
       "      <td>0.001610</td>\n",
       "      <td>0.001370</td>\n",
       "      <td>251.0</td>\n",
       "      <td>220.0</td>\n",
       "      <td>714.0</td>\n",
       "      <td>434.0</td>\n",
       "      <td>168.0</td>\n",
       "      <td>715.0</td>\n",
       "      <td>0.0000</td>\n",
       "      <td>0.0</td>\n",
       "      <td>0.828487</td>\n",
       "      <td>0.858183</td>\n",
       "      <td>0.430496</td>\n",
       "      <td>0.412131</td>\n",
       "      <td>0.000000</td>\n",
       "      <td>0.000000</td>\n",
       "      <td>0</td>\n",
       "      <td>1.236011</td>\n",
       "      <td>2.027199</td>\n",
       "      <td>0.383065</td>\n",
       "      <td>0.331122</td>\n",
       "      <td>0.077418</td>\n",
       "      <td>0.084517</td>\n",
       "      <td>0.518749</td>\n",
       "      <td>0.518749</td>\n",
       "      <td>0.000000</td>\n",
       "      <td>0.000000</td>\n",
       "      <td>0.000000</td>\n",
       "      <td>0.000000</td>\n",
       "      <td>0.913537</td>\n",
       "      <td>0.913537</td>\n",
       "      <td>0.468814</td>\n",
       "      <td>0.203230</td>\n",
       "      <td>0.432882</td>\n",
       "      <td>0.515338</td>\n",
       "      <td>0</td>\n",
       "    </tr>\n",
       "    <tr>\n",
       "      <th>6</th>\n",
       "      <td>DGRC_DEL_697</td>\n",
       "      <td>0.001373</td>\n",
       "      <td>0.001369</td>\n",
       "      <td>748.0</td>\n",
       "      <td>174.0</td>\n",
       "      <td>715.0</td>\n",
       "      <td>186.0</td>\n",
       "      <td>220.0</td>\n",
       "      <td>714.0</td>\n",
       "      <td>0.0000</td>\n",
       "      <td>0.0</td>\n",
       "      <td>0.374289</td>\n",
       "      <td>0.851172</td>\n",
       "      <td>0.535198</td>\n",
       "      <td>0.358772</td>\n",
       "      <td>0.000000</td>\n",
       "      <td>0.000000</td>\n",
       "      <td>0</td>\n",
       "      <td>1.022754</td>\n",
       "      <td>2.053611</td>\n",
       "      <td>0.449211</td>\n",
       "      <td>0.403165</td>\n",
       "      <td>0.026068</td>\n",
       "      <td>0.080508</td>\n",
       "      <td>1.660020</td>\n",
       "      <td>1.660020</td>\n",
       "      <td>0.000000</td>\n",
       "      <td>0.000000</td>\n",
       "      <td>0.000000</td>\n",
       "      <td>0.000000</td>\n",
       "      <td>0.901789</td>\n",
       "      <td>0.901789</td>\n",
       "      <td>0.062338</td>\n",
       "      <td>0.090121</td>\n",
       "      <td>0.231852</td>\n",
       "      <td>0.077273</td>\n",
       "      <td>0</td>\n",
       "    </tr>\n",
       "    <tr>\n",
       "      <th>7</th>\n",
       "      <td>DGRC_DEL_516</td>\n",
       "      <td>0.000598</td>\n",
       "      <td>0.000957</td>\n",
       "      <td>278.0</td>\n",
       "      <td>220.0</td>\n",
       "      <td>714.0</td>\n",
       "      <td>366.0</td>\n",
       "      <td>170.0</td>\n",
       "      <td>715.0</td>\n",
       "      <td>0.0000</td>\n",
       "      <td>0.0</td>\n",
       "      <td>0.578794</td>\n",
       "      <td>0.367014</td>\n",
       "      <td>0.000398</td>\n",
       "      <td>0.067159</td>\n",
       "      <td>0.000000</td>\n",
       "      <td>0.000000</td>\n",
       "      <td>0</td>\n",
       "      <td>1.454584</td>\n",
       "      <td>1.988241</td>\n",
       "      <td>0.329710</td>\n",
       "      <td>0.421670</td>\n",
       "      <td>0.061117</td>\n",
       "      <td>0.018873</td>\n",
       "      <td>0.765710</td>\n",
       "      <td>0.765710</td>\n",
       "      <td>0.000000</td>\n",
       "      <td>0.000000</td>\n",
       "      <td>0.000000</td>\n",
       "      <td>0.000000</td>\n",
       "      <td>0.946181</td>\n",
       "      <td>0.946181</td>\n",
       "      <td>0.027652</td>\n",
       "      <td>0.215115</td>\n",
       "      <td>0.187954</td>\n",
       "      <td>0.230456</td>\n",
       "      <td>0</td>\n",
       "    </tr>\n",
       "    <tr>\n",
       "      <th>...</th>\n",
       "      <td>...</td>\n",
       "      <td>...</td>\n",
       "      <td>...</td>\n",
       "      <td>...</td>\n",
       "      <td>...</td>\n",
       "      <td>...</td>\n",
       "      <td>...</td>\n",
       "      <td>...</td>\n",
       "      <td>...</td>\n",
       "      <td>...</td>\n",
       "      <td>...</td>\n",
       "      <td>...</td>\n",
       "      <td>...</td>\n",
       "      <td>...</td>\n",
       "      <td>...</td>\n",
       "      <td>...</td>\n",
       "      <td>...</td>\n",
       "      <td>...</td>\n",
       "      <td>...</td>\n",
       "      <td>...</td>\n",
       "      <td>...</td>\n",
       "      <td>...</td>\n",
       "      <td>...</td>\n",
       "      <td>...</td>\n",
       "      <td>...</td>\n",
       "      <td>...</td>\n",
       "      <td>...</td>\n",
       "      <td>...</td>\n",
       "      <td>...</td>\n",
       "      <td>...</td>\n",
       "      <td>...</td>\n",
       "      <td>...</td>\n",
       "      <td>...</td>\n",
       "      <td>...</td>\n",
       "      <td>...</td>\n",
       "      <td>...</td>\n",
       "      <td>...</td>\n",
       "    </tr>\n",
       "    <tr>\n",
       "      <th>19989</th>\n",
       "      <td>DGRC_DEL_1190</td>\n",
       "      <td>0.001779</td>\n",
       "      <td>0.001195</td>\n",
       "      <td>723.0</td>\n",
       "      <td>86.0</td>\n",
       "      <td>741.0</td>\n",
       "      <td>61.0</td>\n",
       "      <td>741.0</td>\n",
       "      <td>723.0</td>\n",
       "      <td>0.0029</td>\n",
       "      <td>0.0</td>\n",
       "      <td>0.000000</td>\n",
       "      <td>0.011248</td>\n",
       "      <td>0.000000</td>\n",
       "      <td>0.000000</td>\n",
       "      <td>0.999513</td>\n",
       "      <td>0.429608</td>\n",
       "      <td>1</td>\n",
       "      <td>1.943241</td>\n",
       "      <td>0.488757</td>\n",
       "      <td>0.618248</td>\n",
       "      <td>0.589855</td>\n",
       "      <td>0.111111</td>\n",
       "      <td>0.020492</td>\n",
       "      <td>0.000000</td>\n",
       "      <td>0.000000</td>\n",
       "      <td>1.000000</td>\n",
       "      <td>0.000000</td>\n",
       "      <td>1.000000</td>\n",
       "      <td>0.000000</td>\n",
       "      <td>0.913996</td>\n",
       "      <td>0.913996</td>\n",
       "      <td>0.004547</td>\n",
       "      <td>0.009755</td>\n",
       "      <td>0.088022</td>\n",
       "      <td>0.205471</td>\n",
       "      <td>0</td>\n",
       "    </tr>\n",
       "    <tr>\n",
       "      <th>19991</th>\n",
       "      <td>DGRC_DEL_1092</td>\n",
       "      <td>0.003078</td>\n",
       "      <td>0.000167</td>\n",
       "      <td>544.0</td>\n",
       "      <td>168.0</td>\n",
       "      <td>715.0</td>\n",
       "      <td>621.0</td>\n",
       "      <td>618.0</td>\n",
       "      <td>721.0</td>\n",
       "      <td>0.0000</td>\n",
       "      <td>0.0</td>\n",
       "      <td>0.321102</td>\n",
       "      <td>0.264935</td>\n",
       "      <td>0.047828</td>\n",
       "      <td>290.956983</td>\n",
       "      <td>0.000000</td>\n",
       "      <td>0.000000</td>\n",
       "      <td>0</td>\n",
       "      <td>1.772647</td>\n",
       "      <td>0.208145</td>\n",
       "      <td>0.523963</td>\n",
       "      <td>0.589744</td>\n",
       "      <td>0.025186</td>\n",
       "      <td>0.007759</td>\n",
       "      <td>0.780240</td>\n",
       "      <td>0.780240</td>\n",
       "      <td>0.000000</td>\n",
       "      <td>1.000000</td>\n",
       "      <td>0.000000</td>\n",
       "      <td>1.000000</td>\n",
       "      <td>0.913646</td>\n",
       "      <td>0.913646</td>\n",
       "      <td>0.000000</td>\n",
       "      <td>0.003060</td>\n",
       "      <td>0.024148</td>\n",
       "      <td>0.210723</td>\n",
       "      <td>0</td>\n",
       "    </tr>\n",
       "    <tr>\n",
       "      <th>19992</th>\n",
       "      <td>DGRC_DEL_1434</td>\n",
       "      <td>0.001695</td>\n",
       "      <td>0.002702</td>\n",
       "      <td>108.0</td>\n",
       "      <td>100.0</td>\n",
       "      <td>721.0</td>\n",
       "      <td>502.0</td>\n",
       "      <td>787.0</td>\n",
       "      <td>712.0</td>\n",
       "      <td>0.0000</td>\n",
       "      <td>0.0</td>\n",
       "      <td>0.110742</td>\n",
       "      <td>0.260695</td>\n",
       "      <td>0.160313</td>\n",
       "      <td>290.956983</td>\n",
       "      <td>0.000000</td>\n",
       "      <td>0.000000</td>\n",
       "      <td>0</td>\n",
       "      <td>1.775036</td>\n",
       "      <td>0.110595</td>\n",
       "      <td>0.442656</td>\n",
       "      <td>0.535629</td>\n",
       "      <td>0.003310</td>\n",
       "      <td>0.023212</td>\n",
       "      <td>0.780240</td>\n",
       "      <td>0.780240</td>\n",
       "      <td>0.178261</td>\n",
       "      <td>0.821739</td>\n",
       "      <td>0.088447</td>\n",
       "      <td>0.911553</td>\n",
       "      <td>0.941108</td>\n",
       "      <td>0.941108</td>\n",
       "      <td>0.013881</td>\n",
       "      <td>0.000000</td>\n",
       "      <td>0.142151</td>\n",
       "      <td>0.111859</td>\n",
       "      <td>0</td>\n",
       "    </tr>\n",
       "    <tr>\n",
       "      <th>19993</th>\n",
       "      <td>DGRC_DEL_1291</td>\n",
       "      <td>0.003563</td>\n",
       "      <td>0.001648</td>\n",
       "      <td>573.0</td>\n",
       "      <td>787.0</td>\n",
       "      <td>712.0</td>\n",
       "      <td>573.0</td>\n",
       "      <td>787.0</td>\n",
       "      <td>712.0</td>\n",
       "      <td>0.0000</td>\n",
       "      <td>0.0</td>\n",
       "      <td>0.056082</td>\n",
       "      <td>0.058127</td>\n",
       "      <td>0.000000</td>\n",
       "      <td>0.000000</td>\n",
       "      <td>1.000000</td>\n",
       "      <td>1.000000</td>\n",
       "      <td>0</td>\n",
       "      <td>0.340129</td>\n",
       "      <td>2.164332</td>\n",
       "      <td>0.350637</td>\n",
       "      <td>0.363732</td>\n",
       "      <td>0.000362</td>\n",
       "      <td>0.000277</td>\n",
       "      <td>0.092489</td>\n",
       "      <td>0.092489</td>\n",
       "      <td>0.048555</td>\n",
       "      <td>0.951445</td>\n",
       "      <td>0.052604</td>\n",
       "      <td>0.947396</td>\n",
       "      <td>0.919415</td>\n",
       "      <td>0.919415</td>\n",
       "      <td>0.027908</td>\n",
       "      <td>0.144720</td>\n",
       "      <td>0.008674</td>\n",
       "      <td>0.122482</td>\n",
       "      <td>0</td>\n",
       "    </tr>\n",
       "    <tr>\n",
       "      <th>19994</th>\n",
       "      <td>DGRC_DEL_239</td>\n",
       "      <td>0.002168</td>\n",
       "      <td>0.001203</td>\n",
       "      <td>276.0</td>\n",
       "      <td>220.0</td>\n",
       "      <td>714.0</td>\n",
       "      <td>278.0</td>\n",
       "      <td>220.0</td>\n",
       "      <td>714.0</td>\n",
       "      <td>0.0000</td>\n",
       "      <td>0.0</td>\n",
       "      <td>0.994406</td>\n",
       "      <td>0.737658</td>\n",
       "      <td>0.004606</td>\n",
       "      <td>0.003754</td>\n",
       "      <td>0.000000</td>\n",
       "      <td>0.000000</td>\n",
       "      <td>0</td>\n",
       "      <td>1.430581</td>\n",
       "      <td>1.525522</td>\n",
       "      <td>0.381019</td>\n",
       "      <td>0.380935</td>\n",
       "      <td>0.110889</td>\n",
       "      <td>0.055220</td>\n",
       "      <td>0.856848</td>\n",
       "      <td>0.856848</td>\n",
       "      <td>0.000000</td>\n",
       "      <td>0.000000</td>\n",
       "      <td>0.054054</td>\n",
       "      <td>0.000000</td>\n",
       "      <td>0.906433</td>\n",
       "      <td>0.906433</td>\n",
       "      <td>0.008366</td>\n",
       "      <td>0.013961</td>\n",
       "      <td>0.127688</td>\n",
       "      <td>0.237693</td>\n",
       "      <td>0</td>\n",
       "    </tr>\n",
       "  </tbody>\n",
       "</table>\n",
       "<p>3019 rows × 37 columns</p>\n",
       "</div>"
      ],
      "text/plain": [
       "              CNV_ID    A_size    B_size  A_region_name  A_region_family  \\\n",
       "3      DGRC_DEL_1012  0.001620  0.000997          269.0            220.0   \n",
       "4       DGRC_DEL_135  0.000372  0.000316          259.0            220.0   \n",
       "5       DGRC_DEL_930  0.001610  0.001370          251.0            220.0   \n",
       "6       DGRC_DEL_697  0.001373  0.001369          748.0            174.0   \n",
       "7       DGRC_DEL_516  0.000598  0.000957          278.0            220.0   \n",
       "...              ...       ...       ...            ...              ...   \n",
       "19989  DGRC_DEL_1190  0.001779  0.001195          723.0             86.0   \n",
       "19991  DGRC_DEL_1092  0.003078  0.000167          544.0            168.0   \n",
       "19992  DGRC_DEL_1434  0.001695  0.002702          108.0            100.0   \n",
       "19993  DGRC_DEL_1291  0.003563  0.001648          573.0            787.0   \n",
       "19994   DGRC_DEL_239  0.002168  0.001203          276.0            220.0   \n",
       "\n",
       "       A_region_class  B_region_name  B_region_family  B_region_class  \\\n",
       "3               714.0          101.0            100.0           721.0   \n",
       "4               714.0          259.0            220.0           714.0   \n",
       "5               714.0          434.0            168.0           715.0   \n",
       "6               715.0          186.0            220.0           714.0   \n",
       "7               714.0          366.0            170.0           715.0   \n",
       "...               ...            ...              ...             ...   \n",
       "19989           741.0           61.0            741.0           723.0   \n",
       "19991           715.0          621.0            618.0           721.0   \n",
       "19992           721.0          502.0            787.0           712.0   \n",
       "19993           712.0          573.0            787.0           712.0   \n",
       "19994           714.0          278.0            220.0           714.0   \n",
       "\n",
       "       A_repitiveRegion_dist  B_repitiveRegion_dist  A_cov_repRegion  \\\n",
       "3                     0.0000                    0.0         0.911694   \n",
       "4                     0.0000                    0.0         0.574766   \n",
       "5                     0.0000                    0.0         0.828487   \n",
       "6                     0.0000                    0.0         0.374289   \n",
       "7                     0.0000                    0.0         0.578794   \n",
       "...                      ...                    ...              ...   \n",
       "19989                 0.0029                    0.0         0.000000   \n",
       "19991                 0.0000                    0.0         0.321102   \n",
       "19992                 0.0000                    0.0         0.110742   \n",
       "19993                 0.0000                    0.0         0.056082   \n",
       "19994                 0.0000                    0.0         0.994406   \n",
       "\n",
       "       B_cov_repRegion  A_SegDup_dist  B_SegDup_dist  A_cov_segDup  \\\n",
       "3             0.563723       0.231521       0.175188      0.000000   \n",
       "4             0.998628       0.171148       0.170375      0.000000   \n",
       "5             0.858183       0.430496       0.412131      0.000000   \n",
       "6             0.851172       0.535198       0.358772      0.000000   \n",
       "7             0.367014       0.000398       0.067159      0.000000   \n",
       "...                ...            ...            ...           ...   \n",
       "19989         0.011248       0.000000       0.000000      0.999513   \n",
       "19991         0.264935       0.047828     290.956983      0.000000   \n",
       "19992         0.260695       0.160313     290.956983      0.000000   \n",
       "19993         0.058127       0.000000       0.000000      1.000000   \n",
       "19994         0.737658       0.004606       0.003754      0.000000   \n",
       "\n",
       "       B_cov_segDup  sD_pair  dist_Centromere  dist_Telomere  GC_perc_A  \\\n",
       "3          0.000000        0         1.984803       1.433342   0.426738   \n",
       "4          0.000000        0         1.620705       1.913421   0.367442   \n",
       "5          0.000000        0         1.236011       2.027199   0.383065   \n",
       "6          0.000000        0         1.022754       2.053611   0.449211   \n",
       "7          0.000000        0         1.454584       1.988241   0.329710   \n",
       "...             ...      ...              ...            ...        ...   \n",
       "19989      0.429608        1         1.943241       0.488757   0.618248   \n",
       "19991      0.000000        0         1.772647       0.208145   0.523963   \n",
       "19992      0.000000        0         1.775036       0.110595   0.442656   \n",
       "19993      1.000000        0         0.340129       2.164332   0.350637   \n",
       "19994      0.000000        0         1.430581       1.525522   0.381019   \n",
       "\n",
       "       GC_perc_B    Dust_A    Dust_B  A_decodeAvg  B_decodeAvg  A_cov_Exons  \\\n",
       "3       0.448696  0.094375  0.037602     0.896887     0.896887     0.000000   \n",
       "4       0.317007  0.036770  0.110807     1.815430     1.815430     0.000000   \n",
       "5       0.331122  0.077418  0.084517     0.518749     0.518749     0.000000   \n",
       "6       0.403165  0.026068  0.080508     1.660020     1.660020     0.000000   \n",
       "7       0.421670  0.061117  0.018873     0.765710     0.765710     0.000000   \n",
       "...          ...       ...       ...          ...          ...          ...   \n",
       "19989   0.589855  0.111111  0.020492     0.000000     0.000000     1.000000   \n",
       "19991   0.589744  0.025186  0.007759     0.780240     0.780240     0.000000   \n",
       "19992   0.535629  0.003310  0.023212     0.780240     0.780240     0.178261   \n",
       "19993   0.363732  0.000362  0.000277     0.092489     0.092489     0.048555   \n",
       "19994   0.380935  0.110889  0.055220     0.856848     0.856848     0.000000   \n",
       "\n",
       "       A_cov_Introns  B_cov_Exons  B_cov_Introns  A_Lamina_score  \\\n",
       "3           0.000000     0.000000       0.000000        0.899469   \n",
       "4           0.000000     0.000000       0.000000        0.925017   \n",
       "5           0.000000     0.000000       0.000000        0.913537   \n",
       "6           0.000000     0.000000       0.000000        0.901789   \n",
       "7           0.000000     0.000000       0.000000        0.946181   \n",
       "...              ...          ...            ...             ...   \n",
       "19989       0.000000     1.000000       0.000000        0.913996   \n",
       "19991       1.000000     0.000000       1.000000        0.913646   \n",
       "19992       0.821739     0.088447       0.911553        0.941108   \n",
       "19993       0.951445     0.052604       0.947396        0.919415   \n",
       "19994       0.000000     0.054054       0.000000        0.906433   \n",
       "\n",
       "       B_Lamina_score  A_CpGi_dist  B_CpGi_dist  A_TAD_dist_Log  \\\n",
       "3            0.892851     0.007365     0.008736        0.037238   \n",
       "4            0.925017     0.205131     0.268176        0.239282   \n",
       "5            0.913537     0.468814     0.203230        0.432882   \n",
       "6            0.901789     0.062338     0.090121        0.231852   \n",
       "7            0.946181     0.027652     0.215115        0.187954   \n",
       "...               ...          ...          ...             ...   \n",
       "19989        0.913996     0.004547     0.009755        0.088022   \n",
       "19991        0.913646     0.000000     0.003060        0.024148   \n",
       "19992        0.941108     0.013881     0.000000        0.142151   \n",
       "19993        0.919415     0.027908     0.144720        0.008674   \n",
       "19994        0.906433     0.008366     0.013961        0.127688   \n",
       "\n",
       "       B_TAD_dist_Log  target  \n",
       "3            0.126782       0  \n",
       "4            0.196997       0  \n",
       "5            0.515338       0  \n",
       "6            0.077273       0  \n",
       "7            0.230456       0  \n",
       "...               ...     ...  \n",
       "19989        0.205471       0  \n",
       "19991        0.210723       0  \n",
       "19992        0.111859       0  \n",
       "19993        0.122482       0  \n",
       "19994        0.237693       0  \n",
       "\n",
       "[3019 rows x 37 columns]"
      ]
     },
     "execution_count": 166,
     "metadata": {},
     "output_type": "execute_result"
    }
   ],
   "source": [
    "#prepdata:\n",
    "df_del_PCA = df_dels.copy()\n",
    "df_del_PCA[['A_region_name','A_region_family','A_region_class','B_region_name','B_region_family','B_region_class']] = df_del_PCA[['A_region_name','A_region_family','A_region_class','B_region_name','B_region_family','B_region_class']].stack().rank(method='dense').unstack()\n",
    "#df_del_PCA[['sD_pair_A','sD_pair_B']] = df_del_PCA[['sD_pair_A','sD_pair_B']].stack().rank(method='dense').unstack()\n",
    "df_del_PCA['sD_pair'] = df_del_PCA['sD_pair'].astype(int)\n",
    "\n",
    "#df_del_PCA = df_del_PCA.drop(['A_region_name','A_region_family','A_region_class','B_region_name','B_region_family','B_region_class','sD_pair'],axis=1)\n",
    "\n",
    "\n",
    "df_del_PCA"
   ]
  },
  {
   "cell_type": "code",
   "execution_count": 167,
   "metadata": {},
   "outputs": [],
   "source": [
    "# libraries columns has to be removed for PCA R script:\n",
    "#df_del_PCA.drop(['librarie_liGS','librarie_mpGS','librarie_siGS'], axis=1, inplace=True)"
   ]
  },
  {
   "cell_type": "code",
   "execution_count": 168,
   "metadata": {},
   "outputs": [],
   "source": [
    "#Save it:\n",
    "outPATH = \"./datasetPCA/deletions/\"\n",
    "df_del_PCA.to_csv(outPATH + 'del_PCA_liGS.csv', sep = ';' ,index_label=False)"
   ]
  },
  {
   "cell_type": "code",
   "execution_count": 169,
   "metadata": {},
   "outputs": [],
   "source": [
    "#/"
   ]
  },
  {
   "cell_type": "code",
   "execution_count": 170,
   "metadata": {},
   "outputs": [],
   "source": [
    "from sklearn.decomposition import PCA"
   ]
  },
  {
   "cell_type": "code",
   "execution_count": 171,
   "metadata": {},
   "outputs": [],
   "source": [
    "#X"
   ]
  },
  {
   "cell_type": "markdown",
   "metadata": {},
   "source": [
    "## TRUE"
   ]
  },
  {
   "cell_type": "code",
   "execution_count": 161,
   "metadata": {},
   "outputs": [
    {
     "name": "stdout",
     "output_type": "stream",
     "text": [
      "(1206, 2)\n"
     ]
    },
    {
     "data": {
      "text/plain": [
       "'\\npca = PCA(n_components=2)\\npca.fit(X)\\nprint(pca.explained_variance_ratio_)\\n'"
      ]
     },
     "execution_count": 161,
     "metadata": {},
     "output_type": "execute_result"
    }
   ],
   "source": [
    "X = df_dels.loc[df_dels[\"target\"] == 0]\n",
    "y =  df_dels[\"target\"].loc[df_dels[\"target\"] == 0]\n",
    "\n",
    "X = X.drop(\"target\",axis=1)\n",
    "\n",
    "X = X.drop(\"CNV_ID\",axis=1)\n",
    "##X[['A_region_name','A_region_family','A_region_class','B_region_name','B_region_family','B_region_class']] = X[['A_region_name','A_region_family','A_region_class','B_region_name','B_region_family','B_region_class']].stack().rank(method='dense').unstack()\n",
    "#X[['sD_pair_A','sD_pair_B']] = X[['sD_pair_A','sD_pair_B']].stack().rank(method='dense').unstack()\n",
    "##X['sD_pair'] = X['sD_pair'].astype(int)\n",
    "\n",
    "X = X.drop(['A_region_name','A_region_family','A_region_class','B_region_name','B_region_family','B_region_class','sD_pair'],axis=1)\n",
    "\n",
    "# Scale data befor applying PCA\n",
    "scaling=StandardScaler()\n",
    " \n",
    "# Use fit and transform method\n",
    "scaling.fit(X)\n",
    "Scaled_data=scaling.transform(X)\n",
    "\n",
    "\n",
    "# Set the n_components=3\n",
    "principal=PCA(n_components=2)\n",
    "principal.fit(Scaled_data)\n",
    "x=principal.transform(Scaled_data)\n",
    " \n",
    "# Check the dimensions of data after PCA\n",
    "print(x.shape)\n",
    "'''\n",
    "pca = PCA(n_components=2)\n",
    "pca.fit(X)\n",
    "print(pca.explained_variance_ratio_)\n",
    "'''"
   ]
  },
  {
   "cell_type": "code",
   "execution_count": 162,
   "metadata": {},
   "outputs": [
    {
     "data": {
      "text/plain": [
       "array([[-0.05858914, -0.06096164,  0.10663377,  0.08162957, -0.19129091,\n",
       "        -0.14671663, -0.00776797,  0.04769582,  0.09956091,  0.09726935,\n",
       "         0.12656599, -0.31580337,  0.34757771,  0.33942255, -0.16669596,\n",
       "        -0.1081464 ,  0.27865961,  0.27878252,  0.19814452,  0.12117793,\n",
       "         0.17600279,  0.12392191, -0.12900014, -0.12835875, -0.2876054 ,\n",
       "        -0.27157451, -0.16857191, -0.17345083],\n",
       "       [-0.08525249, -0.07164066,  0.03661047,  0.03813199,  0.22460215,\n",
       "         0.26690415,  0.01207532, -0.04097896,  0.29347661,  0.30617579,\n",
       "        -0.26516616,  0.13063284,  0.17448971,  0.16609434,  0.2510725 ,\n",
       "         0.30074787, -0.09886188, -0.09813408,  0.1390809 , -0.22367578,\n",
       "         0.14068612, -0.22764606,  0.22857066,  0.22980073, -0.20858053,\n",
       "        -0.20447128, -0.09776538, -0.14901817]])"
      ]
     },
     "execution_count": 162,
     "metadata": {},
     "output_type": "execute_result"
    }
   ],
   "source": [
    "# Check the values of eigen vectors\n",
    "# prodeced by principal components\n",
    "principal.components_"
   ]
  },
  {
   "cell_type": "code",
   "execution_count": 163,
   "metadata": {},
   "outputs": [
    {
     "data": {
      "text/plain": [
       "Text(0, 0.5, 'pc2')"
      ]
     },
     "execution_count": 163,
     "metadata": {},
     "output_type": "execute_result"
    },
    {
     "data": {
      "image/png": "[encoded data removed]",
      "text/plain": [
       "<Figure size 720x720 with 1 Axes>"
      ]
     },
     "metadata": {
      "needs_background": "light"
     },
     "output_type": "display_data"
    }
   ],
   "source": [
    "plt.figure(figsize=(10,10))\n",
    "plt.scatter(x[:,0],x[:,1],c=y,cmap='plasma')\n",
    "plt.xlabel('pc1')\n",
    "plt.ylabel('pc2')"
   ]
  },
  {
   "cell_type": "markdown",
   "metadata": {},
   "source": [
    "## FALSE:"
   ]
  },
  {
   "cell_type": "code",
   "execution_count": 164,
   "metadata": {},
   "outputs": [
    {
     "name": "stdout",
     "output_type": "stream",
     "text": [
      "(1813, 2)\n"
     ]
    },
    {
     "data": {
      "text/plain": [
       "'\\npca = PCA(n_components=2)\\npca.fit(X)\\nprint(pca.explained_variance_ratio_)\\n'"
      ]
     },
     "execution_count": 164,
     "metadata": {},
     "output_type": "execute_result"
    }
   ],
   "source": [
    "X = df_dels.loc[df_dels[\"target\"] == 1]\n",
    "y =  df_dels[\"target\"].loc[df_dels[\"target\"] == 1]\n",
    "\n",
    "X = X.drop(\"target\",axis=1)\n",
    "\n",
    "X = X.drop(\"CNV_ID\",axis=1)\n",
    "##X[['A_region_name','A_region_family','A_region_class','B_region_name','B_region_family','B_region_class']] = X[['A_region_name','A_region_family','A_region_class','B_region_name','B_region_family','B_region_class']].stack().rank(method='dense').unstack()\n",
    "#X[['sD_pair_A','sD_pair_B']] = X[['sD_pair_A','sD_pair_B']].stack().rank(method='dense').unstack()\n",
    "##X['sD_pair'] = X['sD_pair'].astype(int)\n",
    "\n",
    "X = X.drop(['A_region_name','A_region_family','A_region_class','B_region_name','B_region_family','B_region_class','sD_pair'],axis=1)\n",
    "\n",
    "# Scale data befor applying PCA\n",
    "scaling=StandardScaler()\n",
    " \n",
    "# Use fit and transform method\n",
    "scaling.fit(X)\n",
    "Scaled_data=scaling.transform(X)\n",
    "\n",
    "\n",
    "# Set the n_components=3\n",
    "principal=PCA(n_components=2)\n",
    "principal.fit(Scaled_data)\n",
    "x=principal.transform(Scaled_data)\n",
    " \n",
    "# Check the dimensions of data after PCA\n",
    "print(x.shape)\n",
    "'''\n",
    "pca = PCA(n_components=2)\n",
    "pca.fit(X)\n",
    "print(pca.explained_variance_ratio_)\n",
    "'''"
   ]
  },
  {
   "cell_type": "code",
   "execution_count": 165,
   "metadata": {},
   "outputs": [
    {
     "data": {
      "text/plain": [
       "Text(0, 0.5, 'pc2')"
      ]
     },
     "execution_count": 165,
     "metadata": {},
     "output_type": "execute_result"
    },
    {
     "data": {
      "image/png": "[encoded data removed]",
      "text/plain": [
       "<Figure size 720x720 with 1 Axes>"
      ]
     },
     "metadata": {
      "needs_background": "light"
     },
     "output_type": "display_data"
    }
   ],
   "source": [
    "#1\n",
    "plt.figure(figsize=(10,10))\n",
    "plt.scatter(x[:,0],x[:,1],c=y,cmap='plasma')\n",
    "plt.xlabel('pc1')\n",
    "plt.ylabel('pc2')"
   ]
  },
  {
   "cell_type": "markdown",
   "metadata": {},
   "source": [
    "### Using PCA R script:"
   ]
  },
  {
   "cell_type": "code",
   "execution_count": 151,
   "metadata": {},
   "outputs": [],
   "source": [
    "from IPython.display import Image\n",
    "from IPython.core.display import HTML "
   ]
  },
  {
   "cell_type": "markdown",
   "metadata": {},
   "source": [
    "TP deletions:"
   ]
  },
  {
   "cell_type": "code",
   "execution_count": 152,
   "metadata": {},
   "outputs": [
    {
     "data": {
      "text/html": [
       "<img src=\"./datasetPCA/deletions/tp_scaled.png\"/>"
      ],
      "text/plain": [
       "<IPython.core.display.Image object>"
      ]
     },
     "execution_count": 152,
     "metadata": {},
     "output_type": "execute_result"
    }
   ],
   "source": [
    "Image(url= \"./datasetPCA/deletions/tp_scaled.png\")"
   ]
  },
  {
   "cell_type": "code",
   "execution_count": 153,
   "metadata": {},
   "outputs": [
    {
     "data": {
      "text/html": [
       "<img src=\"./datasetPCA/deletions/tp_labels.png\"/>"
      ],
      "text/plain": [
       "<IPython.core.display.Image object>"
      ]
     },
     "execution_count": 153,
     "metadata": {},
     "output_type": "execute_result"
    }
   ],
   "source": [
    "Image(url= \"./datasetPCA/deletions/tp_labels.png\") #old"
   ]
  },
  {
   "cell_type": "markdown",
   "metadata": {},
   "source": [
    "FP deletions:"
   ]
  },
  {
   "cell_type": "code",
   "execution_count": 154,
   "metadata": {},
   "outputs": [
    {
     "data": {
      "text/html": [
       "<img src=\"./datasetPCA/deletions/fp_scaled.png\"/>"
      ],
      "text/plain": [
       "<IPython.core.display.Image object>"
      ]
     },
     "execution_count": 154,
     "metadata": {},
     "output_type": "execute_result"
    }
   ],
   "source": [
    "Image(url= \"./datasetPCA/deletions/fp_scaled.png\")"
   ]
  },
  {
   "cell_type": "code",
   "execution_count": 155,
   "metadata": {},
   "outputs": [
    {
     "data": {
      "text/html": [
       "<img src=\"./datasetPCA/deletions/fp_labels.png\"/>"
      ],
      "text/plain": [
       "<IPython.core.display.Image object>"
      ]
     },
     "execution_count": 155,
     "metadata": {},
     "output_type": "execute_result"
    }
   ],
   "source": [
    "Image(url= \"./datasetPCA/deletions/fp_labels.png\")"
   ]
  },
  {
   "cell_type": "markdown",
   "metadata": {},
   "source": [
    "# Remove outliers:"
   ]
  },
  {
   "cell_type": "code",
   "execution_count": 172,
   "metadata": {},
   "outputs": [
    {
     "data": {
      "text/html": [
       "<img src=\"./datasetPCA/deletions/tp_scaled_dots.png\"/>"
      ],
      "text/plain": [
       "<IPython.core.display.Image object>"
      ]
     },
     "execution_count": 172,
     "metadata": {},
     "output_type": "execute_result"
    }
   ],
   "source": [
    "Image(url= \"./datasetPCA/deletions/tp_scaled_dots.png\")"
   ]
  },
  {
   "cell_type": "code",
   "execution_count": 173,
   "metadata": {},
   "outputs": [
    {
     "data": {
      "text/html": [
       "<img src=\"./datasetPCA/deletions/tp_labels_marked.png\"/>"
      ],
      "text/plain": [
       "<IPython.core.display.Image object>"
      ]
     },
     "execution_count": 173,
     "metadata": {},
     "output_type": "execute_result"
    }
   ],
   "source": [
    "Image(url= \"./datasetPCA/deletions/tp_labels_marked.png\")#old"
   ]
  },
  {
   "cell_type": "code",
   "execution_count": 174,
   "metadata": {},
   "outputs": [],
   "source": [
    "#________________________________"
   ]
  },
  {
   "cell_type": "code",
   "execution_count": 175,
   "metadata": {},
   "outputs": [
    {
     "data": {
      "text/html": [
       "<img src=\"./datasetPCA/deletions/fp_scaled_dots.png\"/>"
      ],
      "text/plain": [
       "<IPython.core.display.Image object>"
      ]
     },
     "execution_count": 175,
     "metadata": {},
     "output_type": "execute_result"
    }
   ],
   "source": [
    "Image(url= \"./datasetPCA/deletions/fp_scaled_dots.png\")"
   ]
  },
  {
   "cell_type": "code",
   "execution_count": 176,
   "metadata": {},
   "outputs": [
    {
     "data": {
      "text/html": [
       "<img src=\"./datasetPCA/deletions/fp_labels_marked.png\"/>"
      ],
      "text/plain": [
       "<IPython.core.display.Image object>"
      ]
     },
     "execution_count": 176,
     "metadata": {},
     "output_type": "execute_result"
    }
   ],
   "source": [
    "Image(url= \"./datasetPCA/deletions/fp_labels_marked.png\")"
   ]
  },
  {
   "cell_type": "code",
   "execution_count": 177,
   "metadata": {},
   "outputs": [],
   "source": [
    "#Outliers to remove:\n",
    "l_outliersIDs = [\"DGRC_DEL_240\",\n",
    "                 \"fp_1730\",\"fp_1129\"]\n",
    "#df_dels[df_dels['CNV_ID'].isin(l_outliersIDs)]"
   ]
  },
  {
   "cell_type": "code",
   "execution_count": 178,
   "metadata": {},
   "outputs": [],
   "source": [
    "df_dels = df_dels[~df_dels['CNV_ID'].isin(l_outliersIDs)]"
   ]
  },
  {
   "cell_type": "markdown",
   "metadata": {},
   "source": [
    "# Save current dataset:"
   ]
  },
  {
   "cell_type": "markdown",
   "metadata": {},
   "source": [
    "<div class=\"alert alert-block alert-warning\">\n",
    "<b> Attention: </b> target where *{True:0,False:1}* is just in this notebook, the main dataset for the ML processe will be *{True:1,False:0}* , because it's the correct way!!!\n",
    "</div>"
   ]
  },
  {
   "cell_type": "code",
   "execution_count": 179,
   "metadata": {},
   "outputs": [],
   "source": [
    "#df_dels[\"target\"] = df_dels[\"target\"].replace({True:0,False:1})\n",
    "df_dels[\"target\"] = df_dels[\"target\"].replace({0:True,1:False}) #resverse it\n",
    "#df_dels[\"target\"] = df_dels[\"target\"].astype(int)\n",
    "#df_dups[\"target\"] = df_dups[\"target\"].replace({True:0,False:1})"
   ]
  },
  {
   "cell_type": "code",
   "execution_count": 180,
   "metadata": {},
   "outputs": [],
   "source": [
    "#df_dels.loc[df_dels.target==1].head(1)"
   ]
  },
  {
   "cell_type": "code",
   "execution_count": 181,
   "metadata": {},
   "outputs": [],
   "source": [
    "#df_dels.loc[df_dels.target==0].head(1)"
   ]
  },
  {
   "cell_type": "markdown",
   "metadata": {},
   "source": [
    "***"
   ]
  },
  {
   "cell_type": "code",
   "execution_count": 182,
   "metadata": {},
   "outputs": [],
   "source": [
    "df_dels[\"target\"] = df_dels[\"target\"].astype(int)"
   ]
  },
  {
   "cell_type": "code",
   "execution_count": 183,
   "metadata": {},
   "outputs": [
    {
     "data": {
      "text/html": [
       "<div>\n",
       "<style scoped>\n",
       "    .dataframe tbody tr th:only-of-type {\n",
       "        vertical-align: middle;\n",
       "    }\n",
       "\n",
       "    .dataframe tbody tr th {\n",
       "        vertical-align: top;\n",
       "    }\n",
       "\n",
       "    .dataframe thead th {\n",
       "        text-align: right;\n",
       "    }\n",
       "</style>\n",
       "<table border=\"1\" class=\"dataframe\">\n",
       "  <thead>\n",
       "    <tr style=\"text-align: right;\">\n",
       "      <th></th>\n",
       "      <th>CNV_ID</th>\n",
       "      <th>target</th>\n",
       "    </tr>\n",
       "  </thead>\n",
       "  <tbody>\n",
       "    <tr>\n",
       "      <th>3</th>\n",
       "      <td>DGRC_DEL_1012</td>\n",
       "      <td>1</td>\n",
       "    </tr>\n",
       "  </tbody>\n",
       "</table>\n",
       "</div>"
      ],
      "text/plain": [
       "          CNV_ID  target\n",
       "3  DGRC_DEL_1012       1"
      ]
     },
     "execution_count": 183,
     "metadata": {},
     "output_type": "execute_result"
    }
   ],
   "source": [
    "df_dels[['CNV_ID','target']].loc[df_dels.target==1].head(1)"
   ]
  },
  {
   "cell_type": "code",
   "execution_count": 184,
   "metadata": {},
   "outputs": [
    {
     "data": {
      "text/html": [
       "<div>\n",
       "<style scoped>\n",
       "    .dataframe tbody tr th:only-of-type {\n",
       "        vertical-align: middle;\n",
       "    }\n",
       "\n",
       "    .dataframe tbody tr th {\n",
       "        vertical-align: top;\n",
       "    }\n",
       "\n",
       "    .dataframe thead th {\n",
       "        text-align: right;\n",
       "    }\n",
       "</style>\n",
       "<table border=\"1\" class=\"dataframe\">\n",
       "  <thead>\n",
       "    <tr style=\"text-align: right;\">\n",
       "      <th></th>\n",
       "      <th>CNV_ID</th>\n",
       "      <th>target</th>\n",
       "    </tr>\n",
       "  </thead>\n",
       "  <tbody>\n",
       "    <tr>\n",
       "      <th>1386</th>\n",
       "      <td>fp_746</td>\n",
       "      <td>0</td>\n",
       "    </tr>\n",
       "  </tbody>\n",
       "</table>\n",
       "</div>"
      ],
      "text/plain": [
       "      CNV_ID  target\n",
       "1386  fp_746       0"
      ]
     },
     "execution_count": 184,
     "metadata": {},
     "output_type": "execute_result"
    }
   ],
   "source": [
    "df_dels[['CNV_ID','target']].loc[df_dels.target==0].head(1)"
   ]
  },
  {
   "cell_type": "markdown",
   "metadata": {},
   "source": [
    "***"
   ]
  },
  {
   "cell_type": "code",
   "execution_count": 186,
   "metadata": {},
   "outputs": [],
   "source": [
    "#SAVE it!!!\n",
    "outPATH = \"../dataset3/data_main/\"\n",
    "df_dels.to_csv(outPATH + 'refined_data_DELS_liGS-13-04.csv', sep = ';' ,index_label=False)"
   ]
  },
  {
   "cell_type": "markdown",
   "metadata": {},
   "source": [
    "# -----------------------------------------------------------------------------"
   ]
  },
  {
   "cell_type": "markdown",
   "metadata": {},
   "source": [
    "# Feature Importance:"
   ]
  },
  {
   "cell_type": "code",
   "execution_count": 187,
   "metadata": {},
   "outputs": [
    {
     "name": "stdout",
     "output_type": "stream",
     "text": [
      "Feature: 0 A_size, Score: 0.15169\n",
      "Feature: 1 B_size, Score: 0.17839\n",
      "Feature: 2 A_region_name, Score: 0.02071\n",
      "Feature: 3 A_region_family, Score: 0.01181\n",
      "Feature: 4 A_region_class, Score: 0.00807\n",
      "Feature: 5 B_region_name, Score: 0.01895\n",
      "Feature: 6 B_region_family, Score: 0.01187\n",
      "Feature: 7 B_region_class, Score: 0.00782\n",
      "Feature: 8 A_repitiveRegion_dist, Score: 0.00167\n",
      "Feature: 9 B_repitiveRegion_dist, Score: 0.00198\n",
      "Feature: 10 A_cov_repRegion, Score: 0.02927\n",
      "Feature: 11 B_cov_repRegion, Score: 0.02311\n",
      "Feature: 12 A_SegDup_dist, Score: 0.02729\n",
      "Feature: 13 B_SegDup_dist, Score: 0.02811\n",
      "Feature: 14 A_cov_segDup, Score: 0.00741\n",
      "Feature: 15 B_cov_segDup, Score: 0.00876\n",
      "Feature: 16 sD_pair, Score: 0.00154\n",
      "Feature: 17 dist_Centromere, Score: 0.02360\n",
      "Feature: 18 dist_Telomere, Score: 0.02584\n",
      "Feature: 19 GC_perc_A, Score: 0.02499\n",
      "Feature: 20 GC_perc_B, Score: 0.02207\n",
      "Feature: 21 Dust_A, Score: 0.02805\n",
      "Feature: 22 Dust_B, Score: 0.02233\n",
      "Feature: 23 A_decodeAvg, Score: 0.01813\n",
      "Feature: 24 B_decodeAvg, Score: 0.01951\n",
      "Feature: 25 A_cov_Exons, Score: 0.01777\n",
      "Feature: 26 A_cov_Introns, Score: 0.04388\n",
      "Feature: 27 B_cov_Exons, Score: 0.02305\n",
      "Feature: 28 B_cov_Introns, Score: 0.05853\n",
      "Feature: 29 A_Lamina_score, Score: 0.01946\n",
      "Feature: 30 B_Lamina_score, Score: 0.02009\n",
      "Feature: 31 A_CpGi_dist, Score: 0.02325\n",
      "Feature: 32 B_CpGi_dist, Score: 0.02233\n",
      "Feature: 33 A_TAD_dist_Log, Score: 0.02594\n",
      "Feature: 34 B_TAD_dist_Log, Score: 0.02275\n"
     ]
    },
    {
     "data": {
      "image/png": "[encoded data removed]",
      "text/plain": [
       "<Figure size 1440x936 with 1 Axes>"
      ]
     },
     "metadata": {
      "needs_background": "light"
     },
     "output_type": "display_data"
    }
   ],
   "source": [
    "# random forest for feature importance on a classification problem\n",
    "from sklearn.datasets import make_classification\n",
    "from sklearn.ensemble import RandomForestClassifier\n",
    "from matplotlib import pyplot\n",
    "# define dataset\n",
    "X, y = df_dels.drop([\"target\",\"CNV_ID\"], axis = 1), df_dels[\"target\"]\n",
    "\n",
    "#Must adapt caregorical:\n",
    "X[['A_region_name','A_region_family','A_region_class','B_region_name','B_region_family','B_region_class']] = X[['A_region_name','A_region_family','A_region_class','B_region_name','B_region_family','B_region_class']].stack().rank(method='dense').unstack()\n",
    "X['sD_pair'] = X['sD_pair'].astype(int)\n",
    "list_features = X.columns.to_list()\n",
    "\n",
    "# define the model\n",
    "model = RandomForestClassifier()\n",
    "# fit the model\n",
    "model.fit(X, y)\n",
    "# get importance\n",
    "importance = model.feature_importances_\n",
    "# summarize feature importance\n",
    "for i,v in enumerate(importance):\n",
    "\tprint('Feature: %s %s, Score: %.5f' % (i,list_features[i],v))\n",
    "# plot feature importance\n",
    "pyplot.figure(figsize=(20, 13))\n",
    "pyplot.bar([x for x in range(len(importance))], importance,tick_label=X.columns,width = 0.75 )\n",
    "#pyplot.bar([x for x in range(list_features)], importance)\n",
    "pyplot.xticks(rotation=60,horizontalalignment='right')\n",
    "pyplot.rcParams.update({'font.size': 18})\n",
    "\n",
    "pyplot.show()"
   ]
  },
  {
   "cell_type": "markdown",
   "metadata": {},
   "source": [
    "# Since librarie_mpGS column has no importance score: #because theres no FP deletion from the librarie_mpGS.\n",
    "#df_dels.loc[df_dels['librarie_mpGS']==1]"
   ]
  },
  {
   "cell_type": "markdown",
   "metadata": {},
   "source": [
    "#by the results, remove librarie_mpGS and its rows:\n",
    "\n",
    "#Drop the rows:\n",
    "#df_dels[].loc[df_dels['librarie_mpGS']==1]\n",
    "to_drop = df_dels.loc[df_dels['CNV_ID'].isin(['DGRC_DEL_2162','DGRC_DEL_4358','DGRC_DEL_2535','DGRC_DEL_2875'])].index\n",
    "df_dels.drop(to_drop, inplace=True)\n",
    "\n",
    "\n",
    "#Drop the coluns\n",
    "df_dels.drop(['librarie_mpGS'], axis=1, inplace=True)\n",
    "\n"
   ]
  },
  {
   "cell_type": "code",
   "execution_count": 189,
   "metadata": {},
   "outputs": [
    {
     "data": {
      "text/html": [
       "<div>\n",
       "<style scoped>\n",
       "    .dataframe tbody tr th:only-of-type {\n",
       "        vertical-align: middle;\n",
       "    }\n",
       "\n",
       "    .dataframe tbody tr th {\n",
       "        vertical-align: top;\n",
       "    }\n",
       "\n",
       "    .dataframe thead th {\n",
       "        text-align: right;\n",
       "    }\n",
       "</style>\n",
       "<table border=\"1\" class=\"dataframe\">\n",
       "  <thead>\n",
       "    <tr style=\"text-align: right;\">\n",
       "      <th></th>\n",
       "      <th>CNV_ID</th>\n",
       "      <th>A_size</th>\n",
       "      <th>B_size</th>\n",
       "      <th>A_region_name</th>\n",
       "      <th>A_region_family</th>\n",
       "      <th>A_region_class</th>\n",
       "      <th>B_region_name</th>\n",
       "      <th>B_region_family</th>\n",
       "      <th>B_region_class</th>\n",
       "      <th>A_repitiveRegion_dist</th>\n",
       "      <th>B_repitiveRegion_dist</th>\n",
       "      <th>A_cov_repRegion</th>\n",
       "      <th>B_cov_repRegion</th>\n",
       "      <th>A_SegDup_dist</th>\n",
       "      <th>B_SegDup_dist</th>\n",
       "      <th>A_cov_segDup</th>\n",
       "      <th>B_cov_segDup</th>\n",
       "      <th>sD_pair</th>\n",
       "      <th>dist_Centromere</th>\n",
       "      <th>dist_Telomere</th>\n",
       "      <th>GC_perc_A</th>\n",
       "      <th>GC_perc_B</th>\n",
       "      <th>Dust_A</th>\n",
       "      <th>Dust_B</th>\n",
       "      <th>A_decodeAvg</th>\n",
       "      <th>B_decodeAvg</th>\n",
       "      <th>A_cov_Exons</th>\n",
       "      <th>A_cov_Introns</th>\n",
       "      <th>B_cov_Exons</th>\n",
       "      <th>B_cov_Introns</th>\n",
       "      <th>A_Lamina_score</th>\n",
       "      <th>B_Lamina_score</th>\n",
       "      <th>A_CpGi_dist</th>\n",
       "      <th>B_CpGi_dist</th>\n",
       "      <th>A_TAD_dist_Log</th>\n",
       "      <th>B_TAD_dist_Log</th>\n",
       "      <th>target</th>\n",
       "    </tr>\n",
       "  </thead>\n",
       "  <tbody>\n",
       "    <tr>\n",
       "      <th>3</th>\n",
       "      <td>DGRC_DEL_1012</td>\n",
       "      <td>0.001620</td>\n",
       "      <td>0.000997</td>\n",
       "      <td>L1MCa</td>\n",
       "      <td>L1</td>\n",
       "      <td>Rep_LINE</td>\n",
       "      <td>AluJb</td>\n",
       "      <td>Alu</td>\n",
       "      <td>Rep_SINE</td>\n",
       "      <td>0.0</td>\n",
       "      <td>0.0</td>\n",
       "      <td>0.911694</td>\n",
       "      <td>0.563723</td>\n",
       "      <td>0.231521</td>\n",
       "      <td>0.175188</td>\n",
       "      <td>0.0</td>\n",
       "      <td>0.0</td>\n",
       "      <td>False</td>\n",
       "      <td>1.984803</td>\n",
       "      <td>1.433342</td>\n",
       "      <td>0.426738</td>\n",
       "      <td>0.448696</td>\n",
       "      <td>0.094375</td>\n",
       "      <td>0.037602</td>\n",
       "      <td>0.896887</td>\n",
       "      <td>0.896887</td>\n",
       "      <td>0.0</td>\n",
       "      <td>0.0</td>\n",
       "      <td>0.0</td>\n",
       "      <td>0.0</td>\n",
       "      <td>0.899469</td>\n",
       "      <td>0.892851</td>\n",
       "      <td>0.007365</td>\n",
       "      <td>0.008736</td>\n",
       "      <td>0.037238</td>\n",
       "      <td>0.126782</td>\n",
       "      <td>1</td>\n",
       "    </tr>\n",
       "    <tr>\n",
       "      <th>4</th>\n",
       "      <td>DGRC_DEL_135</td>\n",
       "      <td>0.000372</td>\n",
       "      <td>0.000316</td>\n",
       "      <td>L1MB7</td>\n",
       "      <td>L1</td>\n",
       "      <td>Rep_LINE</td>\n",
       "      <td>L1MB7</td>\n",
       "      <td>L1</td>\n",
       "      <td>Rep_LINE</td>\n",
       "      <td>0.0</td>\n",
       "      <td>0.0</td>\n",
       "      <td>0.574766</td>\n",
       "      <td>0.998628</td>\n",
       "      <td>0.171148</td>\n",
       "      <td>0.170375</td>\n",
       "      <td>0.0</td>\n",
       "      <td>0.0</td>\n",
       "      <td>False</td>\n",
       "      <td>1.620705</td>\n",
       "      <td>1.913421</td>\n",
       "      <td>0.367442</td>\n",
       "      <td>0.317007</td>\n",
       "      <td>0.036770</td>\n",
       "      <td>0.110807</td>\n",
       "      <td>1.815430</td>\n",
       "      <td>1.815430</td>\n",
       "      <td>0.0</td>\n",
       "      <td>0.0</td>\n",
       "      <td>0.0</td>\n",
       "      <td>0.0</td>\n",
       "      <td>0.925017</td>\n",
       "      <td>0.925017</td>\n",
       "      <td>0.205131</td>\n",
       "      <td>0.268176</td>\n",
       "      <td>0.239282</td>\n",
       "      <td>0.196997</td>\n",
       "      <td>1</td>\n",
       "    </tr>\n",
       "  </tbody>\n",
       "</table>\n",
       "</div>"
      ],
      "text/plain": [
       "          CNV_ID    A_size    B_size A_region_name A_region_family  \\\n",
       "3  DGRC_DEL_1012  0.001620  0.000997         L1MCa              L1   \n",
       "4   DGRC_DEL_135  0.000372  0.000316         L1MB7              L1   \n",
       "\n",
       "  A_region_class B_region_name B_region_family B_region_class  \\\n",
       "3       Rep_LINE         AluJb             Alu       Rep_SINE   \n",
       "4       Rep_LINE         L1MB7              L1       Rep_LINE   \n",
       "\n",
       "   A_repitiveRegion_dist  B_repitiveRegion_dist  A_cov_repRegion  \\\n",
       "3                    0.0                    0.0         0.911694   \n",
       "4                    0.0                    0.0         0.574766   \n",
       "\n",
       "   B_cov_repRegion  A_SegDup_dist  B_SegDup_dist  A_cov_segDup  B_cov_segDup  \\\n",
       "3         0.563723       0.231521       0.175188           0.0           0.0   \n",
       "4         0.998628       0.171148       0.170375           0.0           0.0   \n",
       "\n",
       "   sD_pair  dist_Centromere  dist_Telomere  GC_perc_A  GC_perc_B    Dust_A  \\\n",
       "3    False         1.984803       1.433342   0.426738   0.448696  0.094375   \n",
       "4    False         1.620705       1.913421   0.367442   0.317007  0.036770   \n",
       "\n",
       "     Dust_B  A_decodeAvg  B_decodeAvg  A_cov_Exons  A_cov_Introns  \\\n",
       "3  0.037602     0.896887     0.896887          0.0            0.0   \n",
       "4  0.110807     1.815430     1.815430          0.0            0.0   \n",
       "\n",
       "   B_cov_Exons  B_cov_Introns  A_Lamina_score  B_Lamina_score  A_CpGi_dist  \\\n",
       "3          0.0            0.0        0.899469        0.892851     0.007365   \n",
       "4          0.0            0.0        0.925017        0.925017     0.205131   \n",
       "\n",
       "   B_CpGi_dist  A_TAD_dist_Log  B_TAD_dist_Log  target  \n",
       "3     0.008736        0.037238        0.126782       1  \n",
       "4     0.268176        0.239282        0.196997       1  "
      ]
     },
     "execution_count": 189,
     "metadata": {},
     "output_type": "execute_result"
    }
   ],
   "source": [
    "#df_dels.loc[df_dels['CNV_ID'].isin(['DGRC_DEL_2162','DGRC_DEL_4358','DGRC_DEL_2535','DGRC_DEL_2875'])]\n",
    "df_dels.head(2)"
   ]
  },
  {
   "cell_type": "code",
   "execution_count": 51,
   "metadata": {},
   "outputs": [],
   "source": [
    "#SAVE it!!!\n",
    "outPATH = \"./dataset3/data_main/\"\n",
    "#df_dels.to_csv(outPATH + 'refined_data_DELS.csv', sep = ';' ,index_label=False)"
   ]
  },
  {
   "cell_type": "markdown",
   "metadata": {},
   "source": [
    "### Make dataset by removing the feature with the lowest importance: "
   ]
  },
  {
   "cell_type": "markdown",
   "metadata": {},
   "source": [
    "**not in use!!!**"
   ]
  },
  {
   "cell_type": "code",
   "execution_count": 52,
   "metadata": {},
   "outputs": [],
   "source": [
    "#df_superR_dels = df_dels\n",
    "#low_impfeatures = ['A_repitiveRegion_dist','B_repitiveRegion_dist',\n",
    "#                       'A_cov_segDup','B_cov_segDup',\n",
    "#                       'sD_pair_A','sD_pair_B',\n",
    "#                       'A_cov_Exons','A_cov_Introns',\n",
    "#                       'B_cov_Exons','B_cov_Introns']\n",
    "#df_superR_dels  = df_superR_dels.drop(low_impfeatures, axis = 1)"
   ]
  },
  {
   "cell_type": "code",
   "execution_count": 53,
   "metadata": {},
   "outputs": [],
   "source": [
    "#SAVE it!!!\n",
    "#outPATH = \"./dataset3/data_main/\"\n",
    "\n",
    "\n",
    "#df_superR_dels.to_csv(outPATH + 'super_refined_data_DELS.csv', sep = ';' ,index_label=False)"
   ]
  },
  {
   "cell_type": "markdown",
   "metadata": {},
   "source": [
    "***"
   ]
  },
  {
   "cell_type": "markdown",
   "metadata": {},
   "source": [
    "### Check mean and std of region A and B size in bps:"
   ]
  },
  {
   "cell_type": "code",
   "execution_count": 203,
   "metadata": {},
   "outputs": [],
   "source": [
    "df_DGRC = pd.read_csv('../dataset3/data_main/data_DELS.csv', sep= \"\\;\" ,header=0)"
   ]
  },
  {
   "cell_type": "code",
   "execution_count": 204,
   "metadata": {},
   "outputs": [],
   "source": [
    "df_DGRC = df_DGRC.loc[~(df_DGRC['CNV_ID'].str.contains('NYGC'))&(df_DGRC['libraries']=='liGS')]#[['CNV_ID','A_size_bp','B_size_bp','libraries','target']]"
   ]
  },
  {
   "cell_type": "code",
   "execution_count": 205,
   "metadata": {},
   "outputs": [
    {
     "data": {
      "text/plain": [
       "False    1813\n",
       "True     1206\n",
       "Name: target, dtype: int64"
      ]
     },
     "execution_count": 205,
     "metadata": {},
     "output_type": "execute_result"
    }
   ],
   "source": [
    "df_DGRC[\"target\"].value_counts()"
   ]
  },
  {
   "cell_type": "code",
   "execution_count": 206,
   "metadata": {},
   "outputs": [],
   "source": [
    "#Outliers to decided to remove:\n",
    "l_outliersIDs = [\"DGRC_DEL_240\",\n",
    "                 \"fp_1730\",\"fp_1129\"]\n",
    "#df_dels[df_dels['CNV_ID'].isin(l_outliersIDs)]\n",
    "df_DGRC = df_DGRC[~df_DGRC['CNV_ID'].isin(l_outliersIDs)]"
   ]
  },
  {
   "cell_type": "code",
   "execution_count": 207,
   "metadata": {},
   "outputs": [
    {
     "data": {
      "text/plain": [
       "False    1811\n",
       "True     1205\n",
       "Name: target, dtype: int64"
      ]
     },
     "execution_count": 207,
     "metadata": {},
     "output_type": "execute_result"
    }
   ],
   "source": [
    "df_DGRC[\"target\"].value_counts()"
   ]
  },
  {
   "cell_type": "markdown",
   "metadata": {},
   "source": [
    "---"
   ]
  },
  {
   "cell_type": "code",
   "execution_count": 208,
   "metadata": {},
   "outputs": [
    {
     "data": {
      "text/plain": [
       "count     2410.000000\n",
       "mean      3103.084647\n",
       "std       1493.256242\n",
       "min         25.000000\n",
       "25%       2483.000000\n",
       "50%       3145.000000\n",
       "75%       3693.750000\n",
       "max      22736.000000\n",
       "dtype: float64"
      ]
     },
     "execution_count": 208,
     "metadata": {},
     "output_type": "execute_result"
    }
   ],
   "source": [
    "pd.concat([df_DGRC['A_size_bp'].loc[df_DGRC['target']==True],df_DGRC['B_size_bp'].loc[df_DGRC['target']==True]]).describe()"
   ]
  },
  {
   "cell_type": "code",
   "execution_count": 209,
   "metadata": {},
   "outputs": [
    {
     "data": {
      "text/plain": [
       "count     3622.000000\n",
       "mean      5746.559912\n",
       "std       4075.542289\n",
       "min          2.000000\n",
       "25%       2450.000000\n",
       "50%       5206.000000\n",
       "75%       8541.750000\n",
       "max      27440.000000\n",
       "dtype: float64"
      ]
     },
     "execution_count": 209,
     "metadata": {},
     "output_type": "execute_result"
    }
   ],
   "source": [
    "pd.concat([df_DGRC['A_size_bp'].loc[df_DGRC['target']==False],df_DGRC['B_size_bp'].loc[df_DGRC['target']==False]]).describe()"
   ]
  },
  {
   "cell_type": "code",
   "execution_count": 210,
   "metadata": {},
   "outputs": [],
   "source": [
    "#A"
   ]
  },
  {
   "cell_type": "code",
   "execution_count": 211,
   "metadata": {},
   "outputs": [
    {
     "data": {
      "text/plain": [
       "count     1205.000000\n",
       "mean      3118.235685\n",
       "std       1504.790604\n",
       "min         25.000000\n",
       "25%       2503.000000\n",
       "50%       3160.000000\n",
       "75%       3718.000000\n",
       "max      22736.000000\n",
       "Name: A_size_bp, dtype: float64"
      ]
     },
     "execution_count": 211,
     "metadata": {},
     "output_type": "execute_result"
    }
   ],
   "source": [
    "pd.concat([df_DGRC['A_size_bp'].loc[df_DGRC['target']==True]]).describe()"
   ]
  },
  {
   "cell_type": "code",
   "execution_count": 212,
   "metadata": {},
   "outputs": [
    {
     "data": {
      "text/plain": [
       "count     1811.000000\n",
       "mean      5746.743236\n",
       "std       4084.932171\n",
       "min         11.000000\n",
       "25%       2469.000000\n",
       "50%       5220.000000\n",
       "75%       8528.500000\n",
       "max      27440.000000\n",
       "Name: A_size_bp, dtype: float64"
      ]
     },
     "execution_count": 212,
     "metadata": {},
     "output_type": "execute_result"
    }
   ],
   "source": [
    "pd.concat([df_DGRC['A_size_bp'].loc[df_DGRC['target']==False]]).describe()"
   ]
  },
  {
   "cell_type": "code",
   "execution_count": 213,
   "metadata": {},
   "outputs": [],
   "source": [
    "#B"
   ]
  },
  {
   "cell_type": "code",
   "execution_count": 214,
   "metadata": {},
   "outputs": [
    {
     "data": {
      "text/plain": [
       "count     1205.00000\n",
       "mean      3087.93361\n",
       "std       1482.10194\n",
       "min         56.00000\n",
       "25%       2475.00000\n",
       "50%       3134.00000\n",
       "75%       3681.00000\n",
       "max      19863.00000\n",
       "Name: B_size_bp, dtype: float64"
      ]
     },
     "execution_count": 214,
     "metadata": {},
     "output_type": "execute_result"
    }
   ],
   "source": [
    "pd.concat([df_DGRC['B_size_bp'].loc[df_DGRC['target']==True]]).describe()"
   ]
  },
  {
   "cell_type": "code",
   "execution_count": 215,
   "metadata": {},
   "outputs": [
    {
     "data": {
      "text/plain": [
       "count     1811.000000\n",
       "mean      5746.376588\n",
       "std       4067.259005\n",
       "min          2.000000\n",
       "25%       2435.000000\n",
       "50%       5196.000000\n",
       "75%       8555.000000\n",
       "max      27005.000000\n",
       "Name: B_size_bp, dtype: float64"
      ]
     },
     "execution_count": 215,
     "metadata": {},
     "output_type": "execute_result"
    }
   ],
   "source": [
    "pd.concat([df_DGRC['B_size_bp'].loc[df_DGRC['target']==False]]).describe()"
   ]
  },
  {
   "cell_type": "code",
   "execution_count": null,
   "metadata": {},
   "outputs": [],
   "source": []
  },
  {
   "cell_type": "markdown",
   "metadata": {},
   "source": [
    "---"
   ]
  },
  {
   "cell_type": "code",
   "execution_count": 217,
   "metadata": {},
   "outputs": [],
   "source": [
    "df_DGRC.drop(['libraries','regionA_stat', 'regionA_end', 'chr_A',\n",
    "       'regionB_stat', 'regionB_end', 'chr_B','A_size_bp','B_size_bp'], axis=1, inplace=True)"
   ]
  },
  {
   "cell_type": "code",
   "execution_count": 219,
   "metadata": {},
   "outputs": [],
   "source": [
    "#SAVE it!!!\n",
    "outPATH = \"../dataset3/data_main/DELS_12_04/\"\n",
    "df_DGRC.to_csv(outPATH + 'refined_data_DELS_liGS-13-04.csv', sep = ';' ,index_label=False)"
   ]
  }
 ],
 "metadata": {
  "kernelspec": {
   "display_name": "Python 3 (ipykernel)",
   "language": "python",
   "name": "python3"
  },
  "language_info": {
   "codemirror_mode": {
    "name": "ipython",
    "version": 3
   },
   "file_extension": ".py",
   "mimetype": "text/x-python",
   "name": "python",
   "nbconvert_exporter": "python",
   "pygments_lexer": "ipython3",
   "version": "3.9.7"
  }
 },
 "nbformat": 4,
 "nbformat_minor": 4
}
