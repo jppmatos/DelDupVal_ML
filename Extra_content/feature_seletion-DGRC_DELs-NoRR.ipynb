{
 "cells": [
  {
   "cell_type": "code",
   "execution_count": 1,
   "metadata": {},
   "outputs": [],
   "source": [
    "import pandas as pd\n",
    "import matplotlib.pyplot as plt\n",
    "import seaborn as sns\n",
    "import numpy as np\n",
    "from scipy.stats import norm\n",
    "from sklearn.preprocessing import StandardScaler\n",
    "from scipy import stats\n",
    "import warnings\n",
    "warnings.filterwarnings('ignore')\n",
    "#from sys import argv"
   ]
  },
  {
   "cell_type": "code",
   "execution_count": 2,
   "metadata": {},
   "outputs": [],
   "source": [
    "pd.set_option('display.max_columns', None)"
   ]
  },
  {
   "cell_type": "markdown",
   "metadata": {},
   "source": [
    "# Load data:"
   ]
  },
  {
   "cell_type": "code",
   "execution_count": 3,
   "metadata": {},
   "outputs": [],
   "source": [
    "df_dels_raw = pd.read_csv('../dataset3/data_main/data_DELS_noRR.csv', sep= \"\\;\" ,header=0)# Removed NaNs of Recombination Rate\n",
    "#! dataset with missing GC and cov Regionrep of Dongs data missing (12/04)"
   ]
  },
  {
   "cell_type": "code",
   "execution_count": 4,
   "metadata": {},
   "outputs": [
    {
     "data": {
      "text/html": [
       "<div>\n",
       "<style scoped>\n",
       "    .dataframe tbody tr th:only-of-type {\n",
       "        vertical-align: middle;\n",
       "    }\n",
       "\n",
       "    .dataframe tbody tr th {\n",
       "        vertical-align: top;\n",
       "    }\n",
       "\n",
       "    .dataframe thead th {\n",
       "        text-align: right;\n",
       "    }\n",
       "</style>\n",
       "<table border=\"1\" class=\"dataframe\">\n",
       "  <thead>\n",
       "    <tr style=\"text-align: right;\">\n",
       "      <th></th>\n",
       "      <th>CNV_ID</th>\n",
       "      <th>regionA_stat</th>\n",
       "      <th>regionA_end</th>\n",
       "      <th>chr_A</th>\n",
       "      <th>regionB_stat</th>\n",
       "      <th>regionB_end</th>\n",
       "      <th>chr_B</th>\n",
       "      <th>A_size_bp</th>\n",
       "      <th>B_size_bp</th>\n",
       "      <th>A_size</th>\n",
       "      <th>B_size</th>\n",
       "      <th>libraries</th>\n",
       "      <th>A_region_name</th>\n",
       "      <th>A_region_family</th>\n",
       "      <th>A_region_class</th>\n",
       "      <th>B_region_name</th>\n",
       "      <th>B_region_family</th>\n",
       "      <th>B_region_class</th>\n",
       "      <th>A_repitiveRegion_dist</th>\n",
       "      <th>B_repitiveRegion_dist</th>\n",
       "      <th>A_cov_repRegion</th>\n",
       "      <th>B_cov_repRegion</th>\n",
       "      <th>A_SegDup_dist</th>\n",
       "      <th>B_SegDup_dist</th>\n",
       "      <th>A_cov_segDup</th>\n",
       "      <th>B_cov_segDup</th>\n",
       "      <th>sD_pair</th>\n",
       "      <th>dist_Centromere</th>\n",
       "      <th>dist_Telomere</th>\n",
       "      <th>GC_perc_A</th>\n",
       "      <th>GC_perc_B</th>\n",
       "      <th>Dust_A</th>\n",
       "      <th>Dust_B</th>\n",
       "      <th>A_cov_Exons</th>\n",
       "      <th>A_cov_Introns</th>\n",
       "      <th>B_cov_Exons</th>\n",
       "      <th>B_cov_Introns</th>\n",
       "      <th>A_Lamina_score</th>\n",
       "      <th>B_Lamina_score</th>\n",
       "      <th>A_CpGi_dist</th>\n",
       "      <th>B_CpGi_dist</th>\n",
       "      <th>A_TAD_dist_Log</th>\n",
       "      <th>B_TAD_dist_Log</th>\n",
       "      <th>target</th>\n",
       "    </tr>\n",
       "  </thead>\n",
       "  <tbody>\n",
       "    <tr>\n",
       "      <th>0</th>\n",
       "      <td>DGRC_DEL_2162</td>\n",
       "      <td>161068155.0</td>\n",
       "      <td>161071143.0</td>\n",
       "      <td>3</td>\n",
       "      <td>185888761.0</td>\n",
       "      <td>185892124.0</td>\n",
       "      <td>3</td>\n",
       "      <td>2988.0</td>\n",
       "      <td>3363.0</td>\n",
       "      <td>0.001296</td>\n",
       "      <td>0.001458</td>\n",
       "      <td>siGS,mpGS</td>\n",
       "      <td>MIR</td>\n",
       "      <td>MIR</td>\n",
       "      <td>Rep_SINE</td>\n",
       "      <td>L1ME3</td>\n",
       "      <td>L1</td>\n",
       "      <td>Rep_LINE</td>\n",
       "      <td>0.0</td>\n",
       "      <td>0.0</td>\n",
       "      <td>0.057898</td>\n",
       "      <td>0.664585</td>\n",
       "      <td>0.578837</td>\n",
       "      <td>0.007347</td>\n",
       "      <td>0.000000</td>\n",
       "      <td>0.00000</td>\n",
       "      <td>False</td>\n",
       "      <td>1.832963</td>\n",
       "      <td>1.127001</td>\n",
       "      <td>0.458097</td>\n",
       "      <td>0.452006</td>\n",
       "      <td>0.000372</td>\n",
       "      <td>0.051534</td>\n",
       "      <td>0.780455</td>\n",
       "      <td>0.219545</td>\n",
       "      <td>0.000000</td>\n",
       "      <td>0.00000</td>\n",
       "      <td>0.939476</td>\n",
       "      <td>0.000000</td>\n",
       "      <td>0.117754</td>\n",
       "      <td>0.019176</td>\n",
       "      <td>0.178446</td>\n",
       "      <td>0.011941</td>\n",
       "      <td>True</td>\n",
       "    </tr>\n",
       "    <tr>\n",
       "      <th>1</th>\n",
       "      <td>DGRC_DEL_4355</td>\n",
       "      <td>106014292.0</td>\n",
       "      <td>106727750.0</td>\n",
       "      <td>14</td>\n",
       "      <td>106027837.0</td>\n",
       "      <td>106778411.0</td>\n",
       "      <td>14</td>\n",
       "      <td>713458.0</td>\n",
       "      <td>750574.0</td>\n",
       "      <td>0.233873</td>\n",
       "      <td>0.243180</td>\n",
       "      <td>mpGS</td>\n",
       "      <td>HERVS71-int</td>\n",
       "      <td>ERV1</td>\n",
       "      <td>Rep_LTR</td>\n",
       "      <td>HERVS71-int</td>\n",
       "      <td>ERV1</td>\n",
       "      <td>Rep_LTR</td>\n",
       "      <td>0.0</td>\n",
       "      <td>0.0</td>\n",
       "      <td>0.517093</td>\n",
       "      <td>0.514497</td>\n",
       "      <td>0.000000</td>\n",
       "      <td>0.000000</td>\n",
       "      <td>0.351421</td>\n",
       "      <td>0.36226</td>\n",
       "      <td>True</td>\n",
       "      <td>1.948549</td>\n",
       "      <td>0.302305</td>\n",
       "      <td>0.411786</td>\n",
       "      <td>0.412131</td>\n",
       "      <td>0.032821</td>\n",
       "      <td>0.032785</td>\n",
       "      <td>0.062034</td>\n",
       "      <td>0.055726</td>\n",
       "      <td>0.061266</td>\n",
       "      <td>0.05348</td>\n",
       "      <td>0.872278</td>\n",
       "      <td>0.872278</td>\n",
       "      <td>0.000000</td>\n",
       "      <td>0.000000</td>\n",
       "      <td>0.150539</td>\n",
       "      <td>0.102196</td>\n",
       "      <td>True</td>\n",
       "    </tr>\n",
       "    <tr>\n",
       "      <th>2</th>\n",
       "      <td>DGRC_DEL_2875</td>\n",
       "      <td>11825837.0</td>\n",
       "      <td>11829427.0</td>\n",
       "      <td>9</td>\n",
       "      <td>12082445.0</td>\n",
       "      <td>12085561.0</td>\n",
       "      <td>9</td>\n",
       "      <td>3590.0</td>\n",
       "      <td>3116.0</td>\n",
       "      <td>0.001556</td>\n",
       "      <td>0.001351</td>\n",
       "      <td>mpGS,siGS</td>\n",
       "      <td>L1MA4</td>\n",
       "      <td>L1</td>\n",
       "      <td>Rep_LINE</td>\n",
       "      <td>MLT1H1</td>\n",
       "      <td>ERVL-MaLR</td>\n",
       "      <td>Rep_LTR</td>\n",
       "      <td>0.0</td>\n",
       "      <td>0.0</td>\n",
       "      <td>0.324513</td>\n",
       "      <td>0.334403</td>\n",
       "      <td>0.447672</td>\n",
       "      <td>1.003470</td>\n",
       "      <td>0.000000</td>\n",
       "      <td>0.00000</td>\n",
       "      <td>False</td>\n",
       "      <td>1.493005</td>\n",
       "      <td>1.107869</td>\n",
       "      <td>0.328512</td>\n",
       "      <td>0.338462</td>\n",
       "      <td>0.012140</td>\n",
       "      <td>0.013737</td>\n",
       "      <td>0.000000</td>\n",
       "      <td>1.000000</td>\n",
       "      <td>0.000000</td>\n",
       "      <td>0.00000</td>\n",
       "      <td>0.889046</td>\n",
       "      <td>0.896481</td>\n",
       "      <td>0.081797</td>\n",
       "      <td>0.227868</td>\n",
       "      <td>0.451147</td>\n",
       "      <td>0.144400</td>\n",
       "      <td>True</td>\n",
       "    </tr>\n",
       "    <tr>\n",
       "      <th>3</th>\n",
       "      <td>DGRC_DEL_1012</td>\n",
       "      <td>26129528.0</td>\n",
       "      <td>26133265.0</td>\n",
       "      <td>1</td>\n",
       "      <td>26138697.0</td>\n",
       "      <td>26140996.0</td>\n",
       "      <td>1</td>\n",
       "      <td>3737.0</td>\n",
       "      <td>2299.0</td>\n",
       "      <td>0.001620</td>\n",
       "      <td>0.000997</td>\n",
       "      <td>liGS</td>\n",
       "      <td>L1MCa</td>\n",
       "      <td>L1</td>\n",
       "      <td>Rep_LINE</td>\n",
       "      <td>AluJb</td>\n",
       "      <td>Alu</td>\n",
       "      <td>Rep_SINE</td>\n",
       "      <td>0.0</td>\n",
       "      <td>0.0</td>\n",
       "      <td>0.911694</td>\n",
       "      <td>0.563723</td>\n",
       "      <td>0.231521</td>\n",
       "      <td>0.175188</td>\n",
       "      <td>0.000000</td>\n",
       "      <td>0.00000</td>\n",
       "      <td>False</td>\n",
       "      <td>1.984803</td>\n",
       "      <td>1.433342</td>\n",
       "      <td>0.426738</td>\n",
       "      <td>0.448696</td>\n",
       "      <td>0.094375</td>\n",
       "      <td>0.037602</td>\n",
       "      <td>0.000000</td>\n",
       "      <td>0.000000</td>\n",
       "      <td>0.000000</td>\n",
       "      <td>0.00000</td>\n",
       "      <td>0.899469</td>\n",
       "      <td>0.892851</td>\n",
       "      <td>0.007365</td>\n",
       "      <td>0.008736</td>\n",
       "      <td>0.037238</td>\n",
       "      <td>0.126782</td>\n",
       "      <td>True</td>\n",
       "    </tr>\n",
       "    <tr>\n",
       "      <th>4</th>\n",
       "      <td>DGRC_DEL_135</td>\n",
       "      <td>80934931.0</td>\n",
       "      <td>80935787.0</td>\n",
       "      <td>1</td>\n",
       "      <td>80945300.0</td>\n",
       "      <td>80946029.0</td>\n",
       "      <td>1</td>\n",
       "      <td>856.0</td>\n",
       "      <td>729.0</td>\n",
       "      <td>0.000372</td>\n",
       "      <td>0.000316</td>\n",
       "      <td>liGS</td>\n",
       "      <td>L1MB7</td>\n",
       "      <td>L1</td>\n",
       "      <td>Rep_LINE</td>\n",
       "      <td>L1MB7</td>\n",
       "      <td>L1</td>\n",
       "      <td>Rep_LINE</td>\n",
       "      <td>0.0</td>\n",
       "      <td>0.0</td>\n",
       "      <td>0.574766</td>\n",
       "      <td>0.998628</td>\n",
       "      <td>0.171148</td>\n",
       "      <td>0.170375</td>\n",
       "      <td>0.000000</td>\n",
       "      <td>0.00000</td>\n",
       "      <td>False</td>\n",
       "      <td>1.620705</td>\n",
       "      <td>1.913421</td>\n",
       "      <td>0.367442</td>\n",
       "      <td>0.317007</td>\n",
       "      <td>0.036770</td>\n",
       "      <td>0.110807</td>\n",
       "      <td>0.000000</td>\n",
       "      <td>0.000000</td>\n",
       "      <td>0.000000</td>\n",
       "      <td>0.00000</td>\n",
       "      <td>0.925017</td>\n",
       "      <td>0.925017</td>\n",
       "      <td>0.205131</td>\n",
       "      <td>0.268176</td>\n",
       "      <td>0.239282</td>\n",
       "      <td>0.196997</td>\n",
       "      <td>True</td>\n",
       "    </tr>\n",
       "  </tbody>\n",
       "</table>\n",
       "</div>"
      ],
      "text/plain": [
       "          CNV_ID  regionA_stat  regionA_end chr_A  regionB_stat  regionB_end  \\\n",
       "0  DGRC_DEL_2162   161068155.0  161071143.0     3   185888761.0  185892124.0   \n",
       "1  DGRC_DEL_4355   106014292.0  106727750.0    14   106027837.0  106778411.0   \n",
       "2  DGRC_DEL_2875    11825837.0   11829427.0     9    12082445.0   12085561.0   \n",
       "3  DGRC_DEL_1012    26129528.0   26133265.0     1    26138697.0   26140996.0   \n",
       "4   DGRC_DEL_135    80934931.0   80935787.0     1    80945300.0   80946029.0   \n",
       "\n",
       "  chr_B  A_size_bp  B_size_bp    A_size    B_size  libraries A_region_name  \\\n",
       "0     3     2988.0     3363.0  0.001296  0.001458  siGS,mpGS           MIR   \n",
       "1    14   713458.0   750574.0  0.233873  0.243180       mpGS   HERVS71-int   \n",
       "2     9     3590.0     3116.0  0.001556  0.001351  mpGS,siGS         L1MA4   \n",
       "3     1     3737.0     2299.0  0.001620  0.000997       liGS         L1MCa   \n",
       "4     1      856.0      729.0  0.000372  0.000316       liGS         L1MB7   \n",
       "\n",
       "  A_region_family A_region_class B_region_name B_region_family B_region_class  \\\n",
       "0             MIR       Rep_SINE         L1ME3              L1       Rep_LINE   \n",
       "1            ERV1        Rep_LTR   HERVS71-int            ERV1        Rep_LTR   \n",
       "2              L1       Rep_LINE        MLT1H1       ERVL-MaLR        Rep_LTR   \n",
       "3              L1       Rep_LINE         AluJb             Alu       Rep_SINE   \n",
       "4              L1       Rep_LINE         L1MB7              L1       Rep_LINE   \n",
       "\n",
       "   A_repitiveRegion_dist  B_repitiveRegion_dist  A_cov_repRegion  \\\n",
       "0                    0.0                    0.0         0.057898   \n",
       "1                    0.0                    0.0         0.517093   \n",
       "2                    0.0                    0.0         0.324513   \n",
       "3                    0.0                    0.0         0.911694   \n",
       "4                    0.0                    0.0         0.574766   \n",
       "\n",
       "   B_cov_repRegion  A_SegDup_dist  B_SegDup_dist  A_cov_segDup  B_cov_segDup  \\\n",
       "0         0.664585       0.578837       0.007347      0.000000       0.00000   \n",
       "1         0.514497       0.000000       0.000000      0.351421       0.36226   \n",
       "2         0.334403       0.447672       1.003470      0.000000       0.00000   \n",
       "3         0.563723       0.231521       0.175188      0.000000       0.00000   \n",
       "4         0.998628       0.171148       0.170375      0.000000       0.00000   \n",
       "\n",
       "   sD_pair  dist_Centromere  dist_Telomere  GC_perc_A  GC_perc_B    Dust_A  \\\n",
       "0    False         1.832963       1.127001   0.458097   0.452006  0.000372   \n",
       "1     True         1.948549       0.302305   0.411786   0.412131  0.032821   \n",
       "2    False         1.493005       1.107869   0.328512   0.338462  0.012140   \n",
       "3    False         1.984803       1.433342   0.426738   0.448696  0.094375   \n",
       "4    False         1.620705       1.913421   0.367442   0.317007  0.036770   \n",
       "\n",
       "     Dust_B  A_cov_Exons  A_cov_Introns  B_cov_Exons  B_cov_Introns  \\\n",
       "0  0.051534     0.780455       0.219545     0.000000        0.00000   \n",
       "1  0.032785     0.062034       0.055726     0.061266        0.05348   \n",
       "2  0.013737     0.000000       1.000000     0.000000        0.00000   \n",
       "3  0.037602     0.000000       0.000000     0.000000        0.00000   \n",
       "4  0.110807     0.000000       0.000000     0.000000        0.00000   \n",
       "\n",
       "   A_Lamina_score  B_Lamina_score  A_CpGi_dist  B_CpGi_dist  A_TAD_dist_Log  \\\n",
       "0        0.939476        0.000000     0.117754     0.019176        0.178446   \n",
       "1        0.872278        0.872278     0.000000     0.000000        0.150539   \n",
       "2        0.889046        0.896481     0.081797     0.227868        0.451147   \n",
       "3        0.899469        0.892851     0.007365     0.008736        0.037238   \n",
       "4        0.925017        0.925017     0.205131     0.268176        0.239282   \n",
       "\n",
       "   B_TAD_dist_Log  target  \n",
       "0        0.011941    True  \n",
       "1        0.102196    True  \n",
       "2        0.144400    True  \n",
       "3        0.126782    True  \n",
       "4        0.196997    True  "
      ]
     },
     "metadata": {},
     "output_type": "display_data"
    },
    {
     "name": "stdout",
     "output_type": "stream",
     "text": [
      "(19821, 44)\n"
     ]
    }
   ],
   "source": [
    "df_dels = df_dels_raw\n",
    "\n",
    "display(df_dels.head())\n",
    "print(df_dels.shape)"
   ]
  },
  {
   "cell_type": "markdown",
   "metadata": {},
   "source": [
    "---"
   ]
  },
  {
   "cell_type": "markdown",
   "metadata": {},
   "source": [
    "---"
   ]
  },
  {
   "cell_type": "markdown",
   "metadata": {},
   "source": [
    "### Check mean and std of region A and B size in bps:"
   ]
  },
  {
   "cell_type": "code",
   "execution_count": 5,
   "metadata": {},
   "outputs": [],
   "source": [
    "df_Dongs = df_dels.loc[(df_dels['CNV_ID'].str.contains('NYGC'))]#[['CNV_ID','A_size_bp','B_size_bp','libraries','target']]\n",
    "df_DGRC = df_dels.loc[~(df_dels['CNV_ID'].str.contains('NYGC'))&(df_dels['libraries']=='liGS')]#[['CNV_ID','A_size_bp','B_size_bp','libraries','target']]"
   ]
  },
  {
   "cell_type": "code",
   "execution_count": 6,
   "metadata": {},
   "outputs": [
    {
     "name": "stdout",
     "output_type": "stream",
     "text": [
      "True    13772\n",
      "Name: target, dtype: int64\n"
     ]
    }
   ],
   "source": [
    "#Save Dongs deletions for further test:\n",
    "\n",
    "df_Dongs.drop(['libraries','regionA_stat', 'regionA_end', 'chr_A',\n",
    "       'regionB_stat', 'regionB_end', 'chr_B','A_size_bp','B_size_bp'], axis=1, inplace=True)\n",
    "\n",
    "df_Dongs['sD_pair'] = df_Dongs['sD_pair'].astype(int)\n",
    "#\n",
    "print(df_Dongs[\"target\"].value_counts())\n",
    "#Save it:\n",
    "outPATH = \"../dataset3/data_main/DELS_12_04/\"\n",
    "df_Dongs.to_csv(outPATH + 'refined_data_DELS_Dongs-13-04.csv', sep = ';' ,index_label=False)"
   ]
  },
  {
   "cell_type": "markdown",
   "metadata": {},
   "source": [
    "---"
   ]
  },
  {
   "cell_type": "code",
   "execution_count": 7,
   "metadata": {},
   "outputs": [
    {
     "data": {
      "text/plain": [
       "False    1998\n",
       "True     1346\n",
       "Name: target, dtype: int64"
      ]
     },
     "execution_count": 7,
     "metadata": {},
     "output_type": "execute_result"
    }
   ],
   "source": [
    "df_DGRC[\"target\"].value_counts()"
   ]
  },
  {
   "cell_type": "markdown",
   "metadata": {},
   "source": [
    "---"
   ]
  },
  {
   "cell_type": "code",
   "execution_count": 8,
   "metadata": {},
   "outputs": [
    {
     "data": {
      "text/plain": [
       "count     2692.000000\n",
       "mean      3056.977340\n",
       "std       1502.905781\n",
       "min         25.000000\n",
       "25%       2369.250000\n",
       "50%       3111.500000\n",
       "75%       3678.250000\n",
       "max      22736.000000\n",
       "dtype: float64"
      ]
     },
     "execution_count": 8,
     "metadata": {},
     "output_type": "execute_result"
    }
   ],
   "source": [
    "pd.concat([df_DGRC['A_size_bp'].loc[df_DGRC['target']==True],df_DGRC['B_size_bp'].loc[df_DGRC['target']==True]]).describe()"
   ]
  },
  {
   "cell_type": "code",
   "execution_count": 9,
   "metadata": {},
   "outputs": [
    {
     "data": {
      "text/plain": [
       "count     3996.000000\n",
       "mean      5621.733734\n",
       "std       4081.784160\n",
       "min          2.000000\n",
       "25%       2303.500000\n",
       "50%       4960.000000\n",
       "75%       8416.500000\n",
       "max      27440.000000\n",
       "dtype: float64"
      ]
     },
     "execution_count": 9,
     "metadata": {},
     "output_type": "execute_result"
    }
   ],
   "source": [
    "pd.concat([df_DGRC['A_size_bp'].loc[df_DGRC['target']==False],df_DGRC['B_size_bp'].loc[df_DGRC['target']==False]]).describe()"
   ]
  },
  {
   "cell_type": "code",
   "execution_count": 10,
   "metadata": {},
   "outputs": [],
   "source": [
    "#A"
   ]
  },
  {
   "cell_type": "code",
   "execution_count": 11,
   "metadata": {},
   "outputs": [
    {
     "data": {
      "text/plain": [
       "count     1346.000000\n",
       "mean      3077.790490\n",
       "std       1516.917541\n",
       "min         25.000000\n",
       "25%       2385.250000\n",
       "50%       3122.000000\n",
       "75%       3693.750000\n",
       "max      22736.000000\n",
       "Name: A_size_bp, dtype: float64"
      ]
     },
     "execution_count": 11,
     "metadata": {},
     "output_type": "execute_result"
    }
   ],
   "source": [
    "pd.concat([df_DGRC['A_size_bp'].loc[df_DGRC['target']==True]]).describe()"
   ]
  },
  {
   "cell_type": "code",
   "execution_count": 12,
   "metadata": {},
   "outputs": [
    {
     "data": {
      "text/plain": [
       "count     1998.000000\n",
       "mean      5627.349349\n",
       "std       4093.419354\n",
       "min         11.000000\n",
       "25%       2360.000000\n",
       "50%       4985.000000\n",
       "75%       8416.000000\n",
       "max      27440.000000\n",
       "Name: A_size_bp, dtype: float64"
      ]
     },
     "execution_count": 12,
     "metadata": {},
     "output_type": "execute_result"
    }
   ],
   "source": [
    "pd.concat([df_DGRC['A_size_bp'].loc[df_DGRC['target']==False]]).describe()"
   ]
  },
  {
   "cell_type": "code",
   "execution_count": 13,
   "metadata": {},
   "outputs": [],
   "source": [
    "#B"
   ]
  },
  {
   "cell_type": "code",
   "execution_count": 14,
   "metadata": {},
   "outputs": [
    {
     "data": {
      "text/plain": [
       "count     1346.000000\n",
       "mean      3036.164190\n",
       "std       1489.034948\n",
       "min         39.000000\n",
       "25%       2356.250000\n",
       "50%       3097.000000\n",
       "75%       3646.500000\n",
       "max      19863.000000\n",
       "Name: B_size_bp, dtype: float64"
      ]
     },
     "execution_count": 14,
     "metadata": {},
     "output_type": "execute_result"
    }
   ],
   "source": [
    "pd.concat([df_DGRC['B_size_bp'].loc[df_DGRC['target']==True]]).describe()"
   ]
  },
  {
   "cell_type": "code",
   "execution_count": 15,
   "metadata": {},
   "outputs": [
    {
     "data": {
      "text/plain": [
       "count     1998.000000\n",
       "mean      5616.118118\n",
       "std       4071.132734\n",
       "min          2.000000\n",
       "25%       2254.000000\n",
       "50%       4942.500000\n",
       "75%       8426.750000\n",
       "max      27005.000000\n",
       "Name: B_size_bp, dtype: float64"
      ]
     },
     "execution_count": 15,
     "metadata": {},
     "output_type": "execute_result"
    }
   ],
   "source": [
    "pd.concat([df_DGRC['B_size_bp'].loc[df_DGRC['target']==False]]).describe()"
   ]
  },
  {
   "cell_type": "code",
   "execution_count": null,
   "metadata": {},
   "outputs": [],
   "source": []
  },
  {
   "cell_type": "markdown",
   "metadata": {},
   "source": [
    "---"
   ]
  },
  {
   "cell_type": "markdown",
   "metadata": {},
   "source": [
    "---"
   ]
  },
  {
   "cell_type": "code",
   "execution_count": 16,
   "metadata": {},
   "outputs": [
    {
     "data": {
      "text/plain": [
       "False"
      ]
     },
     "execution_count": 16,
     "metadata": {},
     "output_type": "execute_result"
    }
   ],
   "source": [
    "df_DGRC.isnull().values.any()\n",
    "#df_DGRC.isnull().sum()"
   ]
  },
  {
   "cell_type": "code",
   "execution_count": 17,
   "metadata": {},
   "outputs": [],
   "source": [
    "df_dels = df_DGRC"
   ]
  },
  {
   "cell_type": "markdown",
   "metadata": {},
   "source": [
    "---"
   ]
  },
  {
   "cell_type": "markdown",
   "metadata": {},
   "source": [
    "---"
   ]
  },
  {
   "cell_type": "markdown",
   "metadata": {},
   "source": [
    "#Checking liGS mead region A and B size for Dongs data , in analisis...\n",
    "l_A = df_dels['A_size_bp'].loc[df_dels['libraries']=='liGS'].tolist()\n",
    "l_B = df_dels['B_size_bp'].loc[df_dels['libraries']=='liGS'].tolist()\n",
    "l_A.extend(l_B)\n",
    "\n",
    "print(np.mean(l_A)) #2857"
   ]
  },
  {
   "cell_type": "markdown",
   "metadata": {},
   "source": [
    "---"
   ]
  },
  {
   "cell_type": "markdown",
   "metadata": {},
   "source": [
    "print(df_dels['libraries'].unique())"
   ]
  },
  {
   "cell_type": "markdown",
   "metadata": {},
   "source": [
    "df_dels['libraries'] = df_dels['libraries'].apply(lambda x: x.split(','))"
   ]
  },
  {
   "cell_type": "markdown",
   "metadata": {},
   "source": [
    "# Process libraries data to onehot encoder like format:\n",
    "df_libraries = pd.get_dummies(df_dels['libraries'].apply(pd.Series).stack(),prefix='librarie').sum(level=0)\n",
    "display(df_libraries.head(3))"
   ]
  },
  {
   "cell_type": "markdown",
   "metadata": {},
   "source": [
    "# add libraries in onehot encoder like format:\n",
    "#df_dels = pd.concat([df_dels,df_libraries],axis=1)\n",
    "df_dels = df_dels.join(df_libraries)\n"
   ]
  },
  {
   "cell_type": "code",
   "execution_count": 18,
   "metadata": {},
   "outputs": [],
   "source": [
    "#display(df_dels.head(1))\n",
    "#print(df_dels.shape)"
   ]
  },
  {
   "cell_type": "code",
   "execution_count": 19,
   "metadata": {},
   "outputs": [],
   "source": [
    "#df_dels.loc[df_dels['CNV_ID'].isin(['DGRC_DEL_2875','DGRC_DEL_2162','DGRC_DEL_2535'])] #all ok!"
   ]
  },
  {
   "cell_type": "markdown",
   "metadata": {},
   "source": [
    "#Place 'target' column in last, just in case:\n",
    "df_dels.insert(len(df_dels.columns)-1, 'target', df_dels.pop('target'))\n",
    "\n",
    "#display(df_dels.head(1))\n",
    "#print(df_dels.shape)"
   ]
  },
  {
   "cell_type": "code",
   "execution_count": 20,
   "metadata": {},
   "outputs": [],
   "source": [
    "df_dels.drop(['libraries','regionA_stat', 'regionA_end', 'chr_A',\n",
    "       'regionB_stat', 'regionB_end', 'chr_B','A_size_bp','B_size_bp'], axis=1, inplace=True)"
   ]
  },
  {
   "cell_type": "code",
   "execution_count": 21,
   "metadata": {},
   "outputs": [],
   "source": [
    "#display(df_dups.head())\n",
    "#print(df_dups.shape)"
   ]
  },
  {
   "cell_type": "markdown",
   "metadata": {},
   "source": [
    "# Start Feature Seletion:"
   ]
  },
  {
   "cell_type": "markdown",
   "metadata": {},
   "source": [
    "Some adjustments to target:"
   ]
  },
  {
   "cell_type": "markdown",
   "metadata": {},
   "source": [
    "<div class=\"alert alert-block alert-warning\">\n",
    "<b> Attention: </b> target where *{True:0,False:1}* is just in this notebook, the main dataset for the ML processe will be *{True:1,False:0}* , because it's the correct way!!!\n",
    "</div>"
   ]
  },
  {
   "cell_type": "code",
   "execution_count": 22,
   "metadata": {},
   "outputs": [],
   "source": [
    "df_dels[\"target\"] = df_dels[\"target\"].replace({True:0,False:1})\n",
    "#df_dups[\"target\"] = df_dups[\"target\"].replace({True:0,False:1})"
   ]
  },
  {
   "cell_type": "code",
   "execution_count": 23,
   "metadata": {},
   "outputs": [
    {
     "data": {
      "text/html": [
       "<div>\n",
       "<style scoped>\n",
       "    .dataframe tbody tr th:only-of-type {\n",
       "        vertical-align: middle;\n",
       "    }\n",
       "\n",
       "    .dataframe tbody tr th {\n",
       "        vertical-align: top;\n",
       "    }\n",
       "\n",
       "    .dataframe thead th {\n",
       "        text-align: right;\n",
       "    }\n",
       "</style>\n",
       "<table border=\"1\" class=\"dataframe\">\n",
       "  <thead>\n",
       "    <tr style=\"text-align: right;\">\n",
       "      <th></th>\n",
       "      <th>CNV_ID</th>\n",
       "      <th>A_size</th>\n",
       "      <th>B_size</th>\n",
       "      <th>A_region_name</th>\n",
       "      <th>A_region_family</th>\n",
       "      <th>A_region_class</th>\n",
       "      <th>B_region_name</th>\n",
       "      <th>B_region_family</th>\n",
       "      <th>B_region_class</th>\n",
       "      <th>A_repitiveRegion_dist</th>\n",
       "      <th>B_repitiveRegion_dist</th>\n",
       "      <th>A_cov_repRegion</th>\n",
       "      <th>B_cov_repRegion</th>\n",
       "      <th>A_SegDup_dist</th>\n",
       "      <th>B_SegDup_dist</th>\n",
       "      <th>A_cov_segDup</th>\n",
       "      <th>B_cov_segDup</th>\n",
       "      <th>sD_pair</th>\n",
       "      <th>dist_Centromere</th>\n",
       "      <th>dist_Telomere</th>\n",
       "      <th>GC_perc_A</th>\n",
       "      <th>GC_perc_B</th>\n",
       "      <th>Dust_A</th>\n",
       "      <th>Dust_B</th>\n",
       "      <th>A_cov_Exons</th>\n",
       "      <th>A_cov_Introns</th>\n",
       "      <th>B_cov_Exons</th>\n",
       "      <th>B_cov_Introns</th>\n",
       "      <th>A_Lamina_score</th>\n",
       "      <th>B_Lamina_score</th>\n",
       "      <th>A_CpGi_dist</th>\n",
       "      <th>B_CpGi_dist</th>\n",
       "      <th>A_TAD_dist_Log</th>\n",
       "      <th>B_TAD_dist_Log</th>\n",
       "      <th>target</th>\n",
       "    </tr>\n",
       "  </thead>\n",
       "  <tbody>\n",
       "    <tr>\n",
       "      <th>3</th>\n",
       "      <td>DGRC_DEL_1012</td>\n",
       "      <td>0.001620</td>\n",
       "      <td>0.000997</td>\n",
       "      <td>L1MCa</td>\n",
       "      <td>L1</td>\n",
       "      <td>Rep_LINE</td>\n",
       "      <td>AluJb</td>\n",
       "      <td>Alu</td>\n",
       "      <td>Rep_SINE</td>\n",
       "      <td>0.0</td>\n",
       "      <td>0.0</td>\n",
       "      <td>0.911694</td>\n",
       "      <td>0.563723</td>\n",
       "      <td>0.231521</td>\n",
       "      <td>0.175188</td>\n",
       "      <td>0.0</td>\n",
       "      <td>0.000000</td>\n",
       "      <td>False</td>\n",
       "      <td>1.984803</td>\n",
       "      <td>1.433342</td>\n",
       "      <td>0.426738</td>\n",
       "      <td>0.448696</td>\n",
       "      <td>0.094375</td>\n",
       "      <td>0.037602</td>\n",
       "      <td>0.000000</td>\n",
       "      <td>0.000000</td>\n",
       "      <td>0.000000</td>\n",
       "      <td>0.000000</td>\n",
       "      <td>0.899469</td>\n",
       "      <td>0.892851</td>\n",
       "      <td>0.007365</td>\n",
       "      <td>0.008736</td>\n",
       "      <td>0.037238</td>\n",
       "      <td>0.126782</td>\n",
       "      <td>0</td>\n",
       "    </tr>\n",
       "    <tr>\n",
       "      <th>4</th>\n",
       "      <td>DGRC_DEL_135</td>\n",
       "      <td>0.000372</td>\n",
       "      <td>0.000316</td>\n",
       "      <td>L1MB7</td>\n",
       "      <td>L1</td>\n",
       "      <td>Rep_LINE</td>\n",
       "      <td>L1MB7</td>\n",
       "      <td>L1</td>\n",
       "      <td>Rep_LINE</td>\n",
       "      <td>0.0</td>\n",
       "      <td>0.0</td>\n",
       "      <td>0.574766</td>\n",
       "      <td>0.998628</td>\n",
       "      <td>0.171148</td>\n",
       "      <td>0.170375</td>\n",
       "      <td>0.0</td>\n",
       "      <td>0.000000</td>\n",
       "      <td>False</td>\n",
       "      <td>1.620705</td>\n",
       "      <td>1.913421</td>\n",
       "      <td>0.367442</td>\n",
       "      <td>0.317007</td>\n",
       "      <td>0.036770</td>\n",
       "      <td>0.110807</td>\n",
       "      <td>0.000000</td>\n",
       "      <td>0.000000</td>\n",
       "      <td>0.000000</td>\n",
       "      <td>0.000000</td>\n",
       "      <td>0.925017</td>\n",
       "      <td>0.925017</td>\n",
       "      <td>0.205131</td>\n",
       "      <td>0.268176</td>\n",
       "      <td>0.239282</td>\n",
       "      <td>0.196997</td>\n",
       "      <td>0</td>\n",
       "    </tr>\n",
       "    <tr>\n",
       "      <th>5</th>\n",
       "      <td>DGRC_DEL_930</td>\n",
       "      <td>0.001610</td>\n",
       "      <td>0.001370</td>\n",
       "      <td>L1MA7</td>\n",
       "      <td>L1</td>\n",
       "      <td>Rep_LINE</td>\n",
       "      <td>LTR49-int</td>\n",
       "      <td>ERV1</td>\n",
       "      <td>Rep_LTR</td>\n",
       "      <td>0.0</td>\n",
       "      <td>0.0</td>\n",
       "      <td>0.828487</td>\n",
       "      <td>0.858183</td>\n",
       "      <td>0.430496</td>\n",
       "      <td>0.412131</td>\n",
       "      <td>0.0</td>\n",
       "      <td>0.000000</td>\n",
       "      <td>False</td>\n",
       "      <td>1.236011</td>\n",
       "      <td>2.027199</td>\n",
       "      <td>0.383065</td>\n",
       "      <td>0.331122</td>\n",
       "      <td>0.077418</td>\n",
       "      <td>0.084517</td>\n",
       "      <td>0.000000</td>\n",
       "      <td>0.000000</td>\n",
       "      <td>0.000000</td>\n",
       "      <td>0.000000</td>\n",
       "      <td>0.913537</td>\n",
       "      <td>0.913537</td>\n",
       "      <td>0.468814</td>\n",
       "      <td>0.203230</td>\n",
       "      <td>0.432882</td>\n",
       "      <td>0.515338</td>\n",
       "      <td>0</td>\n",
       "    </tr>\n",
       "    <tr>\n",
       "      <th>6</th>\n",
       "      <td>DGRC_DEL_697</td>\n",
       "      <td>0.001373</td>\n",
       "      <td>0.001369</td>\n",
       "      <td>THE1D</td>\n",
       "      <td>ERVL-MaLR</td>\n",
       "      <td>Rep_LTR</td>\n",
       "      <td>HAL1</td>\n",
       "      <td>L1</td>\n",
       "      <td>Rep_LINE</td>\n",
       "      <td>0.0</td>\n",
       "      <td>0.0</td>\n",
       "      <td>0.374289</td>\n",
       "      <td>0.851172</td>\n",
       "      <td>0.535198</td>\n",
       "      <td>0.358772</td>\n",
       "      <td>0.0</td>\n",
       "      <td>0.000000</td>\n",
       "      <td>False</td>\n",
       "      <td>1.022754</td>\n",
       "      <td>2.053611</td>\n",
       "      <td>0.449211</td>\n",
       "      <td>0.403165</td>\n",
       "      <td>0.026068</td>\n",
       "      <td>0.080508</td>\n",
       "      <td>0.000000</td>\n",
       "      <td>0.000000</td>\n",
       "      <td>0.000000</td>\n",
       "      <td>0.000000</td>\n",
       "      <td>0.901789</td>\n",
       "      <td>0.901789</td>\n",
       "      <td>0.062338</td>\n",
       "      <td>0.090121</td>\n",
       "      <td>0.231852</td>\n",
       "      <td>0.077273</td>\n",
       "      <td>0</td>\n",
       "    </tr>\n",
       "    <tr>\n",
       "      <th>7</th>\n",
       "      <td>DGRC_DEL_516</td>\n",
       "      <td>0.000598</td>\n",
       "      <td>0.000957</td>\n",
       "      <td>L1ME1</td>\n",
       "      <td>L1</td>\n",
       "      <td>Rep_LINE</td>\n",
       "      <td>LTR14B</td>\n",
       "      <td>ERVK</td>\n",
       "      <td>Rep_LTR</td>\n",
       "      <td>0.0</td>\n",
       "      <td>0.0</td>\n",
       "      <td>0.578794</td>\n",
       "      <td>0.367014</td>\n",
       "      <td>0.000398</td>\n",
       "      <td>0.067159</td>\n",
       "      <td>0.0</td>\n",
       "      <td>0.000000</td>\n",
       "      <td>False</td>\n",
       "      <td>1.454584</td>\n",
       "      <td>1.988241</td>\n",
       "      <td>0.329710</td>\n",
       "      <td>0.421670</td>\n",
       "      <td>0.061117</td>\n",
       "      <td>0.018873</td>\n",
       "      <td>0.000000</td>\n",
       "      <td>0.000000</td>\n",
       "      <td>0.000000</td>\n",
       "      <td>0.000000</td>\n",
       "      <td>0.946181</td>\n",
       "      <td>0.946181</td>\n",
       "      <td>0.027652</td>\n",
       "      <td>0.215115</td>\n",
       "      <td>0.187954</td>\n",
       "      <td>0.230456</td>\n",
       "      <td>0</td>\n",
       "    </tr>\n",
       "    <tr>\n",
       "      <th>...</th>\n",
       "      <td>...</td>\n",
       "      <td>...</td>\n",
       "      <td>...</td>\n",
       "      <td>...</td>\n",
       "      <td>...</td>\n",
       "      <td>...</td>\n",
       "      <td>...</td>\n",
       "      <td>...</td>\n",
       "      <td>...</td>\n",
       "      <td>...</td>\n",
       "      <td>...</td>\n",
       "      <td>...</td>\n",
       "      <td>...</td>\n",
       "      <td>...</td>\n",
       "      <td>...</td>\n",
       "      <td>...</td>\n",
       "      <td>...</td>\n",
       "      <td>...</td>\n",
       "      <td>...</td>\n",
       "      <td>...</td>\n",
       "      <td>...</td>\n",
       "      <td>...</td>\n",
       "      <td>...</td>\n",
       "      <td>...</td>\n",
       "      <td>...</td>\n",
       "      <td>...</td>\n",
       "      <td>...</td>\n",
       "      <td>...</td>\n",
       "      <td>...</td>\n",
       "      <td>...</td>\n",
       "      <td>...</td>\n",
       "      <td>...</td>\n",
       "      <td>...</td>\n",
       "      <td>...</td>\n",
       "      <td>...</td>\n",
       "    </tr>\n",
       "    <tr>\n",
       "      <th>19990</th>\n",
       "      <td>DGRC_DEL_1432</td>\n",
       "      <td>0.000610</td>\n",
       "      <td>0.003348</td>\n",
       "      <td>SST1</td>\n",
       "      <td>centr</td>\n",
       "      <td>Rep_Satellite</td>\n",
       "      <td>SST1</td>\n",
       "      <td>centr</td>\n",
       "      <td>Rep_Satellite</td>\n",
       "      <td>0.0</td>\n",
       "      <td>0.0</td>\n",
       "      <td>0.632740</td>\n",
       "      <td>0.803618</td>\n",
       "      <td>0.006947</td>\n",
       "      <td>0.000000</td>\n",
       "      <td>0.0</td>\n",
       "      <td>0.252842</td>\n",
       "      <td>False</td>\n",
       "      <td>0.305041</td>\n",
       "      <td>1.355400</td>\n",
       "      <td>0.568683</td>\n",
       "      <td>0.592382</td>\n",
       "      <td>0.059977</td>\n",
       "      <td>0.066641</td>\n",
       "      <td>0.000000</td>\n",
       "      <td>0.000000</td>\n",
       "      <td>0.000000</td>\n",
       "      <td>0.000000</td>\n",
       "      <td>0.868840</td>\n",
       "      <td>0.874911</td>\n",
       "      <td>0.007963</td>\n",
       "      <td>0.005866</td>\n",
       "      <td>0.015320</td>\n",
       "      <td>0.130597</td>\n",
       "      <td>0</td>\n",
       "    </tr>\n",
       "    <tr>\n",
       "      <th>19991</th>\n",
       "      <td>DGRC_DEL_1092</td>\n",
       "      <td>0.003078</td>\n",
       "      <td>0.000167</td>\n",
       "      <td>MER4A1</td>\n",
       "      <td>ERV1</td>\n",
       "      <td>Rep_LTR</td>\n",
       "      <td>MIRb</td>\n",
       "      <td>MIR</td>\n",
       "      <td>Rep_SINE</td>\n",
       "      <td>0.0</td>\n",
       "      <td>0.0</td>\n",
       "      <td>0.321102</td>\n",
       "      <td>0.264935</td>\n",
       "      <td>0.047828</td>\n",
       "      <td>290.956983</td>\n",
       "      <td>0.0</td>\n",
       "      <td>0.000000</td>\n",
       "      <td>False</td>\n",
       "      <td>1.772647</td>\n",
       "      <td>0.208145</td>\n",
       "      <td>0.523963</td>\n",
       "      <td>0.589744</td>\n",
       "      <td>0.025186</td>\n",
       "      <td>0.007759</td>\n",
       "      <td>0.000000</td>\n",
       "      <td>1.000000</td>\n",
       "      <td>0.000000</td>\n",
       "      <td>1.000000</td>\n",
       "      <td>0.913646</td>\n",
       "      <td>0.913646</td>\n",
       "      <td>0.000000</td>\n",
       "      <td>0.003060</td>\n",
       "      <td>0.024148</td>\n",
       "      <td>0.210723</td>\n",
       "      <td>0</td>\n",
       "    </tr>\n",
       "    <tr>\n",
       "      <th>19992</th>\n",
       "      <td>DGRC_DEL_1434</td>\n",
       "      <td>0.001695</td>\n",
       "      <td>0.002702</td>\n",
       "      <td>AluSg</td>\n",
       "      <td>Alu</td>\n",
       "      <td>Rep_SINE</td>\n",
       "      <td>MER1A</td>\n",
       "      <td>hAT-Charlie</td>\n",
       "      <td>Rep_DNA</td>\n",
       "      <td>0.0</td>\n",
       "      <td>0.0</td>\n",
       "      <td>0.110742</td>\n",
       "      <td>0.260695</td>\n",
       "      <td>0.160313</td>\n",
       "      <td>290.956983</td>\n",
       "      <td>0.0</td>\n",
       "      <td>0.000000</td>\n",
       "      <td>False</td>\n",
       "      <td>1.775036</td>\n",
       "      <td>0.110595</td>\n",
       "      <td>0.442656</td>\n",
       "      <td>0.535629</td>\n",
       "      <td>0.003310</td>\n",
       "      <td>0.023212</td>\n",
       "      <td>0.178261</td>\n",
       "      <td>0.821739</td>\n",
       "      <td>0.088447</td>\n",
       "      <td>0.911553</td>\n",
       "      <td>0.941108</td>\n",
       "      <td>0.941108</td>\n",
       "      <td>0.013881</td>\n",
       "      <td>0.000000</td>\n",
       "      <td>0.142151</td>\n",
       "      <td>0.111859</td>\n",
       "      <td>0</td>\n",
       "    </tr>\n",
       "    <tr>\n",
       "      <th>19993</th>\n",
       "      <td>DGRC_DEL_1291</td>\n",
       "      <td>0.003563</td>\n",
       "      <td>0.001648</td>\n",
       "      <td>MER5A1</td>\n",
       "      <td>hAT-Charlie</td>\n",
       "      <td>Rep_DNA</td>\n",
       "      <td>MER5A1</td>\n",
       "      <td>hAT-Charlie</td>\n",
       "      <td>Rep_DNA</td>\n",
       "      <td>0.0</td>\n",
       "      <td>0.0</td>\n",
       "      <td>0.056082</td>\n",
       "      <td>0.058127</td>\n",
       "      <td>0.000000</td>\n",
       "      <td>0.000000</td>\n",
       "      <td>1.0</td>\n",
       "      <td>1.000000</td>\n",
       "      <td>False</td>\n",
       "      <td>0.340129</td>\n",
       "      <td>2.164332</td>\n",
       "      <td>0.350637</td>\n",
       "      <td>0.363732</td>\n",
       "      <td>0.000362</td>\n",
       "      <td>0.000277</td>\n",
       "      <td>0.048555</td>\n",
       "      <td>0.951445</td>\n",
       "      <td>0.052604</td>\n",
       "      <td>0.947396</td>\n",
       "      <td>0.919415</td>\n",
       "      <td>0.919415</td>\n",
       "      <td>0.027908</td>\n",
       "      <td>0.144720</td>\n",
       "      <td>0.008674</td>\n",
       "      <td>0.122482</td>\n",
       "      <td>0</td>\n",
       "    </tr>\n",
       "    <tr>\n",
       "      <th>19994</th>\n",
       "      <td>DGRC_DEL_239</td>\n",
       "      <td>0.002168</td>\n",
       "      <td>0.001203</td>\n",
       "      <td>L1MDa</td>\n",
       "      <td>L1</td>\n",
       "      <td>Rep_LINE</td>\n",
       "      <td>L1ME1</td>\n",
       "      <td>L1</td>\n",
       "      <td>Rep_LINE</td>\n",
       "      <td>0.0</td>\n",
       "      <td>0.0</td>\n",
       "      <td>0.994406</td>\n",
       "      <td>0.737658</td>\n",
       "      <td>0.004606</td>\n",
       "      <td>0.003754</td>\n",
       "      <td>0.0</td>\n",
       "      <td>0.000000</td>\n",
       "      <td>False</td>\n",
       "      <td>1.430581</td>\n",
       "      <td>1.525522</td>\n",
       "      <td>0.381019</td>\n",
       "      <td>0.380935</td>\n",
       "      <td>0.110889</td>\n",
       "      <td>0.055220</td>\n",
       "      <td>0.000000</td>\n",
       "      <td>0.000000</td>\n",
       "      <td>0.054054</td>\n",
       "      <td>0.000000</td>\n",
       "      <td>0.906433</td>\n",
       "      <td>0.906433</td>\n",
       "      <td>0.008366</td>\n",
       "      <td>0.013961</td>\n",
       "      <td>0.127688</td>\n",
       "      <td>0.237693</td>\n",
       "      <td>0</td>\n",
       "    </tr>\n",
       "  </tbody>\n",
       "</table>\n",
       "<p>3344 rows × 35 columns</p>\n",
       "</div>"
      ],
      "text/plain": [
       "              CNV_ID    A_size    B_size A_region_name A_region_family  \\\n",
       "3      DGRC_DEL_1012  0.001620  0.000997         L1MCa              L1   \n",
       "4       DGRC_DEL_135  0.000372  0.000316         L1MB7              L1   \n",
       "5       DGRC_DEL_930  0.001610  0.001370         L1MA7              L1   \n",
       "6       DGRC_DEL_697  0.001373  0.001369         THE1D       ERVL-MaLR   \n",
       "7       DGRC_DEL_516  0.000598  0.000957         L1ME1              L1   \n",
       "...              ...       ...       ...           ...             ...   \n",
       "19990  DGRC_DEL_1432  0.000610  0.003348          SST1           centr   \n",
       "19991  DGRC_DEL_1092  0.003078  0.000167        MER4A1            ERV1   \n",
       "19992  DGRC_DEL_1434  0.001695  0.002702         AluSg             Alu   \n",
       "19993  DGRC_DEL_1291  0.003563  0.001648        MER5A1     hAT-Charlie   \n",
       "19994   DGRC_DEL_239  0.002168  0.001203         L1MDa              L1   \n",
       "\n",
       "      A_region_class B_region_name B_region_family B_region_class  \\\n",
       "3           Rep_LINE         AluJb             Alu       Rep_SINE   \n",
       "4           Rep_LINE         L1MB7              L1       Rep_LINE   \n",
       "5           Rep_LINE     LTR49-int            ERV1        Rep_LTR   \n",
       "6            Rep_LTR          HAL1              L1       Rep_LINE   \n",
       "7           Rep_LINE        LTR14B            ERVK        Rep_LTR   \n",
       "...              ...           ...             ...            ...   \n",
       "19990  Rep_Satellite          SST1           centr  Rep_Satellite   \n",
       "19991        Rep_LTR          MIRb             MIR       Rep_SINE   \n",
       "19992       Rep_SINE         MER1A     hAT-Charlie        Rep_DNA   \n",
       "19993        Rep_DNA        MER5A1     hAT-Charlie        Rep_DNA   \n",
       "19994       Rep_LINE         L1ME1              L1       Rep_LINE   \n",
       "\n",
       "       A_repitiveRegion_dist  B_repitiveRegion_dist  A_cov_repRegion  \\\n",
       "3                        0.0                    0.0         0.911694   \n",
       "4                        0.0                    0.0         0.574766   \n",
       "5                        0.0                    0.0         0.828487   \n",
       "6                        0.0                    0.0         0.374289   \n",
       "7                        0.0                    0.0         0.578794   \n",
       "...                      ...                    ...              ...   \n",
       "19990                    0.0                    0.0         0.632740   \n",
       "19991                    0.0                    0.0         0.321102   \n",
       "19992                    0.0                    0.0         0.110742   \n",
       "19993                    0.0                    0.0         0.056082   \n",
       "19994                    0.0                    0.0         0.994406   \n",
       "\n",
       "       B_cov_repRegion  A_SegDup_dist  B_SegDup_dist  A_cov_segDup  \\\n",
       "3             0.563723       0.231521       0.175188           0.0   \n",
       "4             0.998628       0.171148       0.170375           0.0   \n",
       "5             0.858183       0.430496       0.412131           0.0   \n",
       "6             0.851172       0.535198       0.358772           0.0   \n",
       "7             0.367014       0.000398       0.067159           0.0   \n",
       "...                ...            ...            ...           ...   \n",
       "19990         0.803618       0.006947       0.000000           0.0   \n",
       "19991         0.264935       0.047828     290.956983           0.0   \n",
       "19992         0.260695       0.160313     290.956983           0.0   \n",
       "19993         0.058127       0.000000       0.000000           1.0   \n",
       "19994         0.737658       0.004606       0.003754           0.0   \n",
       "\n",
       "       B_cov_segDup  sD_pair  dist_Centromere  dist_Telomere  GC_perc_A  \\\n",
       "3          0.000000    False         1.984803       1.433342   0.426738   \n",
       "4          0.000000    False         1.620705       1.913421   0.367442   \n",
       "5          0.000000    False         1.236011       2.027199   0.383065   \n",
       "6          0.000000    False         1.022754       2.053611   0.449211   \n",
       "7          0.000000    False         1.454584       1.988241   0.329710   \n",
       "...             ...      ...              ...            ...        ...   \n",
       "19990      0.252842    False         0.305041       1.355400   0.568683   \n",
       "19991      0.000000    False         1.772647       0.208145   0.523963   \n",
       "19992      0.000000    False         1.775036       0.110595   0.442656   \n",
       "19993      1.000000    False         0.340129       2.164332   0.350637   \n",
       "19994      0.000000    False         1.430581       1.525522   0.381019   \n",
       "\n",
       "       GC_perc_B    Dust_A    Dust_B  A_cov_Exons  A_cov_Introns  B_cov_Exons  \\\n",
       "3       0.448696  0.094375  0.037602     0.000000       0.000000     0.000000   \n",
       "4       0.317007  0.036770  0.110807     0.000000       0.000000     0.000000   \n",
       "5       0.331122  0.077418  0.084517     0.000000       0.000000     0.000000   \n",
       "6       0.403165  0.026068  0.080508     0.000000       0.000000     0.000000   \n",
       "7       0.421670  0.061117  0.018873     0.000000       0.000000     0.000000   \n",
       "...          ...       ...       ...          ...            ...          ...   \n",
       "19990   0.592382  0.059977  0.066641     0.000000       0.000000     0.000000   \n",
       "19991   0.589744  0.025186  0.007759     0.000000       1.000000     0.000000   \n",
       "19992   0.535629  0.003310  0.023212     0.178261       0.821739     0.088447   \n",
       "19993   0.363732  0.000362  0.000277     0.048555       0.951445     0.052604   \n",
       "19994   0.380935  0.110889  0.055220     0.000000       0.000000     0.054054   \n",
       "\n",
       "       B_cov_Introns  A_Lamina_score  B_Lamina_score  A_CpGi_dist  \\\n",
       "3           0.000000        0.899469        0.892851     0.007365   \n",
       "4           0.000000        0.925017        0.925017     0.205131   \n",
       "5           0.000000        0.913537        0.913537     0.468814   \n",
       "6           0.000000        0.901789        0.901789     0.062338   \n",
       "7           0.000000        0.946181        0.946181     0.027652   \n",
       "...              ...             ...             ...          ...   \n",
       "19990       0.000000        0.868840        0.874911     0.007963   \n",
       "19991       1.000000        0.913646        0.913646     0.000000   \n",
       "19992       0.911553        0.941108        0.941108     0.013881   \n",
       "19993       0.947396        0.919415        0.919415     0.027908   \n",
       "19994       0.000000        0.906433        0.906433     0.008366   \n",
       "\n",
       "       B_CpGi_dist  A_TAD_dist_Log  B_TAD_dist_Log  target  \n",
       "3         0.008736        0.037238        0.126782       0  \n",
       "4         0.268176        0.239282        0.196997       0  \n",
       "5         0.203230        0.432882        0.515338       0  \n",
       "6         0.090121        0.231852        0.077273       0  \n",
       "7         0.215115        0.187954        0.230456       0  \n",
       "...            ...             ...             ...     ...  \n",
       "19990     0.005866        0.015320        0.130597       0  \n",
       "19991     0.003060        0.024148        0.210723       0  \n",
       "19992     0.000000        0.142151        0.111859       0  \n",
       "19993     0.144720        0.008674        0.122482       0  \n",
       "19994     0.013961        0.127688        0.237693       0  \n",
       "\n",
       "[3344 rows x 35 columns]"
      ]
     },
     "execution_count": 23,
     "metadata": {},
     "output_type": "execute_result"
    }
   ],
   "source": [
    "df_dels #old 3019"
   ]
  },
  {
   "cell_type": "markdown",
   "metadata": {},
   "source": [
    "## Check for outliers:"
   ]
  },
  {
   "cell_type": "code",
   "execution_count": null,
   "metadata": {},
   "outputs": [],
   "source": []
  },
  {
   "cell_type": "markdown",
   "metadata": {},
   "source": [
    "def look_for_outliers(dataframe):\n",
    "    \"\"\"\n",
    "    \"\"\"\n",
    "    target = dataframe.columns[-1]\n",
    "    #display(dataframe[target])\n",
    "    cols = dataframe.drop([\"CNV_ID\"], axis=1).columns\n",
    "    for var in cols:\n",
    "        data = pd.concat([dataframe[target], dataframe[var]], axis=1)\n",
    "        data.plot.scatter(x=var, y=target, ylim=(-1,3), xlim=(dataframe[var].min(),dataframe[var].max()),figsize=(26, 4))\n",
    "\n",
    "    "
   ]
  },
  {
   "cell_type": "markdown",
   "metadata": {},
   "source": [
    "look_for_outliers(df_dels)"
   ]
  },
  {
   "cell_type": "code",
   "execution_count": 24,
   "metadata": {},
   "outputs": [],
   "source": [
    "#look_for_outliers(df_dups)"
   ]
  },
  {
   "cell_type": "markdown",
   "metadata": {},
   "source": [
    "## PCA:"
   ]
  },
  {
   "cell_type": "code",
   "execution_count": 25,
   "metadata": {},
   "outputs": [
    {
     "data": {
      "text/html": [
       "<div>\n",
       "<style scoped>\n",
       "    .dataframe tbody tr th:only-of-type {\n",
       "        vertical-align: middle;\n",
       "    }\n",
       "\n",
       "    .dataframe tbody tr th {\n",
       "        vertical-align: top;\n",
       "    }\n",
       "\n",
       "    .dataframe thead th {\n",
       "        text-align: right;\n",
       "    }\n",
       "</style>\n",
       "<table border=\"1\" class=\"dataframe\">\n",
       "  <thead>\n",
       "    <tr style=\"text-align: right;\">\n",
       "      <th></th>\n",
       "      <th>CNV_ID</th>\n",
       "      <th>A_size</th>\n",
       "      <th>B_size</th>\n",
       "      <th>A_region_name</th>\n",
       "      <th>A_region_family</th>\n",
       "      <th>A_region_class</th>\n",
       "      <th>B_region_name</th>\n",
       "      <th>B_region_family</th>\n",
       "      <th>B_region_class</th>\n",
       "      <th>A_repitiveRegion_dist</th>\n",
       "      <th>B_repitiveRegion_dist</th>\n",
       "      <th>A_cov_repRegion</th>\n",
       "      <th>B_cov_repRegion</th>\n",
       "      <th>A_SegDup_dist</th>\n",
       "      <th>B_SegDup_dist</th>\n",
       "      <th>A_cov_segDup</th>\n",
       "      <th>B_cov_segDup</th>\n",
       "      <th>sD_pair</th>\n",
       "      <th>dist_Centromere</th>\n",
       "      <th>dist_Telomere</th>\n",
       "      <th>GC_perc_A</th>\n",
       "      <th>GC_perc_B</th>\n",
       "      <th>Dust_A</th>\n",
       "      <th>Dust_B</th>\n",
       "      <th>A_cov_Exons</th>\n",
       "      <th>A_cov_Introns</th>\n",
       "      <th>B_cov_Exons</th>\n",
       "      <th>B_cov_Introns</th>\n",
       "      <th>A_Lamina_score</th>\n",
       "      <th>B_Lamina_score</th>\n",
       "      <th>A_CpGi_dist</th>\n",
       "      <th>B_CpGi_dist</th>\n",
       "      <th>A_TAD_dist_Log</th>\n",
       "      <th>B_TAD_dist_Log</th>\n",
       "      <th>target</th>\n",
       "    </tr>\n",
       "  </thead>\n",
       "  <tbody>\n",
       "    <tr>\n",
       "      <th>3</th>\n",
       "      <td>DGRC_DEL_1012</td>\n",
       "      <td>0.001620</td>\n",
       "      <td>0.000997</td>\n",
       "      <td>300.0</td>\n",
       "      <td>251.0</td>\n",
       "      <td>756.0</td>\n",
       "      <td>125.0</td>\n",
       "      <td>124.0</td>\n",
       "      <td>763.0</td>\n",
       "      <td>0.0</td>\n",
       "      <td>0.0</td>\n",
       "      <td>0.911694</td>\n",
       "      <td>0.563723</td>\n",
       "      <td>0.231521</td>\n",
       "      <td>0.175188</td>\n",
       "      <td>0.0</td>\n",
       "      <td>0.000000</td>\n",
       "      <td>0</td>\n",
       "      <td>1.984803</td>\n",
       "      <td>1.433342</td>\n",
       "      <td>0.426738</td>\n",
       "      <td>0.448696</td>\n",
       "      <td>0.094375</td>\n",
       "      <td>0.037602</td>\n",
       "      <td>0.000000</td>\n",
       "      <td>0.000000</td>\n",
       "      <td>0.000000</td>\n",
       "      <td>0.000000</td>\n",
       "      <td>0.899469</td>\n",
       "      <td>0.892851</td>\n",
       "      <td>0.007365</td>\n",
       "      <td>0.008736</td>\n",
       "      <td>0.037238</td>\n",
       "      <td>0.126782</td>\n",
       "      <td>0</td>\n",
       "    </tr>\n",
       "    <tr>\n",
       "      <th>4</th>\n",
       "      <td>DGRC_DEL_135</td>\n",
       "      <td>0.000372</td>\n",
       "      <td>0.000316</td>\n",
       "      <td>290.0</td>\n",
       "      <td>251.0</td>\n",
       "      <td>756.0</td>\n",
       "      <td>290.0</td>\n",
       "      <td>251.0</td>\n",
       "      <td>756.0</td>\n",
       "      <td>0.0</td>\n",
       "      <td>0.0</td>\n",
       "      <td>0.574766</td>\n",
       "      <td>0.998628</td>\n",
       "      <td>0.171148</td>\n",
       "      <td>0.170375</td>\n",
       "      <td>0.0</td>\n",
       "      <td>0.000000</td>\n",
       "      <td>0</td>\n",
       "      <td>1.620705</td>\n",
       "      <td>1.913421</td>\n",
       "      <td>0.367442</td>\n",
       "      <td>0.317007</td>\n",
       "      <td>0.036770</td>\n",
       "      <td>0.110807</td>\n",
       "      <td>0.000000</td>\n",
       "      <td>0.000000</td>\n",
       "      <td>0.000000</td>\n",
       "      <td>0.000000</td>\n",
       "      <td>0.925017</td>\n",
       "      <td>0.925017</td>\n",
       "      <td>0.205131</td>\n",
       "      <td>0.268176</td>\n",
       "      <td>0.239282</td>\n",
       "      <td>0.196997</td>\n",
       "      <td>0</td>\n",
       "    </tr>\n",
       "    <tr>\n",
       "      <th>5</th>\n",
       "      <td>DGRC_DEL_930</td>\n",
       "      <td>0.001610</td>\n",
       "      <td>0.001370</td>\n",
       "      <td>282.0</td>\n",
       "      <td>251.0</td>\n",
       "      <td>756.0</td>\n",
       "      <td>468.0</td>\n",
       "      <td>195.0</td>\n",
       "      <td>757.0</td>\n",
       "      <td>0.0</td>\n",
       "      <td>0.0</td>\n",
       "      <td>0.828487</td>\n",
       "      <td>0.858183</td>\n",
       "      <td>0.430496</td>\n",
       "      <td>0.412131</td>\n",
       "      <td>0.0</td>\n",
       "      <td>0.000000</td>\n",
       "      <td>0</td>\n",
       "      <td>1.236011</td>\n",
       "      <td>2.027199</td>\n",
       "      <td>0.383065</td>\n",
       "      <td>0.331122</td>\n",
       "      <td>0.077418</td>\n",
       "      <td>0.084517</td>\n",
       "      <td>0.000000</td>\n",
       "      <td>0.000000</td>\n",
       "      <td>0.000000</td>\n",
       "      <td>0.000000</td>\n",
       "      <td>0.913537</td>\n",
       "      <td>0.913537</td>\n",
       "      <td>0.468814</td>\n",
       "      <td>0.203230</td>\n",
       "      <td>0.432882</td>\n",
       "      <td>0.515338</td>\n",
       "      <td>0</td>\n",
       "    </tr>\n",
       "    <tr>\n",
       "      <th>6</th>\n",
       "      <td>DGRC_DEL_697</td>\n",
       "      <td>0.001373</td>\n",
       "      <td>0.001369</td>\n",
       "      <td>790.0</td>\n",
       "      <td>201.0</td>\n",
       "      <td>757.0</td>\n",
       "      <td>213.0</td>\n",
       "      <td>251.0</td>\n",
       "      <td>756.0</td>\n",
       "      <td>0.0</td>\n",
       "      <td>0.0</td>\n",
       "      <td>0.374289</td>\n",
       "      <td>0.851172</td>\n",
       "      <td>0.535198</td>\n",
       "      <td>0.358772</td>\n",
       "      <td>0.0</td>\n",
       "      <td>0.000000</td>\n",
       "      <td>0</td>\n",
       "      <td>1.022754</td>\n",
       "      <td>2.053611</td>\n",
       "      <td>0.449211</td>\n",
       "      <td>0.403165</td>\n",
       "      <td>0.026068</td>\n",
       "      <td>0.080508</td>\n",
       "      <td>0.000000</td>\n",
       "      <td>0.000000</td>\n",
       "      <td>0.000000</td>\n",
       "      <td>0.000000</td>\n",
       "      <td>0.901789</td>\n",
       "      <td>0.901789</td>\n",
       "      <td>0.062338</td>\n",
       "      <td>0.090121</td>\n",
       "      <td>0.231852</td>\n",
       "      <td>0.077273</td>\n",
       "      <td>0</td>\n",
       "    </tr>\n",
       "    <tr>\n",
       "      <th>7</th>\n",
       "      <td>DGRC_DEL_516</td>\n",
       "      <td>0.000598</td>\n",
       "      <td>0.000957</td>\n",
       "      <td>309.0</td>\n",
       "      <td>251.0</td>\n",
       "      <td>756.0</td>\n",
       "      <td>398.0</td>\n",
       "      <td>197.0</td>\n",
       "      <td>757.0</td>\n",
       "      <td>0.0</td>\n",
       "      <td>0.0</td>\n",
       "      <td>0.578794</td>\n",
       "      <td>0.367014</td>\n",
       "      <td>0.000398</td>\n",
       "      <td>0.067159</td>\n",
       "      <td>0.0</td>\n",
       "      <td>0.000000</td>\n",
       "      <td>0</td>\n",
       "      <td>1.454584</td>\n",
       "      <td>1.988241</td>\n",
       "      <td>0.329710</td>\n",
       "      <td>0.421670</td>\n",
       "      <td>0.061117</td>\n",
       "      <td>0.018873</td>\n",
       "      <td>0.000000</td>\n",
       "      <td>0.000000</td>\n",
       "      <td>0.000000</td>\n",
       "      <td>0.000000</td>\n",
       "      <td>0.946181</td>\n",
       "      <td>0.946181</td>\n",
       "      <td>0.027652</td>\n",
       "      <td>0.215115</td>\n",
       "      <td>0.187954</td>\n",
       "      <td>0.230456</td>\n",
       "      <td>0</td>\n",
       "    </tr>\n",
       "    <tr>\n",
       "      <th>...</th>\n",
       "      <td>...</td>\n",
       "      <td>...</td>\n",
       "      <td>...</td>\n",
       "      <td>...</td>\n",
       "      <td>...</td>\n",
       "      <td>...</td>\n",
       "      <td>...</td>\n",
       "      <td>...</td>\n",
       "      <td>...</td>\n",
       "      <td>...</td>\n",
       "      <td>...</td>\n",
       "      <td>...</td>\n",
       "      <td>...</td>\n",
       "      <td>...</td>\n",
       "      <td>...</td>\n",
       "      <td>...</td>\n",
       "      <td>...</td>\n",
       "      <td>...</td>\n",
       "      <td>...</td>\n",
       "      <td>...</td>\n",
       "      <td>...</td>\n",
       "      <td>...</td>\n",
       "      <td>...</td>\n",
       "      <td>...</td>\n",
       "      <td>...</td>\n",
       "      <td>...</td>\n",
       "      <td>...</td>\n",
       "      <td>...</td>\n",
       "      <td>...</td>\n",
       "      <td>...</td>\n",
       "      <td>...</td>\n",
       "      <td>...</td>\n",
       "      <td>...</td>\n",
       "      <td>...</td>\n",
       "      <td>...</td>\n",
       "    </tr>\n",
       "    <tr>\n",
       "      <th>19990</th>\n",
       "      <td>DGRC_DEL_1432</td>\n",
       "      <td>0.000610</td>\n",
       "      <td>0.003348</td>\n",
       "      <td>774.0</td>\n",
       "      <td>825.0</td>\n",
       "      <td>764.0</td>\n",
       "      <td>774.0</td>\n",
       "      <td>825.0</td>\n",
       "      <td>764.0</td>\n",
       "      <td>0.0</td>\n",
       "      <td>0.0</td>\n",
       "      <td>0.632740</td>\n",
       "      <td>0.803618</td>\n",
       "      <td>0.006947</td>\n",
       "      <td>0.000000</td>\n",
       "      <td>0.0</td>\n",
       "      <td>0.252842</td>\n",
       "      <td>0</td>\n",
       "      <td>0.305041</td>\n",
       "      <td>1.355400</td>\n",
       "      <td>0.568683</td>\n",
       "      <td>0.592382</td>\n",
       "      <td>0.059977</td>\n",
       "      <td>0.066641</td>\n",
       "      <td>0.000000</td>\n",
       "      <td>0.000000</td>\n",
       "      <td>0.000000</td>\n",
       "      <td>0.000000</td>\n",
       "      <td>0.868840</td>\n",
       "      <td>0.874911</td>\n",
       "      <td>0.007963</td>\n",
       "      <td>0.005866</td>\n",
       "      <td>0.015320</td>\n",
       "      <td>0.130597</td>\n",
       "      <td>0</td>\n",
       "    </tr>\n",
       "    <tr>\n",
       "      <th>19991</th>\n",
       "      <td>DGRC_DEL_1092</td>\n",
       "      <td>0.003078</td>\n",
       "      <td>0.000167</td>\n",
       "      <td>580.0</td>\n",
       "      <td>195.0</td>\n",
       "      <td>757.0</td>\n",
       "      <td>660.0</td>\n",
       "      <td>657.0</td>\n",
       "      <td>763.0</td>\n",
       "      <td>0.0</td>\n",
       "      <td>0.0</td>\n",
       "      <td>0.321102</td>\n",
       "      <td>0.264935</td>\n",
       "      <td>0.047828</td>\n",
       "      <td>290.956983</td>\n",
       "      <td>0.0</td>\n",
       "      <td>0.000000</td>\n",
       "      <td>0</td>\n",
       "      <td>1.772647</td>\n",
       "      <td>0.208145</td>\n",
       "      <td>0.523963</td>\n",
       "      <td>0.589744</td>\n",
       "      <td>0.025186</td>\n",
       "      <td>0.007759</td>\n",
       "      <td>0.000000</td>\n",
       "      <td>1.000000</td>\n",
       "      <td>0.000000</td>\n",
       "      <td>1.000000</td>\n",
       "      <td>0.913646</td>\n",
       "      <td>0.913646</td>\n",
       "      <td>0.000000</td>\n",
       "      <td>0.003060</td>\n",
       "      <td>0.024148</td>\n",
       "      <td>0.210723</td>\n",
       "      <td>0</td>\n",
       "    </tr>\n",
       "    <tr>\n",
       "      <th>19992</th>\n",
       "      <td>DGRC_DEL_1434</td>\n",
       "      <td>0.001695</td>\n",
       "      <td>0.002702</td>\n",
       "      <td>132.0</td>\n",
       "      <td>124.0</td>\n",
       "      <td>763.0</td>\n",
       "      <td>538.0</td>\n",
       "      <td>829.0</td>\n",
       "      <td>754.0</td>\n",
       "      <td>0.0</td>\n",
       "      <td>0.0</td>\n",
       "      <td>0.110742</td>\n",
       "      <td>0.260695</td>\n",
       "      <td>0.160313</td>\n",
       "      <td>290.956983</td>\n",
       "      <td>0.0</td>\n",
       "      <td>0.000000</td>\n",
       "      <td>0</td>\n",
       "      <td>1.775036</td>\n",
       "      <td>0.110595</td>\n",
       "      <td>0.442656</td>\n",
       "      <td>0.535629</td>\n",
       "      <td>0.003310</td>\n",
       "      <td>0.023212</td>\n",
       "      <td>0.178261</td>\n",
       "      <td>0.821739</td>\n",
       "      <td>0.088447</td>\n",
       "      <td>0.911553</td>\n",
       "      <td>0.941108</td>\n",
       "      <td>0.941108</td>\n",
       "      <td>0.013881</td>\n",
       "      <td>0.000000</td>\n",
       "      <td>0.142151</td>\n",
       "      <td>0.111859</td>\n",
       "      <td>0</td>\n",
       "    </tr>\n",
       "    <tr>\n",
       "      <th>19993</th>\n",
       "      <td>DGRC_DEL_1291</td>\n",
       "      <td>0.003563</td>\n",
       "      <td>0.001648</td>\n",
       "      <td>609.0</td>\n",
       "      <td>829.0</td>\n",
       "      <td>754.0</td>\n",
       "      <td>609.0</td>\n",
       "      <td>829.0</td>\n",
       "      <td>754.0</td>\n",
       "      <td>0.0</td>\n",
       "      <td>0.0</td>\n",
       "      <td>0.056082</td>\n",
       "      <td>0.058127</td>\n",
       "      <td>0.000000</td>\n",
       "      <td>0.000000</td>\n",
       "      <td>1.0</td>\n",
       "      <td>1.000000</td>\n",
       "      <td>0</td>\n",
       "      <td>0.340129</td>\n",
       "      <td>2.164332</td>\n",
       "      <td>0.350637</td>\n",
       "      <td>0.363732</td>\n",
       "      <td>0.000362</td>\n",
       "      <td>0.000277</td>\n",
       "      <td>0.048555</td>\n",
       "      <td>0.951445</td>\n",
       "      <td>0.052604</td>\n",
       "      <td>0.947396</td>\n",
       "      <td>0.919415</td>\n",
       "      <td>0.919415</td>\n",
       "      <td>0.027908</td>\n",
       "      <td>0.144720</td>\n",
       "      <td>0.008674</td>\n",
       "      <td>0.122482</td>\n",
       "      <td>0</td>\n",
       "    </tr>\n",
       "    <tr>\n",
       "      <th>19994</th>\n",
       "      <td>DGRC_DEL_239</td>\n",
       "      <td>0.002168</td>\n",
       "      <td>0.001203</td>\n",
       "      <td>307.0</td>\n",
       "      <td>251.0</td>\n",
       "      <td>756.0</td>\n",
       "      <td>309.0</td>\n",
       "      <td>251.0</td>\n",
       "      <td>756.0</td>\n",
       "      <td>0.0</td>\n",
       "      <td>0.0</td>\n",
       "      <td>0.994406</td>\n",
       "      <td>0.737658</td>\n",
       "      <td>0.004606</td>\n",
       "      <td>0.003754</td>\n",
       "      <td>0.0</td>\n",
       "      <td>0.000000</td>\n",
       "      <td>0</td>\n",
       "      <td>1.430581</td>\n",
       "      <td>1.525522</td>\n",
       "      <td>0.381019</td>\n",
       "      <td>0.380935</td>\n",
       "      <td>0.110889</td>\n",
       "      <td>0.055220</td>\n",
       "      <td>0.000000</td>\n",
       "      <td>0.000000</td>\n",
       "      <td>0.054054</td>\n",
       "      <td>0.000000</td>\n",
       "      <td>0.906433</td>\n",
       "      <td>0.906433</td>\n",
       "      <td>0.008366</td>\n",
       "      <td>0.013961</td>\n",
       "      <td>0.127688</td>\n",
       "      <td>0.237693</td>\n",
       "      <td>0</td>\n",
       "    </tr>\n",
       "  </tbody>\n",
       "</table>\n",
       "<p>3344 rows × 35 columns</p>\n",
       "</div>"
      ],
      "text/plain": [
       "              CNV_ID    A_size    B_size  A_region_name  A_region_family  \\\n",
       "3      DGRC_DEL_1012  0.001620  0.000997          300.0            251.0   \n",
       "4       DGRC_DEL_135  0.000372  0.000316          290.0            251.0   \n",
       "5       DGRC_DEL_930  0.001610  0.001370          282.0            251.0   \n",
       "6       DGRC_DEL_697  0.001373  0.001369          790.0            201.0   \n",
       "7       DGRC_DEL_516  0.000598  0.000957          309.0            251.0   \n",
       "...              ...       ...       ...            ...              ...   \n",
       "19990  DGRC_DEL_1432  0.000610  0.003348          774.0            825.0   \n",
       "19991  DGRC_DEL_1092  0.003078  0.000167          580.0            195.0   \n",
       "19992  DGRC_DEL_1434  0.001695  0.002702          132.0            124.0   \n",
       "19993  DGRC_DEL_1291  0.003563  0.001648          609.0            829.0   \n",
       "19994   DGRC_DEL_239  0.002168  0.001203          307.0            251.0   \n",
       "\n",
       "       A_region_class  B_region_name  B_region_family  B_region_class  \\\n",
       "3               756.0          125.0            124.0           763.0   \n",
       "4               756.0          290.0            251.0           756.0   \n",
       "5               756.0          468.0            195.0           757.0   \n",
       "6               757.0          213.0            251.0           756.0   \n",
       "7               756.0          398.0            197.0           757.0   \n",
       "...               ...            ...              ...             ...   \n",
       "19990           764.0          774.0            825.0           764.0   \n",
       "19991           757.0          660.0            657.0           763.0   \n",
       "19992           763.0          538.0            829.0           754.0   \n",
       "19993           754.0          609.0            829.0           754.0   \n",
       "19994           756.0          309.0            251.0           756.0   \n",
       "\n",
       "       A_repitiveRegion_dist  B_repitiveRegion_dist  A_cov_repRegion  \\\n",
       "3                        0.0                    0.0         0.911694   \n",
       "4                        0.0                    0.0         0.574766   \n",
       "5                        0.0                    0.0         0.828487   \n",
       "6                        0.0                    0.0         0.374289   \n",
       "7                        0.0                    0.0         0.578794   \n",
       "...                      ...                    ...              ...   \n",
       "19990                    0.0                    0.0         0.632740   \n",
       "19991                    0.0                    0.0         0.321102   \n",
       "19992                    0.0                    0.0         0.110742   \n",
       "19993                    0.0                    0.0         0.056082   \n",
       "19994                    0.0                    0.0         0.994406   \n",
       "\n",
       "       B_cov_repRegion  A_SegDup_dist  B_SegDup_dist  A_cov_segDup  \\\n",
       "3             0.563723       0.231521       0.175188           0.0   \n",
       "4             0.998628       0.171148       0.170375           0.0   \n",
       "5             0.858183       0.430496       0.412131           0.0   \n",
       "6             0.851172       0.535198       0.358772           0.0   \n",
       "7             0.367014       0.000398       0.067159           0.0   \n",
       "...                ...            ...            ...           ...   \n",
       "19990         0.803618       0.006947       0.000000           0.0   \n",
       "19991         0.264935       0.047828     290.956983           0.0   \n",
       "19992         0.260695       0.160313     290.956983           0.0   \n",
       "19993         0.058127       0.000000       0.000000           1.0   \n",
       "19994         0.737658       0.004606       0.003754           0.0   \n",
       "\n",
       "       B_cov_segDup  sD_pair  dist_Centromere  dist_Telomere  GC_perc_A  \\\n",
       "3          0.000000        0         1.984803       1.433342   0.426738   \n",
       "4          0.000000        0         1.620705       1.913421   0.367442   \n",
       "5          0.000000        0         1.236011       2.027199   0.383065   \n",
       "6          0.000000        0         1.022754       2.053611   0.449211   \n",
       "7          0.000000        0         1.454584       1.988241   0.329710   \n",
       "...             ...      ...              ...            ...        ...   \n",
       "19990      0.252842        0         0.305041       1.355400   0.568683   \n",
       "19991      0.000000        0         1.772647       0.208145   0.523963   \n",
       "19992      0.000000        0         1.775036       0.110595   0.442656   \n",
       "19993      1.000000        0         0.340129       2.164332   0.350637   \n",
       "19994      0.000000        0         1.430581       1.525522   0.381019   \n",
       "\n",
       "       GC_perc_B    Dust_A    Dust_B  A_cov_Exons  A_cov_Introns  B_cov_Exons  \\\n",
       "3       0.448696  0.094375  0.037602     0.000000       0.000000     0.000000   \n",
       "4       0.317007  0.036770  0.110807     0.000000       0.000000     0.000000   \n",
       "5       0.331122  0.077418  0.084517     0.000000       0.000000     0.000000   \n",
       "6       0.403165  0.026068  0.080508     0.000000       0.000000     0.000000   \n",
       "7       0.421670  0.061117  0.018873     0.000000       0.000000     0.000000   \n",
       "...          ...       ...       ...          ...            ...          ...   \n",
       "19990   0.592382  0.059977  0.066641     0.000000       0.000000     0.000000   \n",
       "19991   0.589744  0.025186  0.007759     0.000000       1.000000     0.000000   \n",
       "19992   0.535629  0.003310  0.023212     0.178261       0.821739     0.088447   \n",
       "19993   0.363732  0.000362  0.000277     0.048555       0.951445     0.052604   \n",
       "19994   0.380935  0.110889  0.055220     0.000000       0.000000     0.054054   \n",
       "\n",
       "       B_cov_Introns  A_Lamina_score  B_Lamina_score  A_CpGi_dist  \\\n",
       "3           0.000000        0.899469        0.892851     0.007365   \n",
       "4           0.000000        0.925017        0.925017     0.205131   \n",
       "5           0.000000        0.913537        0.913537     0.468814   \n",
       "6           0.000000        0.901789        0.901789     0.062338   \n",
       "7           0.000000        0.946181        0.946181     0.027652   \n",
       "...              ...             ...             ...          ...   \n",
       "19990       0.000000        0.868840        0.874911     0.007963   \n",
       "19991       1.000000        0.913646        0.913646     0.000000   \n",
       "19992       0.911553        0.941108        0.941108     0.013881   \n",
       "19993       0.947396        0.919415        0.919415     0.027908   \n",
       "19994       0.000000        0.906433        0.906433     0.008366   \n",
       "\n",
       "       B_CpGi_dist  A_TAD_dist_Log  B_TAD_dist_Log  target  \n",
       "3         0.008736        0.037238        0.126782       0  \n",
       "4         0.268176        0.239282        0.196997       0  \n",
       "5         0.203230        0.432882        0.515338       0  \n",
       "6         0.090121        0.231852        0.077273       0  \n",
       "7         0.215115        0.187954        0.230456       0  \n",
       "...            ...             ...             ...     ...  \n",
       "19990     0.005866        0.015320        0.130597       0  \n",
       "19991     0.003060        0.024148        0.210723       0  \n",
       "19992     0.000000        0.142151        0.111859       0  \n",
       "19993     0.144720        0.008674        0.122482       0  \n",
       "19994     0.013961        0.127688        0.237693       0  \n",
       "\n",
       "[3344 rows x 35 columns]"
      ]
     },
     "execution_count": 25,
     "metadata": {},
     "output_type": "execute_result"
    }
   ],
   "source": [
    "#prepdata:\n",
    "df_del_PCA = df_dels.copy()\n",
    "df_del_PCA[['A_region_name','A_region_family','A_region_class','B_region_name','B_region_family','B_region_class']] = df_del_PCA[['A_region_name','A_region_family','A_region_class','B_region_name','B_region_family','B_region_class']].stack().rank(method='dense').unstack()\n",
    "#df_del_PCA[['sD_pair_A','sD_pair_B']] = df_del_PCA[['sD_pair_A','sD_pair_B']].stack().rank(method='dense').unstack()\n",
    "df_del_PCA['sD_pair'] = df_del_PCA['sD_pair'].astype(int)\n",
    "\n",
    "#df_del_PCA = df_del_PCA.drop(['A_region_name','A_region_family','A_region_class','B_region_name','B_region_family','B_region_class','sD_pair'],axis=1)\n",
    "\n",
    "\n",
    "df_del_PCA"
   ]
  },
  {
   "cell_type": "code",
   "execution_count": 26,
   "metadata": {},
   "outputs": [],
   "source": [
    "# libraries columns has to be removed for PCA R script:\n",
    "#df_del_PCA.drop(['librarie_liGS','librarie_mpGS','librarie_siGS'], axis=1, inplace=True)"
   ]
  },
  {
   "cell_type": "code",
   "execution_count": 27,
   "metadata": {},
   "outputs": [],
   "source": [
    "#Save it:\n",
    "outPATH = \"./datasetPCA/noRR_deletions/\"\n",
    "df_del_PCA.to_csv(outPATH + 'del_PCA_liGS_noRR.csv', sep = ';' ,index_label=False)"
   ]
  },
  {
   "cell_type": "code",
   "execution_count": 28,
   "metadata": {},
   "outputs": [],
   "source": [
    "#/"
   ]
  },
  {
   "cell_type": "code",
   "execution_count": 29,
   "metadata": {},
   "outputs": [],
   "source": [
    "from sklearn.decomposition import PCA"
   ]
  },
  {
   "cell_type": "code",
   "execution_count": 30,
   "metadata": {},
   "outputs": [],
   "source": [
    "#X"
   ]
  },
  {
   "cell_type": "markdown",
   "metadata": {},
   "source": [
    "## TRUE"
   ]
  },
  {
   "cell_type": "code",
   "execution_count": 31,
   "metadata": {},
   "outputs": [
    {
     "name": "stdout",
     "output_type": "stream",
     "text": [
      "(1346, 2)\n"
     ]
    },
    {
     "data": {
      "text/plain": [
       "'\\npca = PCA(n_components=2)\\npca.fit(X)\\nprint(pca.explained_variance_ratio_)\\n'"
      ]
     },
     "execution_count": 31,
     "metadata": {},
     "output_type": "execute_result"
    }
   ],
   "source": [
    "X = df_dels.loc[df_dels[\"target\"] == 0]\n",
    "y =  df_dels[\"target\"].loc[df_dels[\"target\"] == 0]\n",
    "\n",
    "X = X.drop(\"target\",axis=1)\n",
    "\n",
    "X = X.drop(\"CNV_ID\",axis=1)\n",
    "##X[['A_region_name','A_region_family','A_region_class','B_region_name','B_region_family','B_region_class']] = X[['A_region_name','A_region_family','A_region_class','B_region_name','B_region_family','B_region_class']].stack().rank(method='dense').unstack()\n",
    "#X[['sD_pair_A','sD_pair_B']] = X[['sD_pair_A','sD_pair_B']].stack().rank(method='dense').unstack()\n",
    "##X['sD_pair'] = X['sD_pair'].astype(int)\n",
    "\n",
    "X = X.drop(['A_region_name','A_region_family','A_region_class','B_region_name','B_region_family','B_region_class','sD_pair'],axis=1)\n",
    "\n",
    "# Scale data befor applying PCA\n",
    "scaling=StandardScaler()\n",
    " \n",
    "# Use fit and transform method\n",
    "scaling.fit(X)\n",
    "Scaled_data=scaling.transform(X)\n",
    "\n",
    "\n",
    "# Set the n_components=3\n",
    "principal=PCA(n_components=2)\n",
    "principal.fit(Scaled_data)\n",
    "x=principal.transform(Scaled_data)\n",
    " \n",
    "# Check the dimensions of data after PCA\n",
    "print(x.shape)\n",
    "'''\n",
    "pca = PCA(n_components=2)\n",
    "pca.fit(X)\n",
    "print(pca.explained_variance_ratio_)\n",
    "'''"
   ]
  },
  {
   "cell_type": "code",
   "execution_count": 32,
   "metadata": {},
   "outputs": [
    {
     "data": {
      "text/plain": [
       "array([[-0.06703849, -0.07273804,  0.17119936,  0.15372904, -0.3281624 ,\n",
       "        -0.29705478, -0.01547027,  0.09515482,  0.12352694,  0.11411548,\n",
       "         0.16891772, -0.31404468,  0.32750957,  0.33806925, -0.28210101,\n",
       "        -0.23817947,  0.24817821,  0.13303899,  0.2109434 ,  0.14632501,\n",
       "        -0.18685105, -0.1863898 ,  0.00846534,  0.02646029, -0.04249098,\n",
       "        -0.03623997],\n",
       "       [-0.12220659, -0.10088805,  0.22541622,  0.20808221,  0.04007017,\n",
       "         0.02615606, -0.00259252, -0.0419581 ,  0.39095314,  0.3862834 ,\n",
       "        -0.29691636,  0.17270293,  0.12864067,  0.11920418,  0.10274092,\n",
       "         0.08474992,  0.23770468, -0.24697164,  0.20790031, -0.23890904,\n",
       "         0.29619633,  0.29723528, -0.03904852, -0.08414465,  0.05638752,\n",
       "         0.05014022]])"
      ]
     },
     "execution_count": 32,
     "metadata": {},
     "output_type": "execute_result"
    }
   ],
   "source": [
    "# Check the values of eigen vectors\n",
    "# prodeced by principal components\n",
    "principal.components_"
   ]
  },
  {
   "cell_type": "code",
   "execution_count": 33,
   "metadata": {},
   "outputs": [
    {
     "data": {
      "text/plain": [
       "Text(0, 0.5, 'pc2')"
      ]
     },
     "execution_count": 33,
     "metadata": {},
     "output_type": "execute_result"
    },
    {
     "data": {
      "image/png": "[encoded data removed]",
      "text/plain": [
       "<Figure size 720x720 with 1 Axes>"
      ]
     },
     "metadata": {
      "needs_background": "light"
     },
     "output_type": "display_data"
    }
   ],
   "source": [
    "plt.figure(figsize=(10,10))\n",
    "plt.scatter(x[:,0],x[:,1],c=y,cmap='plasma')\n",
    "plt.xlabel('pc1')\n",
    "plt.ylabel('pc2')"
   ]
  },
  {
   "cell_type": "markdown",
   "metadata": {},
   "source": [
    "## FALSE:"
   ]
  },
  {
   "cell_type": "code",
   "execution_count": 34,
   "metadata": {},
   "outputs": [
    {
     "name": "stdout",
     "output_type": "stream",
     "text": [
      "(1998, 2)\n"
     ]
    },
    {
     "data": {
      "text/plain": [
       "'\\npca = PCA(n_components=2)\\npca.fit(X)\\nprint(pca.explained_variance_ratio_)\\n'"
      ]
     },
     "execution_count": 34,
     "metadata": {},
     "output_type": "execute_result"
    }
   ],
   "source": [
    "X = df_dels.loc[df_dels[\"target\"] == 1]\n",
    "y =  df_dels[\"target\"].loc[df_dels[\"target\"] == 1]\n",
    "\n",
    "X = X.drop(\"target\",axis=1)\n",
    "\n",
    "X = X.drop(\"CNV_ID\",axis=1)\n",
    "##X[['A_region_name','A_region_family','A_region_class','B_region_name','B_region_family','B_region_class']] = X[['A_region_name','A_region_family','A_region_class','B_region_name','B_region_family','B_region_class']].stack().rank(method='dense').unstack()\n",
    "#X[['sD_pair_A','sD_pair_B']] = X[['sD_pair_A','sD_pair_B']].stack().rank(method='dense').unstack()\n",
    "##X['sD_pair'] = X['sD_pair'].astype(int)\n",
    "\n",
    "X = X.drop(['A_region_name','A_region_family','A_region_class','B_region_name','B_region_family','B_region_class','sD_pair'],axis=1)\n",
    "\n",
    "# Scale data befor applying PCA\n",
    "scaling=StandardScaler()\n",
    " \n",
    "# Use fit and transform method\n",
    "scaling.fit(X)\n",
    "Scaled_data=scaling.transform(X)\n",
    "\n",
    "\n",
    "# Set the n_components=3\n",
    "principal=PCA(n_components=2)\n",
    "principal.fit(Scaled_data)\n",
    "x=principal.transform(Scaled_data)\n",
    " \n",
    "# Check the dimensions of data after PCA\n",
    "print(x.shape)\n",
    "'''\n",
    "pca = PCA(n_components=2)\n",
    "pca.fit(X)\n",
    "print(pca.explained_variance_ratio_)\n",
    "'''"
   ]
  },
  {
   "cell_type": "code",
   "execution_count": 35,
   "metadata": {},
   "outputs": [
    {
     "data": {
      "text/plain": [
       "Text(0, 0.5, 'pc2')"
      ]
     },
     "execution_count": 35,
     "metadata": {},
     "output_type": "execute_result"
    },
    {
     "data": {
      "image/png": "[encoded data removed]",
      "text/plain": [
       "<Figure size 720x720 with 1 Axes>"
      ]
     },
     "metadata": {
      "needs_background": "light"
     },
     "output_type": "display_data"
    }
   ],
   "source": [
    "#1\n",
    "plt.figure(figsize=(10,10))\n",
    "plt.scatter(x[:,0],x[:,1],c=y,cmap='plasma')\n",
    "plt.xlabel('pc1')\n",
    "plt.ylabel('pc2')"
   ]
  },
  {
   "cell_type": "markdown",
   "metadata": {},
   "source": [
    "### Using PCA R script:"
   ]
  },
  {
   "cell_type": "code",
   "execution_count": 36,
   "metadata": {},
   "outputs": [],
   "source": [
    "from IPython.display import Image\n",
    "from IPython.core.display import HTML "
   ]
  },
  {
   "cell_type": "markdown",
   "metadata": {},
   "source": [
    "TP deletions:"
   ]
  },
  {
   "cell_type": "code",
   "execution_count": 42,
   "metadata": {},
   "outputs": [
    {
     "data": {
      "text/html": [
       "<img src=\"./datasetPCA/noRR_deletions/tp_scaled.png\"/>"
      ],
      "text/plain": [
       "<IPython.core.display.Image object>"
      ]
     },
     "execution_count": 42,
     "metadata": {},
     "output_type": "execute_result"
    }
   ],
   "source": [
    "Image(url= \"./datasetPCA/noRR_deletions/tp_scaled.png\")"
   ]
  },
  {
   "cell_type": "code",
   "execution_count": 43,
   "metadata": {},
   "outputs": [
    {
     "data": {
      "text/html": [
       "<img src=\"./datasetPCA/noRR_deletions/tp_labels.png\"/>"
      ],
      "text/plain": [
       "<IPython.core.display.Image object>"
      ]
     },
     "execution_count": 43,
     "metadata": {},
     "output_type": "execute_result"
    }
   ],
   "source": [
    "Image(url= \"./datasetPCA/noRR_deletions/tp_labels.png\") #old"
   ]
  },
  {
   "cell_type": "markdown",
   "metadata": {},
   "source": [
    "FP deletions:"
   ]
  },
  {
   "cell_type": "code",
   "execution_count": 44,
   "metadata": {},
   "outputs": [
    {
     "data": {
      "text/html": [
       "<img src=\"./datasetPCA/noRR_deletions/fp_scaled.png\"/>"
      ],
      "text/plain": [
       "<IPython.core.display.Image object>"
      ]
     },
     "execution_count": 44,
     "metadata": {},
     "output_type": "execute_result"
    }
   ],
   "source": [
    "Image(url= \"./datasetPCA/noRR_deletions/fp_scaled.png\")"
   ]
  },
  {
   "cell_type": "code",
   "execution_count": 45,
   "metadata": {},
   "outputs": [
    {
     "data": {
      "text/html": [
       "<img src=\"./datasetPCA/noRR_deletions/fp_labels.png\"/>"
      ],
      "text/plain": [
       "<IPython.core.display.Image object>"
      ]
     },
     "execution_count": 45,
     "metadata": {},
     "output_type": "execute_result"
    }
   ],
   "source": [
    "Image(url= \"./datasetPCA/noRR_deletions/fp_labels.png\")"
   ]
  },
  {
   "cell_type": "code",
   "execution_count": 46,
   "metadata": {},
   "outputs": [
    {
     "data": {
      "text/html": [
       "<img src=\"./datasetPCA/noRR_deletions/zoom_fp_labels.png\"/>"
      ],
      "text/plain": [
       "<IPython.core.display.Image object>"
      ]
     },
     "execution_count": 46,
     "metadata": {},
     "output_type": "execute_result"
    }
   ],
   "source": [
    "Image(url= \"./datasetPCA/noRR_deletions/zoom_fp_labels.png\")"
   ]
  },
  {
   "cell_type": "markdown",
   "metadata": {},
   "source": [
    "# Remove outliers:"
   ]
  },
  {
   "cell_type": "code",
   "execution_count": 47,
   "metadata": {},
   "outputs": [
    {
     "data": {
      "text/html": [
       "<img src=\"./datasetPCA/noRR_deletions/tp_scaled_dots.png\"/>"
      ],
      "text/plain": [
       "<IPython.core.display.Image object>"
      ]
     },
     "execution_count": 47,
     "metadata": {},
     "output_type": "execute_result"
    }
   ],
   "source": [
    "Image(url= \"./datasetPCA/noRR_deletions/tp_scaled_dots.png\")"
   ]
  },
  {
   "cell_type": "code",
   "execution_count": 48,
   "metadata": {},
   "outputs": [
    {
     "data": {
      "text/html": [
       "<img src=\"./datasetPCA/noRR_deletions/tp_labels_marked.png\"/>"
      ],
      "text/plain": [
       "<IPython.core.display.Image object>"
      ]
     },
     "execution_count": 48,
     "metadata": {},
     "output_type": "execute_result"
    }
   ],
   "source": [
    "Image(url= \"./datasetPCA/noRR_deletions/tp_labels_marked.png\")"
   ]
  },
  {
   "cell_type": "code",
   "execution_count": 49,
   "metadata": {},
   "outputs": [],
   "source": [
    "#________________________________"
   ]
  },
  {
   "cell_type": "code",
   "execution_count": 50,
   "metadata": {},
   "outputs": [
    {
     "data": {
      "text/html": [
       "<img src=\"./datasetPCA/noRR_deletions/fp_scaled_dots.png\"/>"
      ],
      "text/plain": [
       "<IPython.core.display.Image object>"
      ]
     },
     "execution_count": 50,
     "metadata": {},
     "output_type": "execute_result"
    }
   ],
   "source": [
    "Image(url= \"./datasetPCA/noRR_deletions/fp_scaled_dots.png\")"
   ]
  },
  {
   "cell_type": "code",
   "execution_count": 51,
   "metadata": {},
   "outputs": [
    {
     "data": {
      "text/html": [
       "<img src=\"./datasetPCA/noRR_deletions/fp_labels_marked.png\"/>"
      ],
      "text/plain": [
       "<IPython.core.display.Image object>"
      ]
     },
     "execution_count": 51,
     "metadata": {},
     "output_type": "execute_result"
    }
   ],
   "source": [
    "Image(url= \"./datasetPCA/noRR_deletions/fp_labels_marked.png\")"
   ]
  },
  {
   "cell_type": "code",
   "execution_count": 52,
   "metadata": {},
   "outputs": [],
   "source": [
    "#Outliers to remove:\n",
    "l_outliersIDs = [\"DGRC_DEL_60\",\"DGRC_DEL_240\",\n",
    "                 \"fp_296\",\"fp_2050\",\"fp_1129\"]\n",
    "#df_dels[df_dels['CNV_ID'].isin(l_outliersIDs)]"
   ]
  },
  {
   "cell_type": "code",
   "execution_count": 53,
   "metadata": {},
   "outputs": [],
   "source": [
    "df_dels = df_dels[~df_dels['CNV_ID'].isin(l_outliersIDs)]"
   ]
  },
  {
   "cell_type": "markdown",
   "metadata": {},
   "source": [
    "# Save current dataset:"
   ]
  },
  {
   "cell_type": "markdown",
   "metadata": {},
   "source": [
    "<div class=\"alert alert-block alert-warning\">\n",
    "<b> Attention: </b> target where *{True:0,False:1}* is just in this notebook, the main dataset for the ML processe will be *{True:1,False:0}* , because it's the correct way!!!\n",
    "</div>"
   ]
  },
  {
   "cell_type": "code",
   "execution_count": 54,
   "metadata": {},
   "outputs": [],
   "source": [
    "#df_dels[\"target\"] = df_dels[\"target\"].replace({True:0,False:1})\n",
    "df_dels[\"target\"] = df_dels[\"target\"].replace({0:True,1:False}) #resverse it\n",
    "#df_dels[\"target\"] = df_dels[\"target\"].astype(int)\n",
    "#df_dups[\"target\"] = df_dups[\"target\"].replace({True:0,False:1})"
   ]
  },
  {
   "cell_type": "code",
   "execution_count": 55,
   "metadata": {},
   "outputs": [],
   "source": [
    "#df_dels.loc[df_dels.target==1].head(1)"
   ]
  },
  {
   "cell_type": "code",
   "execution_count": 56,
   "metadata": {},
   "outputs": [],
   "source": [
    "#df_dels.loc[df_dels.target==0].head(1)"
   ]
  },
  {
   "cell_type": "markdown",
   "metadata": {},
   "source": [
    "***"
   ]
  },
  {
   "cell_type": "code",
   "execution_count": 57,
   "metadata": {},
   "outputs": [],
   "source": [
    "df_dels[\"target\"] = df_dels[\"target\"].astype(int)"
   ]
  },
  {
   "cell_type": "code",
   "execution_count": 58,
   "metadata": {},
   "outputs": [
    {
     "data": {
      "text/html": [
       "<div>\n",
       "<style scoped>\n",
       "    .dataframe tbody tr th:only-of-type {\n",
       "        vertical-align: middle;\n",
       "    }\n",
       "\n",
       "    .dataframe tbody tr th {\n",
       "        vertical-align: top;\n",
       "    }\n",
       "\n",
       "    .dataframe thead th {\n",
       "        text-align: right;\n",
       "    }\n",
       "</style>\n",
       "<table border=\"1\" class=\"dataframe\">\n",
       "  <thead>\n",
       "    <tr style=\"text-align: right;\">\n",
       "      <th></th>\n",
       "      <th>CNV_ID</th>\n",
       "      <th>target</th>\n",
       "    </tr>\n",
       "  </thead>\n",
       "  <tbody>\n",
       "    <tr>\n",
       "      <th>3</th>\n",
       "      <td>DGRC_DEL_1012</td>\n",
       "      <td>1</td>\n",
       "    </tr>\n",
       "  </tbody>\n",
       "</table>\n",
       "</div>"
      ],
      "text/plain": [
       "          CNV_ID  target\n",
       "3  DGRC_DEL_1012       1"
      ]
     },
     "execution_count": 58,
     "metadata": {},
     "output_type": "execute_result"
    }
   ],
   "source": [
    "df_dels[['CNV_ID','target']].loc[df_dels.target==1].head(1)"
   ]
  },
  {
   "cell_type": "code",
   "execution_count": 59,
   "metadata": {},
   "outputs": [
    {
     "data": {
      "text/html": [
       "<div>\n",
       "<style scoped>\n",
       "    .dataframe tbody tr th:only-of-type {\n",
       "        vertical-align: middle;\n",
       "    }\n",
       "\n",
       "    .dataframe tbody tr th {\n",
       "        vertical-align: top;\n",
       "    }\n",
       "\n",
       "    .dataframe thead th {\n",
       "        text-align: right;\n",
       "    }\n",
       "</style>\n",
       "<table border=\"1\" class=\"dataframe\">\n",
       "  <thead>\n",
       "    <tr style=\"text-align: right;\">\n",
       "      <th></th>\n",
       "      <th>CNV_ID</th>\n",
       "      <th>target</th>\n",
       "    </tr>\n",
       "  </thead>\n",
       "  <tbody>\n",
       "    <tr>\n",
       "      <th>1383</th>\n",
       "      <td>fp_401</td>\n",
       "      <td>0</td>\n",
       "    </tr>\n",
       "  </tbody>\n",
       "</table>\n",
       "</div>"
      ],
      "text/plain": [
       "      CNV_ID  target\n",
       "1383  fp_401       0"
      ]
     },
     "execution_count": 59,
     "metadata": {},
     "output_type": "execute_result"
    }
   ],
   "source": [
    "df_dels[['CNV_ID','target']].loc[df_dels.target==0].head(1)"
   ]
  },
  {
   "cell_type": "markdown",
   "metadata": {},
   "source": [
    "***"
   ]
  },
  {
   "cell_type": "code",
   "execution_count": 60,
   "metadata": {},
   "outputs": [],
   "source": [
    "#SAVE it!!!\n",
    "outPATH = \"../dataset3/data_main/\"\n",
    "df_dels.to_csv(outPATH + 'refined_data_DELS_liGS_noRR-23-05.csv', sep = ';' ,index_label=False)"
   ]
  },
  {
   "cell_type": "markdown",
   "metadata": {},
   "source": [
    "# -----------------------------------------------------------------------------"
   ]
  },
  {
   "cell_type": "markdown",
   "metadata": {},
   "source": [
    "# Feature Importance:"
   ]
  },
  {
   "cell_type": "code",
   "execution_count": 61,
   "metadata": {},
   "outputs": [
    {
     "name": "stdout",
     "output_type": "stream",
     "text": [
      "Feature: 0 A_size, Score: 0.16145\n",
      "Feature: 1 B_size, Score: 0.17125\n",
      "Feature: 2 A_region_name, Score: 0.02450\n",
      "Feature: 3 A_region_family, Score: 0.01406\n",
      "Feature: 4 A_region_class, Score: 0.00914\n",
      "Feature: 5 B_region_name, Score: 0.02373\n",
      "Feature: 6 B_region_family, Score: 0.01607\n",
      "Feature: 7 B_region_class, Score: 0.01124\n",
      "Feature: 8 A_repitiveRegion_dist, Score: 0.00194\n",
      "Feature: 9 B_repitiveRegion_dist, Score: 0.00233\n",
      "Feature: 10 A_cov_repRegion, Score: 0.02771\n",
      "Feature: 11 B_cov_repRegion, Score: 0.02337\n",
      "Feature: 12 A_SegDup_dist, Score: 0.03059\n",
      "Feature: 13 B_SegDup_dist, Score: 0.02831\n",
      "Feature: 14 A_cov_segDup, Score: 0.00773\n",
      "Feature: 15 B_cov_segDup, Score: 0.00623\n",
      "Feature: 16 sD_pair, Score: 0.00111\n",
      "Feature: 17 dist_Centromere, Score: 0.02980\n",
      "Feature: 18 dist_Telomere, Score: 0.02917\n",
      "Feature: 19 GC_perc_A, Score: 0.02674\n",
      "Feature: 20 GC_perc_B, Score: 0.02563\n",
      "Feature: 21 Dust_A, Score: 0.02886\n",
      "Feature: 22 Dust_B, Score: 0.02589\n",
      "Feature: 23 A_cov_Exons, Score: 0.01892\n",
      "Feature: 24 A_cov_Introns, Score: 0.04061\n",
      "Feature: 25 B_cov_Exons, Score: 0.02024\n",
      "Feature: 26 B_cov_Introns, Score: 0.04804\n",
      "Feature: 27 A_Lamina_score, Score: 0.02066\n",
      "Feature: 28 B_Lamina_score, Score: 0.02347\n",
      "Feature: 29 A_CpGi_dist, Score: 0.02422\n",
      "Feature: 30 B_CpGi_dist, Score: 0.02607\n",
      "Feature: 31 A_TAD_dist_Log, Score: 0.02708\n",
      "Feature: 32 B_TAD_dist_Log, Score: 0.02384\n"
     ]
    },
    {
     "data": {
      "image/png": "[encoded data removed]",
      "text/plain": [
       "<Figure size 1440x936 with 1 Axes>"
      ]
     },
     "metadata": {
      "needs_background": "light"
     },
     "output_type": "display_data"
    }
   ],
   "source": [
    "# random forest for feature importance on a classification problem\n",
    "from sklearn.datasets import make_classification\n",
    "from sklearn.ensemble import RandomForestClassifier\n",
    "from matplotlib import pyplot\n",
    "# define dataset\n",
    "X, y = df_dels.drop([\"target\",\"CNV_ID\"], axis = 1), df_dels[\"target\"]\n",
    "\n",
    "#Must adapt caregorical:\n",
    "X[['A_region_name','A_region_family','A_region_class','B_region_name','B_region_family','B_region_class']] = X[['A_region_name','A_region_family','A_region_class','B_region_name','B_region_family','B_region_class']].stack().rank(method='dense').unstack()\n",
    "X['sD_pair'] = X['sD_pair'].astype(int)\n",
    "list_features = X.columns.to_list()\n",
    "\n",
    "# define the model\n",
    "model = RandomForestClassifier()\n",
    "# fit the model\n",
    "model.fit(X, y)\n",
    "# get importance\n",
    "importance = model.feature_importances_\n",
    "# summarize feature importance\n",
    "for i,v in enumerate(importance):\n",
    "\tprint('Feature: %s %s, Score: %.5f' % (i,list_features[i],v))\n",
    "# plot feature importance\n",
    "pyplot.figure(figsize=(20, 13))\n",
    "pyplot.bar([x for x in range(len(importance))], importance,tick_label=X.columns,width = 0.75 )\n",
    "#pyplot.bar([x for x in range(list_features)], importance)\n",
    "pyplot.xticks(rotation=60,horizontalalignment='right')\n",
    "pyplot.rcParams.update({'font.size': 18})\n",
    "\n",
    "pyplot.show()"
   ]
  },
  {
   "cell_type": "markdown",
   "metadata": {},
   "source": [
    "# Since librarie_mpGS column has no importance score: #because theres no FP deletion from the librarie_mpGS.\n",
    "#df_dels.loc[df_dels['librarie_mpGS']==1]"
   ]
  },
  {
   "cell_type": "markdown",
   "metadata": {},
   "source": [
    "#by the results, remove librarie_mpGS and its rows:\n",
    "\n",
    "#Drop the rows:\n",
    "#df_dels[].loc[df_dels['librarie_mpGS']==1]\n",
    "to_drop = df_dels.loc[df_dels['CNV_ID'].isin(['DGRC_DEL_2162','DGRC_DEL_4358','DGRC_DEL_2535','DGRC_DEL_2875'])].index\n",
    "df_dels.drop(to_drop, inplace=True)\n",
    "\n",
    "\n",
    "#Drop the coluns\n",
    "df_dels.drop(['librarie_mpGS'], axis=1, inplace=True)\n",
    "\n"
   ]
  },
  {
   "cell_type": "code",
   "execution_count": 62,
   "metadata": {},
   "outputs": [
    {
     "data": {
      "text/html": [
       "<div>\n",
       "<style scoped>\n",
       "    .dataframe tbody tr th:only-of-type {\n",
       "        vertical-align: middle;\n",
       "    }\n",
       "\n",
       "    .dataframe tbody tr th {\n",
       "        vertical-align: top;\n",
       "    }\n",
       "\n",
       "    .dataframe thead th {\n",
       "        text-align: right;\n",
       "    }\n",
       "</style>\n",
       "<table border=\"1\" class=\"dataframe\">\n",
       "  <thead>\n",
       "    <tr style=\"text-align: right;\">\n",
       "      <th></th>\n",
       "      <th>CNV_ID</th>\n",
       "      <th>A_size</th>\n",
       "      <th>B_size</th>\n",
       "      <th>A_region_name</th>\n",
       "      <th>A_region_family</th>\n",
       "      <th>A_region_class</th>\n",
       "      <th>B_region_name</th>\n",
       "      <th>B_region_family</th>\n",
       "      <th>B_region_class</th>\n",
       "      <th>A_repitiveRegion_dist</th>\n",
       "      <th>B_repitiveRegion_dist</th>\n",
       "      <th>A_cov_repRegion</th>\n",
       "      <th>B_cov_repRegion</th>\n",
       "      <th>A_SegDup_dist</th>\n",
       "      <th>B_SegDup_dist</th>\n",
       "      <th>A_cov_segDup</th>\n",
       "      <th>B_cov_segDup</th>\n",
       "      <th>sD_pair</th>\n",
       "      <th>dist_Centromere</th>\n",
       "      <th>dist_Telomere</th>\n",
       "      <th>GC_perc_A</th>\n",
       "      <th>GC_perc_B</th>\n",
       "      <th>Dust_A</th>\n",
       "      <th>Dust_B</th>\n",
       "      <th>A_cov_Exons</th>\n",
       "      <th>A_cov_Introns</th>\n",
       "      <th>B_cov_Exons</th>\n",
       "      <th>B_cov_Introns</th>\n",
       "      <th>A_Lamina_score</th>\n",
       "      <th>B_Lamina_score</th>\n",
       "      <th>A_CpGi_dist</th>\n",
       "      <th>B_CpGi_dist</th>\n",
       "      <th>A_TAD_dist_Log</th>\n",
       "      <th>B_TAD_dist_Log</th>\n",
       "      <th>target</th>\n",
       "    </tr>\n",
       "  </thead>\n",
       "  <tbody>\n",
       "    <tr>\n",
       "      <th>3</th>\n",
       "      <td>DGRC_DEL_1012</td>\n",
       "      <td>0.001620</td>\n",
       "      <td>0.000997</td>\n",
       "      <td>L1MCa</td>\n",
       "      <td>L1</td>\n",
       "      <td>Rep_LINE</td>\n",
       "      <td>AluJb</td>\n",
       "      <td>Alu</td>\n",
       "      <td>Rep_SINE</td>\n",
       "      <td>0.0</td>\n",
       "      <td>0.0</td>\n",
       "      <td>0.911694</td>\n",
       "      <td>0.563723</td>\n",
       "      <td>0.231521</td>\n",
       "      <td>0.175188</td>\n",
       "      <td>0.0</td>\n",
       "      <td>0.0</td>\n",
       "      <td>False</td>\n",
       "      <td>1.984803</td>\n",
       "      <td>1.433342</td>\n",
       "      <td>0.426738</td>\n",
       "      <td>0.448696</td>\n",
       "      <td>0.094375</td>\n",
       "      <td>0.037602</td>\n",
       "      <td>0.0</td>\n",
       "      <td>0.0</td>\n",
       "      <td>0.0</td>\n",
       "      <td>0.0</td>\n",
       "      <td>0.899469</td>\n",
       "      <td>0.892851</td>\n",
       "      <td>0.007365</td>\n",
       "      <td>0.008736</td>\n",
       "      <td>0.037238</td>\n",
       "      <td>0.126782</td>\n",
       "      <td>1</td>\n",
       "    </tr>\n",
       "    <tr>\n",
       "      <th>4</th>\n",
       "      <td>DGRC_DEL_135</td>\n",
       "      <td>0.000372</td>\n",
       "      <td>0.000316</td>\n",
       "      <td>L1MB7</td>\n",
       "      <td>L1</td>\n",
       "      <td>Rep_LINE</td>\n",
       "      <td>L1MB7</td>\n",
       "      <td>L1</td>\n",
       "      <td>Rep_LINE</td>\n",
       "      <td>0.0</td>\n",
       "      <td>0.0</td>\n",
       "      <td>0.574766</td>\n",
       "      <td>0.998628</td>\n",
       "      <td>0.171148</td>\n",
       "      <td>0.170375</td>\n",
       "      <td>0.0</td>\n",
       "      <td>0.0</td>\n",
       "      <td>False</td>\n",
       "      <td>1.620705</td>\n",
       "      <td>1.913421</td>\n",
       "      <td>0.367442</td>\n",
       "      <td>0.317007</td>\n",
       "      <td>0.036770</td>\n",
       "      <td>0.110807</td>\n",
       "      <td>0.0</td>\n",
       "      <td>0.0</td>\n",
       "      <td>0.0</td>\n",
       "      <td>0.0</td>\n",
       "      <td>0.925017</td>\n",
       "      <td>0.925017</td>\n",
       "      <td>0.205131</td>\n",
       "      <td>0.268176</td>\n",
       "      <td>0.239282</td>\n",
       "      <td>0.196997</td>\n",
       "      <td>1</td>\n",
       "    </tr>\n",
       "  </tbody>\n",
       "</table>\n",
       "</div>"
      ],
      "text/plain": [
       "          CNV_ID    A_size    B_size A_region_name A_region_family  \\\n",
       "3  DGRC_DEL_1012  0.001620  0.000997         L1MCa              L1   \n",
       "4   DGRC_DEL_135  0.000372  0.000316         L1MB7              L1   \n",
       "\n",
       "  A_region_class B_region_name B_region_family B_region_class  \\\n",
       "3       Rep_LINE         AluJb             Alu       Rep_SINE   \n",
       "4       Rep_LINE         L1MB7              L1       Rep_LINE   \n",
       "\n",
       "   A_repitiveRegion_dist  B_repitiveRegion_dist  A_cov_repRegion  \\\n",
       "3                    0.0                    0.0         0.911694   \n",
       "4                    0.0                    0.0         0.574766   \n",
       "\n",
       "   B_cov_repRegion  A_SegDup_dist  B_SegDup_dist  A_cov_segDup  B_cov_segDup  \\\n",
       "3         0.563723       0.231521       0.175188           0.0           0.0   \n",
       "4         0.998628       0.171148       0.170375           0.0           0.0   \n",
       "\n",
       "   sD_pair  dist_Centromere  dist_Telomere  GC_perc_A  GC_perc_B    Dust_A  \\\n",
       "3    False         1.984803       1.433342   0.426738   0.448696  0.094375   \n",
       "4    False         1.620705       1.913421   0.367442   0.317007  0.036770   \n",
       "\n",
       "     Dust_B  A_cov_Exons  A_cov_Introns  B_cov_Exons  B_cov_Introns  \\\n",
       "3  0.037602          0.0            0.0          0.0            0.0   \n",
       "4  0.110807          0.0            0.0          0.0            0.0   \n",
       "\n",
       "   A_Lamina_score  B_Lamina_score  A_CpGi_dist  B_CpGi_dist  A_TAD_dist_Log  \\\n",
       "3        0.899469        0.892851     0.007365     0.008736        0.037238   \n",
       "4        0.925017        0.925017     0.205131     0.268176        0.239282   \n",
       "\n",
       "   B_TAD_dist_Log  target  \n",
       "3        0.126782       1  \n",
       "4        0.196997       1  "
      ]
     },
     "execution_count": 62,
     "metadata": {},
     "output_type": "execute_result"
    }
   ],
   "source": [
    "#df_dels.loc[df_dels['CNV_ID'].isin(['DGRC_DEL_2162','DGRC_DEL_4358','DGRC_DEL_2535','DGRC_DEL_2875'])]\n",
    "df_dels.head(2)"
   ]
  },
  {
   "cell_type": "code",
   "execution_count": 63,
   "metadata": {},
   "outputs": [],
   "source": [
    "#SAVE it!!!\n",
    "outPATH = \"./dataset3/data_main/\"\n",
    "#df_dels.to_csv(outPATH + 'refined_data_DELS.csv', sep = ';' ,index_label=False)"
   ]
  },
  {
   "cell_type": "markdown",
   "metadata": {},
   "source": [
    "### Make dataset by removing the feature with the lowest importance: "
   ]
  },
  {
   "cell_type": "markdown",
   "metadata": {},
   "source": [
    "**not in use!!!**"
   ]
  },
  {
   "cell_type": "code",
   "execution_count": 52,
   "metadata": {},
   "outputs": [],
   "source": [
    "#df_superR_dels = df_dels\n",
    "#low_impfeatures = ['A_repitiveRegion_dist','B_repitiveRegion_dist',\n",
    "#                       'A_cov_segDup','B_cov_segDup',\n",
    "#                       'sD_pair_A','sD_pair_B',\n",
    "#                       'A_cov_Exons','A_cov_Introns',\n",
    "#                       'B_cov_Exons','B_cov_Introns']\n",
    "#df_superR_dels  = df_superR_dels.drop(low_impfeatures, axis = 1)"
   ]
  },
  {
   "cell_type": "code",
   "execution_count": 53,
   "metadata": {},
   "outputs": [],
   "source": [
    "#SAVE it!!!\n",
    "#outPATH = \"./dataset3/data_main/\"\n",
    "\n",
    "\n",
    "#df_superR_dels.to_csv(outPATH + 'super_refined_data_DELS.csv', sep = ';' ,index_label=False)"
   ]
  },
  {
   "cell_type": "markdown",
   "metadata": {},
   "source": [
    "***"
   ]
  },
  {
   "cell_type": "markdown",
   "metadata": {},
   "source": [
    "### Check mean and std of region A and B size in bps:"
   ]
  },
  {
   "cell_type": "code",
   "execution_count": 64,
   "metadata": {},
   "outputs": [],
   "source": [
    "df_DGRC = pd.read_csv('../dataset3/data_main/data_DELS_noRR.csv', sep= \"\\;\" ,header=0)"
   ]
  },
  {
   "cell_type": "code",
   "execution_count": 65,
   "metadata": {},
   "outputs": [],
   "source": [
    "df_DGRC = df_DGRC.loc[~(df_DGRC['CNV_ID'].str.contains('NYGC'))&(df_DGRC['libraries']=='liGS')]#[['CNV_ID','A_size_bp','B_size_bp','libraries','target']]"
   ]
  },
  {
   "cell_type": "code",
   "execution_count": 66,
   "metadata": {},
   "outputs": [
    {
     "data": {
      "text/plain": [
       "False    1998\n",
       "True     1346\n",
       "Name: target, dtype: int64"
      ]
     },
     "execution_count": 66,
     "metadata": {},
     "output_type": "execute_result"
    }
   ],
   "source": [
    "df_DGRC[\"target\"].value_counts()"
   ]
  },
  {
   "cell_type": "code",
   "execution_count": 67,
   "metadata": {},
   "outputs": [],
   "source": [
    "#Outliers to decided to remove:\n",
    "l_outliersIDs = [\"DGRC_DEL_60\",\"DGRC_DEL_240\",\n",
    "                 \"fp_296\",\"fp_2050\",\"fp_1129\"]\n",
    "#df_dels[df_dels['CNV_ID'].isin(l_outliersIDs)]\n",
    "df_DGRC = df_DGRC[~df_DGRC['CNV_ID'].isin(l_outliersIDs)]"
   ]
  },
  {
   "cell_type": "code",
   "execution_count": 68,
   "metadata": {},
   "outputs": [
    {
     "data": {
      "text/plain": [
       "False    1995\n",
       "True     1344\n",
       "Name: target, dtype: int64"
      ]
     },
     "execution_count": 68,
     "metadata": {},
     "output_type": "execute_result"
    }
   ],
   "source": [
    "df_DGRC[\"target\"].value_counts()"
   ]
  },
  {
   "cell_type": "markdown",
   "metadata": {},
   "source": [
    "---"
   ]
  },
  {
   "cell_type": "code",
   "execution_count": 69,
   "metadata": {},
   "outputs": [
    {
     "data": {
      "text/plain": [
       "count     2688.000000\n",
       "mean      3056.430060\n",
       "std       1503.856412\n",
       "min         25.000000\n",
       "25%       2366.000000\n",
       "50%       3110.500000\n",
       "75%       3678.250000\n",
       "max      22736.000000\n",
       "dtype: float64"
      ]
     },
     "execution_count": 69,
     "metadata": {},
     "output_type": "execute_result"
    }
   ],
   "source": [
    "pd.concat([df_DGRC['A_size_bp'].loc[df_DGRC['target']==True],df_DGRC['B_size_bp'].loc[df_DGRC['target']==True]]).describe()"
   ]
  },
  {
   "cell_type": "code",
   "execution_count": 70,
   "metadata": {},
   "outputs": [
    {
     "data": {
      "text/plain": [
       "count     3990.000000\n",
       "mean      5624.892231\n",
       "std       4083.030499\n",
       "min          2.000000\n",
       "25%       2312.250000\n",
       "50%       4963.500000\n",
       "75%       8422.500000\n",
       "max      27440.000000\n",
       "dtype: float64"
      ]
     },
     "execution_count": 70,
     "metadata": {},
     "output_type": "execute_result"
    }
   ],
   "source": [
    "pd.concat([df_DGRC['A_size_bp'].loc[df_DGRC['target']==False],df_DGRC['B_size_bp'].loc[df_DGRC['target']==False]]).describe()"
   ]
  },
  {
   "cell_type": "code",
   "execution_count": 71,
   "metadata": {},
   "outputs": [],
   "source": [
    "#A"
   ]
  },
  {
   "cell_type": "code",
   "execution_count": 72,
   "metadata": {},
   "outputs": [
    {
     "data": {
      "text/plain": [
       "count     1344.000000\n",
       "mean      3076.963542\n",
       "std       1517.894914\n",
       "min         25.000000\n",
       "25%       2382.500000\n",
       "50%       3121.000000\n",
       "75%       3694.000000\n",
       "max      22736.000000\n",
       "Name: A_size_bp, dtype: float64"
      ]
     },
     "execution_count": 72,
     "metadata": {},
     "output_type": "execute_result"
    }
   ],
   "source": [
    "pd.concat([df_DGRC['A_size_bp'].loc[df_DGRC['target']==True]]).describe()"
   ]
  },
  {
   "cell_type": "code",
   "execution_count": 73,
   "metadata": {},
   "outputs": [
    {
     "data": {
      "text/plain": [
       "count     1995.000000\n",
       "mean      5630.446617\n",
       "std       4094.700771\n",
       "min         11.000000\n",
       "25%       2373.500000\n",
       "50%       4990.000000\n",
       "75%       8417.000000\n",
       "max      27440.000000\n",
       "Name: A_size_bp, dtype: float64"
      ]
     },
     "execution_count": 73,
     "metadata": {},
     "output_type": "execute_result"
    }
   ],
   "source": [
    "pd.concat([df_DGRC['A_size_bp'].loc[df_DGRC['target']==False]]).describe()"
   ]
  },
  {
   "cell_type": "code",
   "execution_count": 74,
   "metadata": {},
   "outputs": [],
   "source": [
    "#B"
   ]
  },
  {
   "cell_type": "code",
   "execution_count": 75,
   "metadata": {},
   "outputs": [
    {
     "data": {
      "text/plain": [
       "count     1344.000000\n",
       "mean      3035.896577\n",
       "std       1489.967567\n",
       "min         39.000000\n",
       "25%       2353.000000\n",
       "50%       3097.000000\n",
       "75%       3643.500000\n",
       "max      19863.000000\n",
       "Name: B_size_bp, dtype: float64"
      ]
     },
     "execution_count": 75,
     "metadata": {},
     "output_type": "execute_result"
    }
   ],
   "source": [
    "pd.concat([df_DGRC['B_size_bp'].loc[df_DGRC['target']==True]]).describe()"
   ]
  },
  {
   "cell_type": "code",
   "execution_count": 76,
   "metadata": {},
   "outputs": [
    {
     "data": {
      "text/plain": [
       "count     1995.000000\n",
       "mean      5619.337845\n",
       "std       4072.345837\n",
       "min          2.000000\n",
       "25%       2254.000000\n",
       "50%       4949.000000\n",
       "75%       8441.500000\n",
       "max      27005.000000\n",
       "Name: B_size_bp, dtype: float64"
      ]
     },
     "execution_count": 76,
     "metadata": {},
     "output_type": "execute_result"
    }
   ],
   "source": [
    "pd.concat([df_DGRC['B_size_bp'].loc[df_DGRC['target']==False]]).describe()"
   ]
  },
  {
   "cell_type": "code",
   "execution_count": null,
   "metadata": {},
   "outputs": [],
   "source": []
  },
  {
   "cell_type": "markdown",
   "metadata": {},
   "source": [
    "---"
   ]
  },
  {
   "cell_type": "code",
   "execution_count": 77,
   "metadata": {},
   "outputs": [],
   "source": [
    "df_DGRC.drop(['libraries','regionA_stat', 'regionA_end', 'chr_A',\n",
    "       'regionB_stat', 'regionB_end', 'chr_B','A_size_bp','B_size_bp'], axis=1, inplace=True)"
   ]
  },
  {
   "cell_type": "code",
   "execution_count": 78,
   "metadata": {},
   "outputs": [],
   "source": [
    "#SAVE it!!!\n",
    "outPATH = \"../dataset3/data_main/DELS_12_04/\"\n",
    "df_DGRC.to_csv(outPATH + 'refined_data_DELS_liGS_noRR-23-05.csv', sep = ';' ,index_label=False)"
   ]
  }
 ],
 "metadata": {
  "kernelspec": {
   "display_name": "Python 3 (ipykernel)",
   "language": "python",
   "name": "python3"
  },
  "language_info": {
   "codemirror_mode": {
    "name": "ipython",
    "version": 3
   },
   "file_extension": ".py",
   "mimetype": "text/x-python",
   "name": "python",
   "nbconvert_exporter": "python",
   "pygments_lexer": "ipython3",
   "version": "3.9.7"
  }
 },
 "nbformat": 4,
 "nbformat_minor": 4
}
