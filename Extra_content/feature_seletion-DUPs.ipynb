{
 "cells": [
  {
   "cell_type": "code",
   "execution_count": 1,
   "metadata": {},
   "outputs": [],
   "source": [
    "import pandas as pd\n",
    "import matplotlib.pyplot as plt\n",
    "import seaborn as sns\n",
    "import numpy as np\n",
    "from scipy.stats import norm\n",
    "from sklearn.preprocessing import StandardScaler\n",
    "from scipy import stats\n",
    "import warnings\n",
    "warnings.filterwarnings('ignore')\n",
    "#from sys import argv"
   ]
  },
  {
   "cell_type": "code",
   "execution_count": 2,
   "metadata": {},
   "outputs": [],
   "source": [
    "pd.set_option('display.max_columns', None)"
   ]
  },
  {
   "cell_type": "markdown",
   "metadata": {},
   "source": [
    "# Load data:"
   ]
  },
  {
   "cell_type": "code",
   "execution_count": 3,
   "metadata": {},
   "outputs": [],
   "source": [
    "##df_dups_raw = pd.read_csv('../dataset3/data_main/DUPS_22_03/data_DUPS.csv', sep= \"\\;\" ,header=0)# Removed NaNs of Recombination Rate\n",
    "df_dups_raw = pd.read_csv('../dataset3/data_main/DUPS_12_04/data_DUPS.csv', sep= \"\\;\" ,header=0)# Removed NaNs of Recombination Rate\n",
    "#df_dups_raw = pd.read_csv('./dataset3/data_main/data_DUPS_test.csv', sep= \"\\;\" ,header=0)# Removed NaNs of Recombination Rate"
   ]
  },
  {
   "cell_type": "code",
   "execution_count": 4,
   "metadata": {},
   "outputs": [
    {
     "data": {
      "text/html": [
       "<div>\n",
       "<style scoped>\n",
       "    .dataframe tbody tr th:only-of-type {\n",
       "        vertical-align: middle;\n",
       "    }\n",
       "\n",
       "    .dataframe tbody tr th {\n",
       "        vertical-align: top;\n",
       "    }\n",
       "\n",
       "    .dataframe thead th {\n",
       "        text-align: right;\n",
       "    }\n",
       "</style>\n",
       "<table border=\"1\" class=\"dataframe\">\n",
       "  <thead>\n",
       "    <tr style=\"text-align: right;\">\n",
       "      <th></th>\n",
       "      <th>CNV_ID</th>\n",
       "      <th>regionA_stat</th>\n",
       "      <th>regionA_end</th>\n",
       "      <th>chr_A</th>\n",
       "      <th>regionB_stat</th>\n",
       "      <th>regionB_end</th>\n",
       "      <th>chr_B</th>\n",
       "      <th>A_size_bp</th>\n",
       "      <th>B_size_bp</th>\n",
       "      <th>A_size</th>\n",
       "      <th>B_size</th>\n",
       "      <th>libraries</th>\n",
       "      <th>A_region_name</th>\n",
       "      <th>A_region_family</th>\n",
       "      <th>A_region_class</th>\n",
       "      <th>B_region_name</th>\n",
       "      <th>B_region_family</th>\n",
       "      <th>B_region_class</th>\n",
       "      <th>A_repitiveRegion_dist</th>\n",
       "      <th>B_repitiveRegion_dist</th>\n",
       "      <th>A_cov_repRegion</th>\n",
       "      <th>B_cov_repRegion</th>\n",
       "      <th>A_SegDup_dist</th>\n",
       "      <th>B_SegDup_dist</th>\n",
       "      <th>A_cov_segDup</th>\n",
       "      <th>B_cov_segDup</th>\n",
       "      <th>sD_pair</th>\n",
       "      <th>dist_Centromere</th>\n",
       "      <th>dist_Telomere</th>\n",
       "      <th>GC_perc_A</th>\n",
       "      <th>GC_perc_B</th>\n",
       "      <th>Dust_A</th>\n",
       "      <th>Dust_B</th>\n",
       "      <th>A_cov_Exons</th>\n",
       "      <th>A_cov_Introns</th>\n",
       "      <th>B_cov_Exons</th>\n",
       "      <th>B_cov_Introns</th>\n",
       "      <th>A_Lamina_score</th>\n",
       "      <th>B_Lamina_score</th>\n",
       "      <th>A_CpGi_dist</th>\n",
       "      <th>B_CpGi_dist</th>\n",
       "      <th>A_TAD_dist_Log</th>\n",
       "      <th>B_TAD_dist_Log</th>\n",
       "      <th>target</th>\n",
       "    </tr>\n",
       "  </thead>\n",
       "  <tbody>\n",
       "    <tr>\n",
       "      <th>0</th>\n",
       "      <td>DGRC_DUP_104</td>\n",
       "      <td>89775451.0</td>\n",
       "      <td>89777272.0</td>\n",
       "      <td>2</td>\n",
       "      <td>89779566.0</td>\n",
       "      <td>89781388.0</td>\n",
       "      <td>2</td>\n",
       "      <td>1821.0</td>\n",
       "      <td>1822.0</td>\n",
       "      <td>0.000790</td>\n",
       "      <td>0.000791</td>\n",
       "      <td>liGS</td>\n",
       "      <td>Rep_Simple_repeat</td>\n",
       "      <td>(TTCCATTCGA)n</td>\n",
       "      <td>Simple_repeat</td>\n",
       "      <td>Rep_Simple_repeat</td>\n",
       "      <td>(TTCCATTCGA)n</td>\n",
       "      <td>Simple_repeat</td>\n",
       "      <td>0.00044</td>\n",
       "      <td>0.001165</td>\n",
       "      <td>0.000000</td>\n",
       "      <td>0.000000</td>\n",
       "      <td>0.001305</td>\n",
       "      <td>0.029602</td>\n",
       "      <td>0.000000</td>\n",
       "      <td>0.0</td>\n",
       "      <td>False</td>\n",
       "      <td>0.479807</td>\n",
       "      <td>1.957921</td>\n",
       "      <td>0.003463</td>\n",
       "      <td>0.003567</td>\n",
       "      <td>0.099249</td>\n",
       "      <td>0.090253</td>\n",
       "      <td>0.0</td>\n",
       "      <td>0.0</td>\n",
       "      <td>0.0</td>\n",
       "      <td>0.0</td>\n",
       "      <td>0.922579</td>\n",
       "      <td>0.922579</td>\n",
       "      <td>0.003180</td>\n",
       "      <td>0.163358</td>\n",
       "      <td>0.449548</td>\n",
       "      <td>0.040844</td>\n",
       "      <td>True</td>\n",
       "    </tr>\n",
       "    <tr>\n",
       "      <th>1</th>\n",
       "      <td>DGRC_DUP_105</td>\n",
       "      <td>18786308.0</td>\n",
       "      <td>18789362.0</td>\n",
       "      <td>13</td>\n",
       "      <td>18799805.0</td>\n",
       "      <td>18802076.0</td>\n",
       "      <td>13</td>\n",
       "      <td>3054.0</td>\n",
       "      <td>2271.0</td>\n",
       "      <td>0.001324</td>\n",
       "      <td>0.000985</td>\n",
       "      <td>liGS</td>\n",
       "      <td>MSTA-int</td>\n",
       "      <td>ERVL-MaLR</td>\n",
       "      <td>Rep_LTR</td>\n",
       "      <td>THE1D-int</td>\n",
       "      <td>ERVL-MaLR</td>\n",
       "      <td>Rep_LTR</td>\n",
       "      <td>0.00000</td>\n",
       "      <td>0.000000</td>\n",
       "      <td>0.949902</td>\n",
       "      <td>0.971819</td>\n",
       "      <td>0.000000</td>\n",
       "      <td>0.064123</td>\n",
       "      <td>0.983628</td>\n",
       "      <td>0.0</td>\n",
       "      <td>False</td>\n",
       "      <td>0.000000</td>\n",
       "      <td>1.296145</td>\n",
       "      <td>0.004601</td>\n",
       "      <td>0.004765</td>\n",
       "      <td>0.100261</td>\n",
       "      <td>0.104939</td>\n",
       "      <td>0.0</td>\n",
       "      <td>0.0</td>\n",
       "      <td>0.0</td>\n",
       "      <td>0.0</td>\n",
       "      <td>0.914614</td>\n",
       "      <td>0.914614</td>\n",
       "      <td>0.025563</td>\n",
       "      <td>0.030514</td>\n",
       "      <td>0.088600</td>\n",
       "      <td>0.224772</td>\n",
       "      <td>True</td>\n",
       "    </tr>\n",
       "    <tr>\n",
       "      <th>2</th>\n",
       "      <td>DGRC_DUP_109</td>\n",
       "      <td>116414982.0</td>\n",
       "      <td>116416667.0</td>\n",
       "      <td>12</td>\n",
       "      <td>116420997.0</td>\n",
       "      <td>116422113.0</td>\n",
       "      <td>12</td>\n",
       "      <td>1685.0</td>\n",
       "      <td>1116.0</td>\n",
       "      <td>0.000731</td>\n",
       "      <td>0.000484</td>\n",
       "      <td>liGS</td>\n",
       "      <td>(GT)n</td>\n",
       "      <td>Simple_repeat</td>\n",
       "      <td>Rep_Simple_repeat</td>\n",
       "      <td>MLT1N2</td>\n",
       "      <td>ERVL-MaLR</td>\n",
       "      <td>Rep_LTR</td>\n",
       "      <td>0.00000</td>\n",
       "      <td>0.000000</td>\n",
       "      <td>0.541840</td>\n",
       "      <td>0.858423</td>\n",
       "      <td>0.453246</td>\n",
       "      <td>0.861636</td>\n",
       "      <td>0.000000</td>\n",
       "      <td>0.0</td>\n",
       "      <td>False</td>\n",
       "      <td>1.900995</td>\n",
       "      <td>1.251473</td>\n",
       "      <td>0.005071</td>\n",
       "      <td>0.004170</td>\n",
       "      <td>0.029586</td>\n",
       "      <td>0.084483</td>\n",
       "      <td>0.0</td>\n",
       "      <td>0.0</td>\n",
       "      <td>0.0</td>\n",
       "      <td>0.0</td>\n",
       "      <td>0.929569</td>\n",
       "      <td>0.929569</td>\n",
       "      <td>0.055684</td>\n",
       "      <td>0.035941</td>\n",
       "      <td>0.162858</td>\n",
       "      <td>0.240022</td>\n",
       "      <td>True</td>\n",
       "    </tr>\n",
       "    <tr>\n",
       "      <th>3</th>\n",
       "      <td>DGRC_DUP_112</td>\n",
       "      <td>54759916.0</td>\n",
       "      <td>54759960.0</td>\n",
       "      <td>19</td>\n",
       "      <td>54835750.0</td>\n",
       "      <td>54836177.0</td>\n",
       "      <td>19</td>\n",
       "      <td>44.0</td>\n",
       "      <td>427.0</td>\n",
       "      <td>0.000019</td>\n",
       "      <td>0.000185</td>\n",
       "      <td>liGS</td>\n",
       "      <td>HAL1b</td>\n",
       "      <td>L1</td>\n",
       "      <td>Rep_LINE</td>\n",
       "      <td>Rep_LTR</td>\n",
       "      <td>MLT1D</td>\n",
       "      <td>ERVL-MaLR</td>\n",
       "      <td>0.00000</td>\n",
       "      <td>0.000038</td>\n",
       "      <td>1.000000</td>\n",
       "      <td>0.000000</td>\n",
       "      <td>0.000000</td>\n",
       "      <td>0.000000</td>\n",
       "      <td>1.000000</td>\n",
       "      <td>1.0</td>\n",
       "      <td>True</td>\n",
       "      <td>1.441851</td>\n",
       "      <td>0.678649</td>\n",
       "      <td>0.004222</td>\n",
       "      <td>0.005517</td>\n",
       "      <td>0.111111</td>\n",
       "      <td>0.000000</td>\n",
       "      <td>0.0</td>\n",
       "      <td>1.0</td>\n",
       "      <td>0.0</td>\n",
       "      <td>1.0</td>\n",
       "      <td>0.892925</td>\n",
       "      <td>0.894511</td>\n",
       "      <td>0.090833</td>\n",
       "      <td>0.042685</td>\n",
       "      <td>0.107181</td>\n",
       "      <td>0.080563</td>\n",
       "      <td>True</td>\n",
       "    </tr>\n",
       "    <tr>\n",
       "      <th>4</th>\n",
       "      <td>DGRC_DUP_115</td>\n",
       "      <td>13872326.0</td>\n",
       "      <td>13872640.0</td>\n",
       "      <td>21</td>\n",
       "      <td>13898783.0</td>\n",
       "      <td>13899030.0</td>\n",
       "      <td>21</td>\n",
       "      <td>314.0</td>\n",
       "      <td>247.0</td>\n",
       "      <td>0.000136</td>\n",
       "      <td>0.000107</td>\n",
       "      <td>liGS</td>\n",
       "      <td>THE1D-int</td>\n",
       "      <td>ERVL-MaLR</td>\n",
       "      <td>Rep_LTR</td>\n",
       "      <td>MSTA-int</td>\n",
       "      <td>ERVL-MaLR</td>\n",
       "      <td>Rep_LTR</td>\n",
       "      <td>0.00000</td>\n",
       "      <td>0.000000</td>\n",
       "      <td>1.000000</td>\n",
       "      <td>1.000000</td>\n",
       "      <td>0.000000</td>\n",
       "      <td>0.002331</td>\n",
       "      <td>1.000000</td>\n",
       "      <td>0.0</td>\n",
       "      <td>False</td>\n",
       "      <td>0.272381</td>\n",
       "      <td>1.528929</td>\n",
       "      <td>0.005111</td>\n",
       "      <td>0.004840</td>\n",
       "      <td>0.111111</td>\n",
       "      <td>0.111111</td>\n",
       "      <td>0.0</td>\n",
       "      <td>0.0</td>\n",
       "      <td>0.0</td>\n",
       "      <td>0.0</td>\n",
       "      <td>0.905155</td>\n",
       "      <td>0.903528</td>\n",
       "      <td>0.019801</td>\n",
       "      <td>0.016315</td>\n",
       "      <td>0.223321</td>\n",
       "      <td>0.425040</td>\n",
       "      <td>True</td>\n",
       "    </tr>\n",
       "  </tbody>\n",
       "</table>\n",
       "</div>"
      ],
      "text/plain": [
       "         CNV_ID  regionA_stat  regionA_end chr_A  regionB_stat  regionB_end  \\\n",
       "0  DGRC_DUP_104    89775451.0   89777272.0     2    89779566.0   89781388.0   \n",
       "1  DGRC_DUP_105    18786308.0   18789362.0    13    18799805.0   18802076.0   \n",
       "2  DGRC_DUP_109   116414982.0  116416667.0    12   116420997.0  116422113.0   \n",
       "3  DGRC_DUP_112    54759916.0   54759960.0    19    54835750.0   54836177.0   \n",
       "4  DGRC_DUP_115    13872326.0   13872640.0    21    13898783.0   13899030.0   \n",
       "\n",
       "  chr_B  A_size_bp  B_size_bp    A_size    B_size libraries  \\\n",
       "0     2     1821.0     1822.0  0.000790  0.000791      liGS   \n",
       "1    13     3054.0     2271.0  0.001324  0.000985      liGS   \n",
       "2    12     1685.0     1116.0  0.000731  0.000484      liGS   \n",
       "3    19       44.0      427.0  0.000019  0.000185      liGS   \n",
       "4    21      314.0      247.0  0.000136  0.000107      liGS   \n",
       "\n",
       "       A_region_name A_region_family     A_region_class      B_region_name  \\\n",
       "0  Rep_Simple_repeat   (TTCCATTCGA)n      Simple_repeat  Rep_Simple_repeat   \n",
       "1           MSTA-int       ERVL-MaLR            Rep_LTR          THE1D-int   \n",
       "2              (GT)n   Simple_repeat  Rep_Simple_repeat             MLT1N2   \n",
       "3              HAL1b              L1           Rep_LINE            Rep_LTR   \n",
       "4          THE1D-int       ERVL-MaLR            Rep_LTR           MSTA-int   \n",
       "\n",
       "  B_region_family B_region_class  A_repitiveRegion_dist  \\\n",
       "0   (TTCCATTCGA)n  Simple_repeat                0.00044   \n",
       "1       ERVL-MaLR        Rep_LTR                0.00000   \n",
       "2       ERVL-MaLR        Rep_LTR                0.00000   \n",
       "3           MLT1D      ERVL-MaLR                0.00000   \n",
       "4       ERVL-MaLR        Rep_LTR                0.00000   \n",
       "\n",
       "   B_repitiveRegion_dist  A_cov_repRegion  B_cov_repRegion  A_SegDup_dist  \\\n",
       "0               0.001165         0.000000         0.000000       0.001305   \n",
       "1               0.000000         0.949902         0.971819       0.000000   \n",
       "2               0.000000         0.541840         0.858423       0.453246   \n",
       "3               0.000038         1.000000         0.000000       0.000000   \n",
       "4               0.000000         1.000000         1.000000       0.000000   \n",
       "\n",
       "   B_SegDup_dist  A_cov_segDup  B_cov_segDup  sD_pair  dist_Centromere  \\\n",
       "0       0.029602      0.000000           0.0    False         0.479807   \n",
       "1       0.064123      0.983628           0.0    False         0.000000   \n",
       "2       0.861636      0.000000           0.0    False         1.900995   \n",
       "3       0.000000      1.000000           1.0     True         1.441851   \n",
       "4       0.002331      1.000000           0.0    False         0.272381   \n",
       "\n",
       "   dist_Telomere  GC_perc_A  GC_perc_B    Dust_A    Dust_B  A_cov_Exons  \\\n",
       "0       1.957921   0.003463   0.003567  0.099249  0.090253          0.0   \n",
       "1       1.296145   0.004601   0.004765  0.100261  0.104939          0.0   \n",
       "2       1.251473   0.005071   0.004170  0.029586  0.084483          0.0   \n",
       "3       0.678649   0.004222   0.005517  0.111111  0.000000          0.0   \n",
       "4       1.528929   0.005111   0.004840  0.111111  0.111111          0.0   \n",
       "\n",
       "   A_cov_Introns  B_cov_Exons  B_cov_Introns  A_Lamina_score  B_Lamina_score  \\\n",
       "0            0.0          0.0            0.0        0.922579        0.922579   \n",
       "1            0.0          0.0            0.0        0.914614        0.914614   \n",
       "2            0.0          0.0            0.0        0.929569        0.929569   \n",
       "3            1.0          0.0            1.0        0.892925        0.894511   \n",
       "4            0.0          0.0            0.0        0.905155        0.903528   \n",
       "\n",
       "   A_CpGi_dist  B_CpGi_dist  A_TAD_dist_Log  B_TAD_dist_Log  target  \n",
       "0     0.003180     0.163358        0.449548        0.040844    True  \n",
       "1     0.025563     0.030514        0.088600        0.224772    True  \n",
       "2     0.055684     0.035941        0.162858        0.240022    True  \n",
       "3     0.090833     0.042685        0.107181        0.080563    True  \n",
       "4     0.019801     0.016315        0.223321        0.425040    True  "
      ]
     },
     "metadata": {},
     "output_type": "display_data"
    },
    {
     "name": "stdout",
     "output_type": "stream",
     "text": [
      "(10575, 44)\n"
     ]
    }
   ],
   "source": [
    "df_dups = df_dups_raw.copy()\n",
    "display(df_dups.head())\n",
    "print(df_dups.shape) #(2159, 43)"
   ]
  },
  {
   "cell_type": "markdown",
   "metadata": {},
   "source": [
    "---"
   ]
  },
  {
   "cell_type": "markdown",
   "metadata": {},
   "source": [
    "### Check mean and std of region A and B size in bps:"
   ]
  },
  {
   "cell_type": "code",
   "execution_count": 5,
   "metadata": {},
   "outputs": [],
   "source": [
    "df_Dongs = df_dups.loc[(df_dups['CNV_ID'].str.contains('NYGC'))]#[['CNV_ID','A_size_bp','B_size_bp','libraries','target']]\n",
    "df_DGRC = df_dups.loc[~(df_dups['CNV_ID'].str.contains('NYGC'))&(df_dups['libraries']=='liGS')]#[['CNV_ID','A_size_bp','B_size_bp','libraries','target']]"
   ]
  },
  {
   "cell_type": "code",
   "execution_count": 6,
   "metadata": {},
   "outputs": [
    {
     "name": "stdout",
     "output_type": "stream",
     "text": [
      "True    9797\n",
      "Name: target, dtype: int64\n"
     ]
    }
   ],
   "source": [
    "#Save Dongs deletions for further test:\n",
    "\n",
    "df_Dongs.drop(['libraries','regionA_stat', 'regionA_end', 'chr_A',\n",
    "       'regionB_stat', 'regionB_end', 'chr_B','A_size_bp','B_size_bp'], axis=1, inplace=True)\n",
    "\n",
    "df_Dongs['sD_pair'] = df_Dongs['sD_pair'].astype(int)\n",
    "#\n",
    "print(df_Dongs[\"target\"].value_counts())\n",
    "#Save it:\n",
    "outPATH = \"../dataset3/data_main/DUPS_12_04/\"\n",
    "df_Dongs.to_csv(outPATH + 'refined_data_DUPS_Dongs-13-04.csv', sep = ';' ,index_label=False)"
   ]
  },
  {
   "cell_type": "markdown",
   "metadata": {},
   "source": [
    "---"
   ]
  },
  {
   "cell_type": "code",
   "execution_count": 7,
   "metadata": {},
   "outputs": [
    {
     "data": {
      "text/plain": [
       "False    581\n",
       "True     197\n",
       "Name: target, dtype: int64"
      ]
     },
     "execution_count": 7,
     "metadata": {},
     "output_type": "execute_result"
    }
   ],
   "source": [
    "df_DGRC[\"target\"].value_counts()"
   ]
  },
  {
   "cell_type": "code",
   "execution_count": 8,
   "metadata": {},
   "outputs": [
    {
     "data": {
      "text/plain": [
       "count     1556.000000\n",
       "mean      2856.561054\n",
       "std       3285.697184\n",
       "min          3.000000\n",
       "25%        636.500000\n",
       "50%       2013.000000\n",
       "75%       3772.750000\n",
       "max      32249.000000\n",
       "dtype: float64"
      ]
     },
     "execution_count": 8,
     "metadata": {},
     "output_type": "execute_result"
    }
   ],
   "source": [
    "pd.concat([df_DGRC['A_size_bp'],df_DGRC['B_size_bp']]).describe()"
   ]
  },
  {
   "cell_type": "code",
   "execution_count": 32,
   "metadata": {},
   "outputs": [],
   "source": [
    "#pd.concat([df_Dongs['A_size_bp'],df_Dongs['B_size_bp']]).describe()"
   ]
  },
  {
   "cell_type": "markdown",
   "metadata": {},
   "source": [
    "---"
   ]
  },
  {
   "cell_type": "code",
   "execution_count": 33,
   "metadata": {},
   "outputs": [
    {
     "data": {
      "text/plain": [
       "count      394.000000\n",
       "mean      3189.032995\n",
       "std       2445.277425\n",
       "min          3.000000\n",
       "25%       1751.250000\n",
       "50%       2867.000000\n",
       "75%       3918.250000\n",
       "max      17741.000000\n",
       "dtype: float64"
      ]
     },
     "execution_count": 33,
     "metadata": {},
     "output_type": "execute_result"
    }
   ],
   "source": [
    "pd.concat([df_DGRC['A_size_bp'].loc[df_DGRC['target']==True],df_DGRC['B_size_bp'].loc[df_DGRC['target']==True]]).describe()"
   ]
  },
  {
   "cell_type": "code",
   "execution_count": 34,
   "metadata": {},
   "outputs": [
    {
     "data": {
      "text/plain": [
       "count     1162.000000\n",
       "mean      2743.829604\n",
       "std       3519.266812\n",
       "min          3.000000\n",
       "25%        529.500000\n",
       "50%       1507.500000\n",
       "75%       3645.250000\n",
       "max      32249.000000\n",
       "dtype: float64"
      ]
     },
     "execution_count": 34,
     "metadata": {},
     "output_type": "execute_result"
    }
   ],
   "source": [
    "pd.concat([df_DGRC['A_size_bp'].loc[df_DGRC['target']==False],df_DGRC['B_size_bp'].loc[df_DGRC['target']==False]]).describe()"
   ]
  },
  {
   "cell_type": "code",
   "execution_count": null,
   "metadata": {},
   "outputs": [],
   "source": []
  },
  {
   "cell_type": "code",
   "execution_count": 35,
   "metadata": {},
   "outputs": [
    {
     "data": {
      "text/plain": [
       "count      197.000000\n",
       "mean      3153.060914\n",
       "std       2431.140571\n",
       "min         10.000000\n",
       "25%       1679.000000\n",
       "50%       2816.000000\n",
       "75%       3880.000000\n",
       "max      17741.000000\n",
       "Name: A_size_bp, dtype: float64"
      ]
     },
     "execution_count": 35,
     "metadata": {},
     "output_type": "execute_result"
    }
   ],
   "source": [
    "pd.concat([df_DGRC['A_size_bp'].loc[df_DGRC['target']==True]]).describe()"
   ]
  },
  {
   "cell_type": "code",
   "execution_count": 36,
   "metadata": {},
   "outputs": [
    {
     "data": {
      "text/plain": [
       "count      581.000000\n",
       "mean      2751.557659\n",
       "std       3555.057594\n",
       "min          4.000000\n",
       "25%        536.000000\n",
       "50%       1577.000000\n",
       "75%       3605.000000\n",
       "max      32249.000000\n",
       "Name: A_size_bp, dtype: float64"
      ]
     },
     "execution_count": 36,
     "metadata": {},
     "output_type": "execute_result"
    }
   ],
   "source": [
    "pd.concat([df_DGRC['A_size_bp'].loc[df_DGRC['target']==False]]).describe()"
   ]
  },
  {
   "cell_type": "code",
   "execution_count": null,
   "metadata": {},
   "outputs": [],
   "source": []
  },
  {
   "cell_type": "code",
   "execution_count": 37,
   "metadata": {},
   "outputs": [
    {
     "data": {
      "text/plain": [
       "count      197.000000\n",
       "mean      3225.005076\n",
       "std       2464.999951\n",
       "min          3.000000\n",
       "25%       1889.000000\n",
       "50%       2901.000000\n",
       "75%       4008.000000\n",
       "max      17685.000000\n",
       "Name: B_size_bp, dtype: float64"
      ]
     },
     "execution_count": 37,
     "metadata": {},
     "output_type": "execute_result"
    }
   ],
   "source": [
    "pd.concat([df_DGRC['B_size_bp'].loc[df_DGRC['target']==True]]).describe()"
   ]
  },
  {
   "cell_type": "code",
   "execution_count": 38,
   "metadata": {},
   "outputs": [
    {
     "data": {
      "text/plain": [
       "count      581.000000\n",
       "mean      2736.101549\n",
       "std       3486.155117\n",
       "min          3.000000\n",
       "25%        519.000000\n",
       "50%       1494.000000\n",
       "75%       3771.000000\n",
       "max      24684.000000\n",
       "Name: B_size_bp, dtype: float64"
      ]
     },
     "execution_count": 38,
     "metadata": {},
     "output_type": "execute_result"
    }
   ],
   "source": [
    "pd.concat([df_DGRC['B_size_bp'].loc[df_DGRC['target']==False]]).describe()"
   ]
  },
  {
   "cell_type": "markdown",
   "metadata": {},
   "source": [
    "---"
   ]
  },
  {
   "cell_type": "code",
   "execution_count": 39,
   "metadata": {},
   "outputs": [
    {
     "data": {
      "text/plain": [
       "False"
      ]
     },
     "execution_count": 39,
     "metadata": {},
     "output_type": "execute_result"
    }
   ],
   "source": [
    "df_DGRC.isnull().values.any()"
   ]
  },
  {
   "cell_type": "code",
   "execution_count": 40,
   "metadata": {},
   "outputs": [],
   "source": [
    "df_dups = df_DGRC"
   ]
  },
  {
   "cell_type": "markdown",
   "metadata": {},
   "source": [
    "---"
   ]
  },
  {
   "cell_type": "markdown",
   "metadata": {},
   "source": [
    "df_dups[['A_size_bp','B_size_bp','libraries']].loc[(df_dups['target']==True)&(df_dups['libraries']=='liGS')].head(3)"
   ]
  },
  {
   "cell_type": "markdown",
   "metadata": {},
   "source": [
    "df_dups[['A_size_bp','B_size_bp']].loc[(df_dups['target']==True)&(df_dups['libraries']=='liGS')].shape"
   ]
  },
  {
   "cell_type": "markdown",
   "metadata": {},
   "source": [
    "df_dups[['A_size_bp','B_size_bp']].loc[(df_dups['target']==True)&(df_dups['libraries']=='liGS')].describe()"
   ]
  },
  {
   "cell_type": "markdown",
   "metadata": {},
   "source": [
    "#Checking liGS mead region A and B size for Dongs data , in analisis...\n",
    "l_A = df_dups['A_size_bp'].loc[df_dups['libraries']=='liGS'].tolist()\n",
    "l_B = df_dups['B_size_bp'].loc[df_dups['libraries']=='liGS'].tolist()\n",
    "l_A.extend(l_B)\n",
    "\n",
    "print(np.mean(l_A)) #2857"
   ]
  },
  {
   "cell_type": "markdown",
   "metadata": {},
   "source": [
    "---"
   ]
  },
  {
   "cell_type": "code",
   "execution_count": 15,
   "metadata": {},
   "outputs": [
    {
     "data": {
      "text/plain": [
       "(9797, 35)"
      ]
     },
     "execution_count": 15,
     "metadata": {},
     "output_type": "execute_result"
    }
   ],
   "source": [
    "df_Dongs.shape"
   ]
  },
  {
   "cell_type": "code",
   "execution_count": 13,
   "metadata": {},
   "outputs": [
    {
     "data": {
      "text/html": [
       "<div>\n",
       "<style scoped>\n",
       "    .dataframe tbody tr th:only-of-type {\n",
       "        vertical-align: middle;\n",
       "    }\n",
       "\n",
       "    .dataframe tbody tr th {\n",
       "        vertical-align: top;\n",
       "    }\n",
       "\n",
       "    .dataframe thead th {\n",
       "        text-align: right;\n",
       "    }\n",
       "</style>\n",
       "<table border=\"1\" class=\"dataframe\">\n",
       "  <thead>\n",
       "    <tr style=\"text-align: right;\">\n",
       "      <th></th>\n",
       "      <th>CNV_ID</th>\n",
       "      <th>A_size</th>\n",
       "      <th>B_size</th>\n",
       "      <th>A_region_name</th>\n",
       "      <th>A_region_family</th>\n",
       "      <th>A_region_class</th>\n",
       "      <th>B_region_name</th>\n",
       "      <th>B_region_family</th>\n",
       "      <th>B_region_class</th>\n",
       "      <th>A_repitiveRegion_dist</th>\n",
       "      <th>B_repitiveRegion_dist</th>\n",
       "      <th>A_cov_repRegion</th>\n",
       "      <th>B_cov_repRegion</th>\n",
       "      <th>A_SegDup_dist</th>\n",
       "      <th>B_SegDup_dist</th>\n",
       "      <th>A_cov_segDup</th>\n",
       "      <th>B_cov_segDup</th>\n",
       "      <th>sD_pair</th>\n",
       "      <th>dist_Centromere</th>\n",
       "      <th>dist_Telomere</th>\n",
       "      <th>GC_perc_A</th>\n",
       "      <th>GC_perc_B</th>\n",
       "      <th>Dust_A</th>\n",
       "      <th>Dust_B</th>\n",
       "      <th>A_cov_Exons</th>\n",
       "      <th>A_cov_Introns</th>\n",
       "      <th>B_cov_Exons</th>\n",
       "      <th>B_cov_Introns</th>\n",
       "      <th>A_Lamina_score</th>\n",
       "      <th>B_Lamina_score</th>\n",
       "      <th>A_CpGi_dist</th>\n",
       "      <th>B_CpGi_dist</th>\n",
       "      <th>A_TAD_dist_Log</th>\n",
       "      <th>B_TAD_dist_Log</th>\n",
       "      <th>target</th>\n",
       "    </tr>\n",
       "  </thead>\n",
       "  <tbody>\n",
       "    <tr>\n",
       "      <th>3619</th>\n",
       "      <td>NYGC_DUP_TAN_50</td>\n",
       "      <td>0.001381</td>\n",
       "      <td>0.001381</td>\n",
       "      <td>MER91A</td>\n",
       "      <td>hAT-Tip100</td>\n",
       "      <td>Rep_DNA</td>\n",
       "      <td>L1MA5A</td>\n",
       "      <td>L1</td>\n",
       "      <td>Rep_LINE</td>\n",
       "      <td>0.0</td>\n",
       "      <td>0.0</td>\n",
       "      <td>0.065934</td>\n",
       "      <td>0.293878</td>\n",
       "      <td>0.165233</td>\n",
       "      <td>0.068509</td>\n",
       "      <td>0.000000</td>\n",
       "      <td>0.0</td>\n",
       "      <td>0</td>\n",
       "      <td>1.945061</td>\n",
       "      <td>0.179069</td>\n",
       "      <td>0.003524</td>\n",
       "      <td>0.003473</td>\n",
       "      <td>0.000492</td>\n",
       "      <td>0.009962</td>\n",
       "      <td>0.000000</td>\n",
       "      <td>0.000000</td>\n",
       "      <td>0.000000</td>\n",
       "      <td>1.000000</td>\n",
       "      <td>0.000000</td>\n",
       "      <td>0.000000</td>\n",
       "      <td>0.083183</td>\n",
       "      <td>0.383033</td>\n",
       "      <td>0.049342</td>\n",
       "      <td>0.546209</td>\n",
       "      <td>True</td>\n",
       "    </tr>\n",
       "    <tr>\n",
       "      <th>3669</th>\n",
       "      <td>NYGC_DUP_TAN_100</td>\n",
       "      <td>0.001381</td>\n",
       "      <td>0.001381</td>\n",
       "      <td>L1MEg</td>\n",
       "      <td>L1</td>\n",
       "      <td>Rep_LINE</td>\n",
       "      <td>MLT1F</td>\n",
       "      <td>ERVL-MaLR</td>\n",
       "      <td>Rep_LTR</td>\n",
       "      <td>0.0</td>\n",
       "      <td>0.0</td>\n",
       "      <td>0.448666</td>\n",
       "      <td>0.286342</td>\n",
       "      <td>0.111271</td>\n",
       "      <td>0.114293</td>\n",
       "      <td>0.000000</td>\n",
       "      <td>0.0</td>\n",
       "      <td>0</td>\n",
       "      <td>1.768939</td>\n",
       "      <td>0.112301</td>\n",
       "      <td>0.005025</td>\n",
       "      <td>0.005586</td>\n",
       "      <td>0.025224</td>\n",
       "      <td>0.011908</td>\n",
       "      <td>0.000000</td>\n",
       "      <td>0.000000</td>\n",
       "      <td>0.000000</td>\n",
       "      <td>0.000000</td>\n",
       "      <td>0.000000</td>\n",
       "      <td>0.000000</td>\n",
       "      <td>0.001403</td>\n",
       "      <td>0.000516</td>\n",
       "      <td>0.115642</td>\n",
       "      <td>0.182042</td>\n",
       "      <td>True</td>\n",
       "    </tr>\n",
       "    <tr>\n",
       "      <th>3694</th>\n",
       "      <td>NYGC_DUP_TAN_125</td>\n",
       "      <td>0.001381</td>\n",
       "      <td>0.001381</td>\n",
       "      <td>AluSx3</td>\n",
       "      <td>Alu</td>\n",
       "      <td>Rep_SINE</td>\n",
       "      <td>L2a</td>\n",
       "      <td>L2</td>\n",
       "      <td>Rep_LINE</td>\n",
       "      <td>0.0</td>\n",
       "      <td>0.0</td>\n",
       "      <td>0.081319</td>\n",
       "      <td>0.769545</td>\n",
       "      <td>0.052752</td>\n",
       "      <td>0.381802</td>\n",
       "      <td>0.000000</td>\n",
       "      <td>0.0</td>\n",
       "      <td>0</td>\n",
       "      <td>2.008475</td>\n",
       "      <td>1.377839</td>\n",
       "      <td>0.003555</td>\n",
       "      <td>0.004420</td>\n",
       "      <td>0.001265</td>\n",
       "      <td>0.066620</td>\n",
       "      <td>0.209733</td>\n",
       "      <td>0.252433</td>\n",
       "      <td>0.000000</td>\n",
       "      <td>0.000000</td>\n",
       "      <td>0.000000</td>\n",
       "      <td>0.000000</td>\n",
       "      <td>0.002939</td>\n",
       "      <td>0.002530</td>\n",
       "      <td>0.222859</td>\n",
       "      <td>0.018209</td>\n",
       "      <td>True</td>\n",
       "    </tr>\n",
       "    <tr>\n",
       "      <th>3695</th>\n",
       "      <td>NYGC_DUP_TAN_126</td>\n",
       "      <td>0.001381</td>\n",
       "      <td>0.001381</td>\n",
       "      <td>L1MA5</td>\n",
       "      <td>L1</td>\n",
       "      <td>Rep_LINE</td>\n",
       "      <td>L1MA5</td>\n",
       "      <td>L1</td>\n",
       "      <td>Rep_LINE</td>\n",
       "      <td>0.0</td>\n",
       "      <td>0.0</td>\n",
       "      <td>0.529042</td>\n",
       "      <td>0.464678</td>\n",
       "      <td>0.680520</td>\n",
       "      <td>0.383032</td>\n",
       "      <td>0.000000</td>\n",
       "      <td>0.0</td>\n",
       "      <td>0</td>\n",
       "      <td>2.038476</td>\n",
       "      <td>1.219550</td>\n",
       "      <td>0.003702</td>\n",
       "      <td>0.003621</td>\n",
       "      <td>0.032083</td>\n",
       "      <td>0.024992</td>\n",
       "      <td>0.000000</td>\n",
       "      <td>1.000000</td>\n",
       "      <td>0.000000</td>\n",
       "      <td>1.000000</td>\n",
       "      <td>0.000000</td>\n",
       "      <td>0.000000</td>\n",
       "      <td>0.000649</td>\n",
       "      <td>0.095501</td>\n",
       "      <td>0.018562</td>\n",
       "      <td>0.299344</td>\n",
       "      <td>True</td>\n",
       "    </tr>\n",
       "    <tr>\n",
       "      <th>3701</th>\n",
       "      <td>NYGC_DUP_TAN_132</td>\n",
       "      <td>0.001381</td>\n",
       "      <td>0.001381</td>\n",
       "      <td>Tigger17a</td>\n",
       "      <td>TcMar-Tigger</td>\n",
       "      <td>Rep_DNA</td>\n",
       "      <td>Tigger17a</td>\n",
       "      <td>TcMar-Tigger</td>\n",
       "      <td>Rep_DNA</td>\n",
       "      <td>0.0</td>\n",
       "      <td>0.0</td>\n",
       "      <td>0.816641</td>\n",
       "      <td>0.831083</td>\n",
       "      <td>0.400494</td>\n",
       "      <td>0.135193</td>\n",
       "      <td>0.000000</td>\n",
       "      <td>0.0</td>\n",
       "      <td>0</td>\n",
       "      <td>1.966341</td>\n",
       "      <td>1.138036</td>\n",
       "      <td>0.004266</td>\n",
       "      <td>0.004326</td>\n",
       "      <td>0.074111</td>\n",
       "      <td>0.082420</td>\n",
       "      <td>0.000000</td>\n",
       "      <td>1.000000</td>\n",
       "      <td>0.000000</td>\n",
       "      <td>1.000000</td>\n",
       "      <td>0.000000</td>\n",
       "      <td>0.000000</td>\n",
       "      <td>0.018351</td>\n",
       "      <td>0.017884</td>\n",
       "      <td>0.231088</td>\n",
       "      <td>0.006896</td>\n",
       "      <td>True</td>\n",
       "    </tr>\n",
       "    <tr>\n",
       "      <th>...</th>\n",
       "      <td>...</td>\n",
       "      <td>...</td>\n",
       "      <td>...</td>\n",
       "      <td>...</td>\n",
       "      <td>...</td>\n",
       "      <td>...</td>\n",
       "      <td>...</td>\n",
       "      <td>...</td>\n",
       "      <td>...</td>\n",
       "      <td>...</td>\n",
       "      <td>...</td>\n",
       "      <td>...</td>\n",
       "      <td>...</td>\n",
       "      <td>...</td>\n",
       "      <td>...</td>\n",
       "      <td>...</td>\n",
       "      <td>...</td>\n",
       "      <td>...</td>\n",
       "      <td>...</td>\n",
       "      <td>...</td>\n",
       "      <td>...</td>\n",
       "      <td>...</td>\n",
       "      <td>...</td>\n",
       "      <td>...</td>\n",
       "      <td>...</td>\n",
       "      <td>...</td>\n",
       "      <td>...</td>\n",
       "      <td>...</td>\n",
       "      <td>...</td>\n",
       "      <td>...</td>\n",
       "      <td>...</td>\n",
       "      <td>...</td>\n",
       "      <td>...</td>\n",
       "      <td>...</td>\n",
       "      <td>...</td>\n",
       "    </tr>\n",
       "    <tr>\n",
       "      <th>13390</th>\n",
       "      <td>NYGC_DUP_REV2_9821</td>\n",
       "      <td>0.001381</td>\n",
       "      <td>0.001381</td>\n",
       "      <td>L2a</td>\n",
       "      <td>L2</td>\n",
       "      <td>Rep_LINE</td>\n",
       "      <td>MER4C</td>\n",
       "      <td>ERV1</td>\n",
       "      <td>Rep_LTR</td>\n",
       "      <td>0.0</td>\n",
       "      <td>0.0</td>\n",
       "      <td>0.279749</td>\n",
       "      <td>0.850235</td>\n",
       "      <td>290.956983</td>\n",
       "      <td>0.137384</td>\n",
       "      <td>0.000000</td>\n",
       "      <td>0.0</td>\n",
       "      <td>0</td>\n",
       "      <td>1.524878</td>\n",
       "      <td>0.117412</td>\n",
       "      <td>0.003577</td>\n",
       "      <td>0.004289</td>\n",
       "      <td>0.008906</td>\n",
       "      <td>0.082000</td>\n",
       "      <td>0.174882</td>\n",
       "      <td>0.825118</td>\n",
       "      <td>0.000000</td>\n",
       "      <td>0.000000</td>\n",
       "      <td>0.000000</td>\n",
       "      <td>0.736241</td>\n",
       "      <td>0.047765</td>\n",
       "      <td>0.016787</td>\n",
       "      <td>0.120714</td>\n",
       "      <td>0.284912</td>\n",
       "      <td>True</td>\n",
       "    </tr>\n",
       "    <tr>\n",
       "      <th>13410</th>\n",
       "      <td>NYGC_DUP_REV2_9841</td>\n",
       "      <td>0.001381</td>\n",
       "      <td>0.001381</td>\n",
       "      <td>MER67C</td>\n",
       "      <td>ERV1</td>\n",
       "      <td>Rep_LTR</td>\n",
       "      <td>HERVL-int</td>\n",
       "      <td>ERVL</td>\n",
       "      <td>Rep_LTR</td>\n",
       "      <td>0.0</td>\n",
       "      <td>0.0</td>\n",
       "      <td>0.553532</td>\n",
       "      <td>0.682261</td>\n",
       "      <td>0.196290</td>\n",
       "      <td>0.051680</td>\n",
       "      <td>0.000000</td>\n",
       "      <td>0.0</td>\n",
       "      <td>0</td>\n",
       "      <td>2.073880</td>\n",
       "      <td>0.850223</td>\n",
       "      <td>0.003868</td>\n",
       "      <td>0.004339</td>\n",
       "      <td>0.034023</td>\n",
       "      <td>0.058107</td>\n",
       "      <td>0.000000</td>\n",
       "      <td>0.000000</td>\n",
       "      <td>0.000000</td>\n",
       "      <td>0.000000</td>\n",
       "      <td>0.000000</td>\n",
       "      <td>0.000000</td>\n",
       "      <td>0.048777</td>\n",
       "      <td>0.011556</td>\n",
       "      <td>0.466013</td>\n",
       "      <td>0.070655</td>\n",
       "      <td>True</td>\n",
       "    </tr>\n",
       "    <tr>\n",
       "      <th>13411</th>\n",
       "      <td>NYGC_DUP_REV2_9842</td>\n",
       "      <td>0.001381</td>\n",
       "      <td>0.001381</td>\n",
       "      <td>L2c</td>\n",
       "      <td>L2</td>\n",
       "      <td>Rep_LINE</td>\n",
       "      <td>AluSx</td>\n",
       "      <td>Alu</td>\n",
       "      <td>Rep_SINE</td>\n",
       "      <td>0.0</td>\n",
       "      <td>0.0</td>\n",
       "      <td>0.638305</td>\n",
       "      <td>0.094819</td>\n",
       "      <td>0.000000</td>\n",
       "      <td>0.044982</td>\n",
       "      <td>1.000000</td>\n",
       "      <td>0.0</td>\n",
       "      <td>0</td>\n",
       "      <td>1.771514</td>\n",
       "      <td>0.043546</td>\n",
       "      <td>0.003392</td>\n",
       "      <td>0.004009</td>\n",
       "      <td>0.051355</td>\n",
       "      <td>0.001032</td>\n",
       "      <td>0.000000</td>\n",
       "      <td>0.000000</td>\n",
       "      <td>0.820722</td>\n",
       "      <td>0.179278</td>\n",
       "      <td>0.980892</td>\n",
       "      <td>0.000000</td>\n",
       "      <td>290.956983</td>\n",
       "      <td>0.005999</td>\n",
       "      <td>0.015136</td>\n",
       "      <td>0.315984</td>\n",
       "      <td>True</td>\n",
       "    </tr>\n",
       "    <tr>\n",
       "      <th>13412</th>\n",
       "      <td>NYGC_DUP_REV2_9843</td>\n",
       "      <td>0.001381</td>\n",
       "      <td>0.001381</td>\n",
       "      <td>LTR28C</td>\n",
       "      <td>ERV1</td>\n",
       "      <td>Rep_LTR</td>\n",
       "      <td>AluSz</td>\n",
       "      <td>Alu</td>\n",
       "      <td>Rep_SINE</td>\n",
       "      <td>0.0</td>\n",
       "      <td>0.0</td>\n",
       "      <td>0.466248</td>\n",
       "      <td>0.545369</td>\n",
       "      <td>0.000000</td>\n",
       "      <td>0.000000</td>\n",
       "      <td>0.745997</td>\n",
       "      <td>1.0</td>\n",
       "      <td>0</td>\n",
       "      <td>1.921743</td>\n",
       "      <td>1.625664</td>\n",
       "      <td>0.004612</td>\n",
       "      <td>0.004533</td>\n",
       "      <td>0.024269</td>\n",
       "      <td>0.033027</td>\n",
       "      <td>0.087284</td>\n",
       "      <td>0.912716</td>\n",
       "      <td>0.224490</td>\n",
       "      <td>0.775510</td>\n",
       "      <td>0.000000</td>\n",
       "      <td>0.940397</td>\n",
       "      <td>0.046936</td>\n",
       "      <td>0.016838</td>\n",
       "      <td>0.021520</td>\n",
       "      <td>0.036512</td>\n",
       "      <td>True</td>\n",
       "    </tr>\n",
       "    <tr>\n",
       "      <th>13418</th>\n",
       "      <td>NYGC_DUP_REV2_9849</td>\n",
       "      <td>0.001381</td>\n",
       "      <td>0.001381</td>\n",
       "      <td>AluSz</td>\n",
       "      <td>Alu</td>\n",
       "      <td>Rep_SINE</td>\n",
       "      <td>THE1A-int</td>\n",
       "      <td>ERVL-MaLR</td>\n",
       "      <td>Rep_LTR</td>\n",
       "      <td>0.0</td>\n",
       "      <td>0.0</td>\n",
       "      <td>0.392779</td>\n",
       "      <td>0.806279</td>\n",
       "      <td>0.085859</td>\n",
       "      <td>0.879989</td>\n",
       "      <td>0.000000</td>\n",
       "      <td>0.0</td>\n",
       "      <td>0</td>\n",
       "      <td>1.200068</td>\n",
       "      <td>0.127198</td>\n",
       "      <td>0.004204</td>\n",
       "      <td>0.004561</td>\n",
       "      <td>0.019189</td>\n",
       "      <td>0.083990</td>\n",
       "      <td>0.000000</td>\n",
       "      <td>1.000000</td>\n",
       "      <td>0.000000</td>\n",
       "      <td>0.000000</td>\n",
       "      <td>0.000000</td>\n",
       "      <td>0.000000</td>\n",
       "      <td>0.034189</td>\n",
       "      <td>0.013511</td>\n",
       "      <td>0.130426</td>\n",
       "      <td>0.111068</td>\n",
       "      <td>True</td>\n",
       "    </tr>\n",
       "  </tbody>\n",
       "</table>\n",
       "<p>239 rows × 35 columns</p>\n",
       "</div>"
      ],
      "text/plain": [
       "                   CNV_ID    A_size    B_size A_region_name A_region_family  \\\n",
       "3619      NYGC_DUP_TAN_50  0.001381  0.001381        MER91A      hAT-Tip100   \n",
       "3669     NYGC_DUP_TAN_100  0.001381  0.001381         L1MEg              L1   \n",
       "3694     NYGC_DUP_TAN_125  0.001381  0.001381        AluSx3             Alu   \n",
       "3695     NYGC_DUP_TAN_126  0.001381  0.001381         L1MA5              L1   \n",
       "3701     NYGC_DUP_TAN_132  0.001381  0.001381     Tigger17a    TcMar-Tigger   \n",
       "...                   ...       ...       ...           ...             ...   \n",
       "13390  NYGC_DUP_REV2_9821  0.001381  0.001381           L2a              L2   \n",
       "13410  NYGC_DUP_REV2_9841  0.001381  0.001381        MER67C            ERV1   \n",
       "13411  NYGC_DUP_REV2_9842  0.001381  0.001381           L2c              L2   \n",
       "13412  NYGC_DUP_REV2_9843  0.001381  0.001381        LTR28C            ERV1   \n",
       "13418  NYGC_DUP_REV2_9849  0.001381  0.001381         AluSz             Alu   \n",
       "\n",
       "      A_region_class B_region_name B_region_family B_region_class  \\\n",
       "3619         Rep_DNA        L1MA5A              L1       Rep_LINE   \n",
       "3669        Rep_LINE         MLT1F       ERVL-MaLR        Rep_LTR   \n",
       "3694        Rep_SINE           L2a              L2       Rep_LINE   \n",
       "3695        Rep_LINE         L1MA5              L1       Rep_LINE   \n",
       "3701         Rep_DNA     Tigger17a    TcMar-Tigger        Rep_DNA   \n",
       "...              ...           ...             ...            ...   \n",
       "13390       Rep_LINE         MER4C            ERV1        Rep_LTR   \n",
       "13410        Rep_LTR     HERVL-int            ERVL        Rep_LTR   \n",
       "13411       Rep_LINE         AluSx             Alu       Rep_SINE   \n",
       "13412        Rep_LTR         AluSz             Alu       Rep_SINE   \n",
       "13418       Rep_SINE     THE1A-int       ERVL-MaLR        Rep_LTR   \n",
       "\n",
       "       A_repitiveRegion_dist  B_repitiveRegion_dist  A_cov_repRegion  \\\n",
       "3619                     0.0                    0.0         0.065934   \n",
       "3669                     0.0                    0.0         0.448666   \n",
       "3694                     0.0                    0.0         0.081319   \n",
       "3695                     0.0                    0.0         0.529042   \n",
       "3701                     0.0                    0.0         0.816641   \n",
       "...                      ...                    ...              ...   \n",
       "13390                    0.0                    0.0         0.279749   \n",
       "13410                    0.0                    0.0         0.553532   \n",
       "13411                    0.0                    0.0         0.638305   \n",
       "13412                    0.0                    0.0         0.466248   \n",
       "13418                    0.0                    0.0         0.392779   \n",
       "\n",
       "       B_cov_repRegion  A_SegDup_dist  B_SegDup_dist  A_cov_segDup  \\\n",
       "3619          0.293878       0.165233       0.068509      0.000000   \n",
       "3669          0.286342       0.111271       0.114293      0.000000   \n",
       "3694          0.769545       0.052752       0.381802      0.000000   \n",
       "3695          0.464678       0.680520       0.383032      0.000000   \n",
       "3701          0.831083       0.400494       0.135193      0.000000   \n",
       "...                ...            ...            ...           ...   \n",
       "13390         0.850235     290.956983       0.137384      0.000000   \n",
       "13410         0.682261       0.196290       0.051680      0.000000   \n",
       "13411         0.094819       0.000000       0.044982      1.000000   \n",
       "13412         0.545369       0.000000       0.000000      0.745997   \n",
       "13418         0.806279       0.085859       0.879989      0.000000   \n",
       "\n",
       "       B_cov_segDup  sD_pair  dist_Centromere  dist_Telomere  GC_perc_A  \\\n",
       "3619            0.0        0         1.945061       0.179069   0.003524   \n",
       "3669            0.0        0         1.768939       0.112301   0.005025   \n",
       "3694            0.0        0         2.008475       1.377839   0.003555   \n",
       "3695            0.0        0         2.038476       1.219550   0.003702   \n",
       "3701            0.0        0         1.966341       1.138036   0.004266   \n",
       "...             ...      ...              ...            ...        ...   \n",
       "13390           0.0        0         1.524878       0.117412   0.003577   \n",
       "13410           0.0        0         2.073880       0.850223   0.003868   \n",
       "13411           0.0        0         1.771514       0.043546   0.003392   \n",
       "13412           1.0        0         1.921743       1.625664   0.004612   \n",
       "13418           0.0        0         1.200068       0.127198   0.004204   \n",
       "\n",
       "       GC_perc_B    Dust_A    Dust_B  A_cov_Exons  A_cov_Introns  B_cov_Exons  \\\n",
       "3619    0.003473  0.000492  0.009962     0.000000       0.000000     0.000000   \n",
       "3669    0.005586  0.025224  0.011908     0.000000       0.000000     0.000000   \n",
       "3694    0.004420  0.001265  0.066620     0.209733       0.252433     0.000000   \n",
       "3695    0.003621  0.032083  0.024992     0.000000       1.000000     0.000000   \n",
       "3701    0.004326  0.074111  0.082420     0.000000       1.000000     0.000000   \n",
       "...          ...       ...       ...          ...            ...          ...   \n",
       "13390   0.004289  0.008906  0.082000     0.174882       0.825118     0.000000   \n",
       "13410   0.004339  0.034023  0.058107     0.000000       0.000000     0.000000   \n",
       "13411   0.004009  0.051355  0.001032     0.000000       0.000000     0.820722   \n",
       "13412   0.004533  0.024269  0.033027     0.087284       0.912716     0.224490   \n",
       "13418   0.004561  0.019189  0.083990     0.000000       1.000000     0.000000   \n",
       "\n",
       "       B_cov_Introns  A_Lamina_score  B_Lamina_score  A_CpGi_dist  \\\n",
       "3619        1.000000        0.000000        0.000000     0.083183   \n",
       "3669        0.000000        0.000000        0.000000     0.001403   \n",
       "3694        0.000000        0.000000        0.000000     0.002939   \n",
       "3695        1.000000        0.000000        0.000000     0.000649   \n",
       "3701        1.000000        0.000000        0.000000     0.018351   \n",
       "...              ...             ...             ...          ...   \n",
       "13390       0.000000        0.000000        0.736241     0.047765   \n",
       "13410       0.000000        0.000000        0.000000     0.048777   \n",
       "13411       0.179278        0.980892        0.000000   290.956983   \n",
       "13412       0.775510        0.000000        0.940397     0.046936   \n",
       "13418       0.000000        0.000000        0.000000     0.034189   \n",
       "\n",
       "       B_CpGi_dist  A_TAD_dist_Log  B_TAD_dist_Log  target  \n",
       "3619      0.383033        0.049342        0.546209    True  \n",
       "3669      0.000516        0.115642        0.182042    True  \n",
       "3694      0.002530        0.222859        0.018209    True  \n",
       "3695      0.095501        0.018562        0.299344    True  \n",
       "3701      0.017884        0.231088        0.006896    True  \n",
       "...            ...             ...             ...     ...  \n",
       "13390     0.016787        0.120714        0.284912    True  \n",
       "13410     0.011556        0.466013        0.070655    True  \n",
       "13411     0.005999        0.015136        0.315984    True  \n",
       "13412     0.016838        0.021520        0.036512    True  \n",
       "13418     0.013511        0.130426        0.111068    True  \n",
       "\n",
       "[239 rows x 35 columns]"
      ]
     },
     "execution_count": 13,
     "metadata": {},
     "output_type": "execute_result"
    }
   ],
   "source": [
    "df_Dongs.loc[(df_Dongs['A_Lamina_score'] == 0) | (df_Dongs['B_Lamina_score'] == 0)]"
   ]
  },
  {
   "cell_type": "code",
   "execution_count": 16,
   "metadata": {},
   "outputs": [
    {
     "data": {
      "text/plain": [
       "9558"
      ]
     },
     "execution_count": 16,
     "metadata": {},
     "output_type": "execute_result"
    }
   ],
   "source": [
    "9797 - 239"
   ]
  },
  {
   "cell_type": "code",
   "execution_count": 18,
   "metadata": {},
   "outputs": [
    {
     "data": {
      "text/plain": [
       "2.4395223027457384"
      ]
     },
     "execution_count": 18,
     "metadata": {},
     "output_type": "execute_result"
    }
   ],
   "source": [
    "(239 *100)/(9797)"
   ]
  },
  {
   "cell_type": "code",
   "execution_count": null,
   "metadata": {},
   "outputs": [],
   "source": []
  },
  {
   "cell_type": "markdown",
   "metadata": {},
   "source": [
    "---"
   ]
  },
  {
   "cell_type": "code",
   "execution_count": 41,
   "metadata": {},
   "outputs": [],
   "source": [
    "#display(df_dups.loc[df_dups['target']==True].shape)\n",
    "#display(df_dups.loc[df_dups['target']==False].shape)"
   ]
  },
  {
   "cell_type": "code",
   "execution_count": 42,
   "metadata": {},
   "outputs": [],
   "source": [
    "df_dups.drop(['regionA_stat', 'regionA_end', 'chr_A',\n",
    "       'regionB_stat', 'regionB_end', 'chr_B','A_size_bp','B_size_bp'], axis=1, inplace=True)"
   ]
  },
  {
   "cell_type": "code",
   "execution_count": 43,
   "metadata": {},
   "outputs": [],
   "source": [
    "#display(df_dups.head())\n",
    "#print(df_dups.shape)"
   ]
  },
  {
   "cell_type": "markdown",
   "metadata": {},
   "source": [
    "# Start Feature Seletion:"
   ]
  },
  {
   "cell_type": "markdown",
   "metadata": {},
   "source": [
    "Some adjustments to target:"
   ]
  },
  {
   "cell_type": "markdown",
   "metadata": {},
   "source": [
    "<div class=\"alert alert-block alert-warning\">\n",
    "<b> Attention: </b> target where *{True:0,False:1}* is just in this notebook, the main dataset for the ML processe will be *{True:1,False:0}* , because it's the correct way!!!\n",
    "</div>"
   ]
  },
  {
   "cell_type": "code",
   "execution_count": 44,
   "metadata": {},
   "outputs": [],
   "source": [
    "df_dups[\"target\"] = df_dups[\"target\"].replace({True:0,False:1})\n",
    "#df_dups[\"target\"] = df_dups[\"target\"].replace({True:0,False:1})"
   ]
  },
  {
   "cell_type": "code",
   "execution_count": 45,
   "metadata": {},
   "outputs": [
    {
     "data": {
      "text/html": [
       "<div>\n",
       "<style scoped>\n",
       "    .dataframe tbody tr th:only-of-type {\n",
       "        vertical-align: middle;\n",
       "    }\n",
       "\n",
       "    .dataframe tbody tr th {\n",
       "        vertical-align: top;\n",
       "    }\n",
       "\n",
       "    .dataframe thead th {\n",
       "        text-align: right;\n",
       "    }\n",
       "</style>\n",
       "<table border=\"1\" class=\"dataframe\">\n",
       "  <thead>\n",
       "    <tr style=\"text-align: right;\">\n",
       "      <th></th>\n",
       "      <th>CNV_ID</th>\n",
       "      <th>A_size</th>\n",
       "      <th>B_size</th>\n",
       "      <th>libraries</th>\n",
       "      <th>A_region_name</th>\n",
       "      <th>A_region_family</th>\n",
       "      <th>A_region_class</th>\n",
       "      <th>B_region_name</th>\n",
       "      <th>B_region_family</th>\n",
       "      <th>B_region_class</th>\n",
       "      <th>A_repitiveRegion_dist</th>\n",
       "      <th>B_repitiveRegion_dist</th>\n",
       "      <th>A_cov_repRegion</th>\n",
       "      <th>B_cov_repRegion</th>\n",
       "      <th>A_SegDup_dist</th>\n",
       "      <th>B_SegDup_dist</th>\n",
       "      <th>A_cov_segDup</th>\n",
       "      <th>B_cov_segDup</th>\n",
       "      <th>sD_pair</th>\n",
       "      <th>dist_Centromere</th>\n",
       "      <th>dist_Telomere</th>\n",
       "      <th>GC_perc_A</th>\n",
       "      <th>GC_perc_B</th>\n",
       "      <th>Dust_A</th>\n",
       "      <th>Dust_B</th>\n",
       "      <th>A_cov_Exons</th>\n",
       "      <th>A_cov_Introns</th>\n",
       "      <th>B_cov_Exons</th>\n",
       "      <th>B_cov_Introns</th>\n",
       "      <th>A_Lamina_score</th>\n",
       "      <th>B_Lamina_score</th>\n",
       "      <th>A_CpGi_dist</th>\n",
       "      <th>B_CpGi_dist</th>\n",
       "      <th>A_TAD_dist_Log</th>\n",
       "      <th>B_TAD_dist_Log</th>\n",
       "      <th>target</th>\n",
       "    </tr>\n",
       "  </thead>\n",
       "  <tbody>\n",
       "    <tr>\n",
       "      <th>0</th>\n",
       "      <td>DGRC_DUP_104</td>\n",
       "      <td>0.000790</td>\n",
       "      <td>0.000791</td>\n",
       "      <td>liGS</td>\n",
       "      <td>Rep_Simple_repeat</td>\n",
       "      <td>(TTCCATTCGA)n</td>\n",
       "      <td>Simple_repeat</td>\n",
       "      <td>Rep_Simple_repeat</td>\n",
       "      <td>(TTCCATTCGA)n</td>\n",
       "      <td>Simple_repeat</td>\n",
       "      <td>0.00044</td>\n",
       "      <td>0.001165</td>\n",
       "      <td>0.000000</td>\n",
       "      <td>0.000000</td>\n",
       "      <td>0.001305</td>\n",
       "      <td>0.029602</td>\n",
       "      <td>0.000000</td>\n",
       "      <td>0.0</td>\n",
       "      <td>False</td>\n",
       "      <td>0.479807</td>\n",
       "      <td>1.957921</td>\n",
       "      <td>0.003463</td>\n",
       "      <td>0.003567</td>\n",
       "      <td>0.099249</td>\n",
       "      <td>0.090253</td>\n",
       "      <td>0.0</td>\n",
       "      <td>0.0</td>\n",
       "      <td>0.000000</td>\n",
       "      <td>0.000000</td>\n",
       "      <td>0.922579</td>\n",
       "      <td>0.922579</td>\n",
       "      <td>0.003180</td>\n",
       "      <td>0.163358</td>\n",
       "      <td>0.449548</td>\n",
       "      <td>0.040844</td>\n",
       "      <td>0</td>\n",
       "    </tr>\n",
       "    <tr>\n",
       "      <th>1</th>\n",
       "      <td>DGRC_DUP_105</td>\n",
       "      <td>0.001324</td>\n",
       "      <td>0.000985</td>\n",
       "      <td>liGS</td>\n",
       "      <td>MSTA-int</td>\n",
       "      <td>ERVL-MaLR</td>\n",
       "      <td>Rep_LTR</td>\n",
       "      <td>THE1D-int</td>\n",
       "      <td>ERVL-MaLR</td>\n",
       "      <td>Rep_LTR</td>\n",
       "      <td>0.00000</td>\n",
       "      <td>0.000000</td>\n",
       "      <td>0.949902</td>\n",
       "      <td>0.971819</td>\n",
       "      <td>0.000000</td>\n",
       "      <td>0.064123</td>\n",
       "      <td>0.983628</td>\n",
       "      <td>0.0</td>\n",
       "      <td>False</td>\n",
       "      <td>0.000000</td>\n",
       "      <td>1.296145</td>\n",
       "      <td>0.004601</td>\n",
       "      <td>0.004765</td>\n",
       "      <td>0.100261</td>\n",
       "      <td>0.104939</td>\n",
       "      <td>0.0</td>\n",
       "      <td>0.0</td>\n",
       "      <td>0.000000</td>\n",
       "      <td>0.000000</td>\n",
       "      <td>0.914614</td>\n",
       "      <td>0.914614</td>\n",
       "      <td>0.025563</td>\n",
       "      <td>0.030514</td>\n",
       "      <td>0.088600</td>\n",
       "      <td>0.224772</td>\n",
       "      <td>0</td>\n",
       "    </tr>\n",
       "    <tr>\n",
       "      <th>2</th>\n",
       "      <td>DGRC_DUP_109</td>\n",
       "      <td>0.000731</td>\n",
       "      <td>0.000484</td>\n",
       "      <td>liGS</td>\n",
       "      <td>(GT)n</td>\n",
       "      <td>Simple_repeat</td>\n",
       "      <td>Rep_Simple_repeat</td>\n",
       "      <td>MLT1N2</td>\n",
       "      <td>ERVL-MaLR</td>\n",
       "      <td>Rep_LTR</td>\n",
       "      <td>0.00000</td>\n",
       "      <td>0.000000</td>\n",
       "      <td>0.541840</td>\n",
       "      <td>0.858423</td>\n",
       "      <td>0.453246</td>\n",
       "      <td>0.861636</td>\n",
       "      <td>0.000000</td>\n",
       "      <td>0.0</td>\n",
       "      <td>False</td>\n",
       "      <td>1.900995</td>\n",
       "      <td>1.251473</td>\n",
       "      <td>0.005071</td>\n",
       "      <td>0.004170</td>\n",
       "      <td>0.029586</td>\n",
       "      <td>0.084483</td>\n",
       "      <td>0.0</td>\n",
       "      <td>0.0</td>\n",
       "      <td>0.000000</td>\n",
       "      <td>0.000000</td>\n",
       "      <td>0.929569</td>\n",
       "      <td>0.929569</td>\n",
       "      <td>0.055684</td>\n",
       "      <td>0.035941</td>\n",
       "      <td>0.162858</td>\n",
       "      <td>0.240022</td>\n",
       "      <td>0</td>\n",
       "    </tr>\n",
       "    <tr>\n",
       "      <th>3</th>\n",
       "      <td>DGRC_DUP_112</td>\n",
       "      <td>0.000019</td>\n",
       "      <td>0.000185</td>\n",
       "      <td>liGS</td>\n",
       "      <td>HAL1b</td>\n",
       "      <td>L1</td>\n",
       "      <td>Rep_LINE</td>\n",
       "      <td>Rep_LTR</td>\n",
       "      <td>MLT1D</td>\n",
       "      <td>ERVL-MaLR</td>\n",
       "      <td>0.00000</td>\n",
       "      <td>0.000038</td>\n",
       "      <td>1.000000</td>\n",
       "      <td>0.000000</td>\n",
       "      <td>0.000000</td>\n",
       "      <td>0.000000</td>\n",
       "      <td>1.000000</td>\n",
       "      <td>1.0</td>\n",
       "      <td>True</td>\n",
       "      <td>1.441851</td>\n",
       "      <td>0.678649</td>\n",
       "      <td>0.004222</td>\n",
       "      <td>0.005517</td>\n",
       "      <td>0.111111</td>\n",
       "      <td>0.000000</td>\n",
       "      <td>0.0</td>\n",
       "      <td>1.0</td>\n",
       "      <td>0.000000</td>\n",
       "      <td>1.000000</td>\n",
       "      <td>0.892925</td>\n",
       "      <td>0.894511</td>\n",
       "      <td>0.090833</td>\n",
       "      <td>0.042685</td>\n",
       "      <td>0.107181</td>\n",
       "      <td>0.080563</td>\n",
       "      <td>0</td>\n",
       "    </tr>\n",
       "    <tr>\n",
       "      <th>4</th>\n",
       "      <td>DGRC_DUP_115</td>\n",
       "      <td>0.000136</td>\n",
       "      <td>0.000107</td>\n",
       "      <td>liGS</td>\n",
       "      <td>THE1D-int</td>\n",
       "      <td>ERVL-MaLR</td>\n",
       "      <td>Rep_LTR</td>\n",
       "      <td>MSTA-int</td>\n",
       "      <td>ERVL-MaLR</td>\n",
       "      <td>Rep_LTR</td>\n",
       "      <td>0.00000</td>\n",
       "      <td>0.000000</td>\n",
       "      <td>1.000000</td>\n",
       "      <td>1.000000</td>\n",
       "      <td>0.000000</td>\n",
       "      <td>0.002331</td>\n",
       "      <td>1.000000</td>\n",
       "      <td>0.0</td>\n",
       "      <td>False</td>\n",
       "      <td>0.272381</td>\n",
       "      <td>1.528929</td>\n",
       "      <td>0.005111</td>\n",
       "      <td>0.004840</td>\n",
       "      <td>0.111111</td>\n",
       "      <td>0.111111</td>\n",
       "      <td>0.0</td>\n",
       "      <td>0.0</td>\n",
       "      <td>0.000000</td>\n",
       "      <td>0.000000</td>\n",
       "      <td>0.905155</td>\n",
       "      <td>0.903528</td>\n",
       "      <td>0.019801</td>\n",
       "      <td>0.016315</td>\n",
       "      <td>0.223321</td>\n",
       "      <td>0.425040</td>\n",
       "      <td>0</td>\n",
       "    </tr>\n",
       "    <tr>\n",
       "      <th>...</th>\n",
       "      <td>...</td>\n",
       "      <td>...</td>\n",
       "      <td>...</td>\n",
       "      <td>...</td>\n",
       "      <td>...</td>\n",
       "      <td>...</td>\n",
       "      <td>...</td>\n",
       "      <td>...</td>\n",
       "      <td>...</td>\n",
       "      <td>...</td>\n",
       "      <td>...</td>\n",
       "      <td>...</td>\n",
       "      <td>...</td>\n",
       "      <td>...</td>\n",
       "      <td>...</td>\n",
       "      <td>...</td>\n",
       "      <td>...</td>\n",
       "      <td>...</td>\n",
       "      <td>...</td>\n",
       "      <td>...</td>\n",
       "      <td>...</td>\n",
       "      <td>...</td>\n",
       "      <td>...</td>\n",
       "      <td>...</td>\n",
       "      <td>...</td>\n",
       "      <td>...</td>\n",
       "      <td>...</td>\n",
       "      <td>...</td>\n",
       "      <td>...</td>\n",
       "      <td>...</td>\n",
       "      <td>...</td>\n",
       "      <td>...</td>\n",
       "      <td>...</td>\n",
       "      <td>...</td>\n",
       "      <td>...</td>\n",
       "      <td>...</td>\n",
       "    </tr>\n",
       "    <tr>\n",
       "      <th>782</th>\n",
       "      <td>fp_dup_584</td>\n",
       "      <td>0.000212</td>\n",
       "      <td>0.000074</td>\n",
       "      <td>liGS</td>\n",
       "      <td>ALR/Alpha</td>\n",
       "      <td>centr</td>\n",
       "      <td>Rep_Satellite</td>\n",
       "      <td>ALR/Alpha</td>\n",
       "      <td>centr</td>\n",
       "      <td>Rep_Satellite</td>\n",
       "      <td>0.00000</td>\n",
       "      <td>0.000000</td>\n",
       "      <td>1.000000</td>\n",
       "      <td>1.000000</td>\n",
       "      <td>0.025431</td>\n",
       "      <td>0.074438</td>\n",
       "      <td>0.000000</td>\n",
       "      <td>0.0</td>\n",
       "      <td>False</td>\n",
       "      <td>0.000000</td>\n",
       "      <td>1.490429</td>\n",
       "      <td>0.003735</td>\n",
       "      <td>0.003647</td>\n",
       "      <td>0.111111</td>\n",
       "      <td>0.111111</td>\n",
       "      <td>0.0</td>\n",
       "      <td>0.0</td>\n",
       "      <td>0.000000</td>\n",
       "      <td>0.000000</td>\n",
       "      <td>0.928571</td>\n",
       "      <td>0.928571</td>\n",
       "      <td>0.027120</td>\n",
       "      <td>0.077288</td>\n",
       "      <td>0.347034</td>\n",
       "      <td>0.306890</td>\n",
       "      <td>1</td>\n",
       "    </tr>\n",
       "    <tr>\n",
       "      <th>783</th>\n",
       "      <td>fp_dup_585</td>\n",
       "      <td>0.000376</td>\n",
       "      <td>0.000576</td>\n",
       "      <td>liGS</td>\n",
       "      <td>(AC)n</td>\n",
       "      <td>Simple_repeat</td>\n",
       "      <td>Rep_Simple_repeat</td>\n",
       "      <td>L1MC1</td>\n",
       "      <td>L1</td>\n",
       "      <td>Rep_LINE</td>\n",
       "      <td>0.00000</td>\n",
       "      <td>0.000000</td>\n",
       "      <td>0.188222</td>\n",
       "      <td>0.623494</td>\n",
       "      <td>0.000000</td>\n",
       "      <td>0.000000</td>\n",
       "      <td>0.774827</td>\n",
       "      <td>1.0</td>\n",
       "      <td>False</td>\n",
       "      <td>0.000000</td>\n",
       "      <td>1.483477</td>\n",
       "      <td>0.003529</td>\n",
       "      <td>0.003812</td>\n",
       "      <td>0.111111</td>\n",
       "      <td>0.111111</td>\n",
       "      <td>0.0</td>\n",
       "      <td>0.0</td>\n",
       "      <td>0.000000</td>\n",
       "      <td>0.000000</td>\n",
       "      <td>0.939334</td>\n",
       "      <td>0.917422</td>\n",
       "      <td>0.009160</td>\n",
       "      <td>0.011506</td>\n",
       "      <td>0.238623</td>\n",
       "      <td>0.390908</td>\n",
       "      <td>1</td>\n",
       "    </tr>\n",
       "    <tr>\n",
       "      <th>784</th>\n",
       "      <td>fp_dup_586</td>\n",
       "      <td>0.000230</td>\n",
       "      <td>0.000039</td>\n",
       "      <td>liGS</td>\n",
       "      <td>ALR/Alpha</td>\n",
       "      <td>centr</td>\n",
       "      <td>Rep_Satellite</td>\n",
       "      <td>ALR/Alpha</td>\n",
       "      <td>centr</td>\n",
       "      <td>Rep_Satellite</td>\n",
       "      <td>0.00000</td>\n",
       "      <td>0.000000</td>\n",
       "      <td>1.000000</td>\n",
       "      <td>1.000000</td>\n",
       "      <td>0.000000</td>\n",
       "      <td>0.004211</td>\n",
       "      <td>1.000000</td>\n",
       "      <td>0.0</td>\n",
       "      <td>False</td>\n",
       "      <td>0.000000</td>\n",
       "      <td>1.481077</td>\n",
       "      <td>0.003514</td>\n",
       "      <td>0.003474</td>\n",
       "      <td>0.111111</td>\n",
       "      <td>0.111111</td>\n",
       "      <td>0.0</td>\n",
       "      <td>0.0</td>\n",
       "      <td>0.000000</td>\n",
       "      <td>0.000000</td>\n",
       "      <td>0.936896</td>\n",
       "      <td>0.937135</td>\n",
       "      <td>0.080549</td>\n",
       "      <td>0.009430</td>\n",
       "      <td>0.194369</td>\n",
       "      <td>0.186907</td>\n",
       "      <td>1</td>\n",
       "    </tr>\n",
       "    <tr>\n",
       "      <th>785</th>\n",
       "      <td>fp_dup_587</td>\n",
       "      <td>0.000323</td>\n",
       "      <td>0.000449</td>\n",
       "      <td>liGS</td>\n",
       "      <td>L2a</td>\n",
       "      <td>L2</td>\n",
       "      <td>Rep_LINE</td>\n",
       "      <td>Rep_LINE</td>\n",
       "      <td>L2b</td>\n",
       "      <td>L2</td>\n",
       "      <td>0.00000</td>\n",
       "      <td>0.000125</td>\n",
       "      <td>0.053691</td>\n",
       "      <td>0.000000</td>\n",
       "      <td>0.009500</td>\n",
       "      <td>0.002151</td>\n",
       "      <td>0.000000</td>\n",
       "      <td>0.0</td>\n",
       "      <td>False</td>\n",
       "      <td>0.774524</td>\n",
       "      <td>1.468508</td>\n",
       "      <td>0.003839</td>\n",
       "      <td>0.005442</td>\n",
       "      <td>0.000743</td>\n",
       "      <td>0.000041</td>\n",
       "      <td>0.0</td>\n",
       "      <td>0.0</td>\n",
       "      <td>0.366538</td>\n",
       "      <td>0.109284</td>\n",
       "      <td>0.879131</td>\n",
       "      <td>0.884993</td>\n",
       "      <td>0.051761</td>\n",
       "      <td>0.045604</td>\n",
       "      <td>0.012878</td>\n",
       "      <td>0.236137</td>\n",
       "      <td>1</td>\n",
       "    </tr>\n",
       "    <tr>\n",
       "      <th>786</th>\n",
       "      <td>fp_dup_588</td>\n",
       "      <td>0.000107</td>\n",
       "      <td>0.000059</td>\n",
       "      <td>liGS</td>\n",
       "      <td>ALR/Alpha</td>\n",
       "      <td>centr</td>\n",
       "      <td>Rep_Satellite</td>\n",
       "      <td>L1MC1</td>\n",
       "      <td>L1</td>\n",
       "      <td>Rep_LINE</td>\n",
       "      <td>0.00000</td>\n",
       "      <td>0.000000</td>\n",
       "      <td>1.000000</td>\n",
       "      <td>1.000000</td>\n",
       "      <td>0.039126</td>\n",
       "      <td>0.022054</td>\n",
       "      <td>0.000000</td>\n",
       "      <td>0.0</td>\n",
       "      <td>False</td>\n",
       "      <td>0.000000</td>\n",
       "      <td>1.553655</td>\n",
       "      <td>0.003800</td>\n",
       "      <td>0.003143</td>\n",
       "      <td>0.111111</td>\n",
       "      <td>0.111111</td>\n",
       "      <td>0.0</td>\n",
       "      <td>0.0</td>\n",
       "      <td>0.000000</td>\n",
       "      <td>0.000000</td>\n",
       "      <td>0.899424</td>\n",
       "      <td>0.899424</td>\n",
       "      <td>0.058027</td>\n",
       "      <td>0.133402</td>\n",
       "      <td>290.956983</td>\n",
       "      <td>0.403596</td>\n",
       "      <td>1</td>\n",
       "    </tr>\n",
       "  </tbody>\n",
       "</table>\n",
       "<p>778 rows × 36 columns</p>\n",
       "</div>"
      ],
      "text/plain": [
       "           CNV_ID    A_size    B_size libraries      A_region_name  \\\n",
       "0    DGRC_DUP_104  0.000790  0.000791      liGS  Rep_Simple_repeat   \n",
       "1    DGRC_DUP_105  0.001324  0.000985      liGS           MSTA-int   \n",
       "2    DGRC_DUP_109  0.000731  0.000484      liGS              (GT)n   \n",
       "3    DGRC_DUP_112  0.000019  0.000185      liGS              HAL1b   \n",
       "4    DGRC_DUP_115  0.000136  0.000107      liGS          THE1D-int   \n",
       "..            ...       ...       ...       ...                ...   \n",
       "782    fp_dup_584  0.000212  0.000074      liGS          ALR/Alpha   \n",
       "783    fp_dup_585  0.000376  0.000576      liGS              (AC)n   \n",
       "784    fp_dup_586  0.000230  0.000039      liGS          ALR/Alpha   \n",
       "785    fp_dup_587  0.000323  0.000449      liGS                L2a   \n",
       "786    fp_dup_588  0.000107  0.000059      liGS          ALR/Alpha   \n",
       "\n",
       "    A_region_family     A_region_class      B_region_name B_region_family  \\\n",
       "0     (TTCCATTCGA)n      Simple_repeat  Rep_Simple_repeat   (TTCCATTCGA)n   \n",
       "1         ERVL-MaLR            Rep_LTR          THE1D-int       ERVL-MaLR   \n",
       "2     Simple_repeat  Rep_Simple_repeat             MLT1N2       ERVL-MaLR   \n",
       "3                L1           Rep_LINE            Rep_LTR           MLT1D   \n",
       "4         ERVL-MaLR            Rep_LTR           MSTA-int       ERVL-MaLR   \n",
       "..              ...                ...                ...             ...   \n",
       "782           centr      Rep_Satellite          ALR/Alpha           centr   \n",
       "783   Simple_repeat  Rep_Simple_repeat              L1MC1              L1   \n",
       "784           centr      Rep_Satellite          ALR/Alpha           centr   \n",
       "785              L2           Rep_LINE           Rep_LINE             L2b   \n",
       "786           centr      Rep_Satellite              L1MC1              L1   \n",
       "\n",
       "    B_region_class  A_repitiveRegion_dist  B_repitiveRegion_dist  \\\n",
       "0    Simple_repeat                0.00044               0.001165   \n",
       "1          Rep_LTR                0.00000               0.000000   \n",
       "2          Rep_LTR                0.00000               0.000000   \n",
       "3        ERVL-MaLR                0.00000               0.000038   \n",
       "4          Rep_LTR                0.00000               0.000000   \n",
       "..             ...                    ...                    ...   \n",
       "782  Rep_Satellite                0.00000               0.000000   \n",
       "783       Rep_LINE                0.00000               0.000000   \n",
       "784  Rep_Satellite                0.00000               0.000000   \n",
       "785             L2                0.00000               0.000125   \n",
       "786       Rep_LINE                0.00000               0.000000   \n",
       "\n",
       "     A_cov_repRegion  B_cov_repRegion  A_SegDup_dist  B_SegDup_dist  \\\n",
       "0           0.000000         0.000000       0.001305       0.029602   \n",
       "1           0.949902         0.971819       0.000000       0.064123   \n",
       "2           0.541840         0.858423       0.453246       0.861636   \n",
       "3           1.000000         0.000000       0.000000       0.000000   \n",
       "4           1.000000         1.000000       0.000000       0.002331   \n",
       "..               ...              ...            ...            ...   \n",
       "782         1.000000         1.000000       0.025431       0.074438   \n",
       "783         0.188222         0.623494       0.000000       0.000000   \n",
       "784         1.000000         1.000000       0.000000       0.004211   \n",
       "785         0.053691         0.000000       0.009500       0.002151   \n",
       "786         1.000000         1.000000       0.039126       0.022054   \n",
       "\n",
       "     A_cov_segDup  B_cov_segDup  sD_pair  dist_Centromere  dist_Telomere  \\\n",
       "0        0.000000           0.0    False         0.479807       1.957921   \n",
       "1        0.983628           0.0    False         0.000000       1.296145   \n",
       "2        0.000000           0.0    False         1.900995       1.251473   \n",
       "3        1.000000           1.0     True         1.441851       0.678649   \n",
       "4        1.000000           0.0    False         0.272381       1.528929   \n",
       "..            ...           ...      ...              ...            ...   \n",
       "782      0.000000           0.0    False         0.000000       1.490429   \n",
       "783      0.774827           1.0    False         0.000000       1.483477   \n",
       "784      1.000000           0.0    False         0.000000       1.481077   \n",
       "785      0.000000           0.0    False         0.774524       1.468508   \n",
       "786      0.000000           0.0    False         0.000000       1.553655   \n",
       "\n",
       "     GC_perc_A  GC_perc_B    Dust_A    Dust_B  A_cov_Exons  A_cov_Introns  \\\n",
       "0     0.003463   0.003567  0.099249  0.090253          0.0            0.0   \n",
       "1     0.004601   0.004765  0.100261  0.104939          0.0            0.0   \n",
       "2     0.005071   0.004170  0.029586  0.084483          0.0            0.0   \n",
       "3     0.004222   0.005517  0.111111  0.000000          0.0            1.0   \n",
       "4     0.005111   0.004840  0.111111  0.111111          0.0            0.0   \n",
       "..         ...        ...       ...       ...          ...            ...   \n",
       "782   0.003735   0.003647  0.111111  0.111111          0.0            0.0   \n",
       "783   0.003529   0.003812  0.111111  0.111111          0.0            0.0   \n",
       "784   0.003514   0.003474  0.111111  0.111111          0.0            0.0   \n",
       "785   0.003839   0.005442  0.000743  0.000041          0.0            0.0   \n",
       "786   0.003800   0.003143  0.111111  0.111111          0.0            0.0   \n",
       "\n",
       "     B_cov_Exons  B_cov_Introns  A_Lamina_score  B_Lamina_score  A_CpGi_dist  \\\n",
       "0       0.000000       0.000000        0.922579        0.922579     0.003180   \n",
       "1       0.000000       0.000000        0.914614        0.914614     0.025563   \n",
       "2       0.000000       0.000000        0.929569        0.929569     0.055684   \n",
       "3       0.000000       1.000000        0.892925        0.894511     0.090833   \n",
       "4       0.000000       0.000000        0.905155        0.903528     0.019801   \n",
       "..           ...            ...             ...             ...          ...   \n",
       "782     0.000000       0.000000        0.928571        0.928571     0.027120   \n",
       "783     0.000000       0.000000        0.939334        0.917422     0.009160   \n",
       "784     0.000000       0.000000        0.936896        0.937135     0.080549   \n",
       "785     0.366538       0.109284        0.879131        0.884993     0.051761   \n",
       "786     0.000000       0.000000        0.899424        0.899424     0.058027   \n",
       "\n",
       "     B_CpGi_dist  A_TAD_dist_Log  B_TAD_dist_Log  target  \n",
       "0       0.163358        0.449548        0.040844       0  \n",
       "1       0.030514        0.088600        0.224772       0  \n",
       "2       0.035941        0.162858        0.240022       0  \n",
       "3       0.042685        0.107181        0.080563       0  \n",
       "4       0.016315        0.223321        0.425040       0  \n",
       "..           ...             ...             ...     ...  \n",
       "782     0.077288        0.347034        0.306890       1  \n",
       "783     0.011506        0.238623        0.390908       1  \n",
       "784     0.009430        0.194369        0.186907       1  \n",
       "785     0.045604        0.012878        0.236137       1  \n",
       "786     0.133402      290.956983        0.403596       1  \n",
       "\n",
       "[778 rows x 36 columns]"
      ]
     },
     "execution_count": 45,
     "metadata": {},
     "output_type": "execute_result"
    }
   ],
   "source": [
    "df_dups"
   ]
  },
  {
   "cell_type": "code",
   "execution_count": 46,
   "metadata": {},
   "outputs": [
    {
     "data": {
      "text/plain": [
       "array(['liGS'], dtype=object)"
      ]
     },
     "execution_count": 46,
     "metadata": {},
     "output_type": "execute_result"
    }
   ],
   "source": [
    "#DEBUG\n",
    "df_dups['libraries'].unique()"
   ]
  },
  {
   "cell_type": "code",
   "execution_count": 47,
   "metadata": {},
   "outputs": [],
   "source": [
    "df_dups.drop(['libraries'], axis=1, inplace=True)"
   ]
  },
  {
   "cell_type": "markdown",
   "metadata": {},
   "source": [
    "## Check for outliers:"
   ]
  },
  {
   "cell_type": "code",
   "execution_count": null,
   "metadata": {},
   "outputs": [],
   "source": []
  },
  {
   "cell_type": "markdown",
   "metadata": {},
   "source": [
    "def look_for_outliers(dataframe):\n",
    "    \"\"\"\n",
    "    \"\"\"\n",
    "    target = dataframe.columns[-1]\n",
    "    #display(dataframe[target])\n",
    "    cols = dataframe.drop([\"CNV_ID\"], axis=1).columns\n",
    "    for var in cols:\n",
    "        data = pd.concat([dataframe[target], dataframe[var]], axis=1)\n",
    "        data.plot.scatter(x=var, y=target, ylim=(-1,3), xlim=(dataframe[var].min(),dataframe[var].max()),figsize=(26, 4))\n",
    "\n",
    "    "
   ]
  },
  {
   "cell_type": "markdown",
   "metadata": {},
   "source": [
    "#look_for_outliers(df_dups)"
   ]
  },
  {
   "cell_type": "code",
   "execution_count": 48,
   "metadata": {},
   "outputs": [],
   "source": [
    "#look_for_outliers(df_dups)"
   ]
  },
  {
   "cell_type": "markdown",
   "metadata": {},
   "source": [
    "## PCA:"
   ]
  },
  {
   "cell_type": "code",
   "execution_count": 49,
   "metadata": {},
   "outputs": [
    {
     "data": {
      "text/html": [
       "<div>\n",
       "<style scoped>\n",
       "    .dataframe tbody tr th:only-of-type {\n",
       "        vertical-align: middle;\n",
       "    }\n",
       "\n",
       "    .dataframe tbody tr th {\n",
       "        vertical-align: top;\n",
       "    }\n",
       "\n",
       "    .dataframe thead th {\n",
       "        text-align: right;\n",
       "    }\n",
       "</style>\n",
       "<table border=\"1\" class=\"dataframe\">\n",
       "  <thead>\n",
       "    <tr style=\"text-align: right;\">\n",
       "      <th></th>\n",
       "      <th>CNV_ID</th>\n",
       "      <th>A_size</th>\n",
       "      <th>B_size</th>\n",
       "      <th>A_region_name</th>\n",
       "      <th>A_region_family</th>\n",
       "      <th>A_region_class</th>\n",
       "      <th>B_region_name</th>\n",
       "      <th>B_region_family</th>\n",
       "      <th>B_region_class</th>\n",
       "      <th>A_repitiveRegion_dist</th>\n",
       "      <th>B_repitiveRegion_dist</th>\n",
       "      <th>A_cov_repRegion</th>\n",
       "      <th>B_cov_repRegion</th>\n",
       "      <th>A_SegDup_dist</th>\n",
       "      <th>B_SegDup_dist</th>\n",
       "      <th>A_cov_segDup</th>\n",
       "      <th>B_cov_segDup</th>\n",
       "      <th>sD_pair</th>\n",
       "      <th>dist_Centromere</th>\n",
       "      <th>dist_Telomere</th>\n",
       "      <th>GC_perc_A</th>\n",
       "      <th>GC_perc_B</th>\n",
       "      <th>Dust_A</th>\n",
       "      <th>Dust_B</th>\n",
       "      <th>A_cov_Exons</th>\n",
       "      <th>A_cov_Introns</th>\n",
       "      <th>B_cov_Exons</th>\n",
       "      <th>B_cov_Introns</th>\n",
       "      <th>A_Lamina_score</th>\n",
       "      <th>B_Lamina_score</th>\n",
       "      <th>A_CpGi_dist</th>\n",
       "      <th>B_CpGi_dist</th>\n",
       "      <th>A_TAD_dist_Log</th>\n",
       "      <th>B_TAD_dist_Log</th>\n",
       "      <th>target</th>\n",
       "    </tr>\n",
       "  </thead>\n",
       "  <tbody>\n",
       "    <tr>\n",
       "      <th>0</th>\n",
       "      <td>DGRC_DUP_104</td>\n",
       "      <td>0.000790</td>\n",
       "      <td>0.000791</td>\n",
       "      <td>359.0</td>\n",
       "      <td>48.0</td>\n",
       "      <td>368.0</td>\n",
       "      <td>359.0</td>\n",
       "      <td>48.0</td>\n",
       "      <td>368.0</td>\n",
       "      <td>0.00044</td>\n",
       "      <td>0.001165</td>\n",
       "      <td>0.000000</td>\n",
       "      <td>0.000000</td>\n",
       "      <td>0.001305</td>\n",
       "      <td>0.029602</td>\n",
       "      <td>0.000000</td>\n",
       "      <td>0.0</td>\n",
       "      <td>0</td>\n",
       "      <td>0.479807</td>\n",
       "      <td>1.957921</td>\n",
       "      <td>0.003463</td>\n",
       "      <td>0.003567</td>\n",
       "      <td>0.099249</td>\n",
       "      <td>0.090253</td>\n",
       "      <td>0.0</td>\n",
       "      <td>0.0</td>\n",
       "      <td>0.000000</td>\n",
       "      <td>0.000000</td>\n",
       "      <td>0.922579</td>\n",
       "      <td>0.922579</td>\n",
       "      <td>0.003180</td>\n",
       "      <td>0.163358</td>\n",
       "      <td>0.449548</td>\n",
       "      <td>0.040844</td>\n",
       "      <td>0</td>\n",
       "    </tr>\n",
       "    <tr>\n",
       "      <th>1</th>\n",
       "      <td>DGRC_DUP_105</td>\n",
       "      <td>0.001324</td>\n",
       "      <td>0.000985</td>\n",
       "      <td>337.0</td>\n",
       "      <td>98.0</td>\n",
       "      <td>354.0</td>\n",
       "      <td>373.0</td>\n",
       "      <td>98.0</td>\n",
       "      <td>354.0</td>\n",
       "      <td>0.00000</td>\n",
       "      <td>0.000000</td>\n",
       "      <td>0.949902</td>\n",
       "      <td>0.971819</td>\n",
       "      <td>0.000000</td>\n",
       "      <td>0.064123</td>\n",
       "      <td>0.983628</td>\n",
       "      <td>0.0</td>\n",
       "      <td>0</td>\n",
       "      <td>0.000000</td>\n",
       "      <td>1.296145</td>\n",
       "      <td>0.004601</td>\n",
       "      <td>0.004765</td>\n",
       "      <td>0.100261</td>\n",
       "      <td>0.104939</td>\n",
       "      <td>0.0</td>\n",
       "      <td>0.0</td>\n",
       "      <td>0.000000</td>\n",
       "      <td>0.000000</td>\n",
       "      <td>0.914614</td>\n",
       "      <td>0.914614</td>\n",
       "      <td>0.025563</td>\n",
       "      <td>0.030514</td>\n",
       "      <td>0.088600</td>\n",
       "      <td>0.224772</td>\n",
       "      <td>0</td>\n",
       "    </tr>\n",
       "    <tr>\n",
       "      <th>2</th>\n",
       "      <td>DGRC_DUP_109</td>\n",
       "      <td>0.000731</td>\n",
       "      <td>0.000484</td>\n",
       "      <td>32.0</td>\n",
       "      <td>368.0</td>\n",
       "      <td>359.0</td>\n",
       "      <td>332.0</td>\n",
       "      <td>98.0</td>\n",
       "      <td>354.0</td>\n",
       "      <td>0.00000</td>\n",
       "      <td>0.000000</td>\n",
       "      <td>0.541840</td>\n",
       "      <td>0.858423</td>\n",
       "      <td>0.453246</td>\n",
       "      <td>0.861636</td>\n",
       "      <td>0.000000</td>\n",
       "      <td>0.0</td>\n",
       "      <td>0</td>\n",
       "      <td>1.900995</td>\n",
       "      <td>1.251473</td>\n",
       "      <td>0.005071</td>\n",
       "      <td>0.004170</td>\n",
       "      <td>0.029586</td>\n",
       "      <td>0.084483</td>\n",
       "      <td>0.0</td>\n",
       "      <td>0.0</td>\n",
       "      <td>0.000000</td>\n",
       "      <td>0.000000</td>\n",
       "      <td>0.929569</td>\n",
       "      <td>0.929569</td>\n",
       "      <td>0.055684</td>\n",
       "      <td>0.035941</td>\n",
       "      <td>0.162858</td>\n",
       "      <td>0.240022</td>\n",
       "      <td>0</td>\n",
       "    </tr>\n",
       "    <tr>\n",
       "      <th>3</th>\n",
       "      <td>DGRC_DUP_112</td>\n",
       "      <td>0.000019</td>\n",
       "      <td>0.000185</td>\n",
       "      <td>106.0</td>\n",
       "      <td>124.0</td>\n",
       "      <td>353.0</td>\n",
       "      <td>354.0</td>\n",
       "      <td>317.0</td>\n",
       "      <td>98.0</td>\n",
       "      <td>0.00000</td>\n",
       "      <td>0.000038</td>\n",
       "      <td>1.000000</td>\n",
       "      <td>0.000000</td>\n",
       "      <td>0.000000</td>\n",
       "      <td>0.000000</td>\n",
       "      <td>1.000000</td>\n",
       "      <td>1.0</td>\n",
       "      <td>1</td>\n",
       "      <td>1.441851</td>\n",
       "      <td>0.678649</td>\n",
       "      <td>0.004222</td>\n",
       "      <td>0.005517</td>\n",
       "      <td>0.111111</td>\n",
       "      <td>0.000000</td>\n",
       "      <td>0.0</td>\n",
       "      <td>1.0</td>\n",
       "      <td>0.000000</td>\n",
       "      <td>1.000000</td>\n",
       "      <td>0.892925</td>\n",
       "      <td>0.894511</td>\n",
       "      <td>0.090833</td>\n",
       "      <td>0.042685</td>\n",
       "      <td>0.107181</td>\n",
       "      <td>0.080563</td>\n",
       "      <td>0</td>\n",
       "    </tr>\n",
       "    <tr>\n",
       "      <th>4</th>\n",
       "      <td>DGRC_DUP_115</td>\n",
       "      <td>0.000136</td>\n",
       "      <td>0.000107</td>\n",
       "      <td>373.0</td>\n",
       "      <td>98.0</td>\n",
       "      <td>354.0</td>\n",
       "      <td>337.0</td>\n",
       "      <td>98.0</td>\n",
       "      <td>354.0</td>\n",
       "      <td>0.00000</td>\n",
       "      <td>0.000000</td>\n",
       "      <td>1.000000</td>\n",
       "      <td>1.000000</td>\n",
       "      <td>0.000000</td>\n",
       "      <td>0.002331</td>\n",
       "      <td>1.000000</td>\n",
       "      <td>0.0</td>\n",
       "      <td>0</td>\n",
       "      <td>0.272381</td>\n",
       "      <td>1.528929</td>\n",
       "      <td>0.005111</td>\n",
       "      <td>0.004840</td>\n",
       "      <td>0.111111</td>\n",
       "      <td>0.111111</td>\n",
       "      <td>0.0</td>\n",
       "      <td>0.0</td>\n",
       "      <td>0.000000</td>\n",
       "      <td>0.000000</td>\n",
       "      <td>0.905155</td>\n",
       "      <td>0.903528</td>\n",
       "      <td>0.019801</td>\n",
       "      <td>0.016315</td>\n",
       "      <td>0.223321</td>\n",
       "      <td>0.425040</td>\n",
       "      <td>0</td>\n",
       "    </tr>\n",
       "    <tr>\n",
       "      <th>...</th>\n",
       "      <td>...</td>\n",
       "      <td>...</td>\n",
       "      <td>...</td>\n",
       "      <td>...</td>\n",
       "      <td>...</td>\n",
       "      <td>...</td>\n",
       "      <td>...</td>\n",
       "      <td>...</td>\n",
       "      <td>...</td>\n",
       "      <td>...</td>\n",
       "      <td>...</td>\n",
       "      <td>...</td>\n",
       "      <td>...</td>\n",
       "      <td>...</td>\n",
       "      <td>...</td>\n",
       "      <td>...</td>\n",
       "      <td>...</td>\n",
       "      <td>...</td>\n",
       "      <td>...</td>\n",
       "      <td>...</td>\n",
       "      <td>...</td>\n",
       "      <td>...</td>\n",
       "      <td>...</td>\n",
       "      <td>...</td>\n",
       "      <td>...</td>\n",
       "      <td>...</td>\n",
       "      <td>...</td>\n",
       "      <td>...</td>\n",
       "      <td>...</td>\n",
       "      <td>...</td>\n",
       "      <td>...</td>\n",
       "      <td>...</td>\n",
       "      <td>...</td>\n",
       "      <td>...</td>\n",
       "      <td>...</td>\n",
       "    </tr>\n",
       "    <tr>\n",
       "      <th>782</th>\n",
       "      <td>fp_dup_584</td>\n",
       "      <td>0.000212</td>\n",
       "      <td>0.000074</td>\n",
       "      <td>52.0</td>\n",
       "      <td>389.0</td>\n",
       "      <td>358.0</td>\n",
       "      <td>52.0</td>\n",
       "      <td>389.0</td>\n",
       "      <td>358.0</td>\n",
       "      <td>0.00000</td>\n",
       "      <td>0.000000</td>\n",
       "      <td>1.000000</td>\n",
       "      <td>1.000000</td>\n",
       "      <td>0.025431</td>\n",
       "      <td>0.074438</td>\n",
       "      <td>0.000000</td>\n",
       "      <td>0.0</td>\n",
       "      <td>0</td>\n",
       "      <td>0.000000</td>\n",
       "      <td>1.490429</td>\n",
       "      <td>0.003735</td>\n",
       "      <td>0.003647</td>\n",
       "      <td>0.111111</td>\n",
       "      <td>0.111111</td>\n",
       "      <td>0.0</td>\n",
       "      <td>0.0</td>\n",
       "      <td>0.000000</td>\n",
       "      <td>0.000000</td>\n",
       "      <td>0.928571</td>\n",
       "      <td>0.928571</td>\n",
       "      <td>0.027120</td>\n",
       "      <td>0.077288</td>\n",
       "      <td>0.347034</td>\n",
       "      <td>0.306890</td>\n",
       "      <td>1</td>\n",
       "    </tr>\n",
       "    <tr>\n",
       "      <th>783</th>\n",
       "      <td>fp_dup_585</td>\n",
       "      <td>0.000376</td>\n",
       "      <td>0.000576</td>\n",
       "      <td>5.0</td>\n",
       "      <td>368.0</td>\n",
       "      <td>359.0</td>\n",
       "      <td>152.0</td>\n",
       "      <td>124.0</td>\n",
       "      <td>353.0</td>\n",
       "      <td>0.00000</td>\n",
       "      <td>0.000000</td>\n",
       "      <td>0.188222</td>\n",
       "      <td>0.623494</td>\n",
       "      <td>0.000000</td>\n",
       "      <td>0.000000</td>\n",
       "      <td>0.774827</td>\n",
       "      <td>1.0</td>\n",
       "      <td>0</td>\n",
       "      <td>0.000000</td>\n",
       "      <td>1.483477</td>\n",
       "      <td>0.003529</td>\n",
       "      <td>0.003812</td>\n",
       "      <td>0.111111</td>\n",
       "      <td>0.111111</td>\n",
       "      <td>0.0</td>\n",
       "      <td>0.0</td>\n",
       "      <td>0.000000</td>\n",
       "      <td>0.000000</td>\n",
       "      <td>0.939334</td>\n",
       "      <td>0.917422</td>\n",
       "      <td>0.009160</td>\n",
       "      <td>0.011506</td>\n",
       "      <td>0.238623</td>\n",
       "      <td>0.390908</td>\n",
       "      <td>1</td>\n",
       "    </tr>\n",
       "    <tr>\n",
       "      <th>784</th>\n",
       "      <td>fp_dup_586</td>\n",
       "      <td>0.000230</td>\n",
       "      <td>0.000039</td>\n",
       "      <td>52.0</td>\n",
       "      <td>389.0</td>\n",
       "      <td>358.0</td>\n",
       "      <td>52.0</td>\n",
       "      <td>389.0</td>\n",
       "      <td>358.0</td>\n",
       "      <td>0.00000</td>\n",
       "      <td>0.000000</td>\n",
       "      <td>1.000000</td>\n",
       "      <td>1.000000</td>\n",
       "      <td>0.000000</td>\n",
       "      <td>0.004211</td>\n",
       "      <td>1.000000</td>\n",
       "      <td>0.0</td>\n",
       "      <td>0</td>\n",
       "      <td>0.000000</td>\n",
       "      <td>1.481077</td>\n",
       "      <td>0.003514</td>\n",
       "      <td>0.003474</td>\n",
       "      <td>0.111111</td>\n",
       "      <td>0.111111</td>\n",
       "      <td>0.0</td>\n",
       "      <td>0.0</td>\n",
       "      <td>0.000000</td>\n",
       "      <td>0.000000</td>\n",
       "      <td>0.936896</td>\n",
       "      <td>0.937135</td>\n",
       "      <td>0.080549</td>\n",
       "      <td>0.009430</td>\n",
       "      <td>0.194369</td>\n",
       "      <td>0.186907</td>\n",
       "      <td>1</td>\n",
       "    </tr>\n",
       "    <tr>\n",
       "      <th>785</th>\n",
       "      <td>fp_dup_587</td>\n",
       "      <td>0.000323</td>\n",
       "      <td>0.000449</td>\n",
       "      <td>208.0</td>\n",
       "      <td>206.0</td>\n",
       "      <td>353.0</td>\n",
       "      <td>353.0</td>\n",
       "      <td>209.0</td>\n",
       "      <td>206.0</td>\n",
       "      <td>0.00000</td>\n",
       "      <td>0.000125</td>\n",
       "      <td>0.053691</td>\n",
       "      <td>0.000000</td>\n",
       "      <td>0.009500</td>\n",
       "      <td>0.002151</td>\n",
       "      <td>0.000000</td>\n",
       "      <td>0.0</td>\n",
       "      <td>0</td>\n",
       "      <td>0.774524</td>\n",
       "      <td>1.468508</td>\n",
       "      <td>0.003839</td>\n",
       "      <td>0.005442</td>\n",
       "      <td>0.000743</td>\n",
       "      <td>0.000041</td>\n",
       "      <td>0.0</td>\n",
       "      <td>0.0</td>\n",
       "      <td>0.366538</td>\n",
       "      <td>0.109284</td>\n",
       "      <td>0.879131</td>\n",
       "      <td>0.884993</td>\n",
       "      <td>0.051761</td>\n",
       "      <td>0.045604</td>\n",
       "      <td>0.012878</td>\n",
       "      <td>0.236137</td>\n",
       "      <td>1</td>\n",
       "    </tr>\n",
       "    <tr>\n",
       "      <th>786</th>\n",
       "      <td>fp_dup_588</td>\n",
       "      <td>0.000107</td>\n",
       "      <td>0.000059</td>\n",
       "      <td>52.0</td>\n",
       "      <td>389.0</td>\n",
       "      <td>358.0</td>\n",
       "      <td>152.0</td>\n",
       "      <td>124.0</td>\n",
       "      <td>353.0</td>\n",
       "      <td>0.00000</td>\n",
       "      <td>0.000000</td>\n",
       "      <td>1.000000</td>\n",
       "      <td>1.000000</td>\n",
       "      <td>0.039126</td>\n",
       "      <td>0.022054</td>\n",
       "      <td>0.000000</td>\n",
       "      <td>0.0</td>\n",
       "      <td>0</td>\n",
       "      <td>0.000000</td>\n",
       "      <td>1.553655</td>\n",
       "      <td>0.003800</td>\n",
       "      <td>0.003143</td>\n",
       "      <td>0.111111</td>\n",
       "      <td>0.111111</td>\n",
       "      <td>0.0</td>\n",
       "      <td>0.0</td>\n",
       "      <td>0.000000</td>\n",
       "      <td>0.000000</td>\n",
       "      <td>0.899424</td>\n",
       "      <td>0.899424</td>\n",
       "      <td>0.058027</td>\n",
       "      <td>0.133402</td>\n",
       "      <td>290.956983</td>\n",
       "      <td>0.403596</td>\n",
       "      <td>1</td>\n",
       "    </tr>\n",
       "  </tbody>\n",
       "</table>\n",
       "<p>778 rows × 35 columns</p>\n",
       "</div>"
      ],
      "text/plain": [
       "           CNV_ID    A_size    B_size  A_region_name  A_region_family  \\\n",
       "0    DGRC_DUP_104  0.000790  0.000791          359.0             48.0   \n",
       "1    DGRC_DUP_105  0.001324  0.000985          337.0             98.0   \n",
       "2    DGRC_DUP_109  0.000731  0.000484           32.0            368.0   \n",
       "3    DGRC_DUP_112  0.000019  0.000185          106.0            124.0   \n",
       "4    DGRC_DUP_115  0.000136  0.000107          373.0             98.0   \n",
       "..            ...       ...       ...            ...              ...   \n",
       "782    fp_dup_584  0.000212  0.000074           52.0            389.0   \n",
       "783    fp_dup_585  0.000376  0.000576            5.0            368.0   \n",
       "784    fp_dup_586  0.000230  0.000039           52.0            389.0   \n",
       "785    fp_dup_587  0.000323  0.000449          208.0            206.0   \n",
       "786    fp_dup_588  0.000107  0.000059           52.0            389.0   \n",
       "\n",
       "     A_region_class  B_region_name  B_region_family  B_region_class  \\\n",
       "0             368.0          359.0             48.0           368.0   \n",
       "1             354.0          373.0             98.0           354.0   \n",
       "2             359.0          332.0             98.0           354.0   \n",
       "3             353.0          354.0            317.0            98.0   \n",
       "4             354.0          337.0             98.0           354.0   \n",
       "..              ...            ...              ...             ...   \n",
       "782           358.0           52.0            389.0           358.0   \n",
       "783           359.0          152.0            124.0           353.0   \n",
       "784           358.0           52.0            389.0           358.0   \n",
       "785           353.0          353.0            209.0           206.0   \n",
       "786           358.0          152.0            124.0           353.0   \n",
       "\n",
       "     A_repitiveRegion_dist  B_repitiveRegion_dist  A_cov_repRegion  \\\n",
       "0                  0.00044               0.001165         0.000000   \n",
       "1                  0.00000               0.000000         0.949902   \n",
       "2                  0.00000               0.000000         0.541840   \n",
       "3                  0.00000               0.000038         1.000000   \n",
       "4                  0.00000               0.000000         1.000000   \n",
       "..                     ...                    ...              ...   \n",
       "782                0.00000               0.000000         1.000000   \n",
       "783                0.00000               0.000000         0.188222   \n",
       "784                0.00000               0.000000         1.000000   \n",
       "785                0.00000               0.000125         0.053691   \n",
       "786                0.00000               0.000000         1.000000   \n",
       "\n",
       "     B_cov_repRegion  A_SegDup_dist  B_SegDup_dist  A_cov_segDup  \\\n",
       "0           0.000000       0.001305       0.029602      0.000000   \n",
       "1           0.971819       0.000000       0.064123      0.983628   \n",
       "2           0.858423       0.453246       0.861636      0.000000   \n",
       "3           0.000000       0.000000       0.000000      1.000000   \n",
       "4           1.000000       0.000000       0.002331      1.000000   \n",
       "..               ...            ...            ...           ...   \n",
       "782         1.000000       0.025431       0.074438      0.000000   \n",
       "783         0.623494       0.000000       0.000000      0.774827   \n",
       "784         1.000000       0.000000       0.004211      1.000000   \n",
       "785         0.000000       0.009500       0.002151      0.000000   \n",
       "786         1.000000       0.039126       0.022054      0.000000   \n",
       "\n",
       "     B_cov_segDup  sD_pair  dist_Centromere  dist_Telomere  GC_perc_A  \\\n",
       "0             0.0        0         0.479807       1.957921   0.003463   \n",
       "1             0.0        0         0.000000       1.296145   0.004601   \n",
       "2             0.0        0         1.900995       1.251473   0.005071   \n",
       "3             1.0        1         1.441851       0.678649   0.004222   \n",
       "4             0.0        0         0.272381       1.528929   0.005111   \n",
       "..            ...      ...              ...            ...        ...   \n",
       "782           0.0        0         0.000000       1.490429   0.003735   \n",
       "783           1.0        0         0.000000       1.483477   0.003529   \n",
       "784           0.0        0         0.000000       1.481077   0.003514   \n",
       "785           0.0        0         0.774524       1.468508   0.003839   \n",
       "786           0.0        0         0.000000       1.553655   0.003800   \n",
       "\n",
       "     GC_perc_B    Dust_A    Dust_B  A_cov_Exons  A_cov_Introns  B_cov_Exons  \\\n",
       "0     0.003567  0.099249  0.090253          0.0            0.0     0.000000   \n",
       "1     0.004765  0.100261  0.104939          0.0            0.0     0.000000   \n",
       "2     0.004170  0.029586  0.084483          0.0            0.0     0.000000   \n",
       "3     0.005517  0.111111  0.000000          0.0            1.0     0.000000   \n",
       "4     0.004840  0.111111  0.111111          0.0            0.0     0.000000   \n",
       "..         ...       ...       ...          ...            ...          ...   \n",
       "782   0.003647  0.111111  0.111111          0.0            0.0     0.000000   \n",
       "783   0.003812  0.111111  0.111111          0.0            0.0     0.000000   \n",
       "784   0.003474  0.111111  0.111111          0.0            0.0     0.000000   \n",
       "785   0.005442  0.000743  0.000041          0.0            0.0     0.366538   \n",
       "786   0.003143  0.111111  0.111111          0.0            0.0     0.000000   \n",
       "\n",
       "     B_cov_Introns  A_Lamina_score  B_Lamina_score  A_CpGi_dist  B_CpGi_dist  \\\n",
       "0         0.000000        0.922579        0.922579     0.003180     0.163358   \n",
       "1         0.000000        0.914614        0.914614     0.025563     0.030514   \n",
       "2         0.000000        0.929569        0.929569     0.055684     0.035941   \n",
       "3         1.000000        0.892925        0.894511     0.090833     0.042685   \n",
       "4         0.000000        0.905155        0.903528     0.019801     0.016315   \n",
       "..             ...             ...             ...          ...          ...   \n",
       "782       0.000000        0.928571        0.928571     0.027120     0.077288   \n",
       "783       0.000000        0.939334        0.917422     0.009160     0.011506   \n",
       "784       0.000000        0.936896        0.937135     0.080549     0.009430   \n",
       "785       0.109284        0.879131        0.884993     0.051761     0.045604   \n",
       "786       0.000000        0.899424        0.899424     0.058027     0.133402   \n",
       "\n",
       "     A_TAD_dist_Log  B_TAD_dist_Log  target  \n",
       "0          0.449548        0.040844       0  \n",
       "1          0.088600        0.224772       0  \n",
       "2          0.162858        0.240022       0  \n",
       "3          0.107181        0.080563       0  \n",
       "4          0.223321        0.425040       0  \n",
       "..              ...             ...     ...  \n",
       "782        0.347034        0.306890       1  \n",
       "783        0.238623        0.390908       1  \n",
       "784        0.194369        0.186907       1  \n",
       "785        0.012878        0.236137       1  \n",
       "786      290.956983        0.403596       1  \n",
       "\n",
       "[778 rows x 35 columns]"
      ]
     },
     "execution_count": 49,
     "metadata": {},
     "output_type": "execute_result"
    }
   ],
   "source": [
    "#prepdata:\n",
    "df_dups_PCA = df_dups.copy()\n",
    "df_dups_PCA[['A_region_name','A_region_family','A_region_class','B_region_name','B_region_family','B_region_class']] = df_dups_PCA[['A_region_name','A_region_family','A_region_class','B_region_name','B_region_family','B_region_class']].stack().rank(method='dense').unstack()\n",
    "#df_dups_PCA[['sD_pair_A','sD_pair_B']] = df_dups_PCA[['sD_pair_A','sD_pair_B']].stack().rank(method='dense').unstack()\n",
    "df_dups_PCA['sD_pair'] = df_dups_PCA['sD_pair'].astype(int)\n",
    "\n",
    "##df_dups_PCA[['libraries']] = df_dups_PCA[['libraries']].stack().rank(method='dense').unstack()\n",
    "df_dups_PCA"
   ]
  },
  {
   "cell_type": "code",
   "execution_count": 50,
   "metadata": {},
   "outputs": [],
   "source": [
    "#------------------"
   ]
  },
  {
   "cell_type": "markdown",
   "metadata": {},
   "source": [
    "#prepdata:\n",
    "df_dups_PCA = df_dups.copy()\n",
    "df_dups_PCA[['A_region_name','A_region_family','A_region_class','B_region_name','B_region_family','B_region_class']] = df_dups_PCA[['A_region_name','A_region_family','A_region_class','B_region_name','B_region_family','B_region_class']].stack().rank(method='dense').unstack()\n",
    "df_dups_PCA[['sD_pair_A','sD_pair_B']] = df_dups_PCA[['sD_pair_A','sD_pair_B']].stack().rank(method='dense').unstack()\n",
    "df_dups_PCA"
   ]
  },
  {
   "cell_type": "code",
   "execution_count": 51,
   "metadata": {},
   "outputs": [],
   "source": [
    "#Save it:\n",
    "outPATH = \"./datasetPCA/duplications/\"\n",
    "df_dups_PCA.to_csv(outPATH + 'dup_PCA_liGS.csv', sep = ';' ,index_label=False)"
   ]
  },
  {
   "cell_type": "code",
   "execution_count": 52,
   "metadata": {},
   "outputs": [],
   "source": [
    "#/"
   ]
  },
  {
   "cell_type": "code",
   "execution_count": 53,
   "metadata": {},
   "outputs": [],
   "source": [
    "from sklearn.decomposition import PCA"
   ]
  },
  {
   "cell_type": "markdown",
   "metadata": {},
   "source": [
    "## TRUE"
   ]
  },
  {
   "cell_type": "code",
   "execution_count": 54,
   "metadata": {},
   "outputs": [
    {
     "name": "stdout",
     "output_type": "stream",
     "text": [
      "(197, 2)\n"
     ]
    },
    {
     "data": {
      "text/plain": [
       "'\\npca = PCA(n_components=2)\\npca.fit(X)\\nprint(pca.explained_variance_ratio_)\\n'"
      ]
     },
     "execution_count": 54,
     "metadata": {},
     "output_type": "execute_result"
    }
   ],
   "source": [
    "X = df_dups.loc[df_dups[\"target\"] == 0]\n",
    "y =  df_dups[\"target\"].loc[df_dups[\"target\"] == 0]\n",
    "\n",
    "X = X.drop(\"target\",axis=1)\n",
    "\n",
    "X = X.drop(\"CNV_ID\",axis=1)\n",
    "#X[['A_region_name','A_region_family','A_region_class','B_region_name','B_region_family','B_region_class','sD_pair_A','sD_pair_B']] = X[['A_region_name','A_region_family','A_region_class','B_region_name','B_region_family','B_region_class','sD_pair_A','sD_pair_B']].stack().rank(method='dense').unstack()\n",
    "##X[['A_region_name','A_region_family','A_region_class','B_region_name','B_region_family','B_region_class']] = X[['A_region_name','A_region_family','A_region_class','B_region_name','B_region_family','B_region_class']].stack().rank(method='dense').unstack()\n",
    "##X[['sD_pair_A','sD_pair_B']] = X[['sD_pair_A','sD_pair_B']].stack().rank(method='dense').unstack()\n",
    "\n",
    "X = X.drop(['A_region_name','A_region_family','A_region_class','B_region_name','B_region_family','B_region_class','sD_pair'],axis=1)\n",
    "\n",
    "##X[['libraries']] = X[['libraries']].stack().rank(method='dense').unstack() #V3\n",
    "# Scale data befor applying PCA\n",
    "scaling=StandardScaler()\n",
    " \n",
    "# Use fit and transform method\n",
    "scaling.fit(X)\n",
    "Scaled_data=scaling.transform(X)\n",
    "\n",
    "\n",
    "# Set the n_components=3\n",
    "principal=PCA(n_components=2)\n",
    "principal.fit(Scaled_data)\n",
    "x=principal.transform(Scaled_data)\n",
    " \n",
    "# Check the dimensions of data after PCA\n",
    "print(x.shape)\n",
    "'''\n",
    "pca = PCA(n_components=2)\n",
    "pca.fit(X)\n",
    "print(pca.explained_variance_ratio_)\n",
    "'''"
   ]
  },
  {
   "cell_type": "code",
   "execution_count": 55,
   "metadata": {},
   "outputs": [
    {
     "data": {
      "text/plain": [
       "array([[-0.03811736, -0.02051949, -0.14039677, -0.13437536,  0.23316544,\n",
       "         0.21867689,  0.26486139, -0.01426793, -0.24610041, -0.24026936,\n",
       "        -0.11084442,  0.24118896, -0.34758773, -0.31014257,  0.18136068,\n",
       "         0.14543532, -0.19115314, -0.10630091, -0.15956109, -0.13161468,\n",
       "        -0.00773549, -0.02205919,  0.31399738,  0.26064101,  0.23044106,\n",
       "         0.1312092 ],\n",
       "       [-0.435319  , -0.40980449,  0.27382203,  0.33969517, -0.02397993,\n",
       "        -0.19991322,  0.12866981,  0.11339596, -0.22800377, -0.2022342 ,\n",
       "         0.15565894, -0.25932432,  0.09719922,  0.08866765,  0.14210999,\n",
       "        -0.01646746, -0.04052333, -0.07146037, -0.09208883,  0.03401551,\n",
       "        -0.23821217, -0.267275  ,  0.0724311 ,  0.04355428,  0.0914842 ,\n",
       "         0.00353322]])"
      ]
     },
     "execution_count": 55,
     "metadata": {},
     "output_type": "execute_result"
    }
   ],
   "source": [
    "# Check the values of eigen vectors\n",
    "# prodeced by principal components\n",
    "principal.components_"
   ]
  },
  {
   "cell_type": "code",
   "execution_count": 56,
   "metadata": {},
   "outputs": [
    {
     "data": {
      "text/plain": [
       "Text(0, 0.5, 'pc2')"
      ]
     },
     "execution_count": 56,
     "metadata": {},
     "output_type": "execute_result"
    },
    {
     "data": {
      "image/png": "[encoded data removed]",
      "text/plain": [
       "<Figure size 720x720 with 1 Axes>"
      ]
     },
     "metadata": {
      "needs_background": "light"
     },
     "output_type": "display_data"
    }
   ],
   "source": [
    "plt.figure(figsize=(10,10))\n",
    "plt.scatter(x[:,0],x[:,1],c=y,cmap='plasma')\n",
    "plt.xlabel('pc1')\n",
    "plt.ylabel('pc2')"
   ]
  },
  {
   "cell_type": "markdown",
   "metadata": {},
   "source": [
    "## FALSE"
   ]
  },
  {
   "cell_type": "code",
   "execution_count": 57,
   "metadata": {},
   "outputs": [
    {
     "name": "stdout",
     "output_type": "stream",
     "text": [
      "(581, 2)\n"
     ]
    },
    {
     "data": {
      "text/plain": [
       "'\\npca = PCA(n_components=2)\\npca.fit(X)\\nprint(pca.explained_variance_ratio_)\\n'"
      ]
     },
     "execution_count": 57,
     "metadata": {},
     "output_type": "execute_result"
    }
   ],
   "source": [
    "X = df_dups.loc[df_dups[\"target\"] == 1]\n",
    "y =  df_dups[\"target\"].loc[df_dups[\"target\"] == 1]\n",
    "\n",
    "X = X.drop(\"target\",axis=1)\n",
    "\n",
    "X = X.drop(\"CNV_ID\",axis=1)\n",
    "#X[['A_region_name','A_region_family','A_region_class','B_region_name','B_region_family','B_region_class','sD_pair_A','sD_pair_B']] = X[['A_region_name','A_region_family','A_region_class','B_region_name','B_region_family','B_region_class','sD_pair_A','sD_pair_B']].stack().rank(method='dense').unstack()\n",
    "##X[['A_region_name','A_region_family','A_region_class','B_region_name','B_region_family','B_region_class']] = X[['A_region_name','A_region_family','A_region_class','B_region_name','B_region_family','B_region_class']].stack().rank(method='dense').unstack()\n",
    "#X[['sD_pair_A','sD_pair_B']] = X[['sD_pair_A','sD_pair_B']].stack().rank(method='dense').unstack()\n",
    "\n",
    "X = X.drop(['A_region_name','A_region_family','A_region_class','B_region_name','B_region_family','B_region_class','sD_pair'],axis=1)\n",
    "\n",
    "##X[['libraries']] = X[['libraries']].stack().rank(method='dense').unstack() #V3\n",
    "# Scale data befor applying PCA\n",
    "scaling=StandardScaler()\n",
    " \n",
    "# Use fit and transform method\n",
    "scaling.fit(X)\n",
    "Scaled_data=scaling.transform(X)\n",
    "\n",
    "\n",
    "# Set the n_components=3\n",
    "principal=PCA(n_components=2)\n",
    "principal.fit(Scaled_data)\n",
    "x=principal.transform(Scaled_data)\n",
    " \n",
    "# Check the dimensions of data after PCA\n",
    "print(x.shape)\n",
    "'''\n",
    "pca = PCA(n_components=2)\n",
    "pca.fit(X)\n",
    "print(pca.explained_variance_ratio_)\n",
    "'''"
   ]
  },
  {
   "cell_type": "code",
   "execution_count": 58,
   "metadata": {},
   "outputs": [
    {
     "data": {
      "text/plain": [
       "Text(0, 0.5, 'pc2')"
      ]
     },
     "execution_count": 58,
     "metadata": {},
     "output_type": "execute_result"
    },
    {
     "data": {
      "image/png": "[encoded data removed]",
      "text/plain": [
       "<Figure size 720x720 with 1 Axes>"
      ]
     },
     "metadata": {
      "needs_background": "light"
     },
     "output_type": "display_data"
    }
   ],
   "source": [
    "#1\n",
    "plt.figure(figsize=(10,10))\n",
    "plt.scatter(x[:,0],x[:,1],c=y,cmap='plasma')\n",
    "plt.xlabel('pc1')\n",
    "plt.ylabel('pc2')"
   ]
  },
  {
   "cell_type": "code",
   "execution_count": 59,
   "metadata": {},
   "outputs": [],
   "source": [
    "# old dataset"
   ]
  },
  {
   "cell_type": "markdown",
   "metadata": {},
   "source": [
    "### Using PCA R script:"
   ]
  },
  {
   "cell_type": "code",
   "execution_count": 61,
   "metadata": {},
   "outputs": [],
   "source": [
    "from IPython.display import Image\n",
    "from IPython.core.display import HTML "
   ]
  },
  {
   "cell_type": "markdown",
   "metadata": {},
   "source": [
    "TP duplications:"
   ]
  },
  {
   "cell_type": "code",
   "execution_count": 62,
   "metadata": {},
   "outputs": [
    {
     "data": {
      "text/html": [
       "<img src=\"./datasetPCA/duplications/tp_scaled.png\"/>"
      ],
      "text/plain": [
       "<IPython.core.display.Image object>"
      ]
     },
     "execution_count": 62,
     "metadata": {},
     "output_type": "execute_result"
    }
   ],
   "source": [
    "Image(url= \"./datasetPCA/duplications/tp_scaled.png\")"
   ]
  },
  {
   "cell_type": "code",
   "execution_count": 63,
   "metadata": {},
   "outputs": [
    {
     "data": {
      "text/html": [
       "<img src=\"./datasetPCA/duplications/tp_labels.png\"/>"
      ],
      "text/plain": [
       "<IPython.core.display.Image object>"
      ]
     },
     "execution_count": 63,
     "metadata": {},
     "output_type": "execute_result"
    }
   ],
   "source": [
    "Image(url= \"./datasetPCA/duplications/tp_labels.png\") #old"
   ]
  },
  {
   "cell_type": "markdown",
   "metadata": {},
   "source": [
    "FP duplications:"
   ]
  },
  {
   "cell_type": "code",
   "execution_count": 64,
   "metadata": {},
   "outputs": [
    {
     "data": {
      "text/html": [
       "<img src=\"./datasetPCA/duplications/fp_scaled.png\"/>"
      ],
      "text/plain": [
       "<IPython.core.display.Image object>"
      ]
     },
     "execution_count": 64,
     "metadata": {},
     "output_type": "execute_result"
    }
   ],
   "source": [
    "Image(url= \"./datasetPCA/duplications/fp_scaled.png\")"
   ]
  },
  {
   "cell_type": "code",
   "execution_count": 65,
   "metadata": {},
   "outputs": [
    {
     "data": {
      "text/html": [
       "<img src=\"./datasetPCA/duplications/fp_labels.png\"/>"
      ],
      "text/plain": [
       "<IPython.core.display.Image object>"
      ]
     },
     "execution_count": 65,
     "metadata": {},
     "output_type": "execute_result"
    }
   ],
   "source": [
    "Image(url= \"./datasetPCA/duplications/fp_labels.png\") #unscaled"
   ]
  },
  {
   "cell_type": "markdown",
   "metadata": {},
   "source": [
    "# Remove outliers:"
   ]
  },
  {
   "cell_type": "code",
   "execution_count": 66,
   "metadata": {},
   "outputs": [
    {
     "data": {
      "text/html": [
       "<img src=\"./datasetPCA/duplications/tp_scaled_dots.png\"/>"
      ],
      "text/plain": [
       "<IPython.core.display.Image object>"
      ]
     },
     "execution_count": 66,
     "metadata": {},
     "output_type": "execute_result"
    }
   ],
   "source": [
    "Image(url= \"./datasetPCA/duplications/tp_scaled_dots.png\")"
   ]
  },
  {
   "cell_type": "code",
   "execution_count": 67,
   "metadata": {},
   "outputs": [
    {
     "data": {
      "text/html": [
       "<img src=\"./datasetPCA/duplications/tp_labels_marked.png\"/>"
      ],
      "text/plain": [
       "<IPython.core.display.Image object>"
      ]
     },
     "execution_count": 67,
     "metadata": {},
     "output_type": "execute_result"
    }
   ],
   "source": [
    "Image(url= \"./datasetPCA/duplications/tp_labels_marked.png\")#"
   ]
  },
  {
   "cell_type": "code",
   "execution_count": 68,
   "metadata": {},
   "outputs": [],
   "source": [
    "#________________________________"
   ]
  },
  {
   "cell_type": "code",
   "execution_count": 69,
   "metadata": {},
   "outputs": [
    {
     "data": {
      "text/html": [
       "<img src=\"./datasetPCA/duplications/fp_scaled_dots.png\"/>"
      ],
      "text/plain": [
       "<IPython.core.display.Image object>"
      ]
     },
     "execution_count": 69,
     "metadata": {},
     "output_type": "execute_result"
    }
   ],
   "source": [
    "Image(url= \"./datasetPCA/duplications/fp_scaled_dots.png\")"
   ]
  },
  {
   "cell_type": "code",
   "execution_count": 70,
   "metadata": {},
   "outputs": [
    {
     "data": {
      "text/html": [
       "<img src=\"./datasetPCA/duplications/fp_labels_marked.png\"/>"
      ],
      "text/plain": [
       "<IPython.core.display.Image object>"
      ]
     },
     "execution_count": 70,
     "metadata": {},
     "output_type": "execute_result"
    }
   ],
   "source": [
    "Image(url= \"./datasetPCA/duplications/fp_labels_marked.png\")"
   ]
  },
  {
   "cell_type": "code",
   "execution_count": 71,
   "metadata": {},
   "outputs": [],
   "source": [
    "#Outliers to remove:\n",
    "l_outliersIDs = [\"DGRC_DUP_213\",\n",
    "                \"fp_dup_118\"]\n",
    "\n",
    "#df_dups[df_dups['CNV_ID'].isin(l_outliersIDs)]"
   ]
  },
  {
   "cell_type": "markdown",
   "metadata": {},
   "source": [
    "l_outliersIDs = [\"DGRC_DUP_274\",\"DGRC_DUP_222\",\n",
    "                \"fp_dup_118\"]"
   ]
  },
  {
   "cell_type": "code",
   "execution_count": 72,
   "metadata": {},
   "outputs": [],
   "source": [
    "df_dups = df_dups[~df_dups['CNV_ID'].isin(l_outliersIDs)]"
   ]
  },
  {
   "cell_type": "markdown",
   "metadata": {},
   "source": [
    "# Save current dataset:"
   ]
  },
  {
   "cell_type": "markdown",
   "metadata": {},
   "source": [
    "<div class=\"alert alert-block alert-warning\">\n",
    "<b> Attention: </b> target where *{True:0,False:1}* is just in this notebook, the main dataset for the ML processe will be *{True:1,False:0}* , because it's the correct way!!!\n",
    "</div>"
   ]
  },
  {
   "cell_type": "code",
   "execution_count": 73,
   "metadata": {},
   "outputs": [],
   "source": [
    "#df_dups[\"target\"] = df_dups[\"target\"].replace({True:0,False:1})\n",
    "df_dups[\"target\"] = df_dups[\"target\"].replace({0:True,1:False}) #resverse it\n",
    "#df_dups[\"target\"] = df_dups[\"target\"].astype(int)\n",
    "#df_dups[\"target\"] = df_dups[\"target\"].replace({True:0,False:1})"
   ]
  },
  {
   "cell_type": "code",
   "execution_count": 37,
   "metadata": {},
   "outputs": [],
   "source": [
    "#df_dups.loc[df_dups.target==1].head(1)"
   ]
  },
  {
   "cell_type": "code",
   "execution_count": 38,
   "metadata": {},
   "outputs": [],
   "source": [
    "#df_dups.loc[df_dups.target==0].head(1)"
   ]
  },
  {
   "cell_type": "markdown",
   "metadata": {},
   "source": [
    "***"
   ]
  },
  {
   "cell_type": "code",
   "execution_count": 39,
   "metadata": {},
   "outputs": [],
   "source": [
    "#df_dups[\"target\"] = df_dups[\"target\"].astype(int)"
   ]
  },
  {
   "cell_type": "code",
   "execution_count": 40,
   "metadata": {},
   "outputs": [],
   "source": [
    "#df_dups[['CNV_ID','target']].loc[df_dups.target==1].head(1)"
   ]
  },
  {
   "cell_type": "code",
   "execution_count": 41,
   "metadata": {},
   "outputs": [],
   "source": [
    "#df_dups[['CNV_ID','target']].loc[df_dups.target==0].head(1)"
   ]
  },
  {
   "cell_type": "markdown",
   "metadata": {},
   "source": [
    "***"
   ]
  },
  {
   "cell_type": "code",
   "execution_count": 74,
   "metadata": {},
   "outputs": [],
   "source": [
    "outPATH = \"../dataset3/data_main/DUPS_12_04/\"\n",
    "df_dups.to_csv(outPATH + 'refined_data_DUPS_liGS.csv', sep = ';' ,index_label=False)"
   ]
  },
  {
   "cell_type": "markdown",
   "metadata": {},
   "source": [
    "# ---------------------------------------------------------------------"
   ]
  },
  {
   "cell_type": "markdown",
   "metadata": {},
   "source": [
    "# Feature Importance:"
   ]
  },
  {
   "cell_type": "markdown",
   "metadata": {},
   "source": [
    "# see : https://machinelearningmastery.com/calculate-feature-importance-with-python/\n",
    "# random forest for feature importance on a classification problem\n",
    "from sklearn.datasets import make_classification\n",
    "from sklearn.ensemble import RandomForestClassifier\n",
    "from matplotlib import pyplot\n",
    "# define dataset\n",
    "X, y = make_classification(n_samples=1000, n_features=10, n_informative=5, n_redundant=5, random_state=1)\n",
    "# define the model\n",
    "model = RandomForestClassifier()\n",
    "# fit the model\n",
    "model.fit(X, y)\n",
    "# get importance\n",
    "importance = model.feature_importances_\n",
    "# summarize feature importance\n",
    "for i,v in enumerate(importance):\n",
    "\tprint('Feature: %0d, Score: %.5f' % (i,v))\n",
    "# plot feature importance\n",
    "pyplot.bar([x for x in range(len(importance))], importance)\n",
    "pyplot.show()"
   ]
  },
  {
   "cell_type": "code",
   "execution_count": 75,
   "metadata": {},
   "outputs": [
    {
     "name": "stdout",
     "output_type": "stream",
     "text": [
      "Feature: 0 A_size, Score: 0.05426\n",
      "Feature: 1 B_size, Score: 0.06482\n",
      "Feature: 2 A_region_name, Score: 0.03540\n",
      "Feature: 3 A_region_family, Score: 0.01974\n",
      "Feature: 4 A_region_class, Score: 0.01389\n",
      "Feature: 5 B_region_name, Score: 0.03122\n",
      "Feature: 6 B_region_family, Score: 0.02104\n",
      "Feature: 7 B_region_class, Score: 0.01676\n",
      "Feature: 8 A_repitiveRegion_dist, Score: 0.00489\n",
      "Feature: 9 B_repitiveRegion_dist, Score: 0.00764\n",
      "Feature: 10 A_cov_repRegion, Score: 0.02764\n",
      "Feature: 11 B_cov_repRegion, Score: 0.03805\n",
      "Feature: 12 A_SegDup_dist, Score: 0.04946\n",
      "Feature: 13 B_SegDup_dist, Score: 0.03908\n",
      "Feature: 14 A_cov_segDup, Score: 0.00972\n",
      "Feature: 15 B_cov_segDup, Score: 0.01295\n",
      "Feature: 16 sD_pair, Score: 0.00617\n",
      "Feature: 17 dist_Centromere, Score: 0.06542\n",
      "Feature: 18 dist_Telomere, Score: 0.03354\n",
      "Feature: 19 GC_perc_A, Score: 0.03879\n",
      "Feature: 20 GC_perc_B, Score: 0.05075\n",
      "Feature: 21 Dust_A, Score: 0.02671\n",
      "Feature: 22 Dust_B, Score: 0.03835\n",
      "Feature: 23 A_cov_Exons, Score: 0.02307\n",
      "Feature: 24 A_cov_Introns, Score: 0.02004\n",
      "Feature: 25 B_cov_Exons, Score: 0.02067\n",
      "Feature: 26 B_cov_Introns, Score: 0.02428\n",
      "Feature: 27 A_Lamina_score, Score: 0.03382\n",
      "Feature: 28 B_Lamina_score, Score: 0.03925\n",
      "Feature: 29 A_CpGi_dist, Score: 0.03122\n",
      "Feature: 30 B_CpGi_dist, Score: 0.03624\n",
      "Feature: 31 A_TAD_dist_Log, Score: 0.03262\n",
      "Feature: 32 B_TAD_dist_Log, Score: 0.03251\n"
     ]
    },
    {
     "data": {
      "image/png": "[encoded data removed]",
      "text/plain": [
       "<Figure size 1440x936 with 1 Axes>"
      ]
     },
     "metadata": {
      "needs_background": "light"
     },
     "output_type": "display_data"
    }
   ],
   "source": [
    "# random forest for feature importance on a classification problem\n",
    "from sklearn.datasets import make_classification\n",
    "from sklearn.ensemble import RandomForestClassifier\n",
    "from matplotlib import pyplot\n",
    "# define dataset\n",
    "X, y = df_dups.drop([\"target\",\"CNV_ID\"], axis = 1), df_dups[\"target\"]\n",
    "\n",
    "#Must adapt caregorical:\n",
    "X[['A_region_name','A_region_family','A_region_class','B_region_name','B_region_family','B_region_class']] = X[['A_region_name','A_region_family','A_region_class','B_region_name','B_region_family','B_region_class']].stack().rank(method='dense').unstack()\n",
    "#X[['sD_pair_A','sD_pair_B']] = X[['sD_pair_A','sD_pair_B']].stack().rank(method='dense').unstack()\n",
    "X['sD_pair'] = X['sD_pair'].astype(int)\n",
    "#X[['libraries']] = X[['libraries']].stack().rank(method='dense').unstack() #V3\n",
    "\n",
    "##X = pd.get_dummies(X, columns=['libraries'])\n",
    "\n",
    "\n",
    "list_features = X.columns.to_list()\n",
    "\n",
    "# define the model\n",
    "model = RandomForestClassifier()\n",
    "# fit the model\n",
    "model.fit(X, y)\n",
    "# get importance\n",
    "importance = model.feature_importances_\n",
    "# summarize feature importance\n",
    "for i,v in enumerate(importance):\n",
    "\tprint('Feature: %s %s, Score: %.5f' % (i,list_features[i],v))\n",
    "# plot feature importance\n",
    "pyplot.figure(figsize=(20, 13))\n",
    "pyplot.bar([x for x in range(len(importance))], importance,tick_label=X.columns,width = 0.75 )\n",
    "#pyplot.bar([x for x in range(list_features)], importance)\n",
    "pyplot.xticks(rotation=60,horizontalalignment='right')\n",
    "pyplot.rcParams.update({'font.size': 18})\n",
    "\n",
    "pyplot.show()"
   ]
  },
  {
   "cell_type": "markdown",
   "metadata": {},
   "source": [
    "---"
   ]
  },
  {
   "cell_type": "markdown",
   "metadata": {},
   "source": [
    "---"
   ]
  },
  {
   "cell_type": "markdown",
   "metadata": {},
   "source": [
    "---"
   ]
  },
  {
   "cell_type": "markdown",
   "metadata": {},
   "source": [
    "---"
   ]
  },
  {
   "cell_type": "markdown",
   "metadata": {},
   "source": [
    "### Check mean and std of region A and B size in bps:"
   ]
  },
  {
   "cell_type": "code",
   "execution_count": 78,
   "metadata": {},
   "outputs": [],
   "source": [
    "df_DGRC = pd.read_csv('../dataset3/data_main/DUPS_12_04/data_DUPS.csv', sep= \"\\;\" ,header=0)# Removed NaNs of Recombination Rate"
   ]
  },
  {
   "cell_type": "code",
   "execution_count": 79,
   "metadata": {},
   "outputs": [],
   "source": [
    "df_DGRC = df_DGRC.loc[~(df_DGRC['CNV_ID'].str.contains('NYGC'))&(df_DGRC['libraries']=='liGS')]"
   ]
  },
  {
   "cell_type": "code",
   "execution_count": 80,
   "metadata": {},
   "outputs": [
    {
     "data": {
      "text/plain": [
       "False    581\n",
       "True     197\n",
       "Name: target, dtype: int64"
      ]
     },
     "execution_count": 80,
     "metadata": {},
     "output_type": "execute_result"
    }
   ],
   "source": [
    "df_DGRC[\"target\"].value_counts()"
   ]
  },
  {
   "cell_type": "code",
   "execution_count": 81,
   "metadata": {},
   "outputs": [],
   "source": [
    "#Outliers to decided to remove:\n",
    "l_outliersIDs = [\"DGRC_DUP_213\",\n",
    "                \"fp_dup_118\"]\n",
    "#df_dels[df_dels['CNV_ID'].isin(l_outliersIDs)]\n",
    "df_DGRC = df_DGRC[~df_DGRC['CNV_ID'].isin(l_outliersIDs)]"
   ]
  },
  {
   "cell_type": "code",
   "execution_count": 82,
   "metadata": {},
   "outputs": [
    {
     "data": {
      "text/plain": [
       "False    580\n",
       "True     196\n",
       "Name: target, dtype: int64"
      ]
     },
     "execution_count": 82,
     "metadata": {},
     "output_type": "execute_result"
    }
   ],
   "source": [
    "df_DGRC[\"target\"].value_counts()"
   ]
  },
  {
   "cell_type": "code",
   "execution_count": 91,
   "metadata": {},
   "outputs": [
    {
     "data": {
      "text/plain": [
       "count     1552.000000\n",
       "mean      2860.783505\n",
       "std       3288.745045\n",
       "min          3.000000\n",
       "25%        636.500000\n",
       "50%       2018.500000\n",
       "75%       3778.250000\n",
       "max      32249.000000\n",
       "dtype: float64"
      ]
     },
     "execution_count": 91,
     "metadata": {},
     "output_type": "execute_result"
    }
   ],
   "source": [
    "pd.concat([df_DGRC['A_size_bp'],df_DGRC['B_size_bp']]).describe()"
   ]
  },
  {
   "cell_type": "code",
   "execution_count": 84,
   "metadata": {},
   "outputs": [],
   "source": [
    "#pd.concat([df_Dongs['A_size_bp'],df_Dongs['B_size_bp']]).describe()"
   ]
  },
  {
   "cell_type": "markdown",
   "metadata": {},
   "source": [
    "---"
   ]
  },
  {
   "cell_type": "code",
   "execution_count": 85,
   "metadata": {},
   "outputs": [
    {
     "data": {
      "text/plain": [
       "count      392.000000\n",
       "mean      3200.926020\n",
       "std       2445.491141\n",
       "min          3.000000\n",
       "25%       1795.500000\n",
       "50%       2884.500000\n",
       "75%       3921.500000\n",
       "max      17741.000000\n",
       "dtype: float64"
      ]
     },
     "execution_count": 85,
     "metadata": {},
     "output_type": "execute_result"
    }
   ],
   "source": [
    "pd.concat([df_DGRC['A_size_bp'].loc[df_DGRC['target']==True],df_DGRC['B_size_bp'].loc[df_DGRC['target']==True]]).describe()"
   ]
  },
  {
   "cell_type": "code",
   "execution_count": 86,
   "metadata": {},
   "outputs": [
    {
     "data": {
      "text/plain": [
       "count     1160.000000\n",
       "mean      2745.838793\n",
       "std       3521.944961\n",
       "min          3.000000\n",
       "25%        529.000000\n",
       "50%       1507.500000\n",
       "75%       3648.750000\n",
       "max      32249.000000\n",
       "dtype: float64"
      ]
     },
     "execution_count": 86,
     "metadata": {},
     "output_type": "execute_result"
    }
   ],
   "source": [
    "pd.concat([df_DGRC['A_size_bp'].loc[df_DGRC['target']==False],df_DGRC['B_size_bp'].loc[df_DGRC['target']==False]]).describe()"
   ]
  },
  {
   "cell_type": "code",
   "execution_count": null,
   "metadata": {},
   "outputs": [],
   "source": [
    "#A"
   ]
  },
  {
   "cell_type": "code",
   "execution_count": 87,
   "metadata": {},
   "outputs": [
    {
     "data": {
      "text/plain": [
       "count      196.000000\n",
       "mean      3161.913265\n",
       "std       2434.181083\n",
       "min         10.000000\n",
       "25%       1683.500000\n",
       "50%       2824.500000\n",
       "75%       3883.500000\n",
       "max      17741.000000\n",
       "Name: A_size_bp, dtype: float64"
      ]
     },
     "execution_count": 87,
     "metadata": {},
     "output_type": "execute_result"
    }
   ],
   "source": [
    "pd.concat([df_DGRC['A_size_bp'].loc[df_DGRC['target']==True]]).describe()"
   ]
  },
  {
   "cell_type": "code",
   "execution_count": 88,
   "metadata": {},
   "outputs": [
    {
     "data": {
      "text/plain": [
       "count      580.000000\n",
       "mean      2753.043103\n",
       "std       3557.945800\n",
       "min          4.000000\n",
       "25%        534.750000\n",
       "50%       1572.000000\n",
       "75%       3611.250000\n",
       "max      32249.000000\n",
       "Name: A_size_bp, dtype: float64"
      ]
     },
     "execution_count": 88,
     "metadata": {},
     "output_type": "execute_result"
    }
   ],
   "source": [
    "pd.concat([df_DGRC['A_size_bp'].loc[df_DGRC['target']==False]]).describe()"
   ]
  },
  {
   "cell_type": "code",
   "execution_count": null,
   "metadata": {},
   "outputs": [],
   "source": [
    "#B"
   ]
  },
  {
   "cell_type": "code",
   "execution_count": 89,
   "metadata": {},
   "outputs": [
    {
     "data": {
      "text/plain": [
       "count      196.000000\n",
       "mean      3239.938776\n",
       "std       2462.361784\n",
       "min          3.000000\n",
       "25%       1909.250000\n",
       "50%       2909.500000\n",
       "75%       4011.500000\n",
       "max      17685.000000\n",
       "Name: B_size_bp, dtype: float64"
      ]
     },
     "execution_count": 89,
     "metadata": {},
     "output_type": "execute_result"
    }
   ],
   "source": [
    "pd.concat([df_DGRC['B_size_bp'].loc[df_DGRC['target']==True]]).describe()"
   ]
  },
  {
   "cell_type": "code",
   "execution_count": 90,
   "metadata": {},
   "outputs": [
    {
     "data": {
      "text/plain": [
       "count      580.000000\n",
       "mean      2738.634483\n",
       "std       3488.629190\n",
       "min          3.000000\n",
       "25%        518.250000\n",
       "50%       1494.500000\n",
       "75%       3773.000000\n",
       "max      24684.000000\n",
       "Name: B_size_bp, dtype: float64"
      ]
     },
     "execution_count": 90,
     "metadata": {},
     "output_type": "execute_result"
    }
   ],
   "source": [
    "pd.concat([df_DGRC['B_size_bp'].loc[df_DGRC['target']==False]]).describe()"
   ]
  },
  {
   "cell_type": "markdown",
   "metadata": {},
   "source": [
    "---"
   ]
  }
 ],
 "metadata": {
  "kernelspec": {
   "display_name": "Python 3 (ipykernel)",
   "language": "python",
   "name": "python3"
  },
  "language_info": {
   "codemirror_mode": {
    "name": "ipython",
    "version": 3
   },
   "file_extension": ".py",
   "mimetype": "text/x-python",
   "name": "python",
   "nbconvert_exporter": "python",
   "pygments_lexer": "ipython3",
   "version": "3.9.7"
  }
 },
 "nbformat": 4,
 "nbformat_minor": 4
}
